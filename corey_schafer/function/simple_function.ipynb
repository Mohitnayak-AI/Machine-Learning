{
 "cells": [
  {
   "cell_type": "code",
   "execution_count": 1,
   "id": "c5dc402b",
   "metadata": {},
   "outputs": [],
   "source": [
    "# Define a function\n",
    "\n",
    "def hello_func():\n",
    "    pass # it is a keyword which it run the function without any return\n",
    "\n",
    "\n",
    "# run the function\n",
    "\n",
    "hello_func()"
   ]
  },
  {
   "cell_type": "code",
   "execution_count": 2,
   "id": "71517a12",
   "metadata": {},
   "outputs": [
    {
     "name": "stdout",
     "output_type": "stream",
     "text": [
      "<function hello_func at 0x1053cab60>\n"
     ]
    }
   ],
   "source": [
    "print(hello_func)"
   ]
  },
  {
   "cell_type": "code",
   "execution_count": 3,
   "id": "b6bd13ec",
   "metadata": {},
   "outputs": [
    {
     "name": "stdout",
     "output_type": "stream",
     "text": [
      "None\n"
     ]
    }
   ],
   "source": [
    "# to exicute the function\n",
    "print(hello_func())"
   ]
  },
  {
   "cell_type": "code",
   "execution_count": 8,
   "id": "9434c2bf",
   "metadata": {},
   "outputs": [
    {
     "name": "stdout",
     "output_type": "stream",
     "text": [
      "hello Function.\n"
     ]
    }
   ],
   "source": [
    "def hello_func():\n",
    "    # print('hello Function!')\n",
    "    print('hello Function.')\n",
    "    \n",
    "hello_func()"
   ]
  },
  {
   "cell_type": "code",
   "execution_count": 9,
   "id": "cf309838",
   "metadata": {},
   "outputs": [
    {
     "name": "stdout",
     "output_type": "stream",
     "text": [
      "hello Function.\n",
      "hello Function.\n",
      "hello Function.\n",
      "hello Function.\n"
     ]
    }
   ],
   "source": [
    "hello_func()\n",
    "hello_func()\n",
    "hello_func()\n",
    "hello_func()"
   ]
  },
  {
   "cell_type": "code",
   "execution_count": 10,
   "id": "34b17b81",
   "metadata": {},
   "outputs": [
    {
     "name": "stdout",
     "output_type": "stream",
     "text": [
      "hello Function.\n"
     ]
    }
   ],
   "source": [
    "def hello_func():\n",
    "    # print('hello Function!')\n",
    "    # print('hello Function.')\n",
    "    return 'hello Function.'\n",
    "    \n",
    "hello_func()\n",
    "print(hello_func())"
   ]
  },
  {
   "cell_type": "code",
   "execution_count": 11,
   "id": "da191e42",
   "metadata": {},
   "outputs": [
    {
     "name": "stdout",
     "output_type": "stream",
     "text": [
      "HELLO FUNCTION.\n"
     ]
    }
   ],
   "source": [
    "print(hello_func().upper())"
   ]
  },
  {
   "cell_type": "code",
   "execution_count": null,
   "id": "9d2a5e87",
   "metadata": {},
   "outputs": [],
   "source": []
  }
 ],
 "metadata": {
  "kernelspec": {
   "display_name": "venv",
   "language": "python",
   "name": "python3"
  },
  "language_info": {
   "codemirror_mode": {
    "name": "ipython",
    "version": 3
   },
   "file_extension": ".py",
   "mimetype": "text/x-python",
   "name": "python",
   "nbconvert_exporter": "python",
   "pygments_lexer": "ipython3",
   "version": "3.11.9"
  }
 },
 "nbformat": 4,
 "nbformat_minor": 5
}
