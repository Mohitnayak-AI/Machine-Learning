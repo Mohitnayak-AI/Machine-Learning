{
 "cells": [
  {
   "cell_type": "code",
   "execution_count": null,
   "id": "c102dccc",
   "metadata": {},
   "outputs": [
    {
     "ename": "TypeError",
     "evalue": "hello_func() missing 1 required positional argument: 'greeting'",
     "output_type": "error",
     "traceback": [
      "\u001b[31m---------------------------------------------------------------------------\u001b[39m",
      "\u001b[31mTypeError\u001b[39m                                 Traceback (most recent call last)",
      "\u001b[36mCell\u001b[39m\u001b[36m \u001b[39m\u001b[32mIn[1]\u001b[39m\u001b[32m, line 4\u001b[39m\n\u001b[32m      1\u001b[39m \u001b[38;5;28;01mdef\u001b[39;00m\u001b[38;5;250m \u001b[39m\u001b[34mhello_func\u001b[39m(greeting):\n\u001b[32m      2\u001b[39m     \u001b[38;5;28;01mreturn\u001b[39;00m \u001b[33m'\u001b[39m\u001b[38;5;132;01m{}\u001b[39;00m\u001b[33m Function.\u001b[39m\u001b[33m'\u001b[39m.format(greeting)\n\u001b[32m----> \u001b[39m\u001b[32m4\u001b[39m \u001b[38;5;28mprint\u001b[39m(\u001b[43mhello_func\u001b[49m\u001b[43m(\u001b[49m\u001b[43m)\u001b[49m)\n",
      "\u001b[31mTypeError\u001b[39m: hello_func() missing 1 required positional argument: 'greeting'"
     ]
    }
   ],
   "source": [
    "def hello_func(greeting): # this is a parameter -'greeting'\n",
    "    return '{} Function.'.format(greeting)\n",
    "\n",
    "print(hello_func())"
   ]
  },
  {
   "cell_type": "code",
   "execution_count": 3,
   "id": "c0cfa5b1",
   "metadata": {},
   "outputs": [
    {
     "name": "stdout",
     "output_type": "stream",
     "text": [
      "Mohit Function.\n"
     ]
    }
   ],
   "source": [
    "def hello_func(greeting): # this is a parameter -'greeting'\n",
    "    return '{} Function.'.format(greeting)\n",
    "\n",
    "print(hello_func('Mohit')) # this is a argument - 'Mohit' for the parameter - 'greeting'\n"
   ]
  },
  {
   "cell_type": "code",
   "execution_count": 4,
   "id": "9a20367a",
   "metadata": {},
   "outputs": [
    {
     "name": "stdout",
     "output_type": "stream",
     "text": [
      "Mohit, have Function.\n"
     ]
    }
   ],
   "source": [
    "def hello_func(greeting,name = 'have'): # this is a parameter -'greeting' & 'name'\n",
    "    return '{}, {} Function.'.format(greeting,name)\n",
    "\n",
    "print(hello_func('Mohit')) # this is a argument - 'Mohit' for the parameter - 'greeting'"
   ]
  },
  {
   "cell_type": "code",
   "execution_count": 5,
   "id": "71a05eca",
   "metadata": {},
   "outputs": [
    {
     "name": "stdout",
     "output_type": "stream",
     "text": [
      "Mohit, has a Function.\n"
     ]
    }
   ],
   "source": [
    "print(hello_func('Mohit',name = 'has a'))"
   ]
  },
  {
   "cell_type": "code",
   "execution_count": null,
   "id": "243ff443",
   "metadata": {},
   "outputs": [
    {
     "name": "stdout",
     "output_type": "stream",
     "text": [
      "('Math', 'English')\n",
      "{'name': 'Mohit', 'age': 25}\n"
     ]
    }
   ],
   "source": [
    "def stud_info(*args,**kwargs):\n",
    "    print(args)\n",
    "    print(kwargs)\n",
    "    \n",
    "stud_info('Math','English',name='Mohit',age=25) # here 'Math and English' are the potisonal arguement (args) and 'name and age' are the keyword argument (kwargs)"
   ]
  },
  {
   "cell_type": "code",
   "execution_count": 7,
   "id": "6a3d0b76",
   "metadata": {},
   "outputs": [
    {
     "name": "stdout",
     "output_type": "stream",
     "text": [
      "(['Math', 'English'], {'name': 'Mohit', 'age': 25})\n",
      "{}\n"
     ]
    }
   ],
   "source": [
    "def stud_info(*args,**kwargs):\n",
    "    print(args)\n",
    "    print(kwargs)\n",
    "\n",
    "courses = ['Math', 'English']\n",
    "info = {'name': 'Mohit', 'age': 25}\n",
    "\n",
    "stud_info(courses,info)"
   ]
  },
  {
   "cell_type": "code",
   "execution_count": 9,
   "id": "93fe85ad",
   "metadata": {},
   "outputs": [
    {
     "name": "stdout",
     "output_type": "stream",
     "text": [
      "(['Math', 'English'], {'name': 'Mohit', 'age': 25})\n",
      "{}\n",
      "After unpaked -  \n",
      "('Math', 'English')\n",
      "{'name': 'Mohit', 'age': 25}\n"
     ]
    }
   ],
   "source": [
    "stud_info(courses,info) \n",
    "# output is (['Math', 'English'], {'name': 'Mohit', 'age': 25})\n",
    "# {}\n",
    "\n",
    "# to unpake the function return \n",
    "print('After unpaked -  ')\n",
    "stud_info(*courses,**info) "
   ]
  },
  {
   "cell_type": "code",
   "execution_count": 11,
   "id": "9a882a77",
   "metadata": {},
   "outputs": [],
   "source": [
    "month_days = [0,31,28,31,30,31,30,31,31,30,31,30,31]\n",
    "\n",
    "def is_leap(year):\n",
    "    return year % 4 == 0 and (year % 100 != 0 or year % 400 == 0)\n",
    "\n",
    "def days_in_month(year,month):\n",
    "    if not 1 <= month <= 12:\n",
    "        return \"invaled Month\"\n",
    "    \n",
    "    if month == 2 and is_leap(year):\n",
    "        return 29\n",
    "    \n",
    "    return month_days[month]\n"
   ]
  },
  {
   "cell_type": "code",
   "execution_count": 14,
   "id": "f24b34ad",
   "metadata": {},
   "outputs": [
    {
     "name": "stdout",
     "output_type": "stream",
     "text": [
      "False\n"
     ]
    }
   ],
   "source": [
    "print(is_leap(2017))"
   ]
  },
  {
   "cell_type": "code",
   "execution_count": 13,
   "id": "0ef5875d",
   "metadata": {},
   "outputs": [
    {
     "name": "stdout",
     "output_type": "stream",
     "text": [
      "True\n"
     ]
    }
   ],
   "source": [
    "print(is_leap(2020))"
   ]
  },
  {
   "cell_type": "code",
   "execution_count": 15,
   "id": "dc9a99e2",
   "metadata": {},
   "outputs": [
    {
     "data": {
      "text/plain": [
       "28"
      ]
     },
     "execution_count": 15,
     "metadata": {},
     "output_type": "execute_result"
    }
   ],
   "source": [
    "days_in_month(2017,2)"
   ]
  },
  {
   "cell_type": "code",
   "execution_count": 16,
   "id": "76a239c6",
   "metadata": {},
   "outputs": [
    {
     "data": {
      "text/plain": [
       "29"
      ]
     },
     "execution_count": 16,
     "metadata": {},
     "output_type": "execute_result"
    }
   ],
   "source": [
    "days_in_month(2020,2)"
   ]
  },
  {
   "cell_type": "code",
   "execution_count": null,
   "id": "ab4cbded",
   "metadata": {},
   "outputs": [],
   "source": []
  }
 ],
 "metadata": {
  "kernelspec": {
   "display_name": "venv",
   "language": "python",
   "name": "python3"
  },
  "language_info": {
   "codemirror_mode": {
    "name": "ipython",
    "version": 3
   },
   "file_extension": ".py",
   "mimetype": "text/x-python",
   "name": "python",
   "nbconvert_exporter": "python",
   "pygments_lexer": "ipython3",
   "version": "3.11.9"
  }
 },
 "nbformat": 4,
 "nbformat_minor": 5
}
