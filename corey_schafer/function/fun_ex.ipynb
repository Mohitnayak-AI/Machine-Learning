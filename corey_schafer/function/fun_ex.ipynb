{
 "cells": [
  {
   "cell_type": "code",
   "execution_count": 5,
   "id": "d6b8a688",
   "metadata": {},
   "outputs": [
    {
     "name": "stdout",
     "output_type": "stream",
     "text": [
      "The shirt size is L and the text in the shirt is 'How you doing'\n"
     ]
    }
   ],
   "source": [
    "def make_shirt(size,text):\n",
    "    return \"The shirt size is {} and the text in the shirt is '{}'\".format(size,text)\n",
    "\n",
    "print(make_shirt('L','How you doing'))"
   ]
  },
  {
   "cell_type": "code",
   "execution_count": 16,
   "id": "d494de80",
   "metadata": {},
   "outputs": [
    {
     "name": "stdout",
     "output_type": "stream",
     "text": [
      "The shirt size is L and the text in the shirt is 'I Love Python'\n"
     ]
    }
   ],
   "source": [
    "def make_shirt(size,text = 'I Love Python'):\n",
    "    if size == 'L' or size == 'M':\n",
    "        return \"The shirt size is {} and the text in the shirt is '{}'\".format(size,text)\n",
    "    else:\n",
    "        return \"The shirt size is {} and the text in the shirt is '{}'\".format(size,text)\n",
    "    \n",
    "print(make_shirt('L'))"
   ]
  },
  {
   "cell_type": "markdown",
   "id": "38ebc22e",
   "metadata": {},
   "source": []
  },
  {
   "cell_type": "code",
   "execution_count": 20,
   "id": "eb884fa0",
   "metadata": {},
   "outputs": [],
   "source": [
    "def city_country(city,country):\n",
    "    return f'\"{city},{country}\"'"
   ]
  },
  {
   "cell_type": "code",
   "execution_count": 22,
   "id": "a6c92585",
   "metadata": {},
   "outputs": [
    {
     "name": "stdout",
     "output_type": "stream",
     "text": [
      "\"santiago,chile\"\n"
     ]
    }
   ],
   "source": [
    "set = city_country('santiago','chile')\n",
    "print(set)"
   ]
  },
  {
   "cell_type": "code",
   "execution_count": 23,
   "id": "c61cee6f",
   "metadata": {},
   "outputs": [],
   "source": [
    "def make_album(name,title,num=''):\n",
    "    artist = {'artist':name,'album':title}\n",
    "    if num:\n",
    "        artist['num'] = num\n",
    "    return artist\n",
    "\n",
    "art = make_album('Nigam','biguria',3)\n",
    "art2 = make_album('demi','lala')"
   ]
  },
  {
   "cell_type": "code",
   "execution_count": 24,
   "id": "341d479b",
   "metadata": {},
   "outputs": [
    {
     "name": "stdout",
     "output_type": "stream",
     "text": [
      "{'artist': 'Nigam', 'album': 'biguria', 'num': 3}\n",
      "{'artist': 'demi', 'album': 'lala'}\n"
     ]
    }
   ],
   "source": [
    "print(art)\n",
    "print(art2)"
   ]
  },
  {
   "cell_type": "code",
   "execution_count": 25,
   "id": "bdbf85f4",
   "metadata": {},
   "outputs": [
    {
     "name": "stdout",
     "output_type": "stream",
     "text": [
      "enter q to quit\n",
      "{'artist': 'nigam', 'album': 'beguria'}\n",
      "enter q to quit\n",
      "{'artist': 'demi', 'album': 'lala', 'num': '100'}\n",
      "enter q to quit\n"
     ]
    }
   ],
   "source": [
    "while True:\n",
    "    print('enter q to quit')\n",
    "    name = input('Name ')\n",
    "    if name == 'q':\n",
    "        break\n",
    "    title = input('Title ')\n",
    "    if title == 'q':\n",
    "        break\n",
    "    num = input('Num ')\n",
    "    if num == 'q':\n",
    "        break\n",
    "    \n",
    "    art = make_album(name,title,num)\n",
    "    print(art)"
   ]
  },
  {
   "cell_type": "code",
   "execution_count": 27,
   "id": "aff0567a",
   "metadata": {},
   "outputs": [
    {
     "name": "stdout",
     "output_type": "stream",
     "text": [
      "t\n",
      "r\n",
      "e\n",
      "w\n",
      "q\n"
     ]
    }
   ],
   "source": [
    "def print_model(unprint,complet):\n",
    "    while unprint:\n",
    "        current = unprint.pop()\n",
    "        complet.append(current)\n",
    "        \n",
    "def show(complet):\n",
    "    for c in complet:\n",
    "        print(c)\n",
    "        \n",
    "unprint = ['q','w','e','r','t']\n",
    "complet =[]\n",
    "\n",
    "print_model(unprint,complet)\n",
    "show(complet)"
   ]
  },
  {
   "cell_type": "code",
   "execution_count": 30,
   "id": "51b1ea91",
   "metadata": {},
   "outputs": [
    {
     "name": "stdout",
     "output_type": "stream",
     "text": [
      "I\n",
      "Love\n",
      "Python\n"
     ]
    }
   ],
   "source": [
    "def show_message(text):\n",
    "    for t in text:\n",
    "        print(t)\n",
    "\n",
    "text = ['I','Love','Python']\n",
    "\n",
    "show_message(text)"
   ]
  },
  {
   "cell_type": "code",
   "execution_count": 33,
   "id": "f4786eb3",
   "metadata": {},
   "outputs": [
    {
     "name": "stdout",
     "output_type": "stream",
     "text": [
      "['I', 'Love', 'Python']\n",
      "['I', 'Love', 'Python']\n"
     ]
    }
   ],
   "source": [
    "def send_messages(text):\n",
    "    send_message = []\n",
    "    for t in text:\n",
    "        send_message.append(t)\n",
    "    print(text)\n",
    "    print(send_message)\n",
    "    \n",
    "text = ['I','Love','Python']\n",
    "send_messages(text)"
   ]
  },
  {
   "cell_type": "code",
   "execution_count": 52,
   "id": "d70b846c",
   "metadata": {},
   "outputs": [
    {
     "name": "stdout",
     "output_type": "stream",
     "text": [
      "enter q for quit\n",
      "y can not be Zero\n",
      "enter q for quit\n"
     ]
    }
   ],
   "source": [
    "# Calculater\n",
    "\n",
    "def calcu(cal,x,y):\n",
    "    if cal == 'add':\n",
    "        add = x + y\n",
    "        return f'sum of {x} and {y} is {add}'\n",
    "    \n",
    "    elif cal == 'sud':\n",
    "        sud = abs(x - y)\n",
    "        return f'substraction of {x} and {y} is {sud}'\n",
    "    \n",
    "    elif cal == 'multi':\n",
    "        mulit = x*y\n",
    "        return f'substraction of {x} and {y} is {mulit}'\n",
    "    \n",
    "    elif cal == 'div':\n",
    "        if y == 0:\n",
    "            return 'y can not be Zero'\n",
    "        div = x/y\n",
    "        return f'substraction of {x} and {y} is {div}'\n",
    "    \n",
    "    else:\n",
    "        return \"Invaled\"\n",
    "\n",
    "while True:\n",
    "    print('enter q for quit')\n",
    "    cal = input('enter add or sud')\n",
    "    if cal == 'q':\n",
    "        break\n",
    "    x = int(input('Enter a number'))\n",
    "    if x == 'q':\n",
    "        break\n",
    "    y = int(input('enter a number'))\n",
    "    if y == 'q':\n",
    "        break\n",
    "    \n",
    "    print(calcu(cal,x,y))\n",
    "    \n",
    "    "
   ]
  },
  {
   "cell_type": "code",
   "execution_count": null,
   "id": "e1da2bf4",
   "metadata": {},
   "outputs": [],
   "source": []
  }
 ],
 "metadata": {
  "kernelspec": {
   "display_name": "venv",
   "language": "python",
   "name": "python3"
  },
  "language_info": {
   "codemirror_mode": {
    "name": "ipython",
    "version": 3
   },
   "file_extension": ".py",
   "mimetype": "text/x-python",
   "name": "python",
   "nbconvert_exporter": "python",
   "pygments_lexer": "ipython3",
   "version": "3.11.9"
  }
 },
 "nbformat": 4,
 "nbformat_minor": 5
}
