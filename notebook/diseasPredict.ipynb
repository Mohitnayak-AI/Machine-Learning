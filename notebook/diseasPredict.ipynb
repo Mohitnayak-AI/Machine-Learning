{
 "cells": [
  {
   "cell_type": "markdown",
   "id": "2f4b7cb3",
   "metadata": {},
   "source": [
    "Import Lib--"
   ]
  },
  {
   "cell_type": "code",
   "execution_count": 1,
   "id": "56e4ced1",
   "metadata": {},
   "outputs": [],
   "source": [
    "import pandas as pd\n",
    "import numpy as np\n",
    "from scipy.stats import mode\n",
    "import matplotlib.pyplot as plt\n",
    "import seaborn as sns\n",
    "from sklearn.preprocessing import LabelEncoder\n",
    "from sklearn.model_selection import train_test_split\n",
    "from sklearn.svm import SVC\n",
    "from sklearn.ensemble import RandomForestClassifier\n",
    "from sklearn.naive_bayes import GaussianNB\n",
    "from sklearn.metrics import classification_report, accuracy_score, confusion_matrix"
   ]
  },
  {
   "cell_type": "markdown",
   "id": "bbacc176",
   "metadata": {},
   "source": [
    "load the data --"
   ]
  },
  {
   "cell_type": "code",
   "execution_count": 2,
   "id": "6febc437",
   "metadata": {},
   "outputs": [
    {
     "data": {
      "application/vnd.microsoft.datawrangler.viewer.v0+json": {
       "columns": [
        {
         "name": "index",
         "rawType": "int64",
         "type": "integer"
        },
        {
         "name": "fever",
         "rawType": "int64",
         "type": "integer"
        },
        {
         "name": "headache",
         "rawType": "int64",
         "type": "integer"
        },
        {
         "name": "nausea",
         "rawType": "int64",
         "type": "integer"
        },
        {
         "name": "vomiting",
         "rawType": "int64",
         "type": "integer"
        },
        {
         "name": "fatigue",
         "rawType": "int64",
         "type": "integer"
        },
        {
         "name": "joint_pain",
         "rawType": "int64",
         "type": "integer"
        },
        {
         "name": "skin_rash",
         "rawType": "int64",
         "type": "integer"
        },
        {
         "name": "cough",
         "rawType": "int64",
         "type": "integer"
        },
        {
         "name": "weight_loss",
         "rawType": "int64",
         "type": "integer"
        },
        {
         "name": "yellow_eyes",
         "rawType": "int64",
         "type": "integer"
        },
        {
         "name": "disease",
         "rawType": "object",
         "type": "string"
        }
       ],
       "ref": "b9349a6c-a7d9-4ad1-92e6-67298524a204",
       "rows": [
        [
         "0",
         "1",
         "0",
         "1",
         "0",
         "1",
         "0",
         "0",
         "1",
         "1",
         "0",
         "Paralysis (brain hemorrhage)"
        ],
        [
         "1",
         "0",
         "0",
         "1",
         "0",
         "0",
         "0",
         "1",
         "1",
         "0",
         "0",
         "Paralysis (brain hemorrhage)"
        ],
        [
         "2",
         "0",
         "0",
         "1",
         "0",
         "1",
         "0",
         "1",
         "1",
         "0",
         "0",
         "Paralysis (brain hemorrhage)"
        ],
        [
         "3",
         "0",
         "0",
         "1",
         "1",
         "1",
         "0",
         "1",
         "1",
         "1",
         "1",
         "Paralysis (brain hemorrhage)"
        ],
        [
         "4",
         "1",
         "0",
         "1",
         "0",
         "1",
         "0",
         "0",
         "0",
         "1",
         "1",
         "Paralysis (brain hemorrhage)"
        ]
       ],
       "shape": {
        "columns": 11,
        "rows": 5
       }
      },
      "text/html": [
       "<div>\n",
       "<style scoped>\n",
       "    .dataframe tbody tr th:only-of-type {\n",
       "        vertical-align: middle;\n",
       "    }\n",
       "\n",
       "    .dataframe tbody tr th {\n",
       "        vertical-align: top;\n",
       "    }\n",
       "\n",
       "    .dataframe thead th {\n",
       "        text-align: right;\n",
       "    }\n",
       "</style>\n",
       "<table border=\"1\" class=\"dataframe\">\n",
       "  <thead>\n",
       "    <tr style=\"text-align: right;\">\n",
       "      <th></th>\n",
       "      <th>fever</th>\n",
       "      <th>headache</th>\n",
       "      <th>nausea</th>\n",
       "      <th>vomiting</th>\n",
       "      <th>fatigue</th>\n",
       "      <th>joint_pain</th>\n",
       "      <th>skin_rash</th>\n",
       "      <th>cough</th>\n",
       "      <th>weight_loss</th>\n",
       "      <th>yellow_eyes</th>\n",
       "      <th>disease</th>\n",
       "    </tr>\n",
       "  </thead>\n",
       "  <tbody>\n",
       "    <tr>\n",
       "      <th>0</th>\n",
       "      <td>1</td>\n",
       "      <td>0</td>\n",
       "      <td>1</td>\n",
       "      <td>0</td>\n",
       "      <td>1</td>\n",
       "      <td>0</td>\n",
       "      <td>0</td>\n",
       "      <td>1</td>\n",
       "      <td>1</td>\n",
       "      <td>0</td>\n",
       "      <td>Paralysis (brain hemorrhage)</td>\n",
       "    </tr>\n",
       "    <tr>\n",
       "      <th>1</th>\n",
       "      <td>0</td>\n",
       "      <td>0</td>\n",
       "      <td>1</td>\n",
       "      <td>0</td>\n",
       "      <td>0</td>\n",
       "      <td>0</td>\n",
       "      <td>1</td>\n",
       "      <td>1</td>\n",
       "      <td>0</td>\n",
       "      <td>0</td>\n",
       "      <td>Paralysis (brain hemorrhage)</td>\n",
       "    </tr>\n",
       "    <tr>\n",
       "      <th>2</th>\n",
       "      <td>0</td>\n",
       "      <td>0</td>\n",
       "      <td>1</td>\n",
       "      <td>0</td>\n",
       "      <td>1</td>\n",
       "      <td>0</td>\n",
       "      <td>1</td>\n",
       "      <td>1</td>\n",
       "      <td>0</td>\n",
       "      <td>0</td>\n",
       "      <td>Paralysis (brain hemorrhage)</td>\n",
       "    </tr>\n",
       "    <tr>\n",
       "      <th>3</th>\n",
       "      <td>0</td>\n",
       "      <td>0</td>\n",
       "      <td>1</td>\n",
       "      <td>1</td>\n",
       "      <td>1</td>\n",
       "      <td>0</td>\n",
       "      <td>1</td>\n",
       "      <td>1</td>\n",
       "      <td>1</td>\n",
       "      <td>1</td>\n",
       "      <td>Paralysis (brain hemorrhage)</td>\n",
       "    </tr>\n",
       "    <tr>\n",
       "      <th>4</th>\n",
       "      <td>1</td>\n",
       "      <td>0</td>\n",
       "      <td>1</td>\n",
       "      <td>0</td>\n",
       "      <td>1</td>\n",
       "      <td>0</td>\n",
       "      <td>0</td>\n",
       "      <td>0</td>\n",
       "      <td>1</td>\n",
       "      <td>1</td>\n",
       "      <td>Paralysis (brain hemorrhage)</td>\n",
       "    </tr>\n",
       "  </tbody>\n",
       "</table>\n",
       "</div>"
      ],
      "text/plain": [
       "   fever  headache  nausea  vomiting  fatigue  joint_pain  skin_rash  cough  \\\n",
       "0      1         0       1         0        1           0          0      1   \n",
       "1      0         0       1         0        0           0          1      1   \n",
       "2      0         0       1         0        1           0          1      1   \n",
       "3      0         0       1         1        1           0          1      1   \n",
       "4      1         0       1         0        1           0          0      0   \n",
       "\n",
       "   weight_loss  yellow_eyes                       disease  \n",
       "0            1            0  Paralysis (brain hemorrhage)  \n",
       "1            0            0  Paralysis (brain hemorrhage)  \n",
       "2            0            0  Paralysis (brain hemorrhage)  \n",
       "3            1            1  Paralysis (brain hemorrhage)  \n",
       "4            1            1  Paralysis (brain hemorrhage)  "
      ]
     },
     "execution_count": 2,
     "metadata": {},
     "output_type": "execute_result"
    }
   ],
   "source": [
    "df = pd.read_csv('../data/health.csv')\n",
    "df.head()"
   ]
  },
  {
   "cell_type": "code",
   "execution_count": 3,
   "id": "787ffdd0",
   "metadata": {},
   "outputs": [
    {
     "name": "stdout",
     "output_type": "stream",
     "text": [
      "<class 'pandas.core.frame.DataFrame'>\n",
      "RangeIndex: 2000 entries, 0 to 1999\n",
      "Data columns (total 11 columns):\n",
      " #   Column       Non-Null Count  Dtype \n",
      "---  ------       --------------  ----- \n",
      " 0   fever        2000 non-null   int64 \n",
      " 1   headache     2000 non-null   int64 \n",
      " 2   nausea       2000 non-null   int64 \n",
      " 3   vomiting     2000 non-null   int64 \n",
      " 4   fatigue      2000 non-null   int64 \n",
      " 5   joint_pain   2000 non-null   int64 \n",
      " 6   skin_rash    2000 non-null   int64 \n",
      " 7   cough        2000 non-null   int64 \n",
      " 8   weight_loss  2000 non-null   int64 \n",
      " 9   yellow_eyes  2000 non-null   int64 \n",
      " 10  disease      2000 non-null   object\n",
      "dtypes: int64(10), object(1)\n",
      "memory usage: 172.0+ KB\n",
      "None\n"
     ]
    }
   ],
   "source": [
    "print(df.info())"
   ]
  },
  {
   "cell_type": "code",
   "execution_count": 5,
   "id": "019175fe",
   "metadata": {},
   "outputs": [
    {
     "data": {
      "application/vnd.microsoft.datawrangler.viewer.v0+json": {
       "columns": [
        {
         "name": "index",
         "rawType": "object",
         "type": "string"
        },
        {
         "name": "count",
         "rawType": "float64",
         "type": "float"
        },
        {
         "name": "mean",
         "rawType": "float64",
         "type": "float"
        },
        {
         "name": "std",
         "rawType": "float64",
         "type": "float"
        },
        {
         "name": "min",
         "rawType": "float64",
         "type": "float"
        },
        {
         "name": "25%",
         "rawType": "float64",
         "type": "float"
        },
        {
         "name": "50%",
         "rawType": "float64",
         "type": "float"
        },
        {
         "name": "75%",
         "rawType": "float64",
         "type": "float"
        },
        {
         "name": "max",
         "rawType": "float64",
         "type": "float"
        }
       ],
       "ref": "f9d80011-83ea-4ec7-be79-47e451672eb6",
       "rows": [
        [
         "fever",
         "2000.0",
         "0.328",
         "0.4696022392744372",
         "0.0",
         "0.0",
         "0.0",
         "1.0",
         "1.0"
        ],
        [
         "headache",
         "2000.0",
         "0.413",
         "0.4924959656058808",
         "0.0",
         "0.0",
         "0.0",
         "1.0",
         "1.0"
        ],
        [
         "nausea",
         "2000.0",
         "0.3785",
         "0.48513444292675906",
         "0.0",
         "0.0",
         "0.0",
         "1.0",
         "1.0"
        ],
        [
         "vomiting",
         "2000.0",
         "0.526",
         "0.49944842012181917",
         "0.0",
         "0.0",
         "1.0",
         "1.0",
         "1.0"
        ],
        [
         "fatigue",
         "2000.0",
         "0.3655",
         "0.48169052604492935",
         "0.0",
         "0.0",
         "0.0",
         "1.0",
         "1.0"
        ],
        [
         "joint_pain",
         "2000.0",
         "0.4505",
         "0.4976681492655489",
         "0.0",
         "0.0",
         "0.0",
         "1.0",
         "1.0"
        ],
        [
         "skin_rash",
         "2000.0",
         "0.387",
         "0.48718546246518757",
         "0.0",
         "0.0",
         "0.0",
         "1.0",
         "1.0"
        ],
        [
         "cough",
         "2000.0",
         "0.555",
         "0.4970900816498327",
         "0.0",
         "0.0",
         "1.0",
         "1.0",
         "1.0"
        ],
        [
         "weight_loss",
         "2000.0",
         "0.456",
         "0.4981847990926897",
         "0.0",
         "0.0",
         "0.0",
         "1.0",
         "1.0"
        ],
        [
         "yellow_eyes",
         "2000.0",
         "0.449",
         "0.49751659407570553",
         "0.0",
         "0.0",
         "0.0",
         "1.0",
         "1.0"
        ]
       ],
       "shape": {
        "columns": 8,
        "rows": 10
       }
      },
      "text/html": [
       "<div>\n",
       "<style scoped>\n",
       "    .dataframe tbody tr th:only-of-type {\n",
       "        vertical-align: middle;\n",
       "    }\n",
       "\n",
       "    .dataframe tbody tr th {\n",
       "        vertical-align: top;\n",
       "    }\n",
       "\n",
       "    .dataframe thead th {\n",
       "        text-align: right;\n",
       "    }\n",
       "</style>\n",
       "<table border=\"1\" class=\"dataframe\">\n",
       "  <thead>\n",
       "    <tr style=\"text-align: right;\">\n",
       "      <th></th>\n",
       "      <th>count</th>\n",
       "      <th>mean</th>\n",
       "      <th>std</th>\n",
       "      <th>min</th>\n",
       "      <th>25%</th>\n",
       "      <th>50%</th>\n",
       "      <th>75%</th>\n",
       "      <th>max</th>\n",
       "    </tr>\n",
       "  </thead>\n",
       "  <tbody>\n",
       "    <tr>\n",
       "      <th>fever</th>\n",
       "      <td>2000.0</td>\n",
       "      <td>0.3280</td>\n",
       "      <td>0.469602</td>\n",
       "      <td>0.0</td>\n",
       "      <td>0.0</td>\n",
       "      <td>0.0</td>\n",
       "      <td>1.0</td>\n",
       "      <td>1.0</td>\n",
       "    </tr>\n",
       "    <tr>\n",
       "      <th>headache</th>\n",
       "      <td>2000.0</td>\n",
       "      <td>0.4130</td>\n",
       "      <td>0.492496</td>\n",
       "      <td>0.0</td>\n",
       "      <td>0.0</td>\n",
       "      <td>0.0</td>\n",
       "      <td>1.0</td>\n",
       "      <td>1.0</td>\n",
       "    </tr>\n",
       "    <tr>\n",
       "      <th>nausea</th>\n",
       "      <td>2000.0</td>\n",
       "      <td>0.3785</td>\n",
       "      <td>0.485134</td>\n",
       "      <td>0.0</td>\n",
       "      <td>0.0</td>\n",
       "      <td>0.0</td>\n",
       "      <td>1.0</td>\n",
       "      <td>1.0</td>\n",
       "    </tr>\n",
       "    <tr>\n",
       "      <th>vomiting</th>\n",
       "      <td>2000.0</td>\n",
       "      <td>0.5260</td>\n",
       "      <td>0.499448</td>\n",
       "      <td>0.0</td>\n",
       "      <td>0.0</td>\n",
       "      <td>1.0</td>\n",
       "      <td>1.0</td>\n",
       "      <td>1.0</td>\n",
       "    </tr>\n",
       "    <tr>\n",
       "      <th>fatigue</th>\n",
       "      <td>2000.0</td>\n",
       "      <td>0.3655</td>\n",
       "      <td>0.481691</td>\n",
       "      <td>0.0</td>\n",
       "      <td>0.0</td>\n",
       "      <td>0.0</td>\n",
       "      <td>1.0</td>\n",
       "      <td>1.0</td>\n",
       "    </tr>\n",
       "    <tr>\n",
       "      <th>joint_pain</th>\n",
       "      <td>2000.0</td>\n",
       "      <td>0.4505</td>\n",
       "      <td>0.497668</td>\n",
       "      <td>0.0</td>\n",
       "      <td>0.0</td>\n",
       "      <td>0.0</td>\n",
       "      <td>1.0</td>\n",
       "      <td>1.0</td>\n",
       "    </tr>\n",
       "    <tr>\n",
       "      <th>skin_rash</th>\n",
       "      <td>2000.0</td>\n",
       "      <td>0.3870</td>\n",
       "      <td>0.487185</td>\n",
       "      <td>0.0</td>\n",
       "      <td>0.0</td>\n",
       "      <td>0.0</td>\n",
       "      <td>1.0</td>\n",
       "      <td>1.0</td>\n",
       "    </tr>\n",
       "    <tr>\n",
       "      <th>cough</th>\n",
       "      <td>2000.0</td>\n",
       "      <td>0.5550</td>\n",
       "      <td>0.497090</td>\n",
       "      <td>0.0</td>\n",
       "      <td>0.0</td>\n",
       "      <td>1.0</td>\n",
       "      <td>1.0</td>\n",
       "      <td>1.0</td>\n",
       "    </tr>\n",
       "    <tr>\n",
       "      <th>weight_loss</th>\n",
       "      <td>2000.0</td>\n",
       "      <td>0.4560</td>\n",
       "      <td>0.498185</td>\n",
       "      <td>0.0</td>\n",
       "      <td>0.0</td>\n",
       "      <td>0.0</td>\n",
       "      <td>1.0</td>\n",
       "      <td>1.0</td>\n",
       "    </tr>\n",
       "    <tr>\n",
       "      <th>yellow_eyes</th>\n",
       "      <td>2000.0</td>\n",
       "      <td>0.4490</td>\n",
       "      <td>0.497517</td>\n",
       "      <td>0.0</td>\n",
       "      <td>0.0</td>\n",
       "      <td>0.0</td>\n",
       "      <td>1.0</td>\n",
       "      <td>1.0</td>\n",
       "    </tr>\n",
       "  </tbody>\n",
       "</table>\n",
       "</div>"
      ],
      "text/plain": [
       "              count    mean       std  min  25%  50%  75%  max\n",
       "fever        2000.0  0.3280  0.469602  0.0  0.0  0.0  1.0  1.0\n",
       "headache     2000.0  0.4130  0.492496  0.0  0.0  0.0  1.0  1.0\n",
       "nausea       2000.0  0.3785  0.485134  0.0  0.0  0.0  1.0  1.0\n",
       "vomiting     2000.0  0.5260  0.499448  0.0  0.0  1.0  1.0  1.0\n",
       "fatigue      2000.0  0.3655  0.481691  0.0  0.0  0.0  1.0  1.0\n",
       "joint_pain   2000.0  0.4505  0.497668  0.0  0.0  0.0  1.0  1.0\n",
       "skin_rash    2000.0  0.3870  0.487185  0.0  0.0  0.0  1.0  1.0\n",
       "cough        2000.0  0.5550  0.497090  0.0  0.0  1.0  1.0  1.0\n",
       "weight_loss  2000.0  0.4560  0.498185  0.0  0.0  0.0  1.0  1.0\n",
       "yellow_eyes  2000.0  0.4490  0.497517  0.0  0.0  0.0  1.0  1.0"
      ]
     },
     "execution_count": 5,
     "metadata": {},
     "output_type": "execute_result"
    }
   ],
   "source": [
    "df.describe().T"
   ]
  },
  {
   "cell_type": "code",
   "execution_count": 6,
   "id": "aea38baf",
   "metadata": {},
   "outputs": [
    {
     "data": {
      "application/vnd.microsoft.datawrangler.viewer.v0+json": {
       "columns": [
        {
         "name": "index",
         "rawType": "object",
         "type": "string"
        },
        {
         "name": "0",
         "rawType": "int64",
         "type": "integer"
        }
       ],
       "ref": "643f03be-0482-4989-841d-a95fdea67502",
       "rows": [
        [
         "fever",
         "0"
        ],
        [
         "headache",
         "0"
        ],
        [
         "nausea",
         "0"
        ],
        [
         "vomiting",
         "0"
        ],
        [
         "fatigue",
         "0"
        ],
        [
         "joint_pain",
         "0"
        ],
        [
         "skin_rash",
         "0"
        ],
        [
         "cough",
         "0"
        ],
        [
         "weight_loss",
         "0"
        ],
        [
         "yellow_eyes",
         "0"
        ],
        [
         "disease",
         "0"
        ]
       ],
       "shape": {
        "columns": 1,
        "rows": 11
       }
      },
      "text/plain": [
       "fever          0\n",
       "headache       0\n",
       "nausea         0\n",
       "vomiting       0\n",
       "fatigue        0\n",
       "joint_pain     0\n",
       "skin_rash      0\n",
       "cough          0\n",
       "weight_loss    0\n",
       "yellow_eyes    0\n",
       "disease        0\n",
       "dtype: int64"
      ]
     },
     "execution_count": 6,
     "metadata": {},
     "output_type": "execute_result"
    }
   ],
   "source": [
    "df.isnull().sum()"
   ]
  },
  {
   "cell_type": "code",
   "execution_count": 7,
   "id": "7f4ee9e4",
   "metadata": {},
   "outputs": [
    {
     "data": {
      "application/vnd.microsoft.datawrangler.viewer.v0+json": {
       "columns": [
        {
         "name": "disease",
         "rawType": "object",
         "type": "string"
        },
        {
         "name": "count",
         "rawType": "int64",
         "type": "integer"
        }
       ],
       "ref": "5d16982a-f2d1-4f49-927f-f47836b255df",
       "rows": [
        [
         "Paralysis (brain hemorrhage)",
         "90"
        ],
        [
         "Hepatitis B",
         "80"
        ],
        [
         "Impetigo",
         "80"
        ],
        [
         "Hypertension",
         "80"
        ],
        [
         "Vertigo (Benign paroxysmal Positional Vertigo)",
         "70"
        ],
        [
         "Hyperthyroidism",
         "70"
        ],
        [
         "Tuberculosis",
         "70"
        ],
        [
         "Cervical spondylosis",
         "70"
        ],
        [
         "Dimorphic hemorrhoids(piles)",
         "70"
        ],
        [
         "Typhoid",
         "70"
        ],
        [
         "Hepatitis C",
         "70"
        ],
        [
         "Chronic cholestasis",
         "70"
        ],
        [
         "Malaria",
         "60"
        ],
        [
         "Gastroenteritis",
         "60"
        ],
        [
         "Osteoarthritis",
         "60"
        ],
        [
         "Heart attack",
         "60"
        ],
        [
         "Arthritis",
         "50"
        ],
        [
         "Bronchial Asthma",
         "50"
        ],
        [
         "Hypoglycemia",
         "50"
        ],
        [
         "Urinary tract infection",
         "50"
        ],
        [
         "Dengue",
         "50"
        ],
        [
         "Pneumonia",
         "50"
        ],
        [
         "Psoriasis",
         "40"
        ],
        [
         "Hepatitis E",
         "40"
        ],
        [
         "Hepatitis A",
         "40"
        ],
        [
         "Varicose veins",
         "40"
        ],
        [
         "Diabetes",
         "40"
        ],
        [
         "Drug Reaction",
         "40"
        ],
        [
         "Peptic ulcer disease",
         "40"
        ],
        [
         "GERD",
         "40"
        ],
        [
         "Acne",
         "40"
        ],
        [
         "Hypothyroidism",
         "40"
        ],
        [
         "Hepatitis D",
         "40"
        ],
        [
         "Migraine",
         "30"
        ],
        [
         "Allergy",
         "30"
        ],
        [
         "Jaundice",
         "30"
        ],
        [
         "AIDS",
         "30"
        ],
        [
         "Alcoholic hepatitis",
         "10"
        ]
       ],
       "shape": {
        "columns": 1,
        "rows": 38
       }
      },
      "text/plain": [
       "disease\n",
       "Paralysis (brain hemorrhage)                      90\n",
       "Hepatitis B                                       80\n",
       "Impetigo                                          80\n",
       "Hypertension                                      80\n",
       "Vertigo (Benign paroxysmal Positional Vertigo)    70\n",
       "Hyperthyroidism                                   70\n",
       "Tuberculosis                                      70\n",
       "Cervical spondylosis                              70\n",
       "Dimorphic hemorrhoids(piles)                      70\n",
       "Typhoid                                           70\n",
       "Hepatitis C                                       70\n",
       "Chronic cholestasis                               70\n",
       "Malaria                                           60\n",
       "Gastroenteritis                                   60\n",
       "Osteoarthritis                                    60\n",
       "Heart attack                                      60\n",
       "Arthritis                                         50\n",
       "Bronchial Asthma                                  50\n",
       "Hypoglycemia                                      50\n",
       "Urinary tract infection                           50\n",
       "Dengue                                            50\n",
       "Pneumonia                                         50\n",
       "Psoriasis                                         40\n",
       "Hepatitis E                                       40\n",
       "Hepatitis A                                       40\n",
       "Varicose veins                                    40\n",
       "Diabetes                                          40\n",
       "Drug Reaction                                     40\n",
       "Peptic ulcer disease                              40\n",
       "GERD                                              40\n",
       "Acne                                              40\n",
       "Hypothyroidism                                    40\n",
       "Hepatitis D                                       40\n",
       "Migraine                                          30\n",
       "Allergy                                           30\n",
       "Jaundice                                          30\n",
       "AIDS                                              30\n",
       "Alcoholic hepatitis                               10\n",
       "Name: count, dtype: int64"
      ]
     },
     "execution_count": 7,
     "metadata": {},
     "output_type": "execute_result"
    }
   ],
   "source": [
    "df['disease'].value_counts()"
   ]
  },
  {
   "cell_type": "code",
   "execution_count": 8,
   "id": "a4d3248e",
   "metadata": {},
   "outputs": [
    {
     "data": {
      "text/plain": [
       "<Axes: xlabel='count', ylabel='disease'>"
      ]
     },
     "execution_count": 8,
     "metadata": {},
     "output_type": "execute_result"
    },
    {
     "data": {
      "image/png": "[encoded data removed]",
      "text/plain": [
       "<Figure size 640x480 with 1 Axes>"
      ]
     },
     "metadata": {},
     "output_type": "display_data"
    }
   ],
   "source": [
    "sns.countplot(df['disease'])"
   ]
  },
  {
   "cell_type": "markdown",
   "id": "845c0b8d",
   "metadata": {},
   "source": [
    "Here we can see the data is imbalanced "
   ]
  },
  {
   "cell_type": "code",
   "execution_count": 9,
   "id": "d5b724e6",
   "metadata": {},
   "outputs": [
    {
     "data": {
      "application/vnd.microsoft.datawrangler.viewer.v0+json": {
       "columns": [
        {
         "name": "index",
         "rawType": "int64",
         "type": "integer"
        },
        {
         "name": "fever",
         "rawType": "int64",
         "type": "integer"
        },
        {
         "name": "headache",
         "rawType": "int64",
         "type": "integer"
        },
        {
         "name": "nausea",
         "rawType": "int64",
         "type": "integer"
        },
        {
         "name": "vomiting",
         "rawType": "int64",
         "type": "integer"
        },
        {
         "name": "fatigue",
         "rawType": "int64",
         "type": "integer"
        },
        {
         "name": "joint_pain",
         "rawType": "int64",
         "type": "integer"
        },
        {
         "name": "skin_rash",
         "rawType": "int64",
         "type": "integer"
        },
        {
         "name": "cough",
         "rawType": "int64",
         "type": "integer"
        },
        {
         "name": "weight_loss",
         "rawType": "int64",
         "type": "integer"
        },
        {
         "name": "yellow_eyes",
         "rawType": "int64",
         "type": "integer"
        }
       ],
       "ref": "b1437fd2-7852-4d52-a7b0-a494d422aefa",
       "rows": [
        [
         "0",
         "1",
         "0",
         "1",
         "0",
         "1",
         "0",
         "0",
         "1",
         "1",
         "0"
        ],
        [
         "1",
         "0",
         "0",
         "1",
         "0",
         "0",
         "0",
         "1",
         "1",
         "0",
         "0"
        ],
        [
         "2",
         "0",
         "0",
         "1",
         "0",
         "1",
         "0",
         "1",
         "1",
         "0",
         "0"
        ],
        [
         "3",
         "0",
         "0",
         "1",
         "1",
         "1",
         "0",
         "1",
         "1",
         "1",
         "1"
        ],
        [
         "4",
         "1",
         "0",
         "1",
         "0",
         "1",
         "0",
         "0",
         "0",
         "1",
         "1"
        ],
        [
         "5",
         "0",
         "0",
         "1",
         "0",
         "1",
         "0",
         "0",
         "0",
         "0",
         "0"
        ],
        [
         "6",
         "0",
         "1",
         "1",
         "1",
         "0",
         "0",
         "0",
         "1",
         "0",
         "0"
        ],
        [
         "7",
         "0",
         "1",
         "1",
         "0",
         "1",
         "0",
         "0",
         "0",
         "1",
         "0"
        ],
        [
         "8",
         "0",
         "0",
         "1",
         "1",
         "1",
         "0",
         "0",
         "1",
         "0",
         "0"
        ],
        [
         "9",
         "1",
         "0",
         "0",
         "1",
         "0",
         "0",
         "0",
         "1",
         "1",
         "0"
        ],
        [
         "10",
         "0",
         "0",
         "1",
         "0",
         "0",
         "0",
         "0",
         "1",
         "0",
         "0"
        ],
        [
         "11",
         "1",
         "0",
         "1",
         "0",
         "1",
         "0",
         "0",
         "1",
         "0",
         "0"
        ],
        [
         "12",
         "0",
         "0",
         "1",
         "0",
         "1",
         "0",
         "0",
         "1",
         "0",
         "0"
        ],
        [
         "13",
         "0",
         "0",
         "1",
         "0",
         "1",
         "0",
         "0",
         "1",
         "0",
         "0"
        ],
        [
         "14",
         "0",
         "0",
         "1",
         "0",
         "1",
         "0",
         "1",
         "1",
         "0",
         "0"
        ],
        [
         "15",
         "0",
         "0",
         "1",
         "0",
         "1",
         "1",
         "0",
         "1",
         "0",
         "0"
        ],
        [
         "16",
         "0",
         "0",
         "1",
         "0",
         "1",
         "0",
         "0",
         "1",
         "0",
         "0"
        ],
        [
         "17",
         "0",
         "0",
         "0",
         "0",
         "1",
         "0",
         "0",
         "1",
         "0",
         "0"
        ],
        [
         "18",
         "0",
         "0",
         "1",
         "0",
         "0",
         "1",
         "0",
         "0",
         "1",
         "0"
        ],
        [
         "19",
         "1",
         "0",
         "1",
         "0",
         "1",
         "0",
         "0",
         "1",
         "1",
         "0"
        ],
        [
         "20",
         "0",
         "0",
         "0",
         "0",
         "0",
         "1",
         "1",
         "0",
         "0",
         "0"
        ],
        [
         "21",
         "1",
         "0",
         "1",
         "0",
         "0",
         "0",
         "1",
         "0",
         "0",
         "0"
        ],
        [
         "22",
         "0",
         "0",
         "1",
         "0",
         "1",
         "1",
         "0",
         "1",
         "0",
         "0"
        ],
        [
         "23",
         "0",
         "0",
         "1",
         "0",
         "1",
         "1",
         "0",
         "1",
         "0",
         "0"
        ],
        [
         "24",
         "1",
         "0",
         "1",
         "0",
         "1",
         "0",
         "0",
         "1",
         "0",
         "0"
        ],
        [
         "25",
         "0",
         "0",
         "1",
         "0",
         "1",
         "0",
         "0",
         "1",
         "0",
         "0"
        ],
        [
         "26",
         "1",
         "0",
         "0",
         "0",
         "1",
         "0",
         "0",
         "1",
         "0",
         "0"
        ],
        [
         "27",
         "0",
         "0",
         "0",
         "0",
         "1",
         "0",
         "0",
         "1",
         "0",
         "0"
        ],
        [
         "28",
         "1",
         "1",
         "1",
         "0",
         "1",
         "0",
         "0",
         "1",
         "0",
         "0"
        ],
        [
         "29",
         "0",
         "0",
         "1",
         "1",
         "1",
         "0",
         "1",
         "1",
         "0",
         "0"
        ],
        [
         "30",
         "0",
         "1",
         "1",
         "0",
         "0",
         "0",
         "0",
         "1",
         "0",
         "1"
        ],
        [
         "31",
         "0",
         "0",
         "1",
         "0",
         "0",
         "0",
         "1",
         "1",
         "0",
         "1"
        ],
        [
         "32",
         "0",
         "1",
         "1",
         "1",
         "1",
         "0",
         "0",
         "1",
         "0",
         "0"
        ],
        [
         "33",
         "0",
         "0",
         "0",
         "0",
         "1",
         "0",
         "1",
         "1",
         "0",
         "0"
        ],
        [
         "34",
         "0",
         "1",
         "1",
         "0",
         "1",
         "0",
         "0",
         "0",
         "1",
         "0"
        ],
        [
         "35",
         "0",
         "0",
         "0",
         "1",
         "0",
         "0",
         "1",
         "0",
         "0",
         "1"
        ],
        [
         "36",
         "0",
         "0",
         "1",
         "0",
         "1",
         "0",
         "0",
         "1",
         "0",
         "0"
        ],
        [
         "37",
         "0",
         "1",
         "1",
         "0",
         "0",
         "0",
         "0",
         "1",
         "0",
         "0"
        ],
        [
         "38",
         "0",
         "1",
         "1",
         "0",
         "1",
         "0",
         "0",
         "1",
         "0",
         "0"
        ],
        [
         "39",
         "0",
         "0",
         "1",
         "0",
         "1",
         "0",
         "0",
         "1",
         "0",
         "0"
        ],
        [
         "40",
         "0",
         "0",
         "0",
         "1",
         "0",
         "1",
         "0",
         "1",
         "0",
         "0"
        ],
        [
         "41",
         "0",
         "0",
         "0",
         "1",
         "0",
         "1",
         "1",
         "1",
         "1",
         "0"
        ],
        [
         "42",
         "0",
         "0",
         "1",
         "1",
         "1",
         "0",
         "0",
         "1",
         "0",
         "0"
        ],
        [
         "43",
         "0",
         "0",
         "1",
         "1",
         "1",
         "0",
         "0",
         "1",
         "0",
         "0"
        ],
        [
         "44",
         "1",
         "0",
         "1",
         "1",
         "1",
         "0",
         "1",
         "0",
         "0",
         "0"
        ],
        [
         "45",
         "0",
         "1",
         "1",
         "0",
         "1",
         "0",
         "0",
         "1",
         "0",
         "0"
        ],
        [
         "46",
         "0",
         "0",
         "1",
         "0",
         "1",
         "0",
         "0",
         "1",
         "0",
         "1"
        ],
        [
         "47",
         "0",
         "0",
         "1",
         "0",
         "1",
         "0",
         "0",
         "0",
         "0",
         "0"
        ],
        [
         "48",
         "1",
         "1",
         "1",
         "0",
         "1",
         "1",
         "0",
         "1",
         "0",
         "0"
        ],
        [
         "49",
         "0",
         "0",
         "1",
         "0",
         "1",
         "0",
         "1",
         "1",
         "0",
         "0"
        ]
       ],
       "shape": {
        "columns": 10,
        "rows": 2000
       }
      },
      "text/html": [
       "<div>\n",
       "<style scoped>\n",
       "    .dataframe tbody tr th:only-of-type {\n",
       "        vertical-align: middle;\n",
       "    }\n",
       "\n",
       "    .dataframe tbody tr th {\n",
       "        vertical-align: top;\n",
       "    }\n",
       "\n",
       "    .dataframe thead th {\n",
       "        text-align: right;\n",
       "    }\n",
       "</style>\n",
       "<table border=\"1\" class=\"dataframe\">\n",
       "  <thead>\n",
       "    <tr style=\"text-align: right;\">\n",
       "      <th></th>\n",
       "      <th>fever</th>\n",
       "      <th>headache</th>\n",
       "      <th>nausea</th>\n",
       "      <th>vomiting</th>\n",
       "      <th>fatigue</th>\n",
       "      <th>joint_pain</th>\n",
       "      <th>skin_rash</th>\n",
       "      <th>cough</th>\n",
       "      <th>weight_loss</th>\n",
       "      <th>yellow_eyes</th>\n",
       "    </tr>\n",
       "  </thead>\n",
       "  <tbody>\n",
       "    <tr>\n",
       "      <th>0</th>\n",
       "      <td>1</td>\n",
       "      <td>0</td>\n",
       "      <td>1</td>\n",
       "      <td>0</td>\n",
       "      <td>1</td>\n",
       "      <td>0</td>\n",
       "      <td>0</td>\n",
       "      <td>1</td>\n",
       "      <td>1</td>\n",
       "      <td>0</td>\n",
       "    </tr>\n",
       "    <tr>\n",
       "      <th>1</th>\n",
       "      <td>0</td>\n",
       "      <td>0</td>\n",
       "      <td>1</td>\n",
       "      <td>0</td>\n",
       "      <td>0</td>\n",
       "      <td>0</td>\n",
       "      <td>1</td>\n",
       "      <td>1</td>\n",
       "      <td>0</td>\n",
       "      <td>0</td>\n",
       "    </tr>\n",
       "    <tr>\n",
       "      <th>2</th>\n",
       "      <td>0</td>\n",
       "      <td>0</td>\n",
       "      <td>1</td>\n",
       "      <td>0</td>\n",
       "      <td>1</td>\n",
       "      <td>0</td>\n",
       "      <td>1</td>\n",
       "      <td>1</td>\n",
       "      <td>0</td>\n",
       "      <td>0</td>\n",
       "    </tr>\n",
       "    <tr>\n",
       "      <th>3</th>\n",
       "      <td>0</td>\n",
       "      <td>0</td>\n",
       "      <td>1</td>\n",
       "      <td>1</td>\n",
       "      <td>1</td>\n",
       "      <td>0</td>\n",
       "      <td>1</td>\n",
       "      <td>1</td>\n",
       "      <td>1</td>\n",
       "      <td>1</td>\n",
       "    </tr>\n",
       "    <tr>\n",
       "      <th>4</th>\n",
       "      <td>1</td>\n",
       "      <td>0</td>\n",
       "      <td>1</td>\n",
       "      <td>0</td>\n",
       "      <td>1</td>\n",
       "      <td>0</td>\n",
       "      <td>0</td>\n",
       "      <td>0</td>\n",
       "      <td>1</td>\n",
       "      <td>1</td>\n",
       "    </tr>\n",
       "    <tr>\n",
       "      <th>...</th>\n",
       "      <td>...</td>\n",
       "      <td>...</td>\n",
       "      <td>...</td>\n",
       "      <td>...</td>\n",
       "      <td>...</td>\n",
       "      <td>...</td>\n",
       "      <td>...</td>\n",
       "      <td>...</td>\n",
       "      <td>...</td>\n",
       "      <td>...</td>\n",
       "    </tr>\n",
       "    <tr>\n",
       "      <th>1995</th>\n",
       "      <td>1</td>\n",
       "      <td>1</td>\n",
       "      <td>0</td>\n",
       "      <td>0</td>\n",
       "      <td>1</td>\n",
       "      <td>0</td>\n",
       "      <td>0</td>\n",
       "      <td>0</td>\n",
       "      <td>1</td>\n",
       "      <td>1</td>\n",
       "    </tr>\n",
       "    <tr>\n",
       "      <th>1996</th>\n",
       "      <td>1</td>\n",
       "      <td>0</td>\n",
       "      <td>0</td>\n",
       "      <td>0</td>\n",
       "      <td>1</td>\n",
       "      <td>1</td>\n",
       "      <td>1</td>\n",
       "      <td>0</td>\n",
       "      <td>1</td>\n",
       "      <td>1</td>\n",
       "    </tr>\n",
       "    <tr>\n",
       "      <th>1997</th>\n",
       "      <td>1</td>\n",
       "      <td>0</td>\n",
       "      <td>0</td>\n",
       "      <td>1</td>\n",
       "      <td>0</td>\n",
       "      <td>0</td>\n",
       "      <td>0</td>\n",
       "      <td>0</td>\n",
       "      <td>0</td>\n",
       "      <td>1</td>\n",
       "    </tr>\n",
       "    <tr>\n",
       "      <th>1998</th>\n",
       "      <td>0</td>\n",
       "      <td>0</td>\n",
       "      <td>0</td>\n",
       "      <td>0</td>\n",
       "      <td>1</td>\n",
       "      <td>1</td>\n",
       "      <td>0</td>\n",
       "      <td>0</td>\n",
       "      <td>0</td>\n",
       "      <td>1</td>\n",
       "    </tr>\n",
       "    <tr>\n",
       "      <th>1999</th>\n",
       "      <td>0</td>\n",
       "      <td>0</td>\n",
       "      <td>0</td>\n",
       "      <td>1</td>\n",
       "      <td>1</td>\n",
       "      <td>1</td>\n",
       "      <td>0</td>\n",
       "      <td>0</td>\n",
       "      <td>0</td>\n",
       "      <td>1</td>\n",
       "    </tr>\n",
       "  </tbody>\n",
       "</table>\n",
       "<p>2000 rows × 10 columns</p>\n",
       "</div>"
      ],
      "text/plain": [
       "      fever  headache  nausea  vomiting  fatigue  joint_pain  skin_rash  \\\n",
       "0         1         0       1         0        1           0          0   \n",
       "1         0         0       1         0        0           0          1   \n",
       "2         0         0       1         0        1           0          1   \n",
       "3         0         0       1         1        1           0          1   \n",
       "4         1         0       1         0        1           0          0   \n",
       "...     ...       ...     ...       ...      ...         ...        ...   \n",
       "1995      1         1       0         0        1           0          0   \n",
       "1996      1         0       0         0        1           1          1   \n",
       "1997      1         0       0         1        0           0          0   \n",
       "1998      0         0       0         0        1           1          0   \n",
       "1999      0         0       0         1        1           1          0   \n",
       "\n",
       "      cough  weight_loss  yellow_eyes  \n",
       "0         1            1            0  \n",
       "1         1            0            0  \n",
       "2         1            0            0  \n",
       "3         1            1            1  \n",
       "4         0            1            1  \n",
       "...     ...          ...          ...  \n",
       "1995      0            1            1  \n",
       "1996      0            1            1  \n",
       "1997      0            0            1  \n",
       "1998      0            0            1  \n",
       "1999      0            0            1  \n",
       "\n",
       "[2000 rows x 10 columns]"
      ]
     },
     "execution_count": 9,
     "metadata": {},
     "output_type": "execute_result"
    }
   ],
   "source": [
    "# How iloc works\n",
    "\n",
    "x = df.iloc[:,:-1]\n",
    "x"
   ]
  },
  {
   "cell_type": "code",
   "execution_count": 10,
   "id": "a7868875",
   "metadata": {},
   "outputs": [
    {
     "data": {
      "application/vnd.microsoft.datawrangler.viewer.v0+json": {
       "columns": [
        {
         "name": "index",
         "rawType": "int64",
         "type": "integer"
        },
        {
         "name": "disease",
         "rawType": "object",
         "type": "string"
        }
       ],
       "ref": "5be85291-0306-436e-85da-19544f84ae31",
       "rows": [
        [
         "0",
         "Paralysis (brain hemorrhage)"
        ],
        [
         "1",
         "Paralysis (brain hemorrhage)"
        ],
        [
         "2",
         "Paralysis (brain hemorrhage)"
        ],
        [
         "3",
         "Paralysis (brain hemorrhage)"
        ],
        [
         "4",
         "Paralysis (brain hemorrhage)"
        ],
        [
         "5",
         "Paralysis (brain hemorrhage)"
        ],
        [
         "6",
         "Paralysis (brain hemorrhage)"
        ],
        [
         "7",
         "Paralysis (brain hemorrhage)"
        ],
        [
         "8",
         "Paralysis (brain hemorrhage)"
        ],
        [
         "9",
         "Paralysis (brain hemorrhage)"
        ],
        [
         "10",
         "Paralysis (brain hemorrhage)"
        ],
        [
         "11",
         "Paralysis (brain hemorrhage)"
        ],
        [
         "12",
         "Paralysis (brain hemorrhage)"
        ],
        [
         "13",
         "Paralysis (brain hemorrhage)"
        ],
        [
         "14",
         "Paralysis (brain hemorrhage)"
        ],
        [
         "15",
         "Paralysis (brain hemorrhage)"
        ],
        [
         "16",
         "Paralysis (brain hemorrhage)"
        ],
        [
         "17",
         "Paralysis (brain hemorrhage)"
        ],
        [
         "18",
         "Paralysis (brain hemorrhage)"
        ],
        [
         "19",
         "Paralysis (brain hemorrhage)"
        ],
        [
         "20",
         "Paralysis (brain hemorrhage)"
        ],
        [
         "21",
         "Paralysis (brain hemorrhage)"
        ],
        [
         "22",
         "Paralysis (brain hemorrhage)"
        ],
        [
         "23",
         "Paralysis (brain hemorrhage)"
        ],
        [
         "24",
         "Paralysis (brain hemorrhage)"
        ],
        [
         "25",
         "Paralysis (brain hemorrhage)"
        ],
        [
         "26",
         "Paralysis (brain hemorrhage)"
        ],
        [
         "27",
         "Paralysis (brain hemorrhage)"
        ],
        [
         "28",
         "Paralysis (brain hemorrhage)"
        ],
        [
         "29",
         "Paralysis (brain hemorrhage)"
        ],
        [
         "30",
         "Paralysis (brain hemorrhage)"
        ],
        [
         "31",
         "Paralysis (brain hemorrhage)"
        ],
        [
         "32",
         "Paralysis (brain hemorrhage)"
        ],
        [
         "33",
         "Paralysis (brain hemorrhage)"
        ],
        [
         "34",
         "Paralysis (brain hemorrhage)"
        ],
        [
         "35",
         "Paralysis (brain hemorrhage)"
        ],
        [
         "36",
         "Paralysis (brain hemorrhage)"
        ],
        [
         "37",
         "Paralysis (brain hemorrhage)"
        ],
        [
         "38",
         "Paralysis (brain hemorrhage)"
        ],
        [
         "39",
         "Paralysis (brain hemorrhage)"
        ],
        [
         "40",
         "Paralysis (brain hemorrhage)"
        ],
        [
         "41",
         "Paralysis (brain hemorrhage)"
        ],
        [
         "42",
         "Paralysis (brain hemorrhage)"
        ],
        [
         "43",
         "Paralysis (brain hemorrhage)"
        ],
        [
         "44",
         "Paralysis (brain hemorrhage)"
        ],
        [
         "45",
         "Paralysis (brain hemorrhage)"
        ],
        [
         "46",
         "Paralysis (brain hemorrhage)"
        ],
        [
         "47",
         "Paralysis (brain hemorrhage)"
        ],
        [
         "48",
         "Paralysis (brain hemorrhage)"
        ],
        [
         "49",
         "Paralysis (brain hemorrhage)"
        ]
       ],
       "shape": {
        "columns": 1,
        "rows": 2000
       }
      },
      "text/plain": [
       "0       Paralysis (brain hemorrhage)\n",
       "1       Paralysis (brain hemorrhage)\n",
       "2       Paralysis (brain hemorrhage)\n",
       "3       Paralysis (brain hemorrhage)\n",
       "4       Paralysis (brain hemorrhage)\n",
       "                    ...             \n",
       "1995             Alcoholic hepatitis\n",
       "1996             Alcoholic hepatitis\n",
       "1997             Alcoholic hepatitis\n",
       "1998             Alcoholic hepatitis\n",
       "1999             Alcoholic hepatitis\n",
       "Name: disease, Length: 2000, dtype: object"
      ]
     },
     "execution_count": 10,
     "metadata": {},
     "output_type": "execute_result"
    }
   ],
   "source": [
    "y = df.iloc[:,-1]\n",
    "y"
   ]
  },
  {
   "cell_type": "code",
   "execution_count": 14,
   "id": "4f95cd1e",
   "metadata": {},
   "outputs": [
    {
     "data": {
      "application/vnd.microsoft.datawrangler.viewer.v0+json": {
       "columns": [
        {
         "name": "index",
         "rawType": "int64",
         "type": "integer"
        },
        {
         "name": "fever",
         "rawType": "int64",
         "type": "integer"
        },
        {
         "name": "headache",
         "rawType": "int64",
         "type": "integer"
        },
        {
         "name": "nausea",
         "rawType": "int64",
         "type": "integer"
        },
        {
         "name": "vomiting",
         "rawType": "int64",
         "type": "integer"
        },
        {
         "name": "fatigue",
         "rawType": "int64",
         "type": "integer"
        },
        {
         "name": "joint_pain",
         "rawType": "int64",
         "type": "integer"
        },
        {
         "name": "skin_rash",
         "rawType": "int64",
         "type": "integer"
        },
        {
         "name": "cough",
         "rawType": "int64",
         "type": "integer"
        },
        {
         "name": "weight_loss",
         "rawType": "int64",
         "type": "integer"
        },
        {
         "name": "yellow_eyes",
         "rawType": "int64",
         "type": "integer"
        },
        {
         "name": "disease",
         "rawType": "object",
         "type": "string"
        },
        {
         "name": "disease_lable",
         "rawType": "int64",
         "type": "integer"
        }
       ],
       "ref": "e44b8145-6cdf-4fc0-9fc5-e447912a8d33",
       "rows": [
        [
         "0",
         "1",
         "0",
         "1",
         "0",
         "1",
         "0",
         "0",
         "1",
         "1",
         "0",
         "Paralysis (brain hemorrhage)",
         "29"
        ],
        [
         "1",
         "0",
         "0",
         "1",
         "0",
         "0",
         "0",
         "1",
         "1",
         "0",
         "0",
         "Paralysis (brain hemorrhage)",
         "29"
        ],
        [
         "2",
         "0",
         "0",
         "1",
         "0",
         "1",
         "0",
         "1",
         "1",
         "0",
         "0",
         "Paralysis (brain hemorrhage)",
         "29"
        ],
        [
         "3",
         "0",
         "0",
         "1",
         "1",
         "1",
         "0",
         "1",
         "1",
         "1",
         "1",
         "Paralysis (brain hemorrhage)",
         "29"
        ],
        [
         "4",
         "1",
         "0",
         "1",
         "0",
         "1",
         "0",
         "0",
         "0",
         "1",
         "1",
         "Paralysis (brain hemorrhage)",
         "29"
        ]
       ],
       "shape": {
        "columns": 12,
        "rows": 5
       }
      },
      "text/html": [
       "<div>\n",
       "<style scoped>\n",
       "    .dataframe tbody tr th:only-of-type {\n",
       "        vertical-align: middle;\n",
       "    }\n",
       "\n",
       "    .dataframe tbody tr th {\n",
       "        vertical-align: top;\n",
       "    }\n",
       "\n",
       "    .dataframe thead th {\n",
       "        text-align: right;\n",
       "    }\n",
       "</style>\n",
       "<table border=\"1\" class=\"dataframe\">\n",
       "  <thead>\n",
       "    <tr style=\"text-align: right;\">\n",
       "      <th></th>\n",
       "      <th>fever</th>\n",
       "      <th>headache</th>\n",
       "      <th>nausea</th>\n",
       "      <th>vomiting</th>\n",
       "      <th>fatigue</th>\n",
       "      <th>joint_pain</th>\n",
       "      <th>skin_rash</th>\n",
       "      <th>cough</th>\n",
       "      <th>weight_loss</th>\n",
       "      <th>yellow_eyes</th>\n",
       "      <th>disease</th>\n",
       "      <th>disease_lable</th>\n",
       "    </tr>\n",
       "  </thead>\n",
       "  <tbody>\n",
       "    <tr>\n",
       "      <th>0</th>\n",
       "      <td>1</td>\n",
       "      <td>0</td>\n",
       "      <td>1</td>\n",
       "      <td>0</td>\n",
       "      <td>1</td>\n",
       "      <td>0</td>\n",
       "      <td>0</td>\n",
       "      <td>1</td>\n",
       "      <td>1</td>\n",
       "      <td>0</td>\n",
       "      <td>Paralysis (brain hemorrhage)</td>\n",
       "      <td>29</td>\n",
       "    </tr>\n",
       "    <tr>\n",
       "      <th>1</th>\n",
       "      <td>0</td>\n",
       "      <td>0</td>\n",
       "      <td>1</td>\n",
       "      <td>0</td>\n",
       "      <td>0</td>\n",
       "      <td>0</td>\n",
       "      <td>1</td>\n",
       "      <td>1</td>\n",
       "      <td>0</td>\n",
       "      <td>0</td>\n",
       "      <td>Paralysis (brain hemorrhage)</td>\n",
       "      <td>29</td>\n",
       "    </tr>\n",
       "    <tr>\n",
       "      <th>2</th>\n",
       "      <td>0</td>\n",
       "      <td>0</td>\n",
       "      <td>1</td>\n",
       "      <td>0</td>\n",
       "      <td>1</td>\n",
       "      <td>0</td>\n",
       "      <td>1</td>\n",
       "      <td>1</td>\n",
       "      <td>0</td>\n",
       "      <td>0</td>\n",
       "      <td>Paralysis (brain hemorrhage)</td>\n",
       "      <td>29</td>\n",
       "    </tr>\n",
       "    <tr>\n",
       "      <th>3</th>\n",
       "      <td>0</td>\n",
       "      <td>0</td>\n",
       "      <td>1</td>\n",
       "      <td>1</td>\n",
       "      <td>1</td>\n",
       "      <td>0</td>\n",
       "      <td>1</td>\n",
       "      <td>1</td>\n",
       "      <td>1</td>\n",
       "      <td>1</td>\n",
       "      <td>Paralysis (brain hemorrhage)</td>\n",
       "      <td>29</td>\n",
       "    </tr>\n",
       "    <tr>\n",
       "      <th>4</th>\n",
       "      <td>1</td>\n",
       "      <td>0</td>\n",
       "      <td>1</td>\n",
       "      <td>0</td>\n",
       "      <td>1</td>\n",
       "      <td>0</td>\n",
       "      <td>0</td>\n",
       "      <td>0</td>\n",
       "      <td>1</td>\n",
       "      <td>1</td>\n",
       "      <td>Paralysis (brain hemorrhage)</td>\n",
       "      <td>29</td>\n",
       "    </tr>\n",
       "  </tbody>\n",
       "</table>\n",
       "</div>"
      ],
      "text/plain": [
       "   fever  headache  nausea  vomiting  fatigue  joint_pain  skin_rash  cough  \\\n",
       "0      1         0       1         0        1           0          0      1   \n",
       "1      0         0       1         0        0           0          1      1   \n",
       "2      0         0       1         0        1           0          1      1   \n",
       "3      0         0       1         1        1           0          1      1   \n",
       "4      1         0       1         0        1           0          0      0   \n",
       "\n",
       "   weight_loss  yellow_eyes                       disease  disease_lable  \n",
       "0            1            0  Paralysis (brain hemorrhage)             29  \n",
       "1            0            0  Paralysis (brain hemorrhage)             29  \n",
       "2            0            0  Paralysis (brain hemorrhage)             29  \n",
       "3            1            1  Paralysis (brain hemorrhage)             29  \n",
       "4            1            1  Paralysis (brain hemorrhage)             29  "
      ]
     },
     "execution_count": 14,
     "metadata": {},
     "output_type": "execute_result"
    }
   ],
   "source": [
    "#let add a new column \n",
    "\n",
    "lable = LabelEncoder()\n",
    "df['disease_lable'] = lable.fit_transform(df['disease'])\n",
    "df.head()"
   ]
  },
  {
   "cell_type": "code",
   "execution_count": 16,
   "id": "7146ea85",
   "metadata": {},
   "outputs": [
    {
     "data": {
      "application/vnd.microsoft.datawrangler.viewer.v0+json": {
       "columns": [
        {
         "name": "index",
         "rawType": "object",
         "type": "string"
        },
        {
         "name": "fever",
         "rawType": "float64",
         "type": "float"
        },
        {
         "name": "headache",
         "rawType": "float64",
         "type": "float"
        },
        {
         "name": "nausea",
         "rawType": "float64",
         "type": "float"
        },
        {
         "name": "vomiting",
         "rawType": "float64",
         "type": "float"
        },
        {
         "name": "fatigue",
         "rawType": "float64",
         "type": "float"
        },
        {
         "name": "joint_pain",
         "rawType": "float64",
         "type": "float"
        },
        {
         "name": "skin_rash",
         "rawType": "float64",
         "type": "float"
        },
        {
         "name": "cough",
         "rawType": "float64",
         "type": "float"
        },
        {
         "name": "weight_loss",
         "rawType": "float64",
         "type": "float"
        },
        {
         "name": "yellow_eyes",
         "rawType": "float64",
         "type": "float"
        },
        {
         "name": "disease_lable",
         "rawType": "float64",
         "type": "float"
        }
       ],
       "ref": "ddc9c213-f577-46e1-aaeb-c0ce972f4fa7",
       "rows": [
        [
         "fever",
         "1.0",
         "-0.025800136278307247",
         "-0.007237392742381345",
         "-0.019315360442062956",
         "-0.09015884686067895",
         "0.005291339974487463",
         "-0.04126488641941623",
         "-0.09017739387451289",
         "0.016815511392587554",
         "-0.014011762477151038",
         "-0.0013617156363307367"
        ],
        [
         "headache",
         "-0.025800136278307247",
         "1.0",
         "-0.03693563921849387",
         "-0.035541513757463",
         "-0.04407832112759403",
         "0.060999602563907726",
         "0.01321424768801895",
         "-0.000878653991804044",
         "-0.07881537918448331",
         "-0.052825124802155905",
         "0.033451605182644"
        ],
        [
         "nausea",
         "-0.007237392742381345",
         "-0.03693563921849387",
         "1.0",
         "-0.03134465110521167",
         "0.056335885006883704",
         "-0.09537006354586613",
         "-0.04859412250602639",
         "0.030835778147708614",
         "-0.008676726310151756",
         "-0.00806866955543238",
         "-0.11013057081161888"
        ],
        [
         "vomiting",
         "-0.019315360442062956",
         "-0.035541513757463",
         "-0.03134465110521167",
         "1.0",
         "0.12786780235174594",
         "-0.03205261202792815",
         "-0.10510589334204104",
         "-0.009792593651865205",
         "0.020684119863383806",
         "-0.038951579235784115",
         "-0.02710056906838639"
        ],
        [
         "fatigue",
         "-0.09015884686067895",
         "-0.04407832112759403",
         "0.056335885006883704",
         "0.12786780235174594",
         "1.0",
         "-0.13212630665532285",
         "-0.05307277548464995",
         "0.05911445659112673",
         "-0.06949316901367456",
         "-0.10274112486097291",
         "0.09885550211544633"
        ],
        [
         "joint_pain",
         "0.005291339974487463",
         "0.060999602563907726",
         "-0.09537006354586613",
         "-0.03205261202792815",
         "-0.13212630665532285",
         "1.0",
         "-0.0303030354161025",
         "-0.09717417066728337",
         "-0.04409888096385211",
         "-0.037476609164825536",
         "-0.08188413483340624"
        ],
        [
         "skin_rash",
         "-0.04126488641941623",
         "0.01321424768801895",
         "-0.04859412250602639",
         "-0.10510589334204104",
         "-0.05307277548464995",
         "-0.0303030354161025",
         "1.0",
         "-0.05075314322632609",
         "-0.018434620601700907",
         "-0.03410774937100306",
         "0.05661822637205229"
        ],
        [
         "cough",
         "-0.09017739387451289",
         "-0.000878653991804044",
         "0.030835778147708614",
         "-0.009792593651865205",
         "0.05911445659112673",
         "-0.09717417066728337",
         "-0.05075314322632609",
         "1.0",
         "-0.006383350899672147",
         "-0.05135789774136601",
         "-0.006499081622009811"
        ],
        [
         "weight_loss",
         "0.016815511392587554",
         "-0.07881537918448331",
         "-0.008676726310151756",
         "0.020684119863383806",
         "-0.06949316901367456",
         "-0.04409888096385211",
         "-0.018434620601700907",
         "-0.006383350899672147",
         "1.0",
         "0.019198221799974175",
         "-0.021763716181724024"
        ],
        [
         "yellow_eyes",
         "-0.014011762477151038",
         "-0.052825124802155905",
         "-0.00806866955543238",
         "-0.038951579235784115",
         "-0.10274112486097291",
         "-0.037476609164825536",
         "-0.03410774937100306",
         "-0.05135789774136601",
         "0.019198221799974175",
         "1.0",
         "-0.12432537500054378"
        ],
        [
         "disease_lable",
         "-0.0013617156363307367",
         "0.033451605182644",
         "-0.11013057081161888",
         "-0.02710056906838639",
         "0.09885550211544633",
         "-0.08188413483340624",
         "0.05661822637205229",
         "-0.006499081622009811",
         "-0.021763716181724024",
         "-0.12432537500054378",
         "1.0"
        ]
       ],
       "shape": {
        "columns": 11,
        "rows": 11
       }
      },
      "text/html": [
       "<div>\n",
       "<style scoped>\n",
       "    .dataframe tbody tr th:only-of-type {\n",
       "        vertical-align: middle;\n",
       "    }\n",
       "\n",
       "    .dataframe tbody tr th {\n",
       "        vertical-align: top;\n",
       "    }\n",
       "\n",
       "    .dataframe thead th {\n",
       "        text-align: right;\n",
       "    }\n",
       "</style>\n",
       "<table border=\"1\" class=\"dataframe\">\n",
       "  <thead>\n",
       "    <tr style=\"text-align: right;\">\n",
       "      <th></th>\n",
       "      <th>fever</th>\n",
       "      <th>headache</th>\n",
       "      <th>nausea</th>\n",
       "      <th>vomiting</th>\n",
       "      <th>fatigue</th>\n",
       "      <th>joint_pain</th>\n",
       "      <th>skin_rash</th>\n",
       "      <th>cough</th>\n",
       "      <th>weight_loss</th>\n",
       "      <th>yellow_eyes</th>\n",
       "      <th>disease_lable</th>\n",
       "    </tr>\n",
       "  </thead>\n",
       "  <tbody>\n",
       "    <tr>\n",
       "      <th>fever</th>\n",
       "      <td>1.000000</td>\n",
       "      <td>-0.025800</td>\n",
       "      <td>-0.007237</td>\n",
       "      <td>-0.019315</td>\n",
       "      <td>-0.090159</td>\n",
       "      <td>0.005291</td>\n",
       "      <td>-0.041265</td>\n",
       "      <td>-0.090177</td>\n",
       "      <td>0.016816</td>\n",
       "      <td>-0.014012</td>\n",
       "      <td>-0.001362</td>\n",
       "    </tr>\n",
       "    <tr>\n",
       "      <th>headache</th>\n",
       "      <td>-0.025800</td>\n",
       "      <td>1.000000</td>\n",
       "      <td>-0.036936</td>\n",
       "      <td>-0.035542</td>\n",
       "      <td>-0.044078</td>\n",
       "      <td>0.061000</td>\n",
       "      <td>0.013214</td>\n",
       "      <td>-0.000879</td>\n",
       "      <td>-0.078815</td>\n",
       "      <td>-0.052825</td>\n",
       "      <td>0.033452</td>\n",
       "    </tr>\n",
       "    <tr>\n",
       "      <th>nausea</th>\n",
       "      <td>-0.007237</td>\n",
       "      <td>-0.036936</td>\n",
       "      <td>1.000000</td>\n",
       "      <td>-0.031345</td>\n",
       "      <td>0.056336</td>\n",
       "      <td>-0.095370</td>\n",
       "      <td>-0.048594</td>\n",
       "      <td>0.030836</td>\n",
       "      <td>-0.008677</td>\n",
       "      <td>-0.008069</td>\n",
       "      <td>-0.110131</td>\n",
       "    </tr>\n",
       "    <tr>\n",
       "      <th>vomiting</th>\n",
       "      <td>-0.019315</td>\n",
       "      <td>-0.035542</td>\n",
       "      <td>-0.031345</td>\n",
       "      <td>1.000000</td>\n",
       "      <td>0.127868</td>\n",
       "      <td>-0.032053</td>\n",
       "      <td>-0.105106</td>\n",
       "      <td>-0.009793</td>\n",
       "      <td>0.020684</td>\n",
       "      <td>-0.038952</td>\n",
       "      <td>-0.027101</td>\n",
       "    </tr>\n",
       "    <tr>\n",
       "      <th>fatigue</th>\n",
       "      <td>-0.090159</td>\n",
       "      <td>-0.044078</td>\n",
       "      <td>0.056336</td>\n",
       "      <td>0.127868</td>\n",
       "      <td>1.000000</td>\n",
       "      <td>-0.132126</td>\n",
       "      <td>-0.053073</td>\n",
       "      <td>0.059114</td>\n",
       "      <td>-0.069493</td>\n",
       "      <td>-0.102741</td>\n",
       "      <td>0.098856</td>\n",
       "    </tr>\n",
       "    <tr>\n",
       "      <th>joint_pain</th>\n",
       "      <td>0.005291</td>\n",
       "      <td>0.061000</td>\n",
       "      <td>-0.095370</td>\n",
       "      <td>-0.032053</td>\n",
       "      <td>-0.132126</td>\n",
       "      <td>1.000000</td>\n",
       "      <td>-0.030303</td>\n",
       "      <td>-0.097174</td>\n",
       "      <td>-0.044099</td>\n",
       "      <td>-0.037477</td>\n",
       "      <td>-0.081884</td>\n",
       "    </tr>\n",
       "    <tr>\n",
       "      <th>skin_rash</th>\n",
       "      <td>-0.041265</td>\n",
       "      <td>0.013214</td>\n",
       "      <td>-0.048594</td>\n",
       "      <td>-0.105106</td>\n",
       "      <td>-0.053073</td>\n",
       "      <td>-0.030303</td>\n",
       "      <td>1.000000</td>\n",
       "      <td>-0.050753</td>\n",
       "      <td>-0.018435</td>\n",
       "      <td>-0.034108</td>\n",
       "      <td>0.056618</td>\n",
       "    </tr>\n",
       "    <tr>\n",
       "      <th>cough</th>\n",
       "      <td>-0.090177</td>\n",
       "      <td>-0.000879</td>\n",
       "      <td>0.030836</td>\n",
       "      <td>-0.009793</td>\n",
       "      <td>0.059114</td>\n",
       "      <td>-0.097174</td>\n",
       "      <td>-0.050753</td>\n",
       "      <td>1.000000</td>\n",
       "      <td>-0.006383</td>\n",
       "      <td>-0.051358</td>\n",
       "      <td>-0.006499</td>\n",
       "    </tr>\n",
       "    <tr>\n",
       "      <th>weight_loss</th>\n",
       "      <td>0.016816</td>\n",
       "      <td>-0.078815</td>\n",
       "      <td>-0.008677</td>\n",
       "      <td>0.020684</td>\n",
       "      <td>-0.069493</td>\n",
       "      <td>-0.044099</td>\n",
       "      <td>-0.018435</td>\n",
       "      <td>-0.006383</td>\n",
       "      <td>1.000000</td>\n",
       "      <td>0.019198</td>\n",
       "      <td>-0.021764</td>\n",
       "    </tr>\n",
       "    <tr>\n",
       "      <th>yellow_eyes</th>\n",
       "      <td>-0.014012</td>\n",
       "      <td>-0.052825</td>\n",
       "      <td>-0.008069</td>\n",
       "      <td>-0.038952</td>\n",
       "      <td>-0.102741</td>\n",
       "      <td>-0.037477</td>\n",
       "      <td>-0.034108</td>\n",
       "      <td>-0.051358</td>\n",
       "      <td>0.019198</td>\n",
       "      <td>1.000000</td>\n",
       "      <td>-0.124325</td>\n",
       "    </tr>\n",
       "    <tr>\n",
       "      <th>disease_lable</th>\n",
       "      <td>-0.001362</td>\n",
       "      <td>0.033452</td>\n",
       "      <td>-0.110131</td>\n",
       "      <td>-0.027101</td>\n",
       "      <td>0.098856</td>\n",
       "      <td>-0.081884</td>\n",
       "      <td>0.056618</td>\n",
       "      <td>-0.006499</td>\n",
       "      <td>-0.021764</td>\n",
       "      <td>-0.124325</td>\n",
       "      <td>1.000000</td>\n",
       "    </tr>\n",
       "  </tbody>\n",
       "</table>\n",
       "</div>"
      ],
      "text/plain": [
       "                  fever  headache    nausea  vomiting   fatigue  joint_pain  \\\n",
       "fever          1.000000 -0.025800 -0.007237 -0.019315 -0.090159    0.005291   \n",
       "headache      -0.025800  1.000000 -0.036936 -0.035542 -0.044078    0.061000   \n",
       "nausea        -0.007237 -0.036936  1.000000 -0.031345  0.056336   -0.095370   \n",
       "vomiting      -0.019315 -0.035542 -0.031345  1.000000  0.127868   -0.032053   \n",
       "fatigue       -0.090159 -0.044078  0.056336  0.127868  1.000000   -0.132126   \n",
       "joint_pain     0.005291  0.061000 -0.095370 -0.032053 -0.132126    1.000000   \n",
       "skin_rash     -0.041265  0.013214 -0.048594 -0.105106 -0.053073   -0.030303   \n",
       "cough         -0.090177 -0.000879  0.030836 -0.009793  0.059114   -0.097174   \n",
       "weight_loss    0.016816 -0.078815 -0.008677  0.020684 -0.069493   -0.044099   \n",
       "yellow_eyes   -0.014012 -0.052825 -0.008069 -0.038952 -0.102741   -0.037477   \n",
       "disease_lable -0.001362  0.033452 -0.110131 -0.027101  0.098856   -0.081884   \n",
       "\n",
       "               skin_rash     cough  weight_loss  yellow_eyes  disease_lable  \n",
       "fever          -0.041265 -0.090177     0.016816    -0.014012      -0.001362  \n",
       "headache        0.013214 -0.000879    -0.078815    -0.052825       0.033452  \n",
       "nausea         -0.048594  0.030836    -0.008677    -0.008069      -0.110131  \n",
       "vomiting       -0.105106 -0.009793     0.020684    -0.038952      -0.027101  \n",
       "fatigue        -0.053073  0.059114    -0.069493    -0.102741       0.098856  \n",
       "joint_pain     -0.030303 -0.097174    -0.044099    -0.037477      -0.081884  \n",
       "skin_rash       1.000000 -0.050753    -0.018435    -0.034108       0.056618  \n",
       "cough          -0.050753  1.000000    -0.006383    -0.051358      -0.006499  \n",
       "weight_loss    -0.018435 -0.006383     1.000000     0.019198      -0.021764  \n",
       "yellow_eyes    -0.034108 -0.051358     0.019198     1.000000      -0.124325  \n",
       "disease_lable   0.056618 -0.006499    -0.021764    -0.124325       1.000000  "
      ]
     },
     "execution_count": 16,
     "metadata": {},
     "output_type": "execute_result"
    }
   ],
   "source": [
    "# Let see the correllation\n",
    "df_new = df.drop('disease',axis=1)\n",
    "df_new.corr()"
   ]
  },
  {
   "cell_type": "code",
   "execution_count": 19,
   "id": "354edb89",
   "metadata": {},
   "outputs": [
    {
     "data": {
      "text/plain": [
       "<Axes: >"
      ]
     },
     "execution_count": 19,
     "metadata": {},
     "output_type": "execute_result"
    },
    {
     "data": {
      "image/png": "[encoded data removed]",
      "text/plain": [
       "<Figure size 1000x1000 with 2 Axes>"
      ]
     },
     "metadata": {},
     "output_type": "display_data"
    }
   ],
   "source": [
    "plt.figure(figsize=(10,10))\n",
    "sns.heatmap(df_new.corr(),annot=True)"
   ]
  },
  {
   "cell_type": "code",
   "execution_count": 26,
   "id": "1c527246",
   "metadata": {},
   "outputs": [
    {
     "data": {
      "application/vnd.microsoft.datawrangler.viewer.v0+json": {
       "columns": [
        {
         "name": "index",
         "rawType": "int64",
         "type": "integer"
        },
        {
         "name": "fever",
         "rawType": "int64",
         "type": "integer"
        },
        {
         "name": "headache",
         "rawType": "int64",
         "type": "integer"
        },
        {
         "name": "nausea",
         "rawType": "int64",
         "type": "integer"
        },
        {
         "name": "vomiting",
         "rawType": "int64",
         "type": "integer"
        },
        {
         "name": "fatigue",
         "rawType": "int64",
         "type": "integer"
        },
        {
         "name": "joint_pain",
         "rawType": "int64",
         "type": "integer"
        },
        {
         "name": "skin_rash",
         "rawType": "int64",
         "type": "integer"
        },
        {
         "name": "cough",
         "rawType": "int64",
         "type": "integer"
        },
        {
         "name": "weight_loss",
         "rawType": "int64",
         "type": "integer"
        },
        {
         "name": "yellow_eyes",
         "rawType": "int64",
         "type": "integer"
        }
       ],
       "ref": "afb1fc82-482c-4a14-b977-7bf4e682a27d",
       "rows": [
        [
         "0",
         "1",
         "0",
         "1",
         "0",
         "1",
         "0",
         "0",
         "1",
         "1",
         "0"
        ],
        [
         "1",
         "0",
         "0",
         "1",
         "0",
         "0",
         "0",
         "1",
         "1",
         "0",
         "0"
        ],
        [
         "2",
         "0",
         "0",
         "1",
         "0",
         "1",
         "0",
         "1",
         "1",
         "0",
         "0"
        ],
        [
         "3",
         "0",
         "0",
         "1",
         "1",
         "1",
         "0",
         "1",
         "1",
         "1",
         "1"
        ],
        [
         "4",
         "1",
         "0",
         "1",
         "0",
         "1",
         "0",
         "0",
         "0",
         "1",
         "1"
        ]
       ],
       "shape": {
        "columns": 10,
        "rows": 5
       }
      },
      "text/html": [
       "<div>\n",
       "<style scoped>\n",
       "    .dataframe tbody tr th:only-of-type {\n",
       "        vertical-align: middle;\n",
       "    }\n",
       "\n",
       "    .dataframe tbody tr th {\n",
       "        vertical-align: top;\n",
       "    }\n",
       "\n",
       "    .dataframe thead th {\n",
       "        text-align: right;\n",
       "    }\n",
       "</style>\n",
       "<table border=\"1\" class=\"dataframe\">\n",
       "  <thead>\n",
       "    <tr style=\"text-align: right;\">\n",
       "      <th></th>\n",
       "      <th>fever</th>\n",
       "      <th>headache</th>\n",
       "      <th>nausea</th>\n",
       "      <th>vomiting</th>\n",
       "      <th>fatigue</th>\n",
       "      <th>joint_pain</th>\n",
       "      <th>skin_rash</th>\n",
       "      <th>cough</th>\n",
       "      <th>weight_loss</th>\n",
       "      <th>yellow_eyes</th>\n",
       "    </tr>\n",
       "  </thead>\n",
       "  <tbody>\n",
       "    <tr>\n",
       "      <th>0</th>\n",
       "      <td>1</td>\n",
       "      <td>0</td>\n",
       "      <td>1</td>\n",
       "      <td>0</td>\n",
       "      <td>1</td>\n",
       "      <td>0</td>\n",
       "      <td>0</td>\n",
       "      <td>1</td>\n",
       "      <td>1</td>\n",
       "      <td>0</td>\n",
       "    </tr>\n",
       "    <tr>\n",
       "      <th>1</th>\n",
       "      <td>0</td>\n",
       "      <td>0</td>\n",
       "      <td>1</td>\n",
       "      <td>0</td>\n",
       "      <td>0</td>\n",
       "      <td>0</td>\n",
       "      <td>1</td>\n",
       "      <td>1</td>\n",
       "      <td>0</td>\n",
       "      <td>0</td>\n",
       "    </tr>\n",
       "    <tr>\n",
       "      <th>2</th>\n",
       "      <td>0</td>\n",
       "      <td>0</td>\n",
       "      <td>1</td>\n",
       "      <td>0</td>\n",
       "      <td>1</td>\n",
       "      <td>0</td>\n",
       "      <td>1</td>\n",
       "      <td>1</td>\n",
       "      <td>0</td>\n",
       "      <td>0</td>\n",
       "    </tr>\n",
       "    <tr>\n",
       "      <th>3</th>\n",
       "      <td>0</td>\n",
       "      <td>0</td>\n",
       "      <td>1</td>\n",
       "      <td>1</td>\n",
       "      <td>1</td>\n",
       "      <td>0</td>\n",
       "      <td>1</td>\n",
       "      <td>1</td>\n",
       "      <td>1</td>\n",
       "      <td>1</td>\n",
       "    </tr>\n",
       "    <tr>\n",
       "      <th>4</th>\n",
       "      <td>1</td>\n",
       "      <td>0</td>\n",
       "      <td>1</td>\n",
       "      <td>0</td>\n",
       "      <td>1</td>\n",
       "      <td>0</td>\n",
       "      <td>0</td>\n",
       "      <td>0</td>\n",
       "      <td>1</td>\n",
       "      <td>1</td>\n",
       "    </tr>\n",
       "  </tbody>\n",
       "</table>\n",
       "</div>"
      ],
      "text/plain": [
       "   fever  headache  nausea  vomiting  fatigue  joint_pain  skin_rash  cough  \\\n",
       "0      1         0       1         0        1           0          0      1   \n",
       "1      0         0       1         0        0           0          1      1   \n",
       "2      0         0       1         0        1           0          1      1   \n",
       "3      0         0       1         1        1           0          1      1   \n",
       "4      1         0       1         0        1           0          0      0   \n",
       "\n",
       "   weight_loss  yellow_eyes  \n",
       "0            1            0  \n",
       "1            0            0  \n",
       "2            0            0  \n",
       "3            1            1  \n",
       "4            1            1  "
      ]
     },
     "execution_count": 26,
     "metadata": {},
     "output_type": "execute_result"
    }
   ],
   "source": [
    "x = df.iloc[:,:-2]\n",
    "x.head()"
   ]
  },
  {
   "cell_type": "code",
   "execution_count": 28,
   "id": "18521169",
   "metadata": {},
   "outputs": [
    {
     "data": {
      "application/vnd.microsoft.datawrangler.viewer.v0+json": {
       "columns": [
        {
         "name": "index",
         "rawType": "int64",
         "type": "integer"
        },
        {
         "name": "disease_lable",
         "rawType": "int64",
         "type": "integer"
        }
       ],
       "ref": "c87cb033-959b-438a-b834-fee5f4fb3f9f",
       "rows": [
        [
         "0",
         "29"
        ],
        [
         "1",
         "29"
        ],
        [
         "2",
         "29"
        ],
        [
         "3",
         "29"
        ],
        [
         "4",
         "29"
        ]
       ],
       "shape": {
        "columns": 1,
        "rows": 5
       }
      },
      "text/plain": [
       "0    29\n",
       "1    29\n",
       "2    29\n",
       "3    29\n",
       "4    29\n",
       "Name: disease_lable, dtype: int64"
      ]
     },
     "execution_count": 28,
     "metadata": {},
     "output_type": "execute_result"
    }
   ],
   "source": [
    "y = df.iloc[:,-1]\n",
    "y.head()"
   ]
  },
  {
   "cell_type": "code",
   "execution_count": 31,
   "id": "a13934be",
   "metadata": {},
   "outputs": [
    {
     "data": {
      "text/plain": [
       "<Axes: xlabel='disease_lable', ylabel='count'>"
      ]
     },
     "execution_count": 31,
     "metadata": {},
     "output_type": "execute_result"
    },
    {
     "data": {
      "image/png": "[encoded data removed]",
      "text/plain": [
       "<Figure size 1000x600 with 1 Axes>"
      ]
     },
     "metadata": {},
     "output_type": "display_data"
    }
   ],
   "source": [
    "plt.figure(figsize=(10,6))\n",
    "sns.countplot(x=y)"
   ]
  },
  {
   "cell_type": "markdown",
   "id": "67858f11",
   "metadata": {},
   "source": [
    "Let use randome over sampleing to balanced the data"
   ]
  },
  {
   "cell_type": "code",
   "execution_count": null,
   "id": "4246fb10",
   "metadata": {},
   "outputs": [],
   "source": []
  }
 ],
 "metadata": {
  "kernelspec": {
   "display_name": "venv",
   "language": "python",
   "name": "python3"
  },
  "language_info": {
   "codemirror_mode": {
    "name": "ipython",
    "version": 3
   },
   "file_extension": ".py",
   "mimetype": "text/x-python",
   "name": "python",
   "nbconvert_exporter": "python",
   "pygments_lexer": "ipython3",
   "version": "3.13.5"
  }
 },
 "nbformat": 4,
 "nbformat_minor": 5
}
