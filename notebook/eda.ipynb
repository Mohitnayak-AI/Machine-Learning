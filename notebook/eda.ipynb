{
 "cells": [
  {
   "cell_type": "markdown",
   "id": "dc68c639",
   "metadata": {},
   "source": [
    "Import Lib"
   ]
  },
  {
   "cell_type": "code",
   "execution_count": 1,
   "id": "8009c777",
   "metadata": {},
   "outputs": [],
   "source": [
    "import pandas as pd\n",
    "import numpy as np\n",
    "import matplotlib.pyplot as plt\n",
    "import seaborn as sns\n",
    "\n",
    "# from sklearn.model_selection import train_test_split\n",
    "# from sklearn.preprocessing import MinMaxScaler\n",
    "# from sklearn import metrics\n",
    "# from sklearn.svm import SVC\n",
    "# from sklearn.linear_model import LogisticRegression\n",
    "# from xgboost import XGBClassifier \n",
    "\n",
    "import warnings\n",
    "warnings.filterwarnings('ignore')"
   ]
  },
  {
   "cell_type": "markdown",
   "id": "dea95a5c",
   "metadata": {},
   "source": [
    "Load the data"
   ]
  },
  {
   "cell_type": "code",
   "execution_count": 4,
   "id": "5c033463",
   "metadata": {},
   "outputs": [
    {
     "data": {
      "application/vnd.microsoft.datawrangler.viewer.v0+json": {
       "columns": [
        {
         "name": "index",
         "rawType": "int64",
         "type": "integer"
        },
        {
         "name": "type",
         "rawType": "object",
         "type": "string"
        },
        {
         "name": "fixed acidity",
         "rawType": "float64",
         "type": "float"
        },
        {
         "name": "volatile acidity",
         "rawType": "float64",
         "type": "float"
        },
        {
         "name": "citric acid",
         "rawType": "float64",
         "type": "float"
        },
        {
         "name": "residual sugar",
         "rawType": "float64",
         "type": "float"
        },
        {
         "name": "chlorides",
         "rawType": "float64",
         "type": "float"
        },
        {
         "name": "free sulfur dioxide",
         "rawType": "float64",
         "type": "float"
        },
        {
         "name": "total sulfur dioxide",
         "rawType": "float64",
         "type": "float"
        },
        {
         "name": "density",
         "rawType": "float64",
         "type": "float"
        },
        {
         "name": "pH",
         "rawType": "float64",
         "type": "float"
        },
        {
         "name": "sulphates",
         "rawType": "float64",
         "type": "float"
        },
        {
         "name": "alcohol",
         "rawType": "float64",
         "type": "float"
        },
        {
         "name": "quality",
         "rawType": "int64",
         "type": "integer"
        }
       ],
       "ref": "0f5e844b-62c1-4cf3-8ef3-a978b9923af6",
       "rows": [
        [
         "0",
         "white",
         "7.0",
         "0.27",
         "0.36",
         "20.7",
         "0.045",
         "45.0",
         "170.0",
         "1.001",
         "3.0",
         "0.45",
         "8.8",
         "6"
        ],
        [
         "1",
         "white",
         "6.3",
         "0.3",
         "0.34",
         "1.6",
         "0.049",
         "14.0",
         "132.0",
         "0.994",
         "3.3",
         "0.49",
         "9.5",
         "6"
        ],
        [
         "2",
         "white",
         "8.1",
         "0.28",
         "0.4",
         "6.9",
         "0.05",
         "30.0",
         "97.0",
         "0.9951",
         "3.26",
         "0.44",
         "10.1",
         "6"
        ],
        [
         "3",
         "white",
         "7.2",
         "0.23",
         "0.32",
         "8.5",
         "0.058",
         "47.0",
         "186.0",
         "0.9956",
         "3.19",
         "0.4",
         "9.9",
         "6"
        ],
        [
         "4",
         "white",
         "7.2",
         "0.23",
         "0.32",
         "8.5",
         "0.058",
         "47.0",
         "186.0",
         "0.9956",
         "3.19",
         "0.4",
         "9.9",
         "6"
        ],
        [
         "5",
         "white",
         "8.1",
         "0.28",
         "0.4",
         "6.9",
         "0.05",
         "30.0",
         "97.0",
         "0.9951",
         "3.26",
         "0.44",
         "10.1",
         "6"
        ],
        [
         "6",
         "white",
         "6.2",
         "0.32",
         "0.16",
         "7.0",
         "0.045",
         "30.0",
         "136.0",
         "0.9949",
         "3.18",
         "0.47",
         "9.6",
         "6"
        ],
        [
         "7",
         "white",
         "7.0",
         "0.27",
         "0.36",
         "20.7",
         "0.045",
         "45.0",
         "170.0",
         "1.001",
         "3.0",
         "0.45",
         "8.8",
         "6"
        ],
        [
         "8",
         "white",
         "6.3",
         "0.3",
         "0.34",
         "1.6",
         "0.049",
         "14.0",
         "132.0",
         "0.994",
         "3.3",
         "0.49",
         "9.5",
         "6"
        ],
        [
         "9",
         "white",
         "8.1",
         "0.22",
         "0.43",
         "1.5",
         "0.044",
         "28.0",
         "129.0",
         "0.9938",
         "3.22",
         "0.45",
         "11.0",
         "6"
        ],
        [
         "10",
         "white",
         "8.1",
         "0.27",
         "0.41",
         "1.45",
         "0.033",
         "11.0",
         "63.0",
         "0.9908",
         "2.99",
         "0.56",
         "12.0",
         "5"
        ],
        [
         "11",
         "white",
         "8.6",
         "0.23",
         "0.4",
         "4.2",
         "0.035",
         "17.0",
         "109.0",
         "0.9947",
         "3.14",
         "0.53",
         "9.7",
         "5"
        ],
        [
         "12",
         "white",
         "7.9",
         "0.18",
         "0.37",
         "1.2",
         "0.04",
         "16.0",
         "75.0",
         "0.992",
         "3.18",
         "0.63",
         "10.8",
         "5"
        ],
        [
         "13",
         "white",
         "6.6",
         "0.16",
         "0.4",
         "1.5",
         "0.044",
         "48.0",
         "143.0",
         "0.9912",
         "3.54",
         "0.52",
         "12.4",
         "7"
        ],
        [
         "14",
         "white",
         "8.3",
         "0.42",
         "0.62",
         "19.25",
         "0.04",
         "41.0",
         "172.0",
         "1.0002",
         "2.98",
         "0.67",
         "9.7",
         "5"
        ],
        [
         "15",
         "white",
         "6.6",
         "0.17",
         "0.38",
         "1.5",
         "0.032",
         "28.0",
         "112.0",
         "0.9914",
         "3.25",
         "0.55",
         "11.4",
         "7"
        ],
        [
         "16",
         "white",
         "6.3",
         "0.48",
         "0.04",
         "1.1",
         "0.046",
         "30.0",
         "99.0",
         "0.9928",
         "3.24",
         "0.36",
         "9.6",
         "6"
        ],
        [
         "17",
         "white",
         null,
         "0.66",
         "0.48",
         "1.2",
         "0.029",
         "29.0",
         "75.0",
         "0.9892",
         "3.33",
         "0.39",
         "12.8",
         "8"
        ],
        [
         "18",
         "white",
         "7.4",
         "0.34",
         "0.42",
         "1.1",
         "0.033",
         "17.0",
         "171.0",
         "0.9917",
         "3.12",
         "0.53",
         "11.3",
         "6"
        ],
        [
         "19",
         "white",
         "6.5",
         "0.31",
         "0.14",
         "7.5",
         "0.044",
         "34.0",
         "133.0",
         "0.9955",
         "3.22",
         "0.5",
         "9.5",
         "5"
        ],
        [
         "20",
         "white",
         "6.2",
         "0.66",
         "0.48",
         "1.2",
         "0.029",
         "29.0",
         "75.0",
         "0.9892",
         "3.33",
         "0.39",
         "12.8",
         "8"
        ],
        [
         "21",
         "white",
         "6.4",
         "0.31",
         "0.38",
         "2.9",
         "0.038",
         "19.0",
         "102.0",
         "0.9912",
         "3.17",
         "0.35",
         "11.0",
         "7"
        ],
        [
         "22",
         "white",
         "6.8",
         "0.26",
         "0.42",
         "1.7",
         "0.049",
         "41.0",
         "122.0",
         "0.993",
         "3.47",
         "0.48",
         "10.5",
         "8"
        ],
        [
         "23",
         "white",
         "7.6",
         "0.67",
         "0.14",
         "1.5",
         "0.074",
         "25.0",
         "168.0",
         "0.9937",
         "3.05",
         "0.51",
         "9.3",
         "5"
        ],
        [
         "24",
         "white",
         "6.6",
         "0.27",
         "0.41",
         "1.3",
         "0.052",
         "16.0",
         "142.0",
         "0.9951",
         "3.42",
         "0.47",
         "10.0",
         "6"
        ],
        [
         "25",
         "white",
         "7.0",
         "0.25",
         "0.32",
         "9.0",
         "0.046",
         "56.0",
         "245.0",
         "0.9955",
         "3.25",
         "0.5",
         "10.4",
         "6"
        ],
        [
         "26",
         "white",
         "6.9",
         "0.24",
         "0.35",
         "1.0",
         "0.052",
         "35.0",
         "146.0",
         "0.993",
         "3.45",
         "0.44",
         "10.0",
         "6"
        ],
        [
         "27",
         "white",
         "7.0",
         "0.28",
         "0.39",
         "8.7",
         "0.051",
         "32.0",
         "141.0",
         "0.9961",
         "3.38",
         "0.53",
         "10.5",
         "6"
        ],
        [
         "28",
         "white",
         "7.4",
         "0.27",
         "0.48",
         "1.1",
         "0.047",
         "17.0",
         "132.0",
         "0.9914",
         "3.19",
         "0.49",
         "11.6",
         "6"
        ],
        [
         "29",
         "white",
         "7.2",
         "0.32",
         "0.36",
         "2.0",
         "0.033",
         "37.0",
         "114.0",
         "0.9906",
         "3.1",
         "0.71",
         "12.3",
         "7"
        ],
        [
         "30",
         "white",
         "8.5",
         "0.24",
         "0.39",
         "10.4",
         "0.044",
         "20.0",
         "142.0",
         "0.9974",
         "3.2",
         "0.53",
         "10.0",
         "6"
        ],
        [
         "31",
         "white",
         "8.3",
         "0.14",
         "0.34",
         "1.1",
         "0.042",
         "7.0",
         "47.0",
         "0.9934",
         "3.47",
         "0.4",
         "10.2",
         "6"
        ],
        [
         "32",
         "white",
         "7.4",
         "0.25",
         "0.36",
         "2.05",
         "0.05",
         "31.0",
         "100.0",
         "0.992",
         "3.19",
         "0.44",
         "10.8",
         "6"
        ],
        [
         "33",
         "white",
         "6.2",
         "0.12",
         "0.34",
         null,
         "0.045",
         "43.0",
         "117.0",
         "0.9939",
         "3.42",
         "0.51",
         "9.0",
         "6"
        ],
        [
         "34",
         "white",
         "5.8",
         "0.27",
         "0.2",
         "14.95",
         "0.044",
         "22.0",
         "179.0",
         "0.9962",
         "3.37",
         "0.37",
         "10.2",
         "5"
        ],
        [
         "35",
         "white",
         "7.3",
         "0.28",
         "0.43",
         "1.7",
         "0.08",
         "21.0",
         "123.0",
         "0.9905",
         "3.19",
         "0.42",
         "12.8",
         "5"
        ],
        [
         "36",
         "white",
         "6.5",
         "0.39",
         "0.23",
         "5.4",
         "0.051",
         "25.0",
         "149.0",
         "0.9934",
         "3.24",
         "0.35",
         "10.0",
         "5"
        ],
        [
         "37",
         "white",
         "7.0",
         "0.33",
         "0.32",
         "1.2",
         "0.053",
         "38.0",
         "138.0",
         "0.9906",
         "3.13",
         "0.28",
         "11.2",
         "6"
        ],
        [
         "38",
         "white",
         "7.3",
         "0.24",
         "0.39",
         "17.95",
         "0.057",
         "45.0",
         "149.0",
         "0.9999",
         "3.21",
         "0.36",
         "8.6",
         "5"
        ],
        [
         "39",
         "white",
         "7.3",
         "0.24",
         "0.39",
         "17.95",
         "0.057",
         "45.0",
         "149.0",
         "0.9999",
         "3.21",
         "0.36",
         "8.6",
         "5"
        ],
        [
         "40",
         "white",
         "6.7",
         "0.23",
         "0.39",
         "2.5",
         "0.172",
         "63.0",
         "158.0",
         "0.9937",
         "3.11",
         "0.36",
         "9.4",
         "6"
        ],
        [
         "41",
         "white",
         "6.7",
         "0.24",
         "0.39",
         "2.9",
         "0.173",
         "63.0",
         "157.0",
         "0.9937",
         "3.1",
         "0.34",
         "9.4",
         "6"
        ],
        [
         "42",
         "white",
         "7.0",
         "0.31",
         "0.26",
         "7.4",
         "0.069",
         "28.0",
         "160.0",
         "0.9954",
         "3.13",
         "0.46",
         "9.8",
         "6"
        ],
        [
         "43",
         "white",
         "6.6",
         "0.24",
         "0.27",
         "1.4",
         "0.057",
         "33.0",
         "152.0",
         "0.9934",
         "3.22",
         "0.56",
         "9.5",
         "6"
        ],
        [
         "44",
         "white",
         "6.7",
         "0.23",
         "0.26",
         "1.4",
         "0.06",
         "33.0",
         "154.0",
         "0.9934",
         "3.24",
         "0.56",
         "9.5",
         "6"
        ],
        [
         "45",
         "white",
         "7.4",
         "0.18",
         "0.31",
         "1.4",
         "0.058",
         "38.0",
         "167.0",
         "0.9931",
         "3.16",
         "0.53",
         "10.0",
         "7"
        ],
        [
         "46",
         "white",
         "6.2",
         "0.45",
         "0.26",
         "4.4",
         "0.063",
         "63.0",
         "206.0",
         "0.994",
         "3.27",
         "0.52",
         "9.8",
         "4"
        ],
        [
         "47",
         "white",
         "6.2",
         "0.46",
         "0.25",
         "4.4",
         "0.066",
         "62.0",
         "207.0",
         "0.9939",
         "3.25",
         "0.52",
         "9.8",
         "5"
        ],
        [
         "48",
         "white",
         "7.0",
         "0.31",
         "0.26",
         "7.4",
         "0.069",
         "28.0",
         "160.0",
         "0.9954",
         "3.13",
         "0.46",
         "9.8",
         "6"
        ],
        [
         "49",
         "white",
         "6.9",
         "0.19",
         "0.35",
         "5.0",
         "0.067",
         "32.0",
         "150.0",
         "0.995",
         "3.36",
         "0.48",
         "9.8",
         "5"
        ]
       ],
       "shape": {
        "columns": 13,
        "rows": 6497
       }
      },
      "text/html": [
       "<div>\n",
       "<style scoped>\n",
       "    .dataframe tbody tr th:only-of-type {\n",
       "        vertical-align: middle;\n",
       "    }\n",
       "\n",
       "    .dataframe tbody tr th {\n",
       "        vertical-align: top;\n",
       "    }\n",
       "\n",
       "    .dataframe thead th {\n",
       "        text-align: right;\n",
       "    }\n",
       "</style>\n",
       "<table border=\"1\" class=\"dataframe\">\n",
       "  <thead>\n",
       "    <tr style=\"text-align: right;\">\n",
       "      <th></th>\n",
       "      <th>type</th>\n",
       "      <th>fixed acidity</th>\n",
       "      <th>volatile acidity</th>\n",
       "      <th>citric acid</th>\n",
       "      <th>residual sugar</th>\n",
       "      <th>chlorides</th>\n",
       "      <th>free sulfur dioxide</th>\n",
       "      <th>total sulfur dioxide</th>\n",
       "      <th>density</th>\n",
       "      <th>pH</th>\n",
       "      <th>sulphates</th>\n",
       "      <th>alcohol</th>\n",
       "      <th>quality</th>\n",
       "    </tr>\n",
       "  </thead>\n",
       "  <tbody>\n",
       "    <tr>\n",
       "      <th>0</th>\n",
       "      <td>white</td>\n",
       "      <td>7.0</td>\n",
       "      <td>0.270</td>\n",
       "      <td>0.36</td>\n",
       "      <td>20.7</td>\n",
       "      <td>0.045</td>\n",
       "      <td>45.0</td>\n",
       "      <td>170.0</td>\n",
       "      <td>1.00100</td>\n",
       "      <td>3.00</td>\n",
       "      <td>0.45</td>\n",
       "      <td>8.8</td>\n",
       "      <td>6</td>\n",
       "    </tr>\n",
       "    <tr>\n",
       "      <th>1</th>\n",
       "      <td>white</td>\n",
       "      <td>6.3</td>\n",
       "      <td>0.300</td>\n",
       "      <td>0.34</td>\n",
       "      <td>1.6</td>\n",
       "      <td>0.049</td>\n",
       "      <td>14.0</td>\n",
       "      <td>132.0</td>\n",
       "      <td>0.99400</td>\n",
       "      <td>3.30</td>\n",
       "      <td>0.49</td>\n",
       "      <td>9.5</td>\n",
       "      <td>6</td>\n",
       "    </tr>\n",
       "    <tr>\n",
       "      <th>2</th>\n",
       "      <td>white</td>\n",
       "      <td>8.1</td>\n",
       "      <td>0.280</td>\n",
       "      <td>0.40</td>\n",
       "      <td>6.9</td>\n",
       "      <td>0.050</td>\n",
       "      <td>30.0</td>\n",
       "      <td>97.0</td>\n",
       "      <td>0.99510</td>\n",
       "      <td>3.26</td>\n",
       "      <td>0.44</td>\n",
       "      <td>10.1</td>\n",
       "      <td>6</td>\n",
       "    </tr>\n",
       "    <tr>\n",
       "      <th>3</th>\n",
       "      <td>white</td>\n",
       "      <td>7.2</td>\n",
       "      <td>0.230</td>\n",
       "      <td>0.32</td>\n",
       "      <td>8.5</td>\n",
       "      <td>0.058</td>\n",
       "      <td>47.0</td>\n",
       "      <td>186.0</td>\n",
       "      <td>0.99560</td>\n",
       "      <td>3.19</td>\n",
       "      <td>0.40</td>\n",
       "      <td>9.9</td>\n",
       "      <td>6</td>\n",
       "    </tr>\n",
       "    <tr>\n",
       "      <th>4</th>\n",
       "      <td>white</td>\n",
       "      <td>7.2</td>\n",
       "      <td>0.230</td>\n",
       "      <td>0.32</td>\n",
       "      <td>8.5</td>\n",
       "      <td>0.058</td>\n",
       "      <td>47.0</td>\n",
       "      <td>186.0</td>\n",
       "      <td>0.99560</td>\n",
       "      <td>3.19</td>\n",
       "      <td>0.40</td>\n",
       "      <td>9.9</td>\n",
       "      <td>6</td>\n",
       "    </tr>\n",
       "    <tr>\n",
       "      <th>...</th>\n",
       "      <td>...</td>\n",
       "      <td>...</td>\n",
       "      <td>...</td>\n",
       "      <td>...</td>\n",
       "      <td>...</td>\n",
       "      <td>...</td>\n",
       "      <td>...</td>\n",
       "      <td>...</td>\n",
       "      <td>...</td>\n",
       "      <td>...</td>\n",
       "      <td>...</td>\n",
       "      <td>...</td>\n",
       "      <td>...</td>\n",
       "    </tr>\n",
       "    <tr>\n",
       "      <th>6492</th>\n",
       "      <td>red</td>\n",
       "      <td>6.2</td>\n",
       "      <td>0.600</td>\n",
       "      <td>0.08</td>\n",
       "      <td>2.0</td>\n",
       "      <td>0.090</td>\n",
       "      <td>32.0</td>\n",
       "      <td>44.0</td>\n",
       "      <td>0.99490</td>\n",
       "      <td>3.45</td>\n",
       "      <td>0.58</td>\n",
       "      <td>10.5</td>\n",
       "      <td>5</td>\n",
       "    </tr>\n",
       "    <tr>\n",
       "      <th>6493</th>\n",
       "      <td>red</td>\n",
       "      <td>5.9</td>\n",
       "      <td>0.550</td>\n",
       "      <td>0.10</td>\n",
       "      <td>2.2</td>\n",
       "      <td>0.062</td>\n",
       "      <td>39.0</td>\n",
       "      <td>51.0</td>\n",
       "      <td>0.99512</td>\n",
       "      <td>3.52</td>\n",
       "      <td>NaN</td>\n",
       "      <td>11.2</td>\n",
       "      <td>6</td>\n",
       "    </tr>\n",
       "    <tr>\n",
       "      <th>6494</th>\n",
       "      <td>red</td>\n",
       "      <td>6.3</td>\n",
       "      <td>0.510</td>\n",
       "      <td>0.13</td>\n",
       "      <td>2.3</td>\n",
       "      <td>0.076</td>\n",
       "      <td>29.0</td>\n",
       "      <td>40.0</td>\n",
       "      <td>0.99574</td>\n",
       "      <td>3.42</td>\n",
       "      <td>0.75</td>\n",
       "      <td>11.0</td>\n",
       "      <td>6</td>\n",
       "    </tr>\n",
       "    <tr>\n",
       "      <th>6495</th>\n",
       "      <td>red</td>\n",
       "      <td>5.9</td>\n",
       "      <td>0.645</td>\n",
       "      <td>0.12</td>\n",
       "      <td>2.0</td>\n",
       "      <td>0.075</td>\n",
       "      <td>32.0</td>\n",
       "      <td>44.0</td>\n",
       "      <td>0.99547</td>\n",
       "      <td>3.57</td>\n",
       "      <td>0.71</td>\n",
       "      <td>10.2</td>\n",
       "      <td>5</td>\n",
       "    </tr>\n",
       "    <tr>\n",
       "      <th>6496</th>\n",
       "      <td>red</td>\n",
       "      <td>6.0</td>\n",
       "      <td>0.310</td>\n",
       "      <td>0.47</td>\n",
       "      <td>3.6</td>\n",
       "      <td>0.067</td>\n",
       "      <td>18.0</td>\n",
       "      <td>42.0</td>\n",
       "      <td>0.99549</td>\n",
       "      <td>3.39</td>\n",
       "      <td>0.66</td>\n",
       "      <td>11.0</td>\n",
       "      <td>6</td>\n",
       "    </tr>\n",
       "  </tbody>\n",
       "</table>\n",
       "<p>6497 rows × 13 columns</p>\n",
       "</div>"
      ],
      "text/plain": [
       "       type  fixed acidity  volatile acidity  ...  sulphates  alcohol  quality\n",
       "0     white            7.0             0.270  ...       0.45      8.8        6\n",
       "1     white            6.3             0.300  ...       0.49      9.5        6\n",
       "2     white            8.1             0.280  ...       0.44     10.1        6\n",
       "3     white            7.2             0.230  ...       0.40      9.9        6\n",
       "4     white            7.2             0.230  ...       0.40      9.9        6\n",
       "...     ...            ...               ...  ...        ...      ...      ...\n",
       "6492    red            6.2             0.600  ...       0.58     10.5        5\n",
       "6493    red            5.9             0.550  ...        NaN     11.2        6\n",
       "6494    red            6.3             0.510  ...       0.75     11.0        6\n",
       "6495    red            5.9             0.645  ...       0.71     10.2        5\n",
       "6496    red            6.0             0.310  ...       0.66     11.0        6\n",
       "\n",
       "[6497 rows x 13 columns]"
      ]
     },
     "execution_count": 4,
     "metadata": {},
     "output_type": "execute_result"
    }
   ],
   "source": [
    "df = pd.read_csv('../wineQ.csv')\n",
    "df"
   ]
  },
  {
   "cell_type": "code",
   "execution_count": 5,
   "id": "a49f3157",
   "metadata": {},
   "outputs": [
    {
     "data": {
      "application/vnd.microsoft.datawrangler.viewer.v0+json": {
       "columns": [
        {
         "name": "type",
         "rawType": "object",
         "type": "string"
        },
        {
         "name": "count",
         "rawType": "int64",
         "type": "integer"
        }
       ],
       "ref": "df13cda4-56f5-44a8-a216-a92238a50672",
       "rows": [
        [
         "white",
         "4898"
        ],
        [
         "red",
         "1599"
        ]
       ],
       "shape": {
        "columns": 1,
        "rows": 2
       }
      },
      "text/plain": [
       "type\n",
       "white    4898\n",
       "red      1599\n",
       "Name: count, dtype: int64"
      ]
     },
     "execution_count": 5,
     "metadata": {},
     "output_type": "execute_result"
    }
   ],
   "source": [
    "df['type'].value_counts()"
   ]
  },
  {
   "cell_type": "code",
   "execution_count": 6,
   "id": "61c749b9",
   "metadata": {},
   "outputs": [
    {
     "data": {
      "application/vnd.microsoft.datawrangler.viewer.v0+json": {
       "columns": [
        {
         "name": "('type', 'quality')",
         "rawType": "object",
         "type": "unknown"
        },
        {
         "name": "count",
         "rawType": "int64",
         "type": "integer"
        }
       ],
       "ref": "38582f6a-bec1-48c6-b6c5-8b3b84fcd9e3",
       "rows": [
        [
         "('white', np.int64(6))",
         "2198"
        ],
        [
         "('white', np.int64(5))",
         "1457"
        ],
        [
         "('white', np.int64(7))",
         "880"
        ],
        [
         "('red', np.int64(5))",
         "681"
        ],
        [
         "('red', np.int64(6))",
         "638"
        ],
        [
         "('red', np.int64(7))",
         "199"
        ],
        [
         "('white', np.int64(8))",
         "175"
        ],
        [
         "('white', np.int64(4))",
         "163"
        ],
        [
         "('red', np.int64(4))",
         "53"
        ],
        [
         "('white', np.int64(3))",
         "20"
        ],
        [
         "('red', np.int64(8))",
         "18"
        ],
        [
         "('red', np.int64(3))",
         "10"
        ],
        [
         "('white', np.int64(9))",
         "5"
        ]
       ],
       "shape": {
        "columns": 1,
        "rows": 13
       }
      },
      "text/plain": [
       "type   quality\n",
       "white  6          2198\n",
       "       5          1457\n",
       "       7           880\n",
       "red    5           681\n",
       "       6           638\n",
       "       7           199\n",
       "white  8           175\n",
       "       4           163\n",
       "red    4            53\n",
       "white  3            20\n",
       "red    8            18\n",
       "       3            10\n",
       "white  9             5\n",
       "Name: count, dtype: int64"
      ]
     },
     "execution_count": 6,
     "metadata": {},
     "output_type": "execute_result"
    }
   ],
   "source": [
    "df[['type','quality']].value_counts()"
   ]
  },
  {
   "cell_type": "code",
   "execution_count": 7,
   "id": "40b7b1e9",
   "metadata": {},
   "outputs": [
    {
     "data": {
      "application/vnd.microsoft.datawrangler.viewer.v0+json": {
       "columns": [
        {
         "name": "index",
         "rawType": "object",
         "type": "string"
        },
        {
         "name": "fixed acidity",
         "rawType": "float64",
         "type": "float"
        },
        {
         "name": "volatile acidity",
         "rawType": "float64",
         "type": "float"
        },
        {
         "name": "citric acid",
         "rawType": "float64",
         "type": "float"
        },
        {
         "name": "residual sugar",
         "rawType": "float64",
         "type": "float"
        },
        {
         "name": "chlorides",
         "rawType": "float64",
         "type": "float"
        },
        {
         "name": "free sulfur dioxide",
         "rawType": "float64",
         "type": "float"
        },
        {
         "name": "total sulfur dioxide",
         "rawType": "float64",
         "type": "float"
        },
        {
         "name": "density",
         "rawType": "float64",
         "type": "float"
        },
        {
         "name": "pH",
         "rawType": "float64",
         "type": "float"
        },
        {
         "name": "sulphates",
         "rawType": "float64",
         "type": "float"
        },
        {
         "name": "alcohol",
         "rawType": "float64",
         "type": "float"
        },
        {
         "name": "quality",
         "rawType": "float64",
         "type": "float"
        }
       ],
       "ref": "9faf51c7-b686-4cf1-8b1a-cf66eacb58cf",
       "rows": [
        [
         "count",
         "6487.0",
         "6489.0",
         "6494.0",
         "6495.0",
         "6495.0",
         "6497.0",
         "6497.0",
         "6497.0",
         "6488.0",
         "6493.0",
         "6497.0",
         "6497.0"
        ],
        [
         "mean",
         "7.2165793124710955",
         "0.33969101556480197",
         "0.3187218971358176",
         "5.444326404926867",
         "0.05604157043879908",
         "30.525319378174544",
         "115.7445744189626",
         "0.9946966338309989",
         "3.218395499383477",
         "0.531215154782073",
         "10.491800831149455",
         "5.818377712790519"
        ],
        [
         "std",
         "1.296749856526477",
         "0.16464902864429282",
         "0.14526480053397792",
         "4.7581247426727105",
         "0.03503602522758981",
         "17.7493997720025",
         "56.52185452263028",
         "0.002998673003719039",
         "0.1607483065508832",
         "0.14881412131628377",
         "1.192711748868981",
         "0.8732552715311248"
        ],
        [
         "min",
         "3.8",
         "0.08",
         "0.0",
         "0.6",
         "0.009",
         "1.0",
         "6.0",
         "0.98711",
         "2.72",
         "0.22",
         "8.0",
         "3.0"
        ],
        [
         "25%",
         "6.4",
         "0.23",
         "0.25",
         "1.8",
         "0.038",
         "17.0",
         "77.0",
         "0.99234",
         "3.11",
         "0.43",
         "9.5",
         "5.0"
        ],
        [
         "50%",
         "7.0",
         "0.29",
         "0.31",
         "3.0",
         "0.047",
         "29.0",
         "118.0",
         "0.99489",
         "3.21",
         "0.51",
         "10.3",
         "6.0"
        ],
        [
         "75%",
         "7.7",
         "0.4",
         "0.39",
         "8.1",
         "0.065",
         "41.0",
         "156.0",
         "0.99699",
         "3.32",
         "0.6",
         "11.3",
         "6.0"
        ],
        [
         "max",
         "15.9",
         "1.58",
         "1.66",
         "65.8",
         "0.611",
         "289.0",
         "440.0",
         "1.03898",
         "4.01",
         "2.0",
         "14.9",
         "9.0"
        ]
       ],
       "shape": {
        "columns": 12,
        "rows": 8
       }
      },
      "text/html": [
       "<div>\n",
       "<style scoped>\n",
       "    .dataframe tbody tr th:only-of-type {\n",
       "        vertical-align: middle;\n",
       "    }\n",
       "\n",
       "    .dataframe tbody tr th {\n",
       "        vertical-align: top;\n",
       "    }\n",
       "\n",
       "    .dataframe thead th {\n",
       "        text-align: right;\n",
       "    }\n",
       "</style>\n",
       "<table border=\"1\" class=\"dataframe\">\n",
       "  <thead>\n",
       "    <tr style=\"text-align: right;\">\n",
       "      <th></th>\n",
       "      <th>fixed acidity</th>\n",
       "      <th>volatile acidity</th>\n",
       "      <th>citric acid</th>\n",
       "      <th>residual sugar</th>\n",
       "      <th>chlorides</th>\n",
       "      <th>free sulfur dioxide</th>\n",
       "      <th>total sulfur dioxide</th>\n",
       "      <th>density</th>\n",
       "      <th>pH</th>\n",
       "      <th>sulphates</th>\n",
       "      <th>alcohol</th>\n",
       "      <th>quality</th>\n",
       "    </tr>\n",
       "  </thead>\n",
       "  <tbody>\n",
       "    <tr>\n",
       "      <th>count</th>\n",
       "      <td>6487.000000</td>\n",
       "      <td>6489.000000</td>\n",
       "      <td>6494.000000</td>\n",
       "      <td>6495.000000</td>\n",
       "      <td>6495.000000</td>\n",
       "      <td>6497.000000</td>\n",
       "      <td>6497.000000</td>\n",
       "      <td>6497.000000</td>\n",
       "      <td>6488.000000</td>\n",
       "      <td>6493.000000</td>\n",
       "      <td>6497.000000</td>\n",
       "      <td>6497.000000</td>\n",
       "    </tr>\n",
       "    <tr>\n",
       "      <th>mean</th>\n",
       "      <td>7.216579</td>\n",
       "      <td>0.339691</td>\n",
       "      <td>0.318722</td>\n",
       "      <td>5.444326</td>\n",
       "      <td>0.056042</td>\n",
       "      <td>30.525319</td>\n",
       "      <td>115.744574</td>\n",
       "      <td>0.994697</td>\n",
       "      <td>3.218395</td>\n",
       "      <td>0.531215</td>\n",
       "      <td>10.491801</td>\n",
       "      <td>5.818378</td>\n",
       "    </tr>\n",
       "    <tr>\n",
       "      <th>std</th>\n",
       "      <td>1.296750</td>\n",
       "      <td>0.164649</td>\n",
       "      <td>0.145265</td>\n",
       "      <td>4.758125</td>\n",
       "      <td>0.035036</td>\n",
       "      <td>17.749400</td>\n",
       "      <td>56.521855</td>\n",
       "      <td>0.002999</td>\n",
       "      <td>0.160748</td>\n",
       "      <td>0.148814</td>\n",
       "      <td>1.192712</td>\n",
       "      <td>0.873255</td>\n",
       "    </tr>\n",
       "    <tr>\n",
       "      <th>min</th>\n",
       "      <td>3.800000</td>\n",
       "      <td>0.080000</td>\n",
       "      <td>0.000000</td>\n",
       "      <td>0.600000</td>\n",
       "      <td>0.009000</td>\n",
       "      <td>1.000000</td>\n",
       "      <td>6.000000</td>\n",
       "      <td>0.987110</td>\n",
       "      <td>2.720000</td>\n",
       "      <td>0.220000</td>\n",
       "      <td>8.000000</td>\n",
       "      <td>3.000000</td>\n",
       "    </tr>\n",
       "    <tr>\n",
       "      <th>25%</th>\n",
       "      <td>6.400000</td>\n",
       "      <td>0.230000</td>\n",
       "      <td>0.250000</td>\n",
       "      <td>1.800000</td>\n",
       "      <td>0.038000</td>\n",
       "      <td>17.000000</td>\n",
       "      <td>77.000000</td>\n",
       "      <td>0.992340</td>\n",
       "      <td>3.110000</td>\n",
       "      <td>0.430000</td>\n",
       "      <td>9.500000</td>\n",
       "      <td>5.000000</td>\n",
       "    </tr>\n",
       "    <tr>\n",
       "      <th>50%</th>\n",
       "      <td>7.000000</td>\n",
       "      <td>0.290000</td>\n",
       "      <td>0.310000</td>\n",
       "      <td>3.000000</td>\n",
       "      <td>0.047000</td>\n",
       "      <td>29.000000</td>\n",
       "      <td>118.000000</td>\n",
       "      <td>0.994890</td>\n",
       "      <td>3.210000</td>\n",
       "      <td>0.510000</td>\n",
       "      <td>10.300000</td>\n",
       "      <td>6.000000</td>\n",
       "    </tr>\n",
       "    <tr>\n",
       "      <th>75%</th>\n",
       "      <td>7.700000</td>\n",
       "      <td>0.400000</td>\n",
       "      <td>0.390000</td>\n",
       "      <td>8.100000</td>\n",
       "      <td>0.065000</td>\n",
       "      <td>41.000000</td>\n",
       "      <td>156.000000</td>\n",
       "      <td>0.996990</td>\n",
       "      <td>3.320000</td>\n",
       "      <td>0.600000</td>\n",
       "      <td>11.300000</td>\n",
       "      <td>6.000000</td>\n",
       "    </tr>\n",
       "    <tr>\n",
       "      <th>max</th>\n",
       "      <td>15.900000</td>\n",
       "      <td>1.580000</td>\n",
       "      <td>1.660000</td>\n",
       "      <td>65.800000</td>\n",
       "      <td>0.611000</td>\n",
       "      <td>289.000000</td>\n",
       "      <td>440.000000</td>\n",
       "      <td>1.038980</td>\n",
       "      <td>4.010000</td>\n",
       "      <td>2.000000</td>\n",
       "      <td>14.900000</td>\n",
       "      <td>9.000000</td>\n",
       "    </tr>\n",
       "  </tbody>\n",
       "</table>\n",
       "</div>"
      ],
      "text/plain": [
       "       fixed acidity  volatile acidity  ...      alcohol      quality\n",
       "count    6487.000000       6489.000000  ...  6497.000000  6497.000000\n",
       "mean        7.216579          0.339691  ...    10.491801     5.818378\n",
       "std         1.296750          0.164649  ...     1.192712     0.873255\n",
       "min         3.800000          0.080000  ...     8.000000     3.000000\n",
       "25%         6.400000          0.230000  ...     9.500000     5.000000\n",
       "50%         7.000000          0.290000  ...    10.300000     6.000000\n",
       "75%         7.700000          0.400000  ...    11.300000     6.000000\n",
       "max        15.900000          1.580000  ...    14.900000     9.000000\n",
       "\n",
       "[8 rows x 12 columns]"
      ]
     },
     "execution_count": 7,
     "metadata": {},
     "output_type": "execute_result"
    }
   ],
   "source": [
    "df.describe()"
   ]
  },
  {
   "cell_type": "code",
   "execution_count": 8,
   "id": "21f00903",
   "metadata": {},
   "outputs": [
    {
     "data": {
      "application/vnd.microsoft.datawrangler.viewer.v0+json": {
       "columns": [
        {
         "name": "index",
         "rawType": "object",
         "type": "string"
        },
        {
         "name": "type",
         "rawType": "object",
         "type": "unknown"
        }
       ],
       "ref": "3b6ddcfb-b0cc-41b9-a518-917f382819e7",
       "rows": [
        [
         "count",
         "6497"
        ],
        [
         "unique",
         "2"
        ],
        [
         "top",
         "white"
        ],
        [
         "freq",
         "4898"
        ]
       ],
       "shape": {
        "columns": 1,
        "rows": 4
       }
      },
      "text/html": [
       "<div>\n",
       "<style scoped>\n",
       "    .dataframe tbody tr th:only-of-type {\n",
       "        vertical-align: middle;\n",
       "    }\n",
       "\n",
       "    .dataframe tbody tr th {\n",
       "        vertical-align: top;\n",
       "    }\n",
       "\n",
       "    .dataframe thead th {\n",
       "        text-align: right;\n",
       "    }\n",
       "</style>\n",
       "<table border=\"1\" class=\"dataframe\">\n",
       "  <thead>\n",
       "    <tr style=\"text-align: right;\">\n",
       "      <th></th>\n",
       "      <th>type</th>\n",
       "    </tr>\n",
       "  </thead>\n",
       "  <tbody>\n",
       "    <tr>\n",
       "      <th>count</th>\n",
       "      <td>6497</td>\n",
       "    </tr>\n",
       "    <tr>\n",
       "      <th>unique</th>\n",
       "      <td>2</td>\n",
       "    </tr>\n",
       "    <tr>\n",
       "      <th>top</th>\n",
       "      <td>white</td>\n",
       "    </tr>\n",
       "    <tr>\n",
       "      <th>freq</th>\n",
       "      <td>4898</td>\n",
       "    </tr>\n",
       "  </tbody>\n",
       "</table>\n",
       "</div>"
      ],
      "text/plain": [
       "         type\n",
       "count    6497\n",
       "unique      2\n",
       "top     white\n",
       "freq     4898"
      ]
     },
     "execution_count": 8,
     "metadata": {},
     "output_type": "execute_result"
    }
   ],
   "source": [
    "df.describe(include='O')"
   ]
  },
  {
   "cell_type": "code",
   "execution_count": 9,
   "id": "d31df87c",
   "metadata": {},
   "outputs": [
    {
     "data": {
      "text/plain": [
       "Index(['type', 'fixed acidity', 'volatile acidity', 'citric acid',\n",
       "       'residual sugar', 'chlorides', 'free sulfur dioxide',\n",
       "       'total sulfur dioxide', 'density', 'pH', 'sulphates', 'alcohol',\n",
       "       'quality'],\n",
       "      dtype='object')"
      ]
     },
     "execution_count": 9,
     "metadata": {},
     "output_type": "execute_result"
    }
   ],
   "source": [
    "df.columns"
   ]
  },
  {
   "cell_type": "code",
   "execution_count": 10,
   "id": "000e8f9e",
   "metadata": {},
   "outputs": [
    {
     "name": "stdout",
     "output_type": "stream",
     "text": [
      "<class 'pandas.core.frame.DataFrame'>\n",
      "RangeIndex: 6497 entries, 0 to 6496\n",
      "Data columns (total 13 columns):\n",
      " #   Column                Non-Null Count  Dtype  \n",
      "---  ------                --------------  -----  \n",
      " 0   type                  6497 non-null   object \n",
      " 1   fixed acidity         6487 non-null   float64\n",
      " 2   volatile acidity      6489 non-null   float64\n",
      " 3   citric acid           6494 non-null   float64\n",
      " 4   residual sugar        6495 non-null   float64\n",
      " 5   chlorides             6495 non-null   float64\n",
      " 6   free sulfur dioxide   6497 non-null   float64\n",
      " 7   total sulfur dioxide  6497 non-null   float64\n",
      " 8   density               6497 non-null   float64\n",
      " 9   pH                    6488 non-null   float64\n",
      " 10  sulphates             6493 non-null   float64\n",
      " 11  alcohol               6497 non-null   float64\n",
      " 12  quality               6497 non-null   int64  \n",
      "dtypes: float64(11), int64(1), object(1)\n",
      "memory usage: 660.0+ KB\n"
     ]
    }
   ],
   "source": [
    "df.info()"
   ]
  },
  {
   "cell_type": "code",
   "execution_count": null,
   "id": "cbd3803d",
   "metadata": {},
   "outputs": [
    {
     "data": {
      "application/vnd.microsoft.datawrangler.viewer.v0+json": {
       "columns": [
        {
         "name": "index",
         "rawType": "object",
         "type": "string"
        },
        {
         "name": "count",
         "rawType": "float64",
         "type": "float"
        },
        {
         "name": "mean",
         "rawType": "float64",
         "type": "float"
        },
        {
         "name": "std",
         "rawType": "float64",
         "type": "float"
        },
        {
         "name": "min",
         "rawType": "float64",
         "type": "float"
        },
        {
         "name": "25%",
         "rawType": "float64",
         "type": "float"
        },
        {
         "name": "50%",
         "rawType": "float64",
         "type": "float"
        },
        {
         "name": "75%",
         "rawType": "float64",
         "type": "float"
        },
        {
         "name": "max",
         "rawType": "float64",
         "type": "float"
        }
       ],
       "ref": "d357f56a-4fa1-4d23-a613-f98181de09b8",
       "rows": [
        [
         "fixed acidity",
         "6487.0",
         "7.2165793124710955",
         "1.296749856526477",
         "3.8",
         "6.4",
         "7.0",
         "7.7",
         "15.9"
        ],
        [
         "volatile acidity",
         "6489.0",
         "0.33969101556480197",
         "0.16464902864429282",
         "0.08",
         "0.23",
         "0.29",
         "0.4",
         "1.58"
        ],
        [
         "citric acid",
         "6494.0",
         "0.3187218971358176",
         "0.14526480053397792",
         "0.0",
         "0.25",
         "0.31",
         "0.39",
         "1.66"
        ],
        [
         "residual sugar",
         "6495.0",
         "5.444326404926867",
         "4.7581247426727105",
         "0.6",
         "1.8",
         "3.0",
         "8.1",
         "65.8"
        ],
        [
         "chlorides",
         "6495.0",
         "0.05604157043879908",
         "0.03503602522758981",
         "0.009",
         "0.038",
         "0.047",
         "0.065",
         "0.611"
        ],
        [
         "free sulfur dioxide",
         "6497.0",
         "30.525319378174544",
         "17.7493997720025",
         "1.0",
         "17.0",
         "29.0",
         "41.0",
         "289.0"
        ],
        [
         "total sulfur dioxide",
         "6497.0",
         "115.7445744189626",
         "56.52185452263028",
         "6.0",
         "77.0",
         "118.0",
         "156.0",
         "440.0"
        ],
        [
         "density",
         "6497.0",
         "0.9946966338309989",
         "0.002998673003719039",
         "0.98711",
         "0.99234",
         "0.99489",
         "0.99699",
         "1.03898"
        ],
        [
         "pH",
         "6488.0",
         "3.218395499383477",
         "0.1607483065508832",
         "2.72",
         "3.11",
         "3.21",
         "3.32",
         "4.01"
        ],
        [
         "sulphates",
         "6493.0",
         "0.531215154782073",
         "0.14881412131628377",
         "0.22",
         "0.43",
         "0.51",
         "0.6",
         "2.0"
        ],
        [
         "alcohol",
         "6497.0",
         "10.491800831149455",
         "1.192711748868981",
         "8.0",
         "9.5",
         "10.3",
         "11.3",
         "14.9"
        ],
        [
         "quality",
         "6497.0",
         "5.818377712790519",
         "0.8732552715311248",
         "3.0",
         "5.0",
         "6.0",
         "6.0",
         "9.0"
        ]
       ],
       "shape": {
        "columns": 8,
        "rows": 12
       }
      },
      "text/html": [
       "<div>\n",
       "<style scoped>\n",
       "    .dataframe tbody tr th:only-of-type {\n",
       "        vertical-align: middle;\n",
       "    }\n",
       "\n",
       "    .dataframe tbody tr th {\n",
       "        vertical-align: top;\n",
       "    }\n",
       "\n",
       "    .dataframe thead th {\n",
       "        text-align: right;\n",
       "    }\n",
       "</style>\n",
       "<table border=\"1\" class=\"dataframe\">\n",
       "  <thead>\n",
       "    <tr style=\"text-align: right;\">\n",
       "      <th></th>\n",
       "      <th>count</th>\n",
       "      <th>mean</th>\n",
       "      <th>std</th>\n",
       "      <th>min</th>\n",
       "      <th>25%</th>\n",
       "      <th>50%</th>\n",
       "      <th>75%</th>\n",
       "      <th>max</th>\n",
       "    </tr>\n",
       "  </thead>\n",
       "  <tbody>\n",
       "    <tr>\n",
       "      <th>fixed acidity</th>\n",
       "      <td>6487.0</td>\n",
       "      <td>7.216579</td>\n",
       "      <td>1.296750</td>\n",
       "      <td>3.80000</td>\n",
       "      <td>6.40000</td>\n",
       "      <td>7.00000</td>\n",
       "      <td>7.70000</td>\n",
       "      <td>15.90000</td>\n",
       "    </tr>\n",
       "    <tr>\n",
       "      <th>volatile acidity</th>\n",
       "      <td>6489.0</td>\n",
       "      <td>0.339691</td>\n",
       "      <td>0.164649</td>\n",
       "      <td>0.08000</td>\n",
       "      <td>0.23000</td>\n",
       "      <td>0.29000</td>\n",
       "      <td>0.40000</td>\n",
       "      <td>1.58000</td>\n",
       "    </tr>\n",
       "    <tr>\n",
       "      <th>citric acid</th>\n",
       "      <td>6494.0</td>\n",
       "      <td>0.318722</td>\n",
       "      <td>0.145265</td>\n",
       "      <td>0.00000</td>\n",
       "      <td>0.25000</td>\n",
       "      <td>0.31000</td>\n",
       "      <td>0.39000</td>\n",
       "      <td>1.66000</td>\n",
       "    </tr>\n",
       "    <tr>\n",
       "      <th>residual sugar</th>\n",
       "      <td>6495.0</td>\n",
       "      <td>5.444326</td>\n",
       "      <td>4.758125</td>\n",
       "      <td>0.60000</td>\n",
       "      <td>1.80000</td>\n",
       "      <td>3.00000</td>\n",
       "      <td>8.10000</td>\n",
       "      <td>65.80000</td>\n",
       "    </tr>\n",
       "    <tr>\n",
       "      <th>chlorides</th>\n",
       "      <td>6495.0</td>\n",
       "      <td>0.056042</td>\n",
       "      <td>0.035036</td>\n",
       "      <td>0.00900</td>\n",
       "      <td>0.03800</td>\n",
       "      <td>0.04700</td>\n",
       "      <td>0.06500</td>\n",
       "      <td>0.61100</td>\n",
       "    </tr>\n",
       "    <tr>\n",
       "      <th>free sulfur dioxide</th>\n",
       "      <td>6497.0</td>\n",
       "      <td>30.525319</td>\n",
       "      <td>17.749400</td>\n",
       "      <td>1.00000</td>\n",
       "      <td>17.00000</td>\n",
       "      <td>29.00000</td>\n",
       "      <td>41.00000</td>\n",
       "      <td>289.00000</td>\n",
       "    </tr>\n",
       "    <tr>\n",
       "      <th>total sulfur dioxide</th>\n",
       "      <td>6497.0</td>\n",
       "      <td>115.744574</td>\n",
       "      <td>56.521855</td>\n",
       "      <td>6.00000</td>\n",
       "      <td>77.00000</td>\n",
       "      <td>118.00000</td>\n",
       "      <td>156.00000</td>\n",
       "      <td>440.00000</td>\n",
       "    </tr>\n",
       "    <tr>\n",
       "      <th>density</th>\n",
       "      <td>6497.0</td>\n",
       "      <td>0.994697</td>\n",
       "      <td>0.002999</td>\n",
       "      <td>0.98711</td>\n",
       "      <td>0.99234</td>\n",
       "      <td>0.99489</td>\n",
       "      <td>0.99699</td>\n",
       "      <td>1.03898</td>\n",
       "    </tr>\n",
       "    <tr>\n",
       "      <th>pH</th>\n",
       "      <td>6488.0</td>\n",
       "      <td>3.218395</td>\n",
       "      <td>0.160748</td>\n",
       "      <td>2.72000</td>\n",
       "      <td>3.11000</td>\n",
       "      <td>3.21000</td>\n",
       "      <td>3.32000</td>\n",
       "      <td>4.01000</td>\n",
       "    </tr>\n",
       "    <tr>\n",
       "      <th>sulphates</th>\n",
       "      <td>6493.0</td>\n",
       "      <td>0.531215</td>\n",
       "      <td>0.148814</td>\n",
       "      <td>0.22000</td>\n",
       "      <td>0.43000</td>\n",
       "      <td>0.51000</td>\n",
       "      <td>0.60000</td>\n",
       "      <td>2.00000</td>\n",
       "    </tr>\n",
       "    <tr>\n",
       "      <th>alcohol</th>\n",
       "      <td>6497.0</td>\n",
       "      <td>10.491801</td>\n",
       "      <td>1.192712</td>\n",
       "      <td>8.00000</td>\n",
       "      <td>9.50000</td>\n",
       "      <td>10.30000</td>\n",
       "      <td>11.30000</td>\n",
       "      <td>14.90000</td>\n",
       "    </tr>\n",
       "    <tr>\n",
       "      <th>quality</th>\n",
       "      <td>6497.0</td>\n",
       "      <td>5.818378</td>\n",
       "      <td>0.873255</td>\n",
       "      <td>3.00000</td>\n",
       "      <td>5.00000</td>\n",
       "      <td>6.00000</td>\n",
       "      <td>6.00000</td>\n",
       "      <td>9.00000</td>\n",
       "    </tr>\n",
       "  </tbody>\n",
       "</table>\n",
       "</div>"
      ],
      "text/plain": [
       "                       count        mean  ...        75%        max\n",
       "fixed acidity         6487.0    7.216579  ...    7.70000   15.90000\n",
       "volatile acidity      6489.0    0.339691  ...    0.40000    1.58000\n",
       "citric acid           6494.0    0.318722  ...    0.39000    1.66000\n",
       "residual sugar        6495.0    5.444326  ...    8.10000   65.80000\n",
       "chlorides             6495.0    0.056042  ...    0.06500    0.61100\n",
       "free sulfur dioxide   6497.0   30.525319  ...   41.00000  289.00000\n",
       "total sulfur dioxide  6497.0  115.744574  ...  156.00000  440.00000\n",
       "density               6497.0    0.994697  ...    0.99699    1.03898\n",
       "pH                    6488.0    3.218395  ...    3.32000    4.01000\n",
       "sulphates             6493.0    0.531215  ...    0.60000    2.00000\n",
       "alcohol               6497.0   10.491801  ...   11.30000   14.90000\n",
       "quality               6497.0    5.818378  ...    6.00000    9.00000\n",
       "\n",
       "[12 rows x 8 columns]"
      ]
     },
     "execution_count": 11,
     "metadata": {},
     "output_type": "execute_result"
    }
   ],
   "source": [
    "df.describe().T # transpose the output(T)"
   ]
  },
  {
   "cell_type": "code",
   "execution_count": 17,
   "id": "ee7e9416",
   "metadata": {},
   "outputs": [
    {
     "name": "stdout",
     "output_type": "stream",
     "text": [
      "Columns Name - ['type', 'fixed acidity', 'volatile acidity', 'citric acid', 'residual sugar', 'chlorides', 'free sulfur dioxide', 'total sulfur dioxide', 'density', 'pH', 'sulphates', 'alcohol', 'quality']\n",
      "Data Types - type                     object\n",
      "fixed acidity           float64\n",
      "volatile acidity        float64\n",
      "citric acid             float64\n",
      "residual sugar          float64\n",
      "chlorides               float64\n",
      "free sulfur dioxide     float64\n",
      "total sulfur dioxide    float64\n",
      "density                 float64\n",
      "pH                      float64\n",
      "sulphates               float64\n",
      "alcohol                 float64\n",
      "quality                   int64\n",
      "dtype: object\n",
      "Number of Rows - 6497\n",
      "Number of Columns - 13\n"
     ]
    }
   ],
   "source": [
    "# Mate data\n",
    "\n",
    "print(f\"Columns Name - {df.columns.to_list()}\")\n",
    "print(f\"Data Types - {df.dtypes}\")\n",
    "print(f\"Number of Rows - {df.shape[0]}\")\n",
    "print(f\"Number of Columns - {df.shape[1]}\")"
   ]
  },
  {
   "cell_type": "markdown",
   "id": "a4a141ba",
   "metadata": {},
   "source": [
    "EDA"
   ]
  },
  {
   "cell_type": "code",
   "execution_count": 18,
   "id": "7aeb4e9d",
   "metadata": {},
   "outputs": [
    {
     "data": {
      "application/vnd.microsoft.datawrangler.viewer.v0+json": {
       "columns": [
        {
         "name": "index",
         "rawType": "object",
         "type": "string"
        },
        {
         "name": "0",
         "rawType": "int64",
         "type": "integer"
        }
       ],
       "ref": "01f53822-a223-475b-8281-16f52287286a",
       "rows": [
        [
         "type",
         "0"
        ],
        [
         "fixed acidity",
         "10"
        ],
        [
         "volatile acidity",
         "8"
        ],
        [
         "citric acid",
         "3"
        ],
        [
         "residual sugar",
         "2"
        ],
        [
         "chlorides",
         "2"
        ],
        [
         "free sulfur dioxide",
         "0"
        ],
        [
         "total sulfur dioxide",
         "0"
        ],
        [
         "density",
         "0"
        ],
        [
         "pH",
         "9"
        ],
        [
         "sulphates",
         "4"
        ],
        [
         "alcohol",
         "0"
        ],
        [
         "quality",
         "0"
        ]
       ],
       "shape": {
        "columns": 1,
        "rows": 13
       }
      },
      "text/plain": [
       "type                     0\n",
       "fixed acidity           10\n",
       "volatile acidity         8\n",
       "citric acid              3\n",
       "residual sugar           2\n",
       "chlorides                2\n",
       "free sulfur dioxide      0\n",
       "total sulfur dioxide     0\n",
       "density                  0\n",
       "pH                       9\n",
       "sulphates                4\n",
       "alcohol                  0\n",
       "quality                  0\n",
       "dtype: int64"
      ]
     },
     "execution_count": 18,
     "metadata": {},
     "output_type": "execute_result"
    }
   ],
   "source": [
    "df.isnull().sum()"
   ]
  },
  {
   "cell_type": "code",
   "execution_count": null,
   "id": "af4156a1",
   "metadata": {},
   "outputs": [],
   "source": [
    "# Handel Missing Values\n",
    "# One by One Features\n",
    "df['fixed acidity'] = df['fixed acidity'].fillna(df['fixed acidity'].median())"
   ]
  },
  {
   "cell_type": "code",
   "execution_count": null,
   "id": "f6c66ff0",
   "metadata": {},
   "outputs": [],
   "source": [
    "# Handel Missing Values\n",
    "# All Fratures at onces\n",
    "for i in df.columns:\n",
    "    if df[i].isna().sum() >0:\n",
    "        df[i] = df[i].fillna(df[i].median())"
   ]
  },
  {
   "cell_type": "code",
   "execution_count": 23,
   "id": "9dd1c191",
   "metadata": {},
   "outputs": [
    {
     "data": {
      "application/vnd.microsoft.datawrangler.viewer.v0+json": {
       "columns": [
        {
         "name": "index",
         "rawType": "object",
         "type": "string"
        },
        {
         "name": "0",
         "rawType": "int64",
         "type": "integer"
        }
       ],
       "ref": "f95fa28b-9020-429b-b019-79cc9c6961b7",
       "rows": [
        [
         "type",
         "0"
        ],
        [
         "fixed acidity",
         "0"
        ],
        [
         "volatile acidity",
         "0"
        ],
        [
         "citric acid",
         "0"
        ],
        [
         "residual sugar",
         "0"
        ],
        [
         "chlorides",
         "0"
        ],
        [
         "free sulfur dioxide",
         "0"
        ],
        [
         "total sulfur dioxide",
         "0"
        ],
        [
         "density",
         "0"
        ],
        [
         "pH",
         "0"
        ],
        [
         "sulphates",
         "0"
        ],
        [
         "alcohol",
         "0"
        ],
        [
         "quality",
         "0"
        ]
       ],
       "shape": {
        "columns": 1,
        "rows": 13
       }
      },
      "text/plain": [
       "type                    0\n",
       "fixed acidity           0\n",
       "volatile acidity        0\n",
       "citric acid             0\n",
       "residual sugar          0\n",
       "chlorides               0\n",
       "free sulfur dioxide     0\n",
       "total sulfur dioxide    0\n",
       "density                 0\n",
       "pH                      0\n",
       "sulphates               0\n",
       "alcohol                 0\n",
       "quality                 0\n",
       "dtype: int64"
      ]
     },
     "execution_count": 23,
     "metadata": {},
     "output_type": "execute_result"
    }
   ],
   "source": [
    "df.isnull().sum()"
   ]
  },
  {
   "cell_type": "code",
   "execution_count": 25,
   "id": "0f27cfea",
   "metadata": {},
   "outputs": [
    {
     "data": {
      "image/png": "[encoded data removed]",
      "text/plain": [
       "<Figure size 1000x1000 with 12 Axes>"
      ]
     },
     "metadata": {},
     "output_type": "display_data"
    }
   ],
   "source": [
    "# Look at the distibution of data using Histogram\n",
    "\n",
    "df.hist(bins=20,figsize=(10,10))\n",
    "plt.show()"
   ]
  },
  {
   "cell_type": "code",
   "execution_count": 45,
   "id": "980501b9",
   "metadata": {},
   "outputs": [
    {
     "data": {
      "text/plain": [
       "Index(['type', 'fixed acidity', 'volatile acidity', 'citric acid',\n",
       "       'residual sugar', 'chlorides', 'free sulfur dioxide',\n",
       "       'total sulfur dioxide', 'density', 'pH', 'sulphates', 'alcohol',\n",
       "       'quality'],\n",
       "      dtype='object')"
      ]
     },
     "execution_count": 45,
     "metadata": {},
     "output_type": "execute_result"
    }
   ],
   "source": [
    "df.columns"
   ]
  },
  {
   "cell_type": "code",
   "execution_count": 75,
   "id": "d6a87800",
   "metadata": {},
   "outputs": [],
   "source": [
    "df['quality'] = df['quality'].apply(lambda x:str(x))"
   ]
  },
  {
   "cell_type": "code",
   "execution_count": 77,
   "id": "6fdf9055",
   "metadata": {},
   "outputs": [
    {
     "data": {
      "text/plain": [
       "<Axes: xlabel='quality', ylabel='alcohol'>"
      ]
     },
     "execution_count": 77,
     "metadata": {},
     "output_type": "execute_result"
    },
    {
     "data": {
      "image/png": "[encoded data removed]",
      "text/plain": [
       "<Figure size 640x480 with 1 Axes>"
      ]
     },
     "metadata": {},
     "output_type": "display_data"
    }
   ],
   "source": [
    "sns.barplot(data=df,y='alcohol',x='quality')"
   ]
  },
  {
   "cell_type": "code",
   "execution_count": null,
   "id": "e384a108",
   "metadata": {},
   "outputs": [],
   "source": []
  }
 ],
 "metadata": {
  "kernelspec": {
   "display_name": "venv",
   "language": "python",
   "name": "python3"
  },
  "language_info": {
   "codemirror_mode": {
    "name": "ipython",
    "version": 3
   },
   "file_extension": ".py",
   "mimetype": "text/x-python",
   "name": "python",
   "nbconvert_exporter": "python",
   "pygments_lexer": "ipython3",
   "version": "3.12.10"
  }
 },
 "nbformat": 4,
 "nbformat_minor": 5
}
