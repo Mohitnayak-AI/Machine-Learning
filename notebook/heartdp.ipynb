{
 "cells": [
  {
   "cell_type": "markdown",
   "id": "b16acca8",
   "metadata": {},
   "source": [
    "import lib---"
   ]
  },
  {
   "cell_type": "code",
   "execution_count": 80,
   "id": "cb0c77ca",
   "metadata": {},
   "outputs": [],
   "source": [
    "import pandas as pd\n",
    "import numpy as np\n",
    "import matplotlib.pyplot as plt\n",
    "import seaborn as sns\n",
    "from sklearn import preprocessing\n",
    "from sklearn.model_selection import train_test_split\n",
    "from sklearn.linear_model import LogisticRegression\n",
    "from sklearn.metrics import accuracy_score, confusion_matrix, classification_report\n",
    "from sklearn.preprocessing import StandardScaler"
   ]
  },
  {
   "cell_type": "markdown",
   "id": "81b62303",
   "metadata": {},
   "source": [
    "load data ---"
   ]
  },
  {
   "cell_type": "code",
   "execution_count": 81,
   "id": "7490dba7",
   "metadata": {},
   "outputs": [
    {
     "data": {
      "application/vnd.microsoft.datawrangler.viewer.v0+json": {
       "columns": [
        {
         "name": "index",
         "rawType": "int64",
         "type": "integer"
        },
        {
         "name": "male",
         "rawType": "int64",
         "type": "integer"
        },
        {
         "name": "age",
         "rawType": "int64",
         "type": "integer"
        },
        {
         "name": "education",
         "rawType": "float64",
         "type": "float"
        },
        {
         "name": "currentSmoker",
         "rawType": "int64",
         "type": "integer"
        },
        {
         "name": "cigsPerDay",
         "rawType": "float64",
         "type": "float"
        },
        {
         "name": "BPMeds",
         "rawType": "float64",
         "type": "float"
        },
        {
         "name": "prevalentStroke",
         "rawType": "int64",
         "type": "integer"
        },
        {
         "name": "prevalentHyp",
         "rawType": "int64",
         "type": "integer"
        },
        {
         "name": "diabetes",
         "rawType": "int64",
         "type": "integer"
        },
        {
         "name": "totChol",
         "rawType": "float64",
         "type": "float"
        },
        {
         "name": "sysBP",
         "rawType": "float64",
         "type": "float"
        },
        {
         "name": "diaBP",
         "rawType": "float64",
         "type": "float"
        },
        {
         "name": "BMI",
         "rawType": "float64",
         "type": "float"
        },
        {
         "name": "heartRate",
         "rawType": "float64",
         "type": "float"
        },
        {
         "name": "glucose",
         "rawType": "float64",
         "type": "float"
        },
        {
         "name": "TenYearCHD",
         "rawType": "int64",
         "type": "integer"
        }
       ],
       "ref": "c4b830f5-1e39-409c-8621-be4eac22b2c7",
       "rows": [
        [
         "0",
         "1",
         "39",
         "4.0",
         "0",
         "0.0",
         "0.0",
         "0",
         "0",
         "0",
         "195.0",
         "106.0",
         "70.0",
         "26.97",
         "80.0",
         "77.0",
         "0"
        ],
        [
         "1",
         "0",
         "46",
         "2.0",
         "0",
         "0.0",
         "0.0",
         "0",
         "0",
         "0",
         "250.0",
         "121.0",
         "81.0",
         "28.73",
         "95.0",
         "76.0",
         "0"
        ],
        [
         "2",
         "1",
         "48",
         "1.0",
         "1",
         "20.0",
         "0.0",
         "0",
         "0",
         "0",
         "245.0",
         "127.5",
         "80.0",
         "25.34",
         "75.0",
         "70.0",
         "0"
        ],
        [
         "3",
         "0",
         "61",
         "3.0",
         "1",
         "30.0",
         "0.0",
         "0",
         "1",
         "0",
         "225.0",
         "150.0",
         "95.0",
         "28.58",
         "65.0",
         "103.0",
         "1"
        ],
        [
         "4",
         "0",
         "46",
         "3.0",
         "1",
         "23.0",
         "0.0",
         "0",
         "0",
         "0",
         "285.0",
         "130.0",
         "84.0",
         "23.1",
         "85.0",
         "85.0",
         "0"
        ]
       ],
       "shape": {
        "columns": 16,
        "rows": 5
       }
      },
      "text/html": [
       "<div>\n",
       "<style scoped>\n",
       "    .dataframe tbody tr th:only-of-type {\n",
       "        vertical-align: middle;\n",
       "    }\n",
       "\n",
       "    .dataframe tbody tr th {\n",
       "        vertical-align: top;\n",
       "    }\n",
       "\n",
       "    .dataframe thead th {\n",
       "        text-align: right;\n",
       "    }\n",
       "</style>\n",
       "<table border=\"1\" class=\"dataframe\">\n",
       "  <thead>\n",
       "    <tr style=\"text-align: right;\">\n",
       "      <th></th>\n",
       "      <th>male</th>\n",
       "      <th>age</th>\n",
       "      <th>education</th>\n",
       "      <th>currentSmoker</th>\n",
       "      <th>cigsPerDay</th>\n",
       "      <th>BPMeds</th>\n",
       "      <th>prevalentStroke</th>\n",
       "      <th>prevalentHyp</th>\n",
       "      <th>diabetes</th>\n",
       "      <th>totChol</th>\n",
       "      <th>sysBP</th>\n",
       "      <th>diaBP</th>\n",
       "      <th>BMI</th>\n",
       "      <th>heartRate</th>\n",
       "      <th>glucose</th>\n",
       "      <th>TenYearCHD</th>\n",
       "    </tr>\n",
       "  </thead>\n",
       "  <tbody>\n",
       "    <tr>\n",
       "      <th>0</th>\n",
       "      <td>1</td>\n",
       "      <td>39</td>\n",
       "      <td>4.0</td>\n",
       "      <td>0</td>\n",
       "      <td>0.0</td>\n",
       "      <td>0.0</td>\n",
       "      <td>0</td>\n",
       "      <td>0</td>\n",
       "      <td>0</td>\n",
       "      <td>195.0</td>\n",
       "      <td>106.0</td>\n",
       "      <td>70.0</td>\n",
       "      <td>26.97</td>\n",
       "      <td>80.0</td>\n",
       "      <td>77.0</td>\n",
       "      <td>0</td>\n",
       "    </tr>\n",
       "    <tr>\n",
       "      <th>1</th>\n",
       "      <td>0</td>\n",
       "      <td>46</td>\n",
       "      <td>2.0</td>\n",
       "      <td>0</td>\n",
       "      <td>0.0</td>\n",
       "      <td>0.0</td>\n",
       "      <td>0</td>\n",
       "      <td>0</td>\n",
       "      <td>0</td>\n",
       "      <td>250.0</td>\n",
       "      <td>121.0</td>\n",
       "      <td>81.0</td>\n",
       "      <td>28.73</td>\n",
       "      <td>95.0</td>\n",
       "      <td>76.0</td>\n",
       "      <td>0</td>\n",
       "    </tr>\n",
       "    <tr>\n",
       "      <th>2</th>\n",
       "      <td>1</td>\n",
       "      <td>48</td>\n",
       "      <td>1.0</td>\n",
       "      <td>1</td>\n",
       "      <td>20.0</td>\n",
       "      <td>0.0</td>\n",
       "      <td>0</td>\n",
       "      <td>0</td>\n",
       "      <td>0</td>\n",
       "      <td>245.0</td>\n",
       "      <td>127.5</td>\n",
       "      <td>80.0</td>\n",
       "      <td>25.34</td>\n",
       "      <td>75.0</td>\n",
       "      <td>70.0</td>\n",
       "      <td>0</td>\n",
       "    </tr>\n",
       "    <tr>\n",
       "      <th>3</th>\n",
       "      <td>0</td>\n",
       "      <td>61</td>\n",
       "      <td>3.0</td>\n",
       "      <td>1</td>\n",
       "      <td>30.0</td>\n",
       "      <td>0.0</td>\n",
       "      <td>0</td>\n",
       "      <td>1</td>\n",
       "      <td>0</td>\n",
       "      <td>225.0</td>\n",
       "      <td>150.0</td>\n",
       "      <td>95.0</td>\n",
       "      <td>28.58</td>\n",
       "      <td>65.0</td>\n",
       "      <td>103.0</td>\n",
       "      <td>1</td>\n",
       "    </tr>\n",
       "    <tr>\n",
       "      <th>4</th>\n",
       "      <td>0</td>\n",
       "      <td>46</td>\n",
       "      <td>3.0</td>\n",
       "      <td>1</td>\n",
       "      <td>23.0</td>\n",
       "      <td>0.0</td>\n",
       "      <td>0</td>\n",
       "      <td>0</td>\n",
       "      <td>0</td>\n",
       "      <td>285.0</td>\n",
       "      <td>130.0</td>\n",
       "      <td>84.0</td>\n",
       "      <td>23.10</td>\n",
       "      <td>85.0</td>\n",
       "      <td>85.0</td>\n",
       "      <td>0</td>\n",
       "    </tr>\n",
       "  </tbody>\n",
       "</table>\n",
       "</div>"
      ],
      "text/plain": [
       "   male  age  education  currentSmoker  cigsPerDay  BPMeds  prevalentStroke  \\\n",
       "0     1   39        4.0              0         0.0     0.0                0   \n",
       "1     0   46        2.0              0         0.0     0.0                0   \n",
       "2     1   48        1.0              1        20.0     0.0                0   \n",
       "3     0   61        3.0              1        30.0     0.0                0   \n",
       "4     0   46        3.0              1        23.0     0.0                0   \n",
       "\n",
       "   prevalentHyp  diabetes  totChol  sysBP  diaBP    BMI  heartRate  glucose  \\\n",
       "0             0         0    195.0  106.0   70.0  26.97       80.0     77.0   \n",
       "1             0         0    250.0  121.0   81.0  28.73       95.0     76.0   \n",
       "2             0         0    245.0  127.5   80.0  25.34       75.0     70.0   \n",
       "3             1         0    225.0  150.0   95.0  28.58       65.0    103.0   \n",
       "4             0         0    285.0  130.0   84.0  23.10       85.0     85.0   \n",
       "\n",
       "   TenYearCHD  \n",
       "0           0  \n",
       "1           0  \n",
       "2           0  \n",
       "3           1  \n",
       "4           0  "
      ]
     },
     "execution_count": 81,
     "metadata": {},
     "output_type": "execute_result"
    }
   ],
   "source": [
    "df = pd.read_csv('../data/heartDP.csv')\n",
    "df.head()"
   ]
  },
  {
   "cell_type": "code",
   "execution_count": 82,
   "id": "635d50a9",
   "metadata": {},
   "outputs": [
    {
     "name": "stdout",
     "output_type": "stream",
     "text": [
      "<class 'pandas.core.frame.DataFrame'>\n",
      "RangeIndex: 4240 entries, 0 to 4239\n",
      "Data columns (total 16 columns):\n",
      " #   Column           Non-Null Count  Dtype  \n",
      "---  ------           --------------  -----  \n",
      " 0   male             4240 non-null   int64  \n",
      " 1   age              4240 non-null   int64  \n",
      " 2   education        4135 non-null   float64\n",
      " 3   currentSmoker    4240 non-null   int64  \n",
      " 4   cigsPerDay       4211 non-null   float64\n",
      " 5   BPMeds           4187 non-null   float64\n",
      " 6   prevalentStroke  4240 non-null   int64  \n",
      " 7   prevalentHyp     4240 non-null   int64  \n",
      " 8   diabetes         4240 non-null   int64  \n",
      " 9   totChol          4190 non-null   float64\n",
      " 10  sysBP            4240 non-null   float64\n",
      " 11  diaBP            4240 non-null   float64\n",
      " 12  BMI              4221 non-null   float64\n",
      " 13  heartRate        4239 non-null   float64\n",
      " 14  glucose          3852 non-null   float64\n",
      " 15  TenYearCHD       4240 non-null   int64  \n",
      "dtypes: float64(9), int64(7)\n",
      "memory usage: 530.1 KB\n"
     ]
    }
   ],
   "source": [
    "df.info()"
   ]
  },
  {
   "cell_type": "code",
   "execution_count": 83,
   "id": "a7d2717f",
   "metadata": {},
   "outputs": [
    {
     "data": {
      "application/vnd.microsoft.datawrangler.viewer.v0+json": {
       "columns": [
        {
         "name": "index",
         "rawType": "object",
         "type": "string"
        },
        {
         "name": "count",
         "rawType": "float64",
         "type": "float"
        },
        {
         "name": "mean",
         "rawType": "float64",
         "type": "float"
        },
        {
         "name": "std",
         "rawType": "float64",
         "type": "float"
        },
        {
         "name": "min",
         "rawType": "float64",
         "type": "float"
        },
        {
         "name": "25%",
         "rawType": "float64",
         "type": "float"
        },
        {
         "name": "50%",
         "rawType": "float64",
         "type": "float"
        },
        {
         "name": "75%",
         "rawType": "float64",
         "type": "float"
        },
        {
         "name": "max",
         "rawType": "float64",
         "type": "float"
        }
       ],
       "ref": "a5fef071-73d8-454c-b471-6720ea904ea1",
       "rows": [
        [
         "male",
         "4240.0",
         "0.42924528301886794",
         "0.4950268328135282",
         "0.0",
         "0.0",
         "0.0",
         "1.0",
         "1.0"
        ],
        [
         "age",
         "4240.0",
         "49.58018867924528",
         "8.57294217547334",
         "32.0",
         "42.0",
         "49.0",
         "56.0",
         "70.0"
        ],
        [
         "education",
         "4135.0",
         "1.9794437726723095",
         "1.0197911793650105",
         "1.0",
         "1.0",
         "2.0",
         "3.0",
         "4.0"
        ],
        [
         "currentSmoker",
         "4240.0",
         "0.49410377358490565",
         "0.5000242019006145",
         "0.0",
         "0.0",
         "0.0",
         "1.0",
         "1.0"
        ],
        [
         "cigsPerDay",
         "4211.0",
         "9.005936832106388",
         "11.922461800609083",
         "0.0",
         "0.0",
         "0.0",
         "20.0",
         "70.0"
        ],
        [
         "BPMeds",
         "4187.0",
         "0.029615476474802963",
         "0.16954428739626196",
         "0.0",
         "0.0",
         "0.0",
         "0.0",
         "1.0"
        ],
        [
         "prevalentStroke",
         "4240.0",
         "0.00589622641509434",
         "0.0765692084019818",
         "0.0",
         "0.0",
         "0.0",
         "0.0",
         "1.0"
        ],
        [
         "prevalentHyp",
         "4240.0",
         "0.3106132075471698",
         "0.4627992628992856",
         "0.0",
         "0.0",
         "0.0",
         "1.0",
         "1.0"
        ],
        [
         "diabetes",
         "4240.0",
         "0.025707547169811322",
         "0.15828006133169917",
         "0.0",
         "0.0",
         "0.0",
         "0.0",
         "1.0"
        ],
        [
         "totChol",
         "4190.0",
         "236.69952267303103",
         "44.59128386860701",
         "107.0",
         "206.0",
         "234.0",
         "263.0",
         "696.0"
        ],
        [
         "sysBP",
         "4240.0",
         "132.35459905660377",
         "22.033299608849184",
         "83.5",
         "117.0",
         "128.0",
         "144.0",
         "295.0"
        ],
        [
         "diaBP",
         "4240.0",
         "82.89775943396226",
         "11.91039448330595",
         "48.0",
         "75.0",
         "82.0",
         "90.0",
         "142.5"
        ],
        [
         "BMI",
         "4221.0",
         "25.80080075811419",
         "4.079840168944382",
         "15.54",
         "23.07",
         "25.4",
         "28.04",
         "56.8"
        ],
        [
         "heartRate",
         "4239.0",
         "75.87898089171975",
         "12.025347984469386",
         "44.0",
         "68.0",
         "75.0",
         "83.0",
         "143.0"
        ],
        [
         "glucose",
         "3852.0",
         "81.96365524402907",
         "23.954334811344744",
         "40.0",
         "71.0",
         "78.0",
         "87.0",
         "394.0"
        ],
        [
         "TenYearCHD",
         "4240.0",
         "0.15188679245283018",
         "0.35895345563483705",
         "0.0",
         "0.0",
         "0.0",
         "0.0",
         "1.0"
        ]
       ],
       "shape": {
        "columns": 8,
        "rows": 16
       }
      },
      "text/html": [
       "<div>\n",
       "<style scoped>\n",
       "    .dataframe tbody tr th:only-of-type {\n",
       "        vertical-align: middle;\n",
       "    }\n",
       "\n",
       "    .dataframe tbody tr th {\n",
       "        vertical-align: top;\n",
       "    }\n",
       "\n",
       "    .dataframe thead th {\n",
       "        text-align: right;\n",
       "    }\n",
       "</style>\n",
       "<table border=\"1\" class=\"dataframe\">\n",
       "  <thead>\n",
       "    <tr style=\"text-align: right;\">\n",
       "      <th></th>\n",
       "      <th>count</th>\n",
       "      <th>mean</th>\n",
       "      <th>std</th>\n",
       "      <th>min</th>\n",
       "      <th>25%</th>\n",
       "      <th>50%</th>\n",
       "      <th>75%</th>\n",
       "      <th>max</th>\n",
       "    </tr>\n",
       "  </thead>\n",
       "  <tbody>\n",
       "    <tr>\n",
       "      <th>male</th>\n",
       "      <td>4240.0</td>\n",
       "      <td>0.429245</td>\n",
       "      <td>0.495027</td>\n",
       "      <td>0.00</td>\n",
       "      <td>0.00</td>\n",
       "      <td>0.0</td>\n",
       "      <td>1.00</td>\n",
       "      <td>1.0</td>\n",
       "    </tr>\n",
       "    <tr>\n",
       "      <th>age</th>\n",
       "      <td>4240.0</td>\n",
       "      <td>49.580189</td>\n",
       "      <td>8.572942</td>\n",
       "      <td>32.00</td>\n",
       "      <td>42.00</td>\n",
       "      <td>49.0</td>\n",
       "      <td>56.00</td>\n",
       "      <td>70.0</td>\n",
       "    </tr>\n",
       "    <tr>\n",
       "      <th>education</th>\n",
       "      <td>4135.0</td>\n",
       "      <td>1.979444</td>\n",
       "      <td>1.019791</td>\n",
       "      <td>1.00</td>\n",
       "      <td>1.00</td>\n",
       "      <td>2.0</td>\n",
       "      <td>3.00</td>\n",
       "      <td>4.0</td>\n",
       "    </tr>\n",
       "    <tr>\n",
       "      <th>currentSmoker</th>\n",
       "      <td>4240.0</td>\n",
       "      <td>0.494104</td>\n",
       "      <td>0.500024</td>\n",
       "      <td>0.00</td>\n",
       "      <td>0.00</td>\n",
       "      <td>0.0</td>\n",
       "      <td>1.00</td>\n",
       "      <td>1.0</td>\n",
       "    </tr>\n",
       "    <tr>\n",
       "      <th>cigsPerDay</th>\n",
       "      <td>4211.0</td>\n",
       "      <td>9.005937</td>\n",
       "      <td>11.922462</td>\n",
       "      <td>0.00</td>\n",
       "      <td>0.00</td>\n",
       "      <td>0.0</td>\n",
       "      <td>20.00</td>\n",
       "      <td>70.0</td>\n",
       "    </tr>\n",
       "    <tr>\n",
       "      <th>BPMeds</th>\n",
       "      <td>4187.0</td>\n",
       "      <td>0.029615</td>\n",
       "      <td>0.169544</td>\n",
       "      <td>0.00</td>\n",
       "      <td>0.00</td>\n",
       "      <td>0.0</td>\n",
       "      <td>0.00</td>\n",
       "      <td>1.0</td>\n",
       "    </tr>\n",
       "    <tr>\n",
       "      <th>prevalentStroke</th>\n",
       "      <td>4240.0</td>\n",
       "      <td>0.005896</td>\n",
       "      <td>0.076569</td>\n",
       "      <td>0.00</td>\n",
       "      <td>0.00</td>\n",
       "      <td>0.0</td>\n",
       "      <td>0.00</td>\n",
       "      <td>1.0</td>\n",
       "    </tr>\n",
       "    <tr>\n",
       "      <th>prevalentHyp</th>\n",
       "      <td>4240.0</td>\n",
       "      <td>0.310613</td>\n",
       "      <td>0.462799</td>\n",
       "      <td>0.00</td>\n",
       "      <td>0.00</td>\n",
       "      <td>0.0</td>\n",
       "      <td>1.00</td>\n",
       "      <td>1.0</td>\n",
       "    </tr>\n",
       "    <tr>\n",
       "      <th>diabetes</th>\n",
       "      <td>4240.0</td>\n",
       "      <td>0.025708</td>\n",
       "      <td>0.158280</td>\n",
       "      <td>0.00</td>\n",
       "      <td>0.00</td>\n",
       "      <td>0.0</td>\n",
       "      <td>0.00</td>\n",
       "      <td>1.0</td>\n",
       "    </tr>\n",
       "    <tr>\n",
       "      <th>totChol</th>\n",
       "      <td>4190.0</td>\n",
       "      <td>236.699523</td>\n",
       "      <td>44.591284</td>\n",
       "      <td>107.00</td>\n",
       "      <td>206.00</td>\n",
       "      <td>234.0</td>\n",
       "      <td>263.00</td>\n",
       "      <td>696.0</td>\n",
       "    </tr>\n",
       "    <tr>\n",
       "      <th>sysBP</th>\n",
       "      <td>4240.0</td>\n",
       "      <td>132.354599</td>\n",
       "      <td>22.033300</td>\n",
       "      <td>83.50</td>\n",
       "      <td>117.00</td>\n",
       "      <td>128.0</td>\n",
       "      <td>144.00</td>\n",
       "      <td>295.0</td>\n",
       "    </tr>\n",
       "    <tr>\n",
       "      <th>diaBP</th>\n",
       "      <td>4240.0</td>\n",
       "      <td>82.897759</td>\n",
       "      <td>11.910394</td>\n",
       "      <td>48.00</td>\n",
       "      <td>75.00</td>\n",
       "      <td>82.0</td>\n",
       "      <td>90.00</td>\n",
       "      <td>142.5</td>\n",
       "    </tr>\n",
       "    <tr>\n",
       "      <th>BMI</th>\n",
       "      <td>4221.0</td>\n",
       "      <td>25.800801</td>\n",
       "      <td>4.079840</td>\n",
       "      <td>15.54</td>\n",
       "      <td>23.07</td>\n",
       "      <td>25.4</td>\n",
       "      <td>28.04</td>\n",
       "      <td>56.8</td>\n",
       "    </tr>\n",
       "    <tr>\n",
       "      <th>heartRate</th>\n",
       "      <td>4239.0</td>\n",
       "      <td>75.878981</td>\n",
       "      <td>12.025348</td>\n",
       "      <td>44.00</td>\n",
       "      <td>68.00</td>\n",
       "      <td>75.0</td>\n",
       "      <td>83.00</td>\n",
       "      <td>143.0</td>\n",
       "    </tr>\n",
       "    <tr>\n",
       "      <th>glucose</th>\n",
       "      <td>3852.0</td>\n",
       "      <td>81.963655</td>\n",
       "      <td>23.954335</td>\n",
       "      <td>40.00</td>\n",
       "      <td>71.00</td>\n",
       "      <td>78.0</td>\n",
       "      <td>87.00</td>\n",
       "      <td>394.0</td>\n",
       "    </tr>\n",
       "    <tr>\n",
       "      <th>TenYearCHD</th>\n",
       "      <td>4240.0</td>\n",
       "      <td>0.151887</td>\n",
       "      <td>0.358953</td>\n",
       "      <td>0.00</td>\n",
       "      <td>0.00</td>\n",
       "      <td>0.0</td>\n",
       "      <td>0.00</td>\n",
       "      <td>1.0</td>\n",
       "    </tr>\n",
       "  </tbody>\n",
       "</table>\n",
       "</div>"
      ],
      "text/plain": [
       "                  count        mean        std     min     25%    50%     75%  \\\n",
       "male             4240.0    0.429245   0.495027    0.00    0.00    0.0    1.00   \n",
       "age              4240.0   49.580189   8.572942   32.00   42.00   49.0   56.00   \n",
       "education        4135.0    1.979444   1.019791    1.00    1.00    2.0    3.00   \n",
       "currentSmoker    4240.0    0.494104   0.500024    0.00    0.00    0.0    1.00   \n",
       "cigsPerDay       4211.0    9.005937  11.922462    0.00    0.00    0.0   20.00   \n",
       "BPMeds           4187.0    0.029615   0.169544    0.00    0.00    0.0    0.00   \n",
       "prevalentStroke  4240.0    0.005896   0.076569    0.00    0.00    0.0    0.00   \n",
       "prevalentHyp     4240.0    0.310613   0.462799    0.00    0.00    0.0    1.00   \n",
       "diabetes         4240.0    0.025708   0.158280    0.00    0.00    0.0    0.00   \n",
       "totChol          4190.0  236.699523  44.591284  107.00  206.00  234.0  263.00   \n",
       "sysBP            4240.0  132.354599  22.033300   83.50  117.00  128.0  144.00   \n",
       "diaBP            4240.0   82.897759  11.910394   48.00   75.00   82.0   90.00   \n",
       "BMI              4221.0   25.800801   4.079840   15.54   23.07   25.4   28.04   \n",
       "heartRate        4239.0   75.878981  12.025348   44.00   68.00   75.0   83.00   \n",
       "glucose          3852.0   81.963655  23.954335   40.00   71.00   78.0   87.00   \n",
       "TenYearCHD       4240.0    0.151887   0.358953    0.00    0.00    0.0    0.00   \n",
       "\n",
       "                   max  \n",
       "male               1.0  \n",
       "age               70.0  \n",
       "education          4.0  \n",
       "currentSmoker      1.0  \n",
       "cigsPerDay        70.0  \n",
       "BPMeds             1.0  \n",
       "prevalentStroke    1.0  \n",
       "prevalentHyp       1.0  \n",
       "diabetes           1.0  \n",
       "totChol          696.0  \n",
       "sysBP            295.0  \n",
       "diaBP            142.5  \n",
       "BMI               56.8  \n",
       "heartRate        143.0  \n",
       "glucose          394.0  \n",
       "TenYearCHD         1.0  "
      ]
     },
     "execution_count": 83,
     "metadata": {},
     "output_type": "execute_result"
    }
   ],
   "source": [
    "df.describe().T"
   ]
  },
  {
   "cell_type": "code",
   "execution_count": 84,
   "id": "ba079b87",
   "metadata": {},
   "outputs": [
    {
     "data": {
      "application/vnd.microsoft.datawrangler.viewer.v0+json": {
       "columns": [
        {
         "name": "index",
         "rawType": "object",
         "type": "string"
        },
        {
         "name": "0",
         "rawType": "int64",
         "type": "integer"
        }
       ],
       "ref": "9f2b5d67-7e7d-4674-8354-b2fcf46cf59b",
       "rows": [
        [
         "male",
         "0"
        ],
        [
         "age",
         "0"
        ],
        [
         "education",
         "105"
        ],
        [
         "currentSmoker",
         "0"
        ],
        [
         "cigsPerDay",
         "29"
        ],
        [
         "BPMeds",
         "53"
        ],
        [
         "prevalentStroke",
         "0"
        ],
        [
         "prevalentHyp",
         "0"
        ],
        [
         "diabetes",
         "0"
        ],
        [
         "totChol",
         "50"
        ],
        [
         "sysBP",
         "0"
        ],
        [
         "diaBP",
         "0"
        ],
        [
         "BMI",
         "19"
        ],
        [
         "heartRate",
         "1"
        ],
        [
         "glucose",
         "388"
        ],
        [
         "TenYearCHD",
         "0"
        ]
       ],
       "shape": {
        "columns": 1,
        "rows": 16
       }
      },
      "text/plain": [
       "male                 0\n",
       "age                  0\n",
       "education          105\n",
       "currentSmoker        0\n",
       "cigsPerDay          29\n",
       "BPMeds              53\n",
       "prevalentStroke      0\n",
       "prevalentHyp         0\n",
       "diabetes             0\n",
       "totChol             50\n",
       "sysBP                0\n",
       "diaBP                0\n",
       "BMI                 19\n",
       "heartRate            1\n",
       "glucose            388\n",
       "TenYearCHD           0\n",
       "dtype: int64"
      ]
     },
     "execution_count": 84,
     "metadata": {},
     "output_type": "execute_result"
    }
   ],
   "source": [
    "# Look for missing values\n",
    "\n",
    "df.isnull().sum()"
   ]
  },
  {
   "cell_type": "code",
   "execution_count": 85,
   "id": "19646e2d",
   "metadata": {},
   "outputs": [
    {
     "data": {
      "application/vnd.microsoft.datawrangler.viewer.v0+json": {
       "columns": [
        {
         "name": "index",
         "rawType": "int64",
         "type": "integer"
        },
        {
         "name": "male",
         "rawType": "int64",
         "type": "integer"
        },
        {
         "name": "age",
         "rawType": "int64",
         "type": "integer"
        },
        {
         "name": "currentSmoker",
         "rawType": "int64",
         "type": "integer"
        },
        {
         "name": "cigsPerDay",
         "rawType": "float64",
         "type": "float"
        },
        {
         "name": "BPMeds",
         "rawType": "float64",
         "type": "float"
        },
        {
         "name": "prevalentStroke",
         "rawType": "int64",
         "type": "integer"
        },
        {
         "name": "prevalentHyp",
         "rawType": "int64",
         "type": "integer"
        },
        {
         "name": "diabetes",
         "rawType": "int64",
         "type": "integer"
        },
        {
         "name": "totChol",
         "rawType": "float64",
         "type": "float"
        },
        {
         "name": "sysBP",
         "rawType": "float64",
         "type": "float"
        },
        {
         "name": "diaBP",
         "rawType": "float64",
         "type": "float"
        },
        {
         "name": "BMI",
         "rawType": "float64",
         "type": "float"
        },
        {
         "name": "heartRate",
         "rawType": "float64",
         "type": "float"
        },
        {
         "name": "glucose",
         "rawType": "float64",
         "type": "float"
        },
        {
         "name": "TenYearCHD",
         "rawType": "int64",
         "type": "integer"
        }
       ],
       "ref": "24c75d7e-17ef-48f5-aacb-d724512b47b3",
       "rows": [
        [
         "0",
         "1",
         "39",
         "0",
         "0.0",
         "0.0",
         "0",
         "0",
         "0",
         "195.0",
         "106.0",
         "70.0",
         "26.97",
         "80.0",
         "77.0",
         "0"
        ],
        [
         "1",
         "0",
         "46",
         "0",
         "0.0",
         "0.0",
         "0",
         "0",
         "0",
         "250.0",
         "121.0",
         "81.0",
         "28.73",
         "95.0",
         "76.0",
         "0"
        ],
        [
         "2",
         "1",
         "48",
         "1",
         "20.0",
         "0.0",
         "0",
         "0",
         "0",
         "245.0",
         "127.5",
         "80.0",
         "25.34",
         "75.0",
         "70.0",
         "0"
        ],
        [
         "3",
         "0",
         "61",
         "1",
         "30.0",
         "0.0",
         "0",
         "1",
         "0",
         "225.0",
         "150.0",
         "95.0",
         "28.58",
         "65.0",
         "103.0",
         "1"
        ],
        [
         "4",
         "0",
         "46",
         "1",
         "23.0",
         "0.0",
         "0",
         "0",
         "0",
         "285.0",
         "130.0",
         "84.0",
         "23.1",
         "85.0",
         "85.0",
         "0"
        ]
       ],
       "shape": {
        "columns": 15,
        "rows": 5
       }
      },
      "text/html": [
       "<div>\n",
       "<style scoped>\n",
       "    .dataframe tbody tr th:only-of-type {\n",
       "        vertical-align: middle;\n",
       "    }\n",
       "\n",
       "    .dataframe tbody tr th {\n",
       "        vertical-align: top;\n",
       "    }\n",
       "\n",
       "    .dataframe thead th {\n",
       "        text-align: right;\n",
       "    }\n",
       "</style>\n",
       "<table border=\"1\" class=\"dataframe\">\n",
       "  <thead>\n",
       "    <tr style=\"text-align: right;\">\n",
       "      <th></th>\n",
       "      <th>male</th>\n",
       "      <th>age</th>\n",
       "      <th>currentSmoker</th>\n",
       "      <th>cigsPerDay</th>\n",
       "      <th>BPMeds</th>\n",
       "      <th>prevalentStroke</th>\n",
       "      <th>prevalentHyp</th>\n",
       "      <th>diabetes</th>\n",
       "      <th>totChol</th>\n",
       "      <th>sysBP</th>\n",
       "      <th>diaBP</th>\n",
       "      <th>BMI</th>\n",
       "      <th>heartRate</th>\n",
       "      <th>glucose</th>\n",
       "      <th>TenYearCHD</th>\n",
       "    </tr>\n",
       "  </thead>\n",
       "  <tbody>\n",
       "    <tr>\n",
       "      <th>0</th>\n",
       "      <td>1</td>\n",
       "      <td>39</td>\n",
       "      <td>0</td>\n",
       "      <td>0.0</td>\n",
       "      <td>0.0</td>\n",
       "      <td>0</td>\n",
       "      <td>0</td>\n",
       "      <td>0</td>\n",
       "      <td>195.0</td>\n",
       "      <td>106.0</td>\n",
       "      <td>70.0</td>\n",
       "      <td>26.97</td>\n",
       "      <td>80.0</td>\n",
       "      <td>77.0</td>\n",
       "      <td>0</td>\n",
       "    </tr>\n",
       "    <tr>\n",
       "      <th>1</th>\n",
       "      <td>0</td>\n",
       "      <td>46</td>\n",
       "      <td>0</td>\n",
       "      <td>0.0</td>\n",
       "      <td>0.0</td>\n",
       "      <td>0</td>\n",
       "      <td>0</td>\n",
       "      <td>0</td>\n",
       "      <td>250.0</td>\n",
       "      <td>121.0</td>\n",
       "      <td>81.0</td>\n",
       "      <td>28.73</td>\n",
       "      <td>95.0</td>\n",
       "      <td>76.0</td>\n",
       "      <td>0</td>\n",
       "    </tr>\n",
       "    <tr>\n",
       "      <th>2</th>\n",
       "      <td>1</td>\n",
       "      <td>48</td>\n",
       "      <td>1</td>\n",
       "      <td>20.0</td>\n",
       "      <td>0.0</td>\n",
       "      <td>0</td>\n",
       "      <td>0</td>\n",
       "      <td>0</td>\n",
       "      <td>245.0</td>\n",
       "      <td>127.5</td>\n",
       "      <td>80.0</td>\n",
       "      <td>25.34</td>\n",
       "      <td>75.0</td>\n",
       "      <td>70.0</td>\n",
       "      <td>0</td>\n",
       "    </tr>\n",
       "    <tr>\n",
       "      <th>3</th>\n",
       "      <td>0</td>\n",
       "      <td>61</td>\n",
       "      <td>1</td>\n",
       "      <td>30.0</td>\n",
       "      <td>0.0</td>\n",
       "      <td>0</td>\n",
       "      <td>1</td>\n",
       "      <td>0</td>\n",
       "      <td>225.0</td>\n",
       "      <td>150.0</td>\n",
       "      <td>95.0</td>\n",
       "      <td>28.58</td>\n",
       "      <td>65.0</td>\n",
       "      <td>103.0</td>\n",
       "      <td>1</td>\n",
       "    </tr>\n",
       "    <tr>\n",
       "      <th>4</th>\n",
       "      <td>0</td>\n",
       "      <td>46</td>\n",
       "      <td>1</td>\n",
       "      <td>23.0</td>\n",
       "      <td>0.0</td>\n",
       "      <td>0</td>\n",
       "      <td>0</td>\n",
       "      <td>0</td>\n",
       "      <td>285.0</td>\n",
       "      <td>130.0</td>\n",
       "      <td>84.0</td>\n",
       "      <td>23.10</td>\n",
       "      <td>85.0</td>\n",
       "      <td>85.0</td>\n",
       "      <td>0</td>\n",
       "    </tr>\n",
       "  </tbody>\n",
       "</table>\n",
       "</div>"
      ],
      "text/plain": [
       "   male  age  currentSmoker  cigsPerDay  BPMeds  prevalentStroke  \\\n",
       "0     1   39              0         0.0     0.0                0   \n",
       "1     0   46              0         0.0     0.0                0   \n",
       "2     1   48              1        20.0     0.0                0   \n",
       "3     0   61              1        30.0     0.0                0   \n",
       "4     0   46              1        23.0     0.0                0   \n",
       "\n",
       "   prevalentHyp  diabetes  totChol  sysBP  diaBP    BMI  heartRate  glucose  \\\n",
       "0             0         0    195.0  106.0   70.0  26.97       80.0     77.0   \n",
       "1             0         0    250.0  121.0   81.0  28.73       95.0     76.0   \n",
       "2             0         0    245.0  127.5   80.0  25.34       75.0     70.0   \n",
       "3             1         0    225.0  150.0   95.0  28.58       65.0    103.0   \n",
       "4             0         0    285.0  130.0   84.0  23.10       85.0     85.0   \n",
       "\n",
       "   TenYearCHD  \n",
       "0           0  \n",
       "1           0  \n",
       "2           0  \n",
       "3           1  \n",
       "4           0  "
      ]
     },
     "execution_count": 85,
     "metadata": {},
     "output_type": "execute_result"
    }
   ],
   "source": [
    "# drop irrelavent columns\n",
    "\n",
    "df.drop('education',inplace=True,axis=1)\n",
    "df.head()"
   ]
  },
  {
   "cell_type": "code",
   "execution_count": 86,
   "id": "75976e52",
   "metadata": {},
   "outputs": [
    {
     "data": {
      "application/vnd.microsoft.datawrangler.viewer.v0+json": {
       "columns": [
        {
         "name": "index",
         "rawType": "object",
         "type": "string"
        },
        {
         "name": "0",
         "rawType": "int64",
         "type": "integer"
        }
       ],
       "ref": "701ff6e4-afb3-45f3-8877-643af888fd99",
       "rows": [
        [
         "male",
         "0"
        ],
        [
         "age",
         "0"
        ],
        [
         "currentSmoker",
         "0"
        ],
        [
         "cigsPerDay",
         "0"
        ],
        [
         "BPMeds",
         "0"
        ],
        [
         "prevalentStroke",
         "0"
        ],
        [
         "prevalentHyp",
         "0"
        ],
        [
         "diabetes",
         "0"
        ],
        [
         "totChol",
         "0"
        ],
        [
         "sysBP",
         "0"
        ],
        [
         "diaBP",
         "0"
        ],
        [
         "BMI",
         "0"
        ],
        [
         "heartRate",
         "0"
        ],
        [
         "glucose",
         "0"
        ],
        [
         "TenYearCHD",
         "0"
        ]
       ],
       "shape": {
        "columns": 1,
        "rows": 15
       }
      },
      "text/plain": [
       "male               0\n",
       "age                0\n",
       "currentSmoker      0\n",
       "cigsPerDay         0\n",
       "BPMeds             0\n",
       "prevalentStroke    0\n",
       "prevalentHyp       0\n",
       "diabetes           0\n",
       "totChol            0\n",
       "sysBP              0\n",
       "diaBP              0\n",
       "BMI                0\n",
       "heartRate          0\n",
       "glucose            0\n",
       "TenYearCHD         0\n",
       "dtype: int64"
      ]
     },
     "execution_count": 86,
     "metadata": {},
     "output_type": "execute_result"
    }
   ],
   "source": [
    "# Treat Missing Values\n",
    "\n",
    "for i in df.columns:\n",
    "    df[i] = df[i].fillna(df[i].median())\n",
    "\n",
    "df.isnull().sum()"
   ]
  },
  {
   "cell_type": "code",
   "execution_count": 87,
   "id": "80afe6b6",
   "metadata": {},
   "outputs": [
    {
     "data": {
      "application/vnd.microsoft.datawrangler.viewer.v0+json": {
       "columns": [
        {
         "name": "TenYearCHD",
         "rawType": "int64",
         "type": "integer"
        },
        {
         "name": "count",
         "rawType": "int64",
         "type": "integer"
        }
       ],
       "ref": "58972658-4bd7-48aa-9bfb-abe90ef3530f",
       "rows": [
        [
         "0",
         "3596"
        ],
        [
         "1",
         "644"
        ]
       ],
       "shape": {
        "columns": 1,
        "rows": 2
       }
      },
      "text/plain": [
       "TenYearCHD\n",
       "0    3596\n",
       "1     644\n",
       "Name: count, dtype: int64"
      ]
     },
     "execution_count": 87,
     "metadata": {},
     "output_type": "execute_result"
    }
   ],
   "source": [
    "# Look into the target var -\n",
    "\n",
    "df.TenYearCHD.value_counts()"
   ]
  },
  {
   "cell_type": "markdown",
   "id": "0a08282b",
   "metadata": {},
   "source": [
    "the data is highly baised to tenyearchd - 0"
   ]
  },
  {
   "cell_type": "code",
   "execution_count": 88,
   "id": "74ab0c60",
   "metadata": {},
   "outputs": [],
   "source": [
    "# Now i have to standadised all the columes\n",
    "\n",
    "x = df.iloc[:,:-1]\n",
    "y = df.iloc[:,-1]"
   ]
  },
  {
   "cell_type": "code",
   "execution_count": 89,
   "id": "90bf542c",
   "metadata": {},
   "outputs": [
    {
     "data": {
      "text/plain": [
       "((4240, 14), (4240,))"
      ]
     },
     "execution_count": 89,
     "metadata": {},
     "output_type": "execute_result"
    }
   ],
   "source": [
    "x.shape,y.shape"
   ]
  },
  {
   "cell_type": "code",
   "execution_count": 90,
   "id": "28ae6e21",
   "metadata": {},
   "outputs": [
    {
     "data": {
      "text/plain": [
       "pandas.core.frame.DataFrame"
      ]
     },
     "execution_count": 90,
     "metadata": {},
     "output_type": "execute_result"
    }
   ],
   "source": [
    "type(x)"
   ]
  },
  {
   "cell_type": "code",
   "execution_count": 91,
   "id": "4301549d",
   "metadata": {},
   "outputs": [
    {
     "data": {
      "text/plain": [
       "<Axes: >"
      ]
     },
     "execution_count": 91,
     "metadata": {},
     "output_type": "execute_result"
    },
    {
     "data": {
      "image/png": "[encoded data removed]",
      "text/plain": [
       "<Figure size 1000x600 with 2 Axes>"
      ]
     },
     "metadata": {},
     "output_type": "display_data"
    }
   ],
   "source": [
    "plt.figure(figsize=(10,6))\n",
    "sns.heatmap(x.corr(),annot=True)"
   ]
  },
  {
   "cell_type": "code",
   "execution_count": 92,
   "id": "47389cc0",
   "metadata": {},
   "outputs": [
    {
     "data": {
      "text/plain": [
       "array([[ 1.15311332, -1.23428297, -0.98827627, ...,  0.28769301,\n",
       "         0.34279225, -0.20128686],\n",
       "       [-0.86721746, -0.41766419, -0.98827627, ...,  0.72009414,\n",
       "         1.59045091, -0.2450359 ],\n",
       "       [ 1.15311332, -0.18434454,  1.01186281, ..., -0.11276941,\n",
       "        -0.07309396, -0.50753015],\n",
       "       ...,\n",
       "       [-0.86721746,  0.28229477, -0.98827627, ..., -1.06356055,\n",
       "         0.34279225,  1.11118437],\n",
       "       [ 1.15311332, -1.11762315, -0.98827627, ..., -0.04889197,\n",
       "        -0.73851192, -0.42003207],\n",
       "       [-0.86721746, -1.23428297,  1.01186281, ..., -1.20114273,\n",
       "         0.75867847, -0.07003974]], shape=(4240, 14))"
      ]
     },
     "execution_count": 92,
     "metadata": {},
     "output_type": "execute_result"
    }
   ],
   "source": [
    "scaler = StandardScaler()\n",
    "x_scaler = scaler.fit_transform(x)\n",
    "x_scaler"
   ]
  },
  {
   "cell_type": "code",
   "execution_count": 93,
   "id": "586882b8",
   "metadata": {},
   "outputs": [
    {
     "data": {
      "application/vnd.microsoft.datawrangler.viewer.v0+json": {
       "columns": [
        {
         "name": "index",
         "rawType": "int64",
         "type": "integer"
        },
        {
         "name": "male",
         "rawType": "float64",
         "type": "float"
        },
        {
         "name": "age",
         "rawType": "float64",
         "type": "float"
        },
        {
         "name": "currentSmoker",
         "rawType": "float64",
         "type": "float"
        },
        {
         "name": "cigsPerDay",
         "rawType": "float64",
         "type": "float"
        },
        {
         "name": "BPMeds",
         "rawType": "float64",
         "type": "float"
        },
        {
         "name": "prevalentStroke",
         "rawType": "float64",
         "type": "float"
        },
        {
         "name": "prevalentHyp",
         "rawType": "float64",
         "type": "float"
        },
        {
         "name": "diabetes",
         "rawType": "float64",
         "type": "float"
        },
        {
         "name": "totChol",
         "rawType": "float64",
         "type": "float"
        },
        {
         "name": "sysBP",
         "rawType": "float64",
         "type": "float"
        },
        {
         "name": "diaBP",
         "rawType": "float64",
         "type": "float"
        },
        {
         "name": "BMI",
         "rawType": "float64",
         "type": "float"
        },
        {
         "name": "heartRate",
         "rawType": "float64",
         "type": "float"
        },
        {
         "name": "glucose",
         "rawType": "float64",
         "type": "float"
        }
       ],
       "ref": "4ea9578a-a41b-479a-8cfd-71ccfc01f9ad",
       "rows": [
        [
         "0",
         "1.15311332039411",
         "-1.2342829739381762",
         "-0.988276265368129",
         "-0.7514121692097937",
         "-0.17356939894113027",
         "-0.07701427206704359",
         "-0.6712410063003988",
         "-0.1624372586175049",
         "-0.940086454513949",
         "-1.1962669199817197",
         "-1.0830271560972047",
         "0.2876930071948711",
         "0.34279225466247143",
         "-0.20128686101161633"
        ],
        [
         "1",
         "-0.867217455833587",
         "-0.41766418957604795",
         "-0.988276265368129",
         "-0.7514121692097937",
         "-0.17356939894113027",
         "-0.07701427206704359",
         "-0.6712410063003988",
         "-0.1624372586175049",
         "0.3007972286748759",
         "-0.5153988953463954",
         "-0.15935519756313088",
         "0.7200941449326863",
         "1.5904509130425317",
         "-0.24503590195324304"
        ],
        [
         "2",
         "1.15311332039411",
         "-0.18434453690115418",
         "1.0118628110809722",
         "0.9287838003343077",
         "-0.17356939894113027",
         "-0.07701427206704359",
         "-0.6712410063003988",
         "-0.1624372586175049",
         "0.18798962111225545",
         "-0.22035608467108808",
         "-0.24332537561168305",
         "-0.11276941014185489",
         "-0.07309396479754869",
         "-0.5075301476030033"
        ],
        [
         "3",
         "-0.867217455833587",
         "1.3322332054856556",
         "1.0118628110809722",
         "1.7688817851063587",
         "-0.17356939894113027",
         "-0.07701427206704359",
         "1.4897778750311814",
         "-0.1624372586175049",
         "-0.26324080913822634",
         "0.8009459522818986",
         "1.0162272951165994",
         "0.683241775239122",
         "-0.904866403717589",
         "0.936188203470678"
        ],
        [
         "4",
         "-0.867217455833587",
         "-0.41766418957604795",
         "1.0118628110809722",
         "1.180813195765923",
         "-0.17356939894113027",
         "-0.07701427206704359",
         "-0.6712410063003988",
         "-0.1624372586175049",
         "1.090450481613219",
         "-0.10687808056520069",
         "0.0925553365825256",
         "-0.6630981308990734",
         "0.7586784741224916",
         "0.1487054665213973"
        ]
       ],
       "shape": {
        "columns": 14,
        "rows": 5
       }
      },
      "text/html": [
       "<div>\n",
       "<style scoped>\n",
       "    .dataframe tbody tr th:only-of-type {\n",
       "        vertical-align: middle;\n",
       "    }\n",
       "\n",
       "    .dataframe tbody tr th {\n",
       "        vertical-align: top;\n",
       "    }\n",
       "\n",
       "    .dataframe thead th {\n",
       "        text-align: right;\n",
       "    }\n",
       "</style>\n",
       "<table border=\"1\" class=\"dataframe\">\n",
       "  <thead>\n",
       "    <tr style=\"text-align: right;\">\n",
       "      <th></th>\n",
       "      <th>male</th>\n",
       "      <th>age</th>\n",
       "      <th>currentSmoker</th>\n",
       "      <th>cigsPerDay</th>\n",
       "      <th>BPMeds</th>\n",
       "      <th>prevalentStroke</th>\n",
       "      <th>prevalentHyp</th>\n",
       "      <th>diabetes</th>\n",
       "      <th>totChol</th>\n",
       "      <th>sysBP</th>\n",
       "      <th>diaBP</th>\n",
       "      <th>BMI</th>\n",
       "      <th>heartRate</th>\n",
       "      <th>glucose</th>\n",
       "    </tr>\n",
       "  </thead>\n",
       "  <tbody>\n",
       "    <tr>\n",
       "      <th>0</th>\n",
       "      <td>1.153113</td>\n",
       "      <td>-1.234283</td>\n",
       "      <td>-0.988276</td>\n",
       "      <td>-0.751412</td>\n",
       "      <td>-0.173569</td>\n",
       "      <td>-0.077014</td>\n",
       "      <td>-0.671241</td>\n",
       "      <td>-0.162437</td>\n",
       "      <td>-0.940086</td>\n",
       "      <td>-1.196267</td>\n",
       "      <td>-1.083027</td>\n",
       "      <td>0.287693</td>\n",
       "      <td>0.342792</td>\n",
       "      <td>-0.201287</td>\n",
       "    </tr>\n",
       "    <tr>\n",
       "      <th>1</th>\n",
       "      <td>-0.867217</td>\n",
       "      <td>-0.417664</td>\n",
       "      <td>-0.988276</td>\n",
       "      <td>-0.751412</td>\n",
       "      <td>-0.173569</td>\n",
       "      <td>-0.077014</td>\n",
       "      <td>-0.671241</td>\n",
       "      <td>-0.162437</td>\n",
       "      <td>0.300797</td>\n",
       "      <td>-0.515399</td>\n",
       "      <td>-0.159355</td>\n",
       "      <td>0.720094</td>\n",
       "      <td>1.590451</td>\n",
       "      <td>-0.245036</td>\n",
       "    </tr>\n",
       "    <tr>\n",
       "      <th>2</th>\n",
       "      <td>1.153113</td>\n",
       "      <td>-0.184345</td>\n",
       "      <td>1.011863</td>\n",
       "      <td>0.928784</td>\n",
       "      <td>-0.173569</td>\n",
       "      <td>-0.077014</td>\n",
       "      <td>-0.671241</td>\n",
       "      <td>-0.162437</td>\n",
       "      <td>0.187990</td>\n",
       "      <td>-0.220356</td>\n",
       "      <td>-0.243325</td>\n",
       "      <td>-0.112769</td>\n",
       "      <td>-0.073094</td>\n",
       "      <td>-0.507530</td>\n",
       "    </tr>\n",
       "    <tr>\n",
       "      <th>3</th>\n",
       "      <td>-0.867217</td>\n",
       "      <td>1.332233</td>\n",
       "      <td>1.011863</td>\n",
       "      <td>1.768882</td>\n",
       "      <td>-0.173569</td>\n",
       "      <td>-0.077014</td>\n",
       "      <td>1.489778</td>\n",
       "      <td>-0.162437</td>\n",
       "      <td>-0.263241</td>\n",
       "      <td>0.800946</td>\n",
       "      <td>1.016227</td>\n",
       "      <td>0.683242</td>\n",
       "      <td>-0.904866</td>\n",
       "      <td>0.936188</td>\n",
       "    </tr>\n",
       "    <tr>\n",
       "      <th>4</th>\n",
       "      <td>-0.867217</td>\n",
       "      <td>-0.417664</td>\n",
       "      <td>1.011863</td>\n",
       "      <td>1.180813</td>\n",
       "      <td>-0.173569</td>\n",
       "      <td>-0.077014</td>\n",
       "      <td>-0.671241</td>\n",
       "      <td>-0.162437</td>\n",
       "      <td>1.090450</td>\n",
       "      <td>-0.106878</td>\n",
       "      <td>0.092555</td>\n",
       "      <td>-0.663098</td>\n",
       "      <td>0.758678</td>\n",
       "      <td>0.148705</td>\n",
       "    </tr>\n",
       "  </tbody>\n",
       "</table>\n",
       "</div>"
      ],
      "text/plain": [
       "       male       age  currentSmoker  cigsPerDay    BPMeds  prevalentStroke  \\\n",
       "0  1.153113 -1.234283      -0.988276   -0.751412 -0.173569        -0.077014   \n",
       "1 -0.867217 -0.417664      -0.988276   -0.751412 -0.173569        -0.077014   \n",
       "2  1.153113 -0.184345       1.011863    0.928784 -0.173569        -0.077014   \n",
       "3 -0.867217  1.332233       1.011863    1.768882 -0.173569        -0.077014   \n",
       "4 -0.867217 -0.417664       1.011863    1.180813 -0.173569        -0.077014   \n",
       "\n",
       "   prevalentHyp  diabetes   totChol     sysBP     diaBP       BMI  heartRate  \\\n",
       "0     -0.671241 -0.162437 -0.940086 -1.196267 -1.083027  0.287693   0.342792   \n",
       "1     -0.671241 -0.162437  0.300797 -0.515399 -0.159355  0.720094   1.590451   \n",
       "2     -0.671241 -0.162437  0.187990 -0.220356 -0.243325 -0.112769  -0.073094   \n",
       "3      1.489778 -0.162437 -0.263241  0.800946  1.016227  0.683242  -0.904866   \n",
       "4     -0.671241 -0.162437  1.090450 -0.106878  0.092555 -0.663098   0.758678   \n",
       "\n",
       "    glucose  \n",
       "0 -0.201287  \n",
       "1 -0.245036  \n",
       "2 -0.507530  \n",
       "3  0.936188  \n",
       "4  0.148705  "
      ]
     },
     "execution_count": 93,
     "metadata": {},
     "output_type": "execute_result"
    }
   ],
   "source": [
    "x_scaler_df = pd.DataFrame(x_scaler,columns=x.columns)\n",
    "x_scaler_df.head()"
   ]
  },
  {
   "cell_type": "code",
   "execution_count": 94,
   "id": "f4ee8129",
   "metadata": {},
   "outputs": [
    {
     "name": "stderr",
     "output_type": "stream",
     "text": [
      "/var/folders/n6/28ff8fsj0c901jvkhvfb8ylw0000gn/T/ipykernel_1884/1804690168.py:2: FutureWarning: \n",
      "\n",
      "Passing `palette` without assigning `hue` is deprecated and will be removed in v0.14.0. Assign the `x` variable to `hue` and set `legend=False` for the same effect.\n",
      "\n",
      "  sns.countplot(x='TenYearCHD', data=df,\n"
     ]
    },
    {
     "data": {
      "image/png": "[encoded data removed]",
      "text/plain": [
       "<Figure size 700x500 with 1 Axes>"
      ]
     },
     "metadata": {},
     "output_type": "display_data"
    }
   ],
   "source": [
    "plt.figure(figsize=(7, 5))\n",
    "sns.countplot(x='TenYearCHD', data=df,\n",
    "             palette=\"BuGn_r\")\n",
    "plt.show()"
   ]
  },
  {
   "cell_type": "code",
   "execution_count": 95,
   "id": "7f151ece",
   "metadata": {},
   "outputs": [
    {
     "data": {
      "image/png": "[encoded data removed]",
      "text/plain": [
       "<Figure size 640x480 with 1 Axes>"
      ]
     },
     "metadata": {},
     "output_type": "display_data"
    }
   ],
   "source": [
    "laste = df['TenYearCHD'].plot()\n",
    "plt.show(laste)"
   ]
  },
  {
   "cell_type": "code",
   "execution_count": 96,
   "id": "6742a813",
   "metadata": {},
   "outputs": [
    {
     "data": {
      "text/plain": [
       "((3392, 14), (848, 14), (3392,), (848,))"
      ]
     },
     "execution_count": 96,
     "metadata": {},
     "output_type": "execute_result"
    }
   ],
   "source": [
    "# Let split the data into train and test\n",
    "\n",
    "x_train,x_test,y_train,y_test = train_test_split(x_scaler,y,test_size=0.2,random_state=42)\n",
    "x_train.shape,x_test.shape,y_train.shape,y_test.shape"
   ]
  },
  {
   "cell_type": "code",
   "execution_count": 97,
   "id": "24b3f7bb",
   "metadata": {},
   "outputs": [
    {
     "data": {
      "text/plain": [
       "array([0, 0, 0, 0, 0, 0, 0, 0, 0, 0])"
      ]
     },
     "execution_count": 97,
     "metadata": {},
     "output_type": "execute_result"
    }
   ],
   "source": [
    "lr_model = LogisticRegression() # lr_model = LogisticRegression(class_weight='balanced')\n",
    "lr_model.fit(x_train,y_train)\n",
    "y_predict = lr_model.predict(x_test)\n",
    "y_predict[0:10]"
   ]
  },
  {
   "cell_type": "code",
   "execution_count": 98,
   "id": "a018d8be",
   "metadata": {},
   "outputs": [
    {
     "data": {
      "text/plain": [
       "0.8561320754716981"
      ]
     },
     "execution_count": 98,
     "metadata": {},
     "output_type": "execute_result"
    }
   ],
   "source": [
    "acc = accuracy_score(y_predict,y_test)\n",
    "acc"
   ]
  },
  {
   "cell_type": "code",
   "execution_count": 99,
   "id": "b23039f6",
   "metadata": {},
   "outputs": [
    {
     "data": {
      "text/plain": [
       "<Axes: >"
      ]
     },
     "execution_count": 99,
     "metadata": {},
     "output_type": "execute_result"
    },
    {
     "data": {
      "image/png": "[encoded data removed]",
      "text/plain": [
       "<Figure size 640x480 with 2 Axes>"
      ]
     },
     "metadata": {},
     "output_type": "display_data"
    }
   ],
   "source": [
    "cf = confusion_matrix(y_test,y_predict)\n",
    "sns.heatmap(cf,annot=True,fmt = 'd')"
   ]
  },
  {
   "cell_type": "code",
   "execution_count": 100,
   "id": "98691267",
   "metadata": {},
   "outputs": [
    {
     "name": "stdout",
     "output_type": "stream",
     "text": [
      "The details for confusion matrix is =\n",
      "              precision    recall  f1-score   support\n",
      "\n",
      "           0       0.86      0.99      0.92       725\n",
      "           1       0.53      0.07      0.13       123\n",
      "\n",
      "    accuracy                           0.86       848\n",
      "   macro avg       0.70      0.53      0.53       848\n",
      "weighted avg       0.81      0.86      0.81       848\n",
      "\n"
     ]
    }
   ],
   "source": [
    "print('The details for confusion matrix is =')\n",
    "print (classification_report(y_test, y_predict))"
   ]
  },
  {
   "cell_type": "code",
   "execution_count": 101,
   "id": "355e83a3",
   "metadata": {},
   "outputs": [
    {
     "data": {
      "text/plain": [
       "<Axes: title={'center': 'Feature Importance (LogReg)'}>"
      ]
     },
     "execution_count": 101,
     "metadata": {},
     "output_type": "execute_result"
    },
    {
     "data": {
      "image/png": "[encoded data removed]",
      "text/plain": [
       "<Figure size 1000x500 with 1 Axes>"
      ]
     },
     "metadata": {},
     "output_type": "display_data"
    }
   ],
   "source": [
    "importance = pd.Series(lr_model.coef_[0], index=x.columns)\n",
    "importance.sort_values(ascending=False).plot(kind='bar', title='Feature Importance (LogReg)', figsize=(10, 5))"
   ]
  },
  {
   "cell_type": "code",
   "execution_count": 102,
   "id": "d565b693",
   "metadata": {},
   "outputs": [
    {
     "data": {
      "text/plain": [
       "Index(['male', 'age', 'currentSmoker', 'cigsPerDay', 'BPMeds',\n",
       "       'prevalentStroke', 'prevalentHyp', 'diabetes', 'totChol', 'sysBP',\n",
       "       'diaBP', 'BMI', 'heartRate', 'glucose'],\n",
       "      dtype='object')"
      ]
     },
     "execution_count": 102,
     "metadata": {},
     "output_type": "execute_result"
    }
   ],
   "source": [
    "x_scaler_df.columns"
   ]
  },
  {
   "cell_type": "code",
   "execution_count": 103,
   "id": "4f39ee96",
   "metadata": {},
   "outputs": [
    {
     "data": {
      "text/plain": [
       "((3392, 6), (848, 6), (3392,), (848,))"
      ]
     },
     "execution_count": 103,
     "metadata": {},
     "output_type": "execute_result"
    }
   ],
   "source": [
    "# Now lets take best 5 \n",
    "x = x_scaler_df[['age','cigsPerDay','sysBP','male','glucose','heartRate']]\n",
    "\n",
    "x_train,x_test,y_train,y_test = train_test_split(x,y,test_size=0.2,random_state=42)\n",
    "x_train.shape,x_test.shape,y_train.shape,y_test.shape"
   ]
  },
  {
   "cell_type": "code",
   "execution_count": 104,
   "id": "a6744abc",
   "metadata": {},
   "outputs": [
    {
     "data": {
      "text/plain": [
       "array([0, 0, 0, 0, 0, 0, 0, 0, 0, 0])"
      ]
     },
     "execution_count": 104,
     "metadata": {},
     "output_type": "execute_result"
    }
   ],
   "source": [
    "lr_model = LogisticRegression()\n",
    "lr_model.fit(x_train,y_train)\n",
    "y_predict = lr_model.predict(x_test)\n",
    "y_predict[0:10]"
   ]
  },
  {
   "cell_type": "code",
   "execution_count": 105,
   "id": "2fd8ddb0",
   "metadata": {},
   "outputs": [
    {
     "data": {
      "text/plain": [
       "<Axes: >"
      ]
     },
     "execution_count": 105,
     "metadata": {},
     "output_type": "execute_result"
    },
    {
     "data": {
      "image/png": "[encoded data removed]",
      "text/plain": [
       "<Figure size 640x480 with 2 Axes>"
      ]
     },
     "metadata": {},
     "output_type": "display_data"
    }
   ],
   "source": [
    "cf = confusion_matrix(y_test,y_predict)\n",
    "sns.heatmap(cf,annot=True,fmt = 'd')"
   ]
  },
  {
   "cell_type": "code",
   "execution_count": 106,
   "id": "77cfa305",
   "metadata": {},
   "outputs": [
    {
     "name": "stdout",
     "output_type": "stream",
     "text": [
      "The details for confusion matrix is =\n",
      "              precision    recall  f1-score   support\n",
      "\n",
      "           0       0.86      0.99      0.92       725\n",
      "           1       0.55      0.05      0.09       123\n",
      "\n",
      "    accuracy                           0.86       848\n",
      "   macro avg       0.70      0.52      0.51       848\n",
      "weighted avg       0.81      0.86      0.80       848\n",
      "\n"
     ]
    }
   ],
   "source": [
    "print('The details for confusion matrix is =')\n",
    "print (classification_report(y_test, y_predict))"
   ]
  },
  {
   "cell_type": "code",
   "execution_count": 107,
   "id": "08062711",
   "metadata": {},
   "outputs": [
    {
     "name": "stdout",
     "output_type": "stream",
     "text": [
      "Train set: (2968, 6) (2968,)\n",
      "Test set: (1272, 6) (1272,)\n"
     ]
    }
   ],
   "source": [
    "X = np.asarray(df[['age', 'male', 'cigsPerDay', \n",
    "                           'totChol', 'sysBP', 'glucose']])\n",
    "y = np.asarray(df['TenYearCHD'])\n",
    "\n",
    "X = preprocessing.StandardScaler().fit(X).transform(X)\n",
    "\n",
    "from sklearn.model_selection import train_test_split\n",
    "X_train, X_test, y_train, y_test = train_test_split( \n",
    "        X, y, test_size = 0.3, random_state = 4)\n",
    "\n",
    "print ('Train set:', X_train.shape,  y_train.shape)\n",
    "print ('Test set:', X_test.shape,  y_test.shape)"
   ]
  },
  {
   "cell_type": "code",
   "execution_count": 108,
   "id": "0e6badda",
   "metadata": {},
   "outputs": [],
   "source": [
    "logreg = LogisticRegression()\n",
    "logreg.fit(X_train, y_train)\n",
    "y_pred = logreg.predict(X_test)"
   ]
  },
  {
   "cell_type": "code",
   "execution_count": 109,
   "id": "9ebf0cba",
   "metadata": {},
   "outputs": [
    {
     "name": "stdout",
     "output_type": "stream",
     "text": [
      "Accuracy of the model is = 0.8569182389937107\n"
     ]
    }
   ],
   "source": [
    "print('Accuracy of the model is =', \n",
    "      accuracy_score(y_test, y_pred))"
   ]
  },
  {
   "cell_type": "code",
   "execution_count": 110,
   "id": "2204014a",
   "metadata": {},
   "outputs": [
    {
     "name": "stdout",
     "output_type": "stream",
     "text": [
      "The details for confusion matrix is =\n",
      "              precision    recall  f1-score   support\n",
      "\n",
      "           0       0.86      1.00      0.92      1084\n",
      "           1       0.69      0.06      0.11       188\n",
      "\n",
      "    accuracy                           0.86      1272\n",
      "   macro avg       0.77      0.53      0.52      1272\n",
      "weighted avg       0.83      0.86      0.80      1272\n",
      "\n"
     ]
    },
    {
     "data": {
      "image/png": "[encoded data removed]",
      "text/plain": [
       "<Figure size 800x500 with 2 Axes>"
      ]
     },
     "metadata": {},
     "output_type": "display_data"
    }
   ],
   "source": [
    "print('The details for confusion matrix is =')\n",
    "print (classification_report(y_test, y_pred))\n",
    "\n",
    "cm = confusion_matrix(y_test, y_pred)\n",
    "conf_matrix = pd.DataFrame(data = cm, \n",
    "                           columns = ['Predicted:0', 'Predicted:1'], \n",
    "                           index =['Actual:0', 'Actual:1'])\n",
    "\n",
    "plt.figure(figsize = (8, 5))\n",
    "sns.heatmap(conf_matrix, annot = True, fmt = 'd', cmap = \"Greens\")\n",
    "\n",
    "plt.show()"
   ]
  },
  {
   "cell_type": "code",
   "execution_count": null,
   "id": "7c04313f",
   "metadata": {},
   "outputs": [],
   "source": []
  },
  {
   "cell_type": "code",
   "execution_count": null,
   "id": "c3cb0666",
   "metadata": {},
   "outputs": [],
   "source": []
  },
  {
   "cell_type": "code",
   "execution_count": null,
   "id": "aa69b81e",
   "metadata": {},
   "outputs": [],
   "source": []
  }
 ],
 "metadata": {
  "kernelspec": {
   "display_name": "venv",
   "language": "python",
   "name": "python3"
  },
  "language_info": {
   "codemirror_mode": {
    "name": "ipython",
    "version": 3
   },
   "file_extension": ".py",
   "mimetype": "text/x-python",
   "name": "python",
   "nbconvert_exporter": "python",
   "pygments_lexer": "ipython3",
   "version": "3.11.9"
  }
 },
 "nbformat": 4,
 "nbformat_minor": 5
}
