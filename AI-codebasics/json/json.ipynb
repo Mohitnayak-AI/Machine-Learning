{
 "cells": [
  {
   "cell_type": "code",
   "execution_count": 1,
   "id": "c2fca26a",
   "metadata": {},
   "outputs": [
    {
     "data": {
      "text/plain": [
       "str"
      ]
     },
     "execution_count": 1,
     "metadata": {},
     "output_type": "execute_result"
    }
   ],
   "source": [
    "# JSON string\n",
    "json_string = '''\n",
    "{\n",
    "    \"name\": \"Maulik\",\n",
    "    \"age\": 30,\n",
    "    \"is_employee\": true,\n",
    "    \"skills\": [\"Python\", \"Data Analysis\", \"Machine Learning\"],\n",
    "    \"address\": {\n",
    "        \"street\": \"123 Main St\",\n",
    "        \"city\": \"Wonderland\"\n",
    "    }\n",
    "}\n",
    "'''\n",
    "\n",
    "type(json_string)"
   ]
  },
  {
   "cell_type": "code",
   "execution_count": 5,
   "id": "52b3f04e",
   "metadata": {},
   "outputs": [
    {
     "data": {
      "text/plain": [
       "{'name': 'Maulik',\n",
       " 'age': 30,\n",
       " 'is_employee': True,\n",
       " 'skills': ['Python', 'Data Analysis', 'Machine Learning'],\n",
       " 'address': {'street': '123 Main St', 'city': 'Wonderland'}}"
      ]
     },
     "execution_count": 5,
     "metadata": {},
     "output_type": "execute_result"
    }
   ],
   "source": [
    "import json\n",
    "\n",
    "record = json.loads(json_string) # it convert json into dict\n",
    "record"
   ]
  },
  {
   "cell_type": "code",
   "execution_count": 6,
   "id": "f33f0111",
   "metadata": {},
   "outputs": [
    {
     "data": {
      "text/plain": [
       "dict"
      ]
     },
     "execution_count": 6,
     "metadata": {},
     "output_type": "execute_result"
    }
   ],
   "source": [
    "type(record)"
   ]
  },
  {
   "cell_type": "code",
   "execution_count": 7,
   "id": "7f7fc446",
   "metadata": {},
   "outputs": [
    {
     "data": {
      "text/plain": [
       "'Maulik'"
      ]
     },
     "execution_count": 7,
     "metadata": {},
     "output_type": "execute_result"
    }
   ],
   "source": [
    "record['name']"
   ]
  },
  {
   "cell_type": "code",
   "execution_count": 8,
   "id": "41bedc55",
   "metadata": {},
   "outputs": [],
   "source": [
    "# convert dict to json string\n",
    "\n",
    "data = {\n",
    "    \"name\": \"Bob\",\n",
    "    \"age\": 25,\n",
    "    \"is_employee\": False,\n",
    "    \"skills\": [\"JavaScript\", \"Web Development\"],\n",
    "    \"address\": {\n",
    "        \"street\": \"456 Elm St\",\n",
    "        \"city\": \"Springfield\"\n",
    "    }\n",
    "}"
   ]
  },
  {
   "cell_type": "code",
   "execution_count": 9,
   "id": "070ab069",
   "metadata": {},
   "outputs": [
    {
     "data": {
      "text/plain": [
       "'{\"name\": \"Bob\", \"age\": 25, \"is_employee\": false, \"skills\": [\"JavaScript\", \"Web Development\"], \"address\": {\"street\": \"456 Elm St\", \"city\": \"Springfield\"}}'"
      ]
     },
     "execution_count": 9,
     "metadata": {},
     "output_type": "execute_result"
    }
   ],
   "source": [
    "data_str = json.dumps(data)\n",
    "data_str"
   ]
  },
  {
   "cell_type": "code",
   "execution_count": 10,
   "id": "bcde9765",
   "metadata": {},
   "outputs": [
    {
     "data": {
      "text/plain": [
       "str"
      ]
     },
     "execution_count": 10,
     "metadata": {},
     "output_type": "execute_result"
    }
   ],
   "source": [
    "type(data_str)"
   ]
  },
  {
   "cell_type": "code",
   "execution_count": 12,
   "id": "608a6606",
   "metadata": {},
   "outputs": [],
   "source": [
    "# writh json object to a file (dist save as json)\n",
    "\n",
    "with open('output.json','w') as f:\n",
    "    json.dump(data,f,indent=4)"
   ]
  },
  {
   "cell_type": "code",
   "execution_count": 13,
   "id": "b4e7473a",
   "metadata": {},
   "outputs": [],
   "source": [
    "with open('products.json','r') as f:\n",
    "    product = json.load(f)"
   ]
  },
  {
   "cell_type": "code",
   "execution_count": 14,
   "id": "37d9f46a",
   "metadata": {},
   "outputs": [
    {
     "data": {
      "text/plain": [
       "[{'product_id': 1,\n",
       "  'sku': 'ABC123',\n",
       "  'name': 'Wireless Mouse',\n",
       "  'price': 25.99,\n",
       "  'description': 'A comfortable wireless mouse with ergonomic design.',\n",
       "  'in_stock': True,\n",
       "  'category': 'Electronics'},\n",
       " {'product_id': 2,\n",
       "  'sku': 'XYZ789',\n",
       "  'name': 'Mechanical Keyboard',\n",
       "  'price': 89.99,\n",
       "  'description': 'A high-quality mechanical keyboard with customizable keys.',\n",
       "  'in_stock': True,\n",
       "  'category': 'Electronics'},\n",
       " {'product_id': 3,\n",
       "  'sku': 'LMN456',\n",
       "  'name': 'USB-C Charger',\n",
       "  'price': 19.99,\n",
       "  'description': 'A fast-charging USB-C charger with multiple ports.',\n",
       "  'in_stock': False,\n",
       "  'category': 'Accessories'},\n",
       " {'product_id': 4,\n",
       "  'sku': 'QWE234',\n",
       "  'name': 'Bluetooth Speaker',\n",
       "  'price': 49.99,\n",
       "  'description': 'A portable Bluetooth speaker with excellent sound quality.',\n",
       "  'in_stock': True,\n",
       "  'category': 'Audio'},\n",
       " {'product_id': 5,\n",
       "  'sku': 'RTY678',\n",
       "  'name': 'Smartphone Stand',\n",
       "  'price': 14.99,\n",
       "  'description': 'An adjustable smartphone stand for hands-free viewing.',\n",
       "  'in_stock': True,\n",
       "  'category': 'Accessories'}]"
      ]
     },
     "execution_count": 14,
     "metadata": {},
     "output_type": "execute_result"
    }
   ],
   "source": [
    "product"
   ]
  },
  {
   "cell_type": "code",
   "execution_count": 15,
   "id": "50d89129",
   "metadata": {},
   "outputs": [
    {
     "data": {
      "text/plain": [
       "list"
      ]
     },
     "execution_count": 15,
     "metadata": {},
     "output_type": "execute_result"
    }
   ],
   "source": [
    "type(product)"
   ]
  },
  {
   "cell_type": "code",
   "execution_count": 16,
   "id": "240e392e",
   "metadata": {},
   "outputs": [
    {
     "data": {
      "text/plain": [
       "25.99"
      ]
     },
     "execution_count": 16,
     "metadata": {},
     "output_type": "execute_result"
    }
   ],
   "source": [
    "product[0]['price']"
   ]
  },
  {
   "cell_type": "code",
   "execution_count": 17,
   "id": "9015a507",
   "metadata": {},
   "outputs": [],
   "source": [
    "json_string = '''\n",
    "{\n",
    "    \"books\": [\n",
    "        {\"title\": \"The Magic Of Thinking Big\", \"author\": \"David J. Schwartz\", \"published\": 1959},\n",
    "        {\"title\": \"Chanakya Neeti\", \"author\": \"B.K. Chaturvedi\", \"published\": 2009},\n",
    "        {\"title\": \"How to Win Friends and Influence People\", \"author\": \"Dale Karnegie\", \"published\": 1936}\n",
    "    ],\n",
    "    \"status_code\": 200\n",
    "}\n",
    "'''"
   ]
  },
  {
   "cell_type": "code",
   "execution_count": 18,
   "id": "348607ee",
   "metadata": {},
   "outputs": [
    {
     "data": {
      "text/plain": [
       "dict"
      ]
     },
     "execution_count": 18,
     "metadata": {},
     "output_type": "execute_result"
    }
   ],
   "source": [
    "books = json.loads(json_string)\n",
    "type(books)"
   ]
  },
  {
   "cell_type": "code",
   "execution_count": 19,
   "id": "386a1866",
   "metadata": {},
   "outputs": [
    {
     "data": {
      "text/plain": [
       "{'books': [{'title': 'The Magic Of Thinking Big',\n",
       "   'author': 'David J. Schwartz',\n",
       "   'published': 1959},\n",
       "  {'title': 'Chanakya Neeti', 'author': 'B.K. Chaturvedi', 'published': 2009},\n",
       "  {'title': 'How to Win Friends and Influence People',\n",
       "   'author': 'Dale Karnegie',\n",
       "   'published': 1936}],\n",
       " 'status_code': 200}"
      ]
     },
     "execution_count": 19,
     "metadata": {},
     "output_type": "execute_result"
    }
   ],
   "source": [
    "books"
   ]
  },
  {
   "cell_type": "code",
   "execution_count": 20,
   "id": "cf2c3ebf",
   "metadata": {},
   "outputs": [],
   "source": [
    "books = books['books']"
   ]
  },
  {
   "cell_type": "code",
   "execution_count": 21,
   "id": "f0d95c3c",
   "metadata": {},
   "outputs": [
    {
     "data": {
      "text/plain": [
       "[{'title': 'The Magic Of Thinking Big',\n",
       "  'author': 'David J. Schwartz',\n",
       "  'published': 1959},\n",
       " {'title': 'Chanakya Neeti', 'author': 'B.K. Chaturvedi', 'published': 2009},\n",
       " {'title': 'How to Win Friends and Influence People',\n",
       "  'author': 'Dale Karnegie',\n",
       "  'published': 1936}]"
      ]
     },
     "execution_count": 21,
     "metadata": {},
     "output_type": "execute_result"
    }
   ],
   "source": [
    "books"
   ]
  },
  {
   "cell_type": "code",
   "execution_count": 28,
   "id": "bd040140",
   "metadata": {},
   "outputs": [
    {
     "data": {
      "text/plain": [
       "[{'title': 'The Magic Of Thinking Big', 'author': 'David J. Schwartz'},\n",
       " {'title': 'Chanakya Neeti', 'author': 'B.K. Chaturvedi'},\n",
       " {'title': 'How to Win Friends and Influence People',\n",
       "  'author': 'Dale Karnegie'}]"
      ]
     },
     "execution_count": 28,
     "metadata": {},
     "output_type": "execute_result"
    }
   ],
   "source": [
    "[{'title':x['title'],'author':x['author']} for x in books]"
   ]
  },
  {
   "cell_type": "code",
   "execution_count": null,
   "id": "4dd48462",
   "metadata": {},
   "outputs": [],
   "source": [
    "# Malformed JSON string\n",
    "json_string = '''\n",
    "{\n",
    "    \"name\": \"Krishna\",\n",
    "    \"age\": 30\n",
    "    \"is_employee\": true\n",
    "}\n",
    "'''"
   ]
  },
  {
   "cell_type": "code",
   "execution_count": 31,
   "id": "57fe6554",
   "metadata": {},
   "outputs": [
    {
     "ename": "JSONDecodeError",
     "evalue": "Expecting ',' delimiter: line 5 column 5 (char 44)",
     "output_type": "error",
     "traceback": [
      "\u001b[31m---------------------------------------------------------------------------\u001b[39m",
      "\u001b[31mJSONDecodeError\u001b[39m                           Traceback (most recent call last)",
      "\u001b[36mCell\u001b[39m\u001b[36m \u001b[39m\u001b[32mIn[31]\u001b[39m\u001b[32m, line 1\u001b[39m\n\u001b[32m----> \u001b[39m\u001b[32m1\u001b[39m \u001b[43mjson\u001b[49m\u001b[43m.\u001b[49m\u001b[43mloads\u001b[49m\u001b[43m(\u001b[49m\u001b[43mjson_string\u001b[49m\u001b[43m)\u001b[49m\n",
      "\u001b[36mFile \u001b[39m\u001b[32m/Library/Frameworks/Python.framework/Versions/3.11/lib/python3.11/json/__init__.py:346\u001b[39m, in \u001b[36mloads\u001b[39m\u001b[34m(s, cls, object_hook, parse_float, parse_int, parse_constant, object_pairs_hook, **kw)\u001b[39m\n\u001b[32m    341\u001b[39m     s = s.decode(detect_encoding(s), \u001b[33m'\u001b[39m\u001b[33msurrogatepass\u001b[39m\u001b[33m'\u001b[39m)\n\u001b[32m    343\u001b[39m \u001b[38;5;28;01mif\u001b[39;00m (\u001b[38;5;28mcls\u001b[39m \u001b[38;5;129;01mis\u001b[39;00m \u001b[38;5;28;01mNone\u001b[39;00m \u001b[38;5;129;01mand\u001b[39;00m object_hook \u001b[38;5;129;01mis\u001b[39;00m \u001b[38;5;28;01mNone\u001b[39;00m \u001b[38;5;129;01mand\u001b[39;00m\n\u001b[32m    344\u001b[39m         parse_int \u001b[38;5;129;01mis\u001b[39;00m \u001b[38;5;28;01mNone\u001b[39;00m \u001b[38;5;129;01mand\u001b[39;00m parse_float \u001b[38;5;129;01mis\u001b[39;00m \u001b[38;5;28;01mNone\u001b[39;00m \u001b[38;5;129;01mand\u001b[39;00m\n\u001b[32m    345\u001b[39m         parse_constant \u001b[38;5;129;01mis\u001b[39;00m \u001b[38;5;28;01mNone\u001b[39;00m \u001b[38;5;129;01mand\u001b[39;00m object_pairs_hook \u001b[38;5;129;01mis\u001b[39;00m \u001b[38;5;28;01mNone\u001b[39;00m \u001b[38;5;129;01mand\u001b[39;00m \u001b[38;5;129;01mnot\u001b[39;00m kw):\n\u001b[32m--> \u001b[39m\u001b[32m346\u001b[39m     \u001b[38;5;28;01mreturn\u001b[39;00m \u001b[43m_default_decoder\u001b[49m\u001b[43m.\u001b[49m\u001b[43mdecode\u001b[49m\u001b[43m(\u001b[49m\u001b[43ms\u001b[49m\u001b[43m)\u001b[49m\n\u001b[32m    347\u001b[39m \u001b[38;5;28;01mif\u001b[39;00m \u001b[38;5;28mcls\u001b[39m \u001b[38;5;129;01mis\u001b[39;00m \u001b[38;5;28;01mNone\u001b[39;00m:\n\u001b[32m    348\u001b[39m     \u001b[38;5;28mcls\u001b[39m = JSONDecoder\n",
      "\u001b[36mFile \u001b[39m\u001b[32m/Library/Frameworks/Python.framework/Versions/3.11/lib/python3.11/json/decoder.py:337\u001b[39m, in \u001b[36mJSONDecoder.decode\u001b[39m\u001b[34m(self, s, _w)\u001b[39m\n\u001b[32m    332\u001b[39m \u001b[38;5;28;01mdef\u001b[39;00m\u001b[38;5;250m \u001b[39m\u001b[34mdecode\u001b[39m(\u001b[38;5;28mself\u001b[39m, s, _w=WHITESPACE.match):\n\u001b[32m    333\u001b[39m \u001b[38;5;250m    \u001b[39m\u001b[33;03m\"\"\"Return the Python representation of ``s`` (a ``str`` instance\u001b[39;00m\n\u001b[32m    334\u001b[39m \u001b[33;03m    containing a JSON document).\u001b[39;00m\n\u001b[32m    335\u001b[39m \n\u001b[32m    336\u001b[39m \u001b[33;03m    \"\"\"\u001b[39;00m\n\u001b[32m--> \u001b[39m\u001b[32m337\u001b[39m     obj, end = \u001b[38;5;28;43mself\u001b[39;49m\u001b[43m.\u001b[49m\u001b[43mraw_decode\u001b[49m\u001b[43m(\u001b[49m\u001b[43ms\u001b[49m\u001b[43m,\u001b[49m\u001b[43m \u001b[49m\u001b[43midx\u001b[49m\u001b[43m=\u001b[49m\u001b[43m_w\u001b[49m\u001b[43m(\u001b[49m\u001b[43ms\u001b[49m\u001b[43m,\u001b[49m\u001b[43m \u001b[49m\u001b[32;43m0\u001b[39;49m\u001b[43m)\u001b[49m\u001b[43m.\u001b[49m\u001b[43mend\u001b[49m\u001b[43m(\u001b[49m\u001b[43m)\u001b[49m\u001b[43m)\u001b[49m\n\u001b[32m    338\u001b[39m     end = _w(s, end).end()\n\u001b[32m    339\u001b[39m     \u001b[38;5;28;01mif\u001b[39;00m end != \u001b[38;5;28mlen\u001b[39m(s):\n",
      "\u001b[36mFile \u001b[39m\u001b[32m/Library/Frameworks/Python.framework/Versions/3.11/lib/python3.11/json/decoder.py:353\u001b[39m, in \u001b[36mJSONDecoder.raw_decode\u001b[39m\u001b[34m(self, s, idx)\u001b[39m\n\u001b[32m    344\u001b[39m \u001b[38;5;250m\u001b[39m\u001b[33;03m\"\"\"Decode a JSON document from ``s`` (a ``str`` beginning with\u001b[39;00m\n\u001b[32m    345\u001b[39m \u001b[33;03ma JSON document) and return a 2-tuple of the Python\u001b[39;00m\n\u001b[32m    346\u001b[39m \u001b[33;03mrepresentation and the index in ``s`` where the document ended.\u001b[39;00m\n\u001b[32m   (...)\u001b[39m\u001b[32m    350\u001b[39m \n\u001b[32m    351\u001b[39m \u001b[33;03m\"\"\"\u001b[39;00m\n\u001b[32m    352\u001b[39m \u001b[38;5;28;01mtry\u001b[39;00m:\n\u001b[32m--> \u001b[39m\u001b[32m353\u001b[39m     obj, end = \u001b[38;5;28;43mself\u001b[39;49m\u001b[43m.\u001b[49m\u001b[43mscan_once\u001b[49m\u001b[43m(\u001b[49m\u001b[43ms\u001b[49m\u001b[43m,\u001b[49m\u001b[43m \u001b[49m\u001b[43midx\u001b[49m\u001b[43m)\u001b[49m\n\u001b[32m    354\u001b[39m \u001b[38;5;28;01mexcept\u001b[39;00m \u001b[38;5;167;01mStopIteration\u001b[39;00m \u001b[38;5;28;01mas\u001b[39;00m err:\n\u001b[32m    355\u001b[39m     \u001b[38;5;28;01mraise\u001b[39;00m JSONDecodeError(\u001b[33m\"\u001b[39m\u001b[33mExpecting value\u001b[39m\u001b[33m\"\u001b[39m, s, err.value) \u001b[38;5;28;01mfrom\u001b[39;00m\u001b[38;5;250m \u001b[39m\u001b[38;5;28;01mNone\u001b[39;00m\n",
      "\u001b[31mJSONDecodeError\u001b[39m: Expecting ',' delimiter: line 5 column 5 (char 44)"
     ]
    }
   ],
   "source": [
    "json.loads(json_string)"
   ]
  },
  {
   "cell_type": "markdown",
   "id": "8093d433",
   "metadata": {},
   "source": [
    "in the json_string the `','` is missing from `\"age\":30`\n",
    "\n",
    "so better to apply try and except block"
   ]
  },
  {
   "cell_type": "code",
   "execution_count": 33,
   "id": "c942511b",
   "metadata": {},
   "outputs": [
    {
     "name": "stdout",
     "output_type": "stream",
     "text": [
      "failed to parse json: Expecting ',' delimiter: line 5 column 5 (char 44)\n"
     ]
    }
   ],
   "source": [
    "try:\n",
    "    json.loads(json_string)\n",
    "except json.JSONDecodeError as e:\n",
    "    print(f'failed to parse json: {e}')"
   ]
  },
  {
   "cell_type": "code",
   "execution_count": null,
   "id": "af151901",
   "metadata": {},
   "outputs": [],
   "source": []
  }
 ],
 "metadata": {
  "kernelspec": {
   "display_name": "venv",
   "language": "python",
   "name": "python3"
  },
  "language_info": {
   "codemirror_mode": {
    "name": "ipython",
    "version": 3
   },
   "file_extension": ".py",
   "mimetype": "text/x-python",
   "name": "python",
   "nbconvert_exporter": "python",
   "pygments_lexer": "ipython3",
   "version": "3.11.9"
  }
 },
 "nbformat": 4,
 "nbformat_minor": 5
}
