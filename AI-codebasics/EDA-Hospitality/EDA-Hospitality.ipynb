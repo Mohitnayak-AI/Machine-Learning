{
 "cells": [
  {
   "cell_type": "markdown",
   "id": "5a31624c",
   "metadata": {},
   "source": [
    "Look Into The Datas"
   ]
  },
  {
   "cell_type": "code",
   "execution_count": 13,
   "id": "65264a68",
   "metadata": {},
   "outputs": [],
   "source": [
    "import pandas as pd\n",
    "import matplotlib.pyplot as plt\n",
    "import seaborn as sns\n",
    "\n",
    "dim_data = pd.read_csv('../EDA-Hospitality/datasets/dim_date.csv')\n",
    "dim_hotels = pd.read_csv('../EDA-Hospitality/datasets/dim_hotels.csv')\n",
    "dim_rooms = pd.read_csv('../EDA-Hospitality/datasets/dim_rooms.csv')\n",
    "fact_agg_bookings = pd.read_csv('../EDA-Hospitality/datasets/fact_aggregated_bookings.csv')\n",
    "fact_bookings = pd.read_csv('../EDA-Hospitality/datasets/fact_bookings.csv')\n",
    "new_aug_data = pd.read_csv('../EDA-Hospitality/datasets/new_data_august.csv')"
   ]
  },
  {
   "cell_type": "code",
   "execution_count": 2,
   "id": "15daea38",
   "metadata": {},
   "outputs": [
    {
     "name": "stdout",
     "output_type": "stream",
     "text": [
      "<class 'pandas.core.frame.DataFrame'>\n",
      "RangeIndex: 92 entries, 0 to 91\n",
      "Data columns (total 4 columns):\n",
      " #   Column    Non-Null Count  Dtype \n",
      "---  ------    --------------  ----- \n",
      " 0   date      92 non-null     object\n",
      " 1   mmm yy    92 non-null     object\n",
      " 2   week no   92 non-null     object\n",
      " 3   day_type  92 non-null     object\n",
      "dtypes: object(4)\n",
      "memory usage: 3.0+ KB\n"
     ]
    }
   ],
   "source": [
    "dim_data.info()"
   ]
  },
  {
   "cell_type": "code",
   "execution_count": 3,
   "id": "43f5d681",
   "metadata": {},
   "outputs": [
    {
     "name": "stdout",
     "output_type": "stream",
     "text": [
      "<class 'pandas.core.frame.DataFrame'>\n",
      "RangeIndex: 25 entries, 0 to 24\n",
      "Data columns (total 4 columns):\n",
      " #   Column         Non-Null Count  Dtype \n",
      "---  ------         --------------  ----- \n",
      " 0   property_id    25 non-null     int64 \n",
      " 1   property_name  25 non-null     object\n",
      " 2   category       25 non-null     object\n",
      " 3   city           25 non-null     object\n",
      "dtypes: int64(1), object(3)\n",
      "memory usage: 932.0+ bytes\n"
     ]
    }
   ],
   "source": [
    "dim_hotels.info()"
   ]
  },
  {
   "cell_type": "code",
   "execution_count": 4,
   "id": "685215a7",
   "metadata": {},
   "outputs": [
    {
     "name": "stdout",
     "output_type": "stream",
     "text": [
      "<class 'pandas.core.frame.DataFrame'>\n",
      "RangeIndex: 4 entries, 0 to 3\n",
      "Data columns (total 2 columns):\n",
      " #   Column      Non-Null Count  Dtype \n",
      "---  ------      --------------  ----- \n",
      " 0   room_id     4 non-null      object\n",
      " 1   room_class  4 non-null      object\n",
      "dtypes: object(2)\n",
      "memory usage: 196.0+ bytes\n"
     ]
    }
   ],
   "source": [
    "dim_rooms.info()"
   ]
  },
  {
   "cell_type": "code",
   "execution_count": 5,
   "id": "f94519c8",
   "metadata": {},
   "outputs": [
    {
     "name": "stdout",
     "output_type": "stream",
     "text": [
      "<class 'pandas.core.frame.DataFrame'>\n",
      "RangeIndex: 9200 entries, 0 to 9199\n",
      "Data columns (total 5 columns):\n",
      " #   Column               Non-Null Count  Dtype  \n",
      "---  ------               --------------  -----  \n",
      " 0   property_id          9200 non-null   int64  \n",
      " 1   check_in_date        9200 non-null   object \n",
      " 2   room_category        9200 non-null   object \n",
      " 3   successful_bookings  9200 non-null   int64  \n",
      " 4   capacity             9198 non-null   float64\n",
      "dtypes: float64(1), int64(2), object(2)\n",
      "memory usage: 359.5+ KB\n"
     ]
    }
   ],
   "source": [
    "fact_agg_bookings.info()"
   ]
  },
  {
   "cell_type": "code",
   "execution_count": 6,
   "id": "f41623f1",
   "metadata": {},
   "outputs": [
    {
     "name": "stdout",
     "output_type": "stream",
     "text": [
      "<class 'pandas.core.frame.DataFrame'>\n",
      "RangeIndex: 134590 entries, 0 to 134589\n",
      "Data columns (total 12 columns):\n",
      " #   Column             Non-Null Count   Dtype  \n",
      "---  ------             --------------   -----  \n",
      " 0   booking_id         134590 non-null  object \n",
      " 1   property_id        134590 non-null  int64  \n",
      " 2   booking_date       134590 non-null  object \n",
      " 3   check_in_date      134590 non-null  object \n",
      " 4   checkout_date      134590 non-null  object \n",
      " 5   no_guests          134587 non-null  float64\n",
      " 6   room_category      134590 non-null  object \n",
      " 7   booking_platform   134590 non-null  object \n",
      " 8   ratings_given      56683 non-null   float64\n",
      " 9   booking_status     134590 non-null  object \n",
      " 10  revenue_generated  134590 non-null  int64  \n",
      " 11  revenue_realized   134590 non-null  int64  \n",
      "dtypes: float64(2), int64(3), object(7)\n",
      "memory usage: 12.3+ MB\n"
     ]
    }
   ],
   "source": [
    "fact_bookings.info()"
   ]
  },
  {
   "cell_type": "code",
   "execution_count": 7,
   "id": "3587c273",
   "metadata": {},
   "outputs": [
    {
     "name": "stdout",
     "output_type": "stream",
     "text": [
      "<class 'pandas.core.frame.DataFrame'>\n",
      "RangeIndex: 7 entries, 0 to 6\n",
      "Data columns (total 13 columns):\n",
      " #   Column               Non-Null Count  Dtype  \n",
      "---  ------               --------------  -----  \n",
      " 0   property_id          7 non-null      int64  \n",
      " 1   property_name        7 non-null      object \n",
      " 2   category             7 non-null      object \n",
      " 3   city                 7 non-null      object \n",
      " 4   room_category        7 non-null      object \n",
      " 5   room_class           7 non-null      object \n",
      " 6   check_in_date        7 non-null      object \n",
      " 7   mmm yy               7 non-null      object \n",
      " 8   week no              7 non-null      object \n",
      " 9   day_type             7 non-null      object \n",
      " 10  successful_bookings  7 non-null      int64  \n",
      " 11  capacity             7 non-null      int64  \n",
      " 12  occ%                 7 non-null      float64\n",
      "dtypes: float64(1), int64(3), object(9)\n",
      "memory usage: 860.0+ bytes\n"
     ]
    }
   ],
   "source": [
    "new_aug_data.info()"
   ]
  },
  {
   "cell_type": "markdown",
   "id": "584e9256",
   "metadata": {},
   "source": [
    "Let look more deep into fact_bookings dataset"
   ]
  },
  {
   "cell_type": "code",
   "execution_count": 9,
   "id": "212ce2ca",
   "metadata": {},
   "outputs": [
    {
     "data": {
      "text/plain": [
       "(134590, 12)"
      ]
     },
     "execution_count": 9,
     "metadata": {},
     "output_type": "execute_result"
    }
   ],
   "source": [
    "fact_bookings.shape"
   ]
  },
  {
   "cell_type": "markdown",
   "id": "c1ddcb73",
   "metadata": {},
   "source": [
    "so it has 134590 rows and 12 cols"
   ]
  },
  {
   "cell_type": "code",
   "execution_count": 10,
   "id": "ed0f5733",
   "metadata": {},
   "outputs": [
    {
     "data": {
      "text/plain": [
       "Index(['booking_id', 'property_id', 'booking_date', 'check_in_date',\n",
       "       'checkout_date', 'no_guests', 'room_category', 'booking_platform',\n",
       "       'ratings_given', 'booking_status', 'revenue_generated',\n",
       "       'revenue_realized'],\n",
       "      dtype='object')"
      ]
     },
     "execution_count": 10,
     "metadata": {},
     "output_type": "execute_result"
    }
   ],
   "source": [
    "fact_bookings.columns"
   ]
  },
  {
   "cell_type": "code",
   "execution_count": 11,
   "id": "93f5b6c9",
   "metadata": {},
   "outputs": [
    {
     "data": {
      "application/vnd.microsoft.datawrangler.viewer.v0+json": {
       "columns": [
        {
         "name": "room_category",
         "rawType": "object",
         "type": "string"
        },
        {
         "name": "count",
         "rawType": "int64",
         "type": "integer"
        }
       ],
       "ref": "8c03eab0-65ee-48ca-8387-97444bbdac0c",
       "rows": [
        [
         "RT2",
         "49505"
        ],
        [
         "RT1",
         "38446"
        ],
        [
         "RT3",
         "30566"
        ],
        [
         "RT4",
         "16073"
        ]
       ],
       "shape": {
        "columns": 1,
        "rows": 4
       }
      },
      "text/plain": [
       "room_category\n",
       "RT2    49505\n",
       "RT1    38446\n",
       "RT3    30566\n",
       "RT4    16073\n",
       "Name: count, dtype: int64"
      ]
     },
     "execution_count": 11,
     "metadata": {},
     "output_type": "execute_result"
    }
   ],
   "source": [
    "fact_bookings['room_category'].value_counts()"
   ]
  },
  {
   "cell_type": "markdown",
   "id": "2b8ebf0d",
   "metadata": {},
   "source": [
    "room category RT2 is booked most offen and here we have 4 different room type"
   ]
  },
  {
   "cell_type": "code",
   "execution_count": 12,
   "id": "a12ad94b",
   "metadata": {},
   "outputs": [
    {
     "data": {
      "application/vnd.microsoft.datawrangler.viewer.v0+json": {
       "columns": [
        {
         "name": "booking_platform",
         "rawType": "object",
         "type": "string"
        },
        {
         "name": "count",
         "rawType": "int64",
         "type": "integer"
        }
       ],
       "ref": "16918193-d784-4fd4-8b38-2169544b6c7c",
       "rows": [
        [
         "others",
         "55066"
        ],
        [
         "makeyourtrip",
         "26898"
        ],
        [
         "logtrip",
         "14756"
        ],
        [
         "direct online",
         "13379"
        ],
        [
         "tripster",
         "9630"
        ],
        [
         "journey",
         "8106"
        ],
        [
         "direct offline",
         "6755"
        ]
       ],
       "shape": {
        "columns": 1,
        "rows": 7
       }
      },
      "text/plain": [
       "booking_platform\n",
       "others            55066\n",
       "makeyourtrip      26898\n",
       "logtrip           14756\n",
       "direct online     13379\n",
       "tripster           9630\n",
       "journey            8106\n",
       "direct offline     6755\n",
       "Name: count, dtype: int64"
      ]
     },
     "execution_count": 12,
     "metadata": {},
     "output_type": "execute_result"
    }
   ],
   "source": [
    "fact_bookings['booking_platform'].value_counts()"
   ]
  },
  {
   "cell_type": "markdown",
   "id": "9d990b0b",
   "metadata": {},
   "source": [
    "we are getting booking majorly from 3rd party website or app and very less traffic in offline booking and also direct online booking from company own website or app"
   ]
  },
  {
   "cell_type": "code",
   "execution_count": 23,
   "id": "79735b78",
   "metadata": {},
   "outputs": [
    {
     "data": {
      "text/plain": [
       "<Axes: xlabel='booking_platform', ylabel='count'>"
      ]
     },
     "execution_count": 23,
     "metadata": {},
     "output_type": "execute_result"
    },
    {
     "data": {
      "image/png": "[encoded data removed]",
      "text/plain": [
       "<Figure size 1000x600 with 1 Axes>"
      ]
     },
     "metadata": {},
     "output_type": "display_data"
    }
   ],
   "source": [
    "plt.figure(figsize=(10,6))\n",
    "sns.barplot(fact_bookings['booking_platform'].value_counts())"
   ]
  },
  {
   "cell_type": "code",
   "execution_count": 24,
   "id": "9879a1c4",
   "metadata": {},
   "outputs": [
    {
     "data": {
      "application/vnd.microsoft.datawrangler.viewer.v0+json": {
       "columns": [
        {
         "name": "index",
         "rawType": "object",
         "type": "string"
        },
        {
         "name": "property_id",
         "rawType": "float64",
         "type": "float"
        },
        {
         "name": "no_guests",
         "rawType": "float64",
         "type": "float"
        },
        {
         "name": "ratings_given",
         "rawType": "float64",
         "type": "float"
        },
        {
         "name": "revenue_generated",
         "rawType": "float64",
         "type": "float"
        },
        {
         "name": "revenue_realized",
         "rawType": "float64",
         "type": "float"
        }
       ],
       "ref": "3c4239a7-edeb-49e9-bdbd-a9214b4a47ef",
       "rows": [
        [
         "count",
         "134590.0",
         "134587.0",
         "56683.0",
         "134590.0",
         "134590.0"
        ],
        [
         "mean",
         "18061.113492830078",
         "2.0361699123986714",
         "3.619003934160154",
         "15378.05412734973",
         "12696.123255813953"
        ],
        [
         "std",
         "1093.0558465988563",
         "1.0348852636174959",
         "1.235008610491633",
         "93036.03867095453",
         "6928.108124022361"
        ],
        [
         "min",
         "16558.0",
         "-17.0",
         "1.0",
         "6500.0",
         "2600.0"
        ],
        [
         "25%",
         "17558.0",
         "1.0",
         "3.0",
         "9900.0",
         "7600.0"
        ],
        [
         "50%",
         "17564.0",
         "2.0",
         "4.0",
         "13500.0",
         "11700.0"
        ],
        [
         "75%",
         "18563.0",
         "2.0",
         "5.0",
         "18000.0",
         "15300.0"
        ],
        [
         "max",
         "19563.0",
         "6.0",
         "5.0",
         "28560000.0",
         "45220.0"
        ]
       ],
       "shape": {
        "columns": 5,
        "rows": 8
       }
      },
      "text/html": [
       "<div>\n",
       "<style scoped>\n",
       "    .dataframe tbody tr th:only-of-type {\n",
       "        vertical-align: middle;\n",
       "    }\n",
       "\n",
       "    .dataframe tbody tr th {\n",
       "        vertical-align: top;\n",
       "    }\n",
       "\n",
       "    .dataframe thead th {\n",
       "        text-align: right;\n",
       "    }\n",
       "</style>\n",
       "<table border=\"1\" class=\"dataframe\">\n",
       "  <thead>\n",
       "    <tr style=\"text-align: right;\">\n",
       "      <th></th>\n",
       "      <th>property_id</th>\n",
       "      <th>no_guests</th>\n",
       "      <th>ratings_given</th>\n",
       "      <th>revenue_generated</th>\n",
       "      <th>revenue_realized</th>\n",
       "    </tr>\n",
       "  </thead>\n",
       "  <tbody>\n",
       "    <tr>\n",
       "      <th>count</th>\n",
       "      <td>134590.000000</td>\n",
       "      <td>134587.000000</td>\n",
       "      <td>56683.000000</td>\n",
       "      <td>1.345900e+05</td>\n",
       "      <td>134590.000000</td>\n",
       "    </tr>\n",
       "    <tr>\n",
       "      <th>mean</th>\n",
       "      <td>18061.113493</td>\n",
       "      <td>2.036170</td>\n",
       "      <td>3.619004</td>\n",
       "      <td>1.537805e+04</td>\n",
       "      <td>12696.123256</td>\n",
       "    </tr>\n",
       "    <tr>\n",
       "      <th>std</th>\n",
       "      <td>1093.055847</td>\n",
       "      <td>1.034885</td>\n",
       "      <td>1.235009</td>\n",
       "      <td>9.303604e+04</td>\n",
       "      <td>6928.108124</td>\n",
       "    </tr>\n",
       "    <tr>\n",
       "      <th>min</th>\n",
       "      <td>16558.000000</td>\n",
       "      <td>-17.000000</td>\n",
       "      <td>1.000000</td>\n",
       "      <td>6.500000e+03</td>\n",
       "      <td>2600.000000</td>\n",
       "    </tr>\n",
       "    <tr>\n",
       "      <th>25%</th>\n",
       "      <td>17558.000000</td>\n",
       "      <td>1.000000</td>\n",
       "      <td>3.000000</td>\n",
       "      <td>9.900000e+03</td>\n",
       "      <td>7600.000000</td>\n",
       "    </tr>\n",
       "    <tr>\n",
       "      <th>50%</th>\n",
       "      <td>17564.000000</td>\n",
       "      <td>2.000000</td>\n",
       "      <td>4.000000</td>\n",
       "      <td>1.350000e+04</td>\n",
       "      <td>11700.000000</td>\n",
       "    </tr>\n",
       "    <tr>\n",
       "      <th>75%</th>\n",
       "      <td>18563.000000</td>\n",
       "      <td>2.000000</td>\n",
       "      <td>5.000000</td>\n",
       "      <td>1.800000e+04</td>\n",
       "      <td>15300.000000</td>\n",
       "    </tr>\n",
       "    <tr>\n",
       "      <th>max</th>\n",
       "      <td>19563.000000</td>\n",
       "      <td>6.000000</td>\n",
       "      <td>5.000000</td>\n",
       "      <td>2.856000e+07</td>\n",
       "      <td>45220.000000</td>\n",
       "    </tr>\n",
       "  </tbody>\n",
       "</table>\n",
       "</div>"
      ],
      "text/plain": [
       "         property_id      no_guests  ratings_given  revenue_generated  \\\n",
       "count  134590.000000  134587.000000   56683.000000       1.345900e+05   \n",
       "mean    18061.113493       2.036170       3.619004       1.537805e+04   \n",
       "std      1093.055847       1.034885       1.235009       9.303604e+04   \n",
       "min     16558.000000     -17.000000       1.000000       6.500000e+03   \n",
       "25%     17558.000000       1.000000       3.000000       9.900000e+03   \n",
       "50%     17564.000000       2.000000       4.000000       1.350000e+04   \n",
       "75%     18563.000000       2.000000       5.000000       1.800000e+04   \n",
       "max     19563.000000       6.000000       5.000000       2.856000e+07   \n",
       "\n",
       "       revenue_realized  \n",
       "count     134590.000000  \n",
       "mean       12696.123256  \n",
       "std         6928.108124  \n",
       "min         2600.000000  \n",
       "25%         7600.000000  \n",
       "50%        11700.000000  \n",
       "75%        15300.000000  \n",
       "max        45220.000000  "
      ]
     },
     "execution_count": 24,
     "metadata": {},
     "output_type": "execute_result"
    }
   ],
   "source": [
    "fact_bookings.describe()"
   ]
  },
  {
   "cell_type": "code",
   "execution_count": 25,
   "id": "2948e11c",
   "metadata": {},
   "outputs": [
    {
     "data": {
      "application/vnd.microsoft.datawrangler.viewer.v0+json": {
       "columns": [
        {
         "name": "index",
         "rawType": "object",
         "type": "string"
        },
        {
         "name": "count",
         "rawType": "float64",
         "type": "float"
        },
        {
         "name": "mean",
         "rawType": "float64",
         "type": "float"
        },
        {
         "name": "std",
         "rawType": "float64",
         "type": "float"
        },
        {
         "name": "min",
         "rawType": "float64",
         "type": "float"
        },
        {
         "name": "25%",
         "rawType": "float64",
         "type": "float"
        },
        {
         "name": "50%",
         "rawType": "float64",
         "type": "float"
        },
        {
         "name": "75%",
         "rawType": "float64",
         "type": "float"
        },
        {
         "name": "max",
         "rawType": "float64",
         "type": "float"
        }
       ],
       "ref": "b2a569a2-6a66-4c1c-9347-3ccb6d92e177",
       "rows": [
        [
         "property_id",
         "134590.0",
         "18061.113492830078",
         "1093.0558465988563",
         "16558.0",
         "17558.0",
         "17564.0",
         "18563.0",
         "19563.0"
        ],
        [
         "no_guests",
         "134587.0",
         "2.0361699123986714",
         "1.0348852636174959",
         "-17.0",
         "1.0",
         "2.0",
         "2.0",
         "6.0"
        ],
        [
         "ratings_given",
         "56683.0",
         "3.619003934160154",
         "1.235008610491633",
         "1.0",
         "3.0",
         "4.0",
         "5.0",
         "5.0"
        ],
        [
         "revenue_generated",
         "134590.0",
         "15378.05412734973",
         "93036.03867095453",
         "6500.0",
         "9900.0",
         "13500.0",
         "18000.0",
         "28560000.0"
        ],
        [
         "revenue_realized",
         "134590.0",
         "12696.123255813953",
         "6928.108124022361",
         "2600.0",
         "7600.0",
         "11700.0",
         "15300.0",
         "45220.0"
        ]
       ],
       "shape": {
        "columns": 8,
        "rows": 5
       }
      },
      "text/html": [
       "<div>\n",
       "<style scoped>\n",
       "    .dataframe tbody tr th:only-of-type {\n",
       "        vertical-align: middle;\n",
       "    }\n",
       "\n",
       "    .dataframe tbody tr th {\n",
       "        vertical-align: top;\n",
       "    }\n",
       "\n",
       "    .dataframe thead th {\n",
       "        text-align: right;\n",
       "    }\n",
       "</style>\n",
       "<table border=\"1\" class=\"dataframe\">\n",
       "  <thead>\n",
       "    <tr style=\"text-align: right;\">\n",
       "      <th></th>\n",
       "      <th>count</th>\n",
       "      <th>mean</th>\n",
       "      <th>std</th>\n",
       "      <th>min</th>\n",
       "      <th>25%</th>\n",
       "      <th>50%</th>\n",
       "      <th>75%</th>\n",
       "      <th>max</th>\n",
       "    </tr>\n",
       "  </thead>\n",
       "  <tbody>\n",
       "    <tr>\n",
       "      <th>property_id</th>\n",
       "      <td>134590.0</td>\n",
       "      <td>18061.113493</td>\n",
       "      <td>1093.055847</td>\n",
       "      <td>16558.0</td>\n",
       "      <td>17558.0</td>\n",
       "      <td>17564.0</td>\n",
       "      <td>18563.0</td>\n",
       "      <td>19563.0</td>\n",
       "    </tr>\n",
       "    <tr>\n",
       "      <th>no_guests</th>\n",
       "      <td>134587.0</td>\n",
       "      <td>2.036170</td>\n",
       "      <td>1.034885</td>\n",
       "      <td>-17.0</td>\n",
       "      <td>1.0</td>\n",
       "      <td>2.0</td>\n",
       "      <td>2.0</td>\n",
       "      <td>6.0</td>\n",
       "    </tr>\n",
       "    <tr>\n",
       "      <th>ratings_given</th>\n",
       "      <td>56683.0</td>\n",
       "      <td>3.619004</td>\n",
       "      <td>1.235009</td>\n",
       "      <td>1.0</td>\n",
       "      <td>3.0</td>\n",
       "      <td>4.0</td>\n",
       "      <td>5.0</td>\n",
       "      <td>5.0</td>\n",
       "    </tr>\n",
       "    <tr>\n",
       "      <th>revenue_generated</th>\n",
       "      <td>134590.0</td>\n",
       "      <td>15378.054127</td>\n",
       "      <td>93036.038671</td>\n",
       "      <td>6500.0</td>\n",
       "      <td>9900.0</td>\n",
       "      <td>13500.0</td>\n",
       "      <td>18000.0</td>\n",
       "      <td>28560000.0</td>\n",
       "    </tr>\n",
       "    <tr>\n",
       "      <th>revenue_realized</th>\n",
       "      <td>134590.0</td>\n",
       "      <td>12696.123256</td>\n",
       "      <td>6928.108124</td>\n",
       "      <td>2600.0</td>\n",
       "      <td>7600.0</td>\n",
       "      <td>11700.0</td>\n",
       "      <td>15300.0</td>\n",
       "      <td>45220.0</td>\n",
       "    </tr>\n",
       "  </tbody>\n",
       "</table>\n",
       "</div>"
      ],
      "text/plain": [
       "                      count          mean           std      min      25%  \\\n",
       "property_id        134590.0  18061.113493   1093.055847  16558.0  17558.0   \n",
       "no_guests          134587.0      2.036170      1.034885    -17.0      1.0   \n",
       "ratings_given       56683.0      3.619004      1.235009      1.0      3.0   \n",
       "revenue_generated  134590.0  15378.054127  93036.038671   6500.0   9900.0   \n",
       "revenue_realized   134590.0  12696.123256   6928.108124   2600.0   7600.0   \n",
       "\n",
       "                       50%      75%         max  \n",
       "property_id        17564.0  18563.0     19563.0  \n",
       "no_guests              2.0      2.0         6.0  \n",
       "ratings_given          4.0      5.0         5.0  \n",
       "revenue_generated  13500.0  18000.0  28560000.0  \n",
       "revenue_realized   11700.0  15300.0     45220.0  "
      ]
     },
     "execution_count": 25,
     "metadata": {},
     "output_type": "execute_result"
    }
   ],
   "source": [
    "fact_bookings.describe().T"
   ]
  },
  {
   "cell_type": "code",
   "execution_count": 26,
   "id": "e9d6c8a7",
   "metadata": {},
   "outputs": [
    {
     "data": {
      "text/plain": [
       "(25, 4)"
      ]
     },
     "execution_count": 26,
     "metadata": {},
     "output_type": "execute_result"
    }
   ],
   "source": [
    "dim_hotels.shape"
   ]
  },
  {
   "cell_type": "code",
   "execution_count": 29,
   "id": "9760d327",
   "metadata": {},
   "outputs": [
    {
     "data": {
      "text/plain": [
       "Index(['property_id', 'property_name', 'category', 'city'], dtype='object')"
      ]
     },
     "execution_count": 29,
     "metadata": {},
     "output_type": "execute_result"
    }
   ],
   "source": [
    "dim_hotels.columns"
   ]
  },
  {
   "cell_type": "code",
   "execution_count": 27,
   "id": "848a9471",
   "metadata": {},
   "outputs": [
    {
     "data": {
      "application/vnd.microsoft.datawrangler.viewer.v0+json": {
       "columns": [
        {
         "name": "category",
         "rawType": "object",
         "type": "string"
        },
        {
         "name": "count",
         "rawType": "int64",
         "type": "integer"
        }
       ],
       "ref": "042f7942-6953-4904-ad12-28a552792573",
       "rows": [
        [
         "Luxury",
         "16"
        ],
        [
         "Business",
         "9"
        ]
       ],
       "shape": {
        "columns": 1,
        "rows": 2
       }
      },
      "text/plain": [
       "category\n",
       "Luxury      16\n",
       "Business     9\n",
       "Name: count, dtype: int64"
      ]
     },
     "execution_count": 27,
     "metadata": {},
     "output_type": "execute_result"
    }
   ],
   "source": [
    "dim_hotels['category'].value_counts()"
   ]
  },
  {
   "cell_type": "markdown",
   "id": "eb880cda",
   "metadata": {},
   "source": [
    "here we have total of 25 different hotels out of which 16 are of luxury type"
   ]
  },
  {
   "cell_type": "code",
   "execution_count": 36,
   "id": "9e863557",
   "metadata": {},
   "outputs": [
    {
     "data": {
      "application/vnd.microsoft.datawrangler.viewer.v0+json": {
       "columns": [
        {
         "name": "city",
         "rawType": "object",
         "type": "string"
        },
        {
         "name": "count",
         "rawType": "int64",
         "type": "integer"
        }
       ],
       "ref": "b8b25cea-a58c-4c77-b7e1-3103a6fafb51",
       "rows": [
        [
         "Mumbai",
         "8"
        ],
        [
         "Hyderabad",
         "6"
        ],
        [
         "Bangalore",
         "6"
        ],
        [
         "Delhi",
         "5"
        ]
       ],
       "shape": {
        "columns": 1,
        "rows": 4
       }
      },
      "text/plain": [
       "city\n",
       "Mumbai       8\n",
       "Hyderabad    6\n",
       "Bangalore    6\n",
       "Delhi        5\n",
       "Name: count, dtype: int64"
      ]
     },
     "execution_count": 36,
     "metadata": {},
     "output_type": "execute_result"
    }
   ],
   "source": [
    "dim_hotels['city'].value_counts()"
   ]
  },
  {
   "cell_type": "code",
   "execution_count": 37,
   "id": "599726c9",
   "metadata": {},
   "outputs": [
    {
     "data": {
      "application/vnd.microsoft.datawrangler.viewer.v0+json": {
       "columns": [
        {
         "name": "city",
         "rawType": "object",
         "type": "string"
        },
        {
         "name": "Business",
         "rawType": "int64",
         "type": "integer"
        },
        {
         "name": "Luxury",
         "rawType": "int64",
         "type": "integer"
        }
       ],
       "ref": "c464729e-88ae-4891-9e77-180fce3fd0af",
       "rows": [
        [
         "Bangalore",
         "2",
         "4"
        ],
        [
         "Delhi",
         "2",
         "3"
        ],
        [
         "Hyderabad",
         "2",
         "4"
        ],
        [
         "Mumbai",
         "3",
         "5"
        ]
       ],
       "shape": {
        "columns": 2,
        "rows": 4
       }
      },
      "text/html": [
       "<div>\n",
       "<style scoped>\n",
       "    .dataframe tbody tr th:only-of-type {\n",
       "        vertical-align: middle;\n",
       "    }\n",
       "\n",
       "    .dataframe tbody tr th {\n",
       "        vertical-align: top;\n",
       "    }\n",
       "\n",
       "    .dataframe thead th {\n",
       "        text-align: right;\n",
       "    }\n",
       "</style>\n",
       "<table border=\"1\" class=\"dataframe\">\n",
       "  <thead>\n",
       "    <tr style=\"text-align: right;\">\n",
       "      <th>category</th>\n",
       "      <th>Business</th>\n",
       "      <th>Luxury</th>\n",
       "    </tr>\n",
       "    <tr>\n",
       "      <th>city</th>\n",
       "      <th></th>\n",
       "      <th></th>\n",
       "    </tr>\n",
       "  </thead>\n",
       "  <tbody>\n",
       "    <tr>\n",
       "      <th>Bangalore</th>\n",
       "      <td>2</td>\n",
       "      <td>4</td>\n",
       "    </tr>\n",
       "    <tr>\n",
       "      <th>Delhi</th>\n",
       "      <td>2</td>\n",
       "      <td>3</td>\n",
       "    </tr>\n",
       "    <tr>\n",
       "      <th>Hyderabad</th>\n",
       "      <td>2</td>\n",
       "      <td>4</td>\n",
       "    </tr>\n",
       "    <tr>\n",
       "      <th>Mumbai</th>\n",
       "      <td>3</td>\n",
       "      <td>5</td>\n",
       "    </tr>\n",
       "  </tbody>\n",
       "</table>\n",
       "</div>"
      ],
      "text/plain": [
       "category   Business  Luxury\n",
       "city                       \n",
       "Bangalore         2       4\n",
       "Delhi             2       3\n",
       "Hyderabad         2       4\n",
       "Mumbai            3       5"
      ]
     },
     "execution_count": 37,
     "metadata": {},
     "output_type": "execute_result"
    }
   ],
   "source": [
    "pivot_table = pd.pivot_table(dim_hotels,values='property_name',index=['city'],columns=['category'],aggfunc='count')\n",
    "pivot_table"
   ]
  },
  {
   "cell_type": "code",
   "execution_count": 53,
   "id": "d64e0564",
   "metadata": {},
   "outputs": [
    {
     "data": {
      "application/vnd.microsoft.datawrangler.viewer.v0+json": {
       "columns": [
        {
         "name": "index",
         "rawType": "int64",
         "type": "integer"
        },
        {
         "name": "property_id",
         "rawType": "int64",
         "type": "integer"
        },
        {
         "name": "property_name",
         "rawType": "object",
         "type": "string"
        },
        {
         "name": "category",
         "rawType": "object",
         "type": "string"
        },
        {
         "name": "city",
         "rawType": "object",
         "type": "string"
        },
        {
         "name": "count",
         "rawType": "int64",
         "type": "integer"
        }
       ],
       "ref": "21dc54bc-465f-403c-a8ce-eabdd1751970",
       "rows": [
        [
         "0",
         "16558",
         "Atliq Grands",
         "Luxury",
         "Delhi",
         "1"
        ],
        [
         "1",
         "16559",
         "Atliq Exotica",
         "Luxury",
         "Mumbai",
         "1"
        ],
        [
         "2",
         "16560",
         "Atliq City",
         "Business",
         "Delhi",
         "1"
        ],
        [
         "3",
         "16561",
         "Atliq Blu",
         "Luxury",
         "Delhi",
         "1"
        ],
        [
         "4",
         "16562",
         "Atliq Bay",
         "Luxury",
         "Delhi",
         "1"
        ],
        [
         "5",
         "16563",
         "Atliq Palace",
         "Business",
         "Delhi",
         "1"
        ],
        [
         "6",
         "17558",
         "Atliq Grands",
         "Luxury",
         "Mumbai",
         "1"
        ],
        [
         "7",
         "17559",
         "Atliq Exotica",
         "Luxury",
         "Mumbai",
         "1"
        ],
        [
         "8",
         "17560",
         "Atliq City",
         "Business",
         "Mumbai",
         "1"
        ],
        [
         "9",
         "17561",
         "Atliq Blu",
         "Luxury",
         "Mumbai",
         "1"
        ],
        [
         "10",
         "17562",
         "Atliq Bay",
         "Luxury",
         "Mumbai",
         "1"
        ],
        [
         "11",
         "17563",
         "Atliq Palace",
         "Business",
         "Mumbai",
         "1"
        ],
        [
         "12",
         "18558",
         "Atliq Grands",
         "Luxury",
         "Hyderabad",
         "1"
        ],
        [
         "13",
         "18559",
         "Atliq Exotica",
         "Luxury",
         "Hyderabad",
         "1"
        ],
        [
         "14",
         "18560",
         "Atliq City",
         "Business",
         "Hyderabad",
         "1"
        ],
        [
         "15",
         "18561",
         "Atliq Blu",
         "Luxury",
         "Hyderabad",
         "1"
        ],
        [
         "16",
         "18562",
         "Atliq Bay",
         "Luxury",
         "Hyderabad",
         "1"
        ],
        [
         "17",
         "18563",
         "Atliq Palace",
         "Business",
         "Hyderabad",
         "1"
        ],
        [
         "18",
         "19558",
         "Atliq Grands",
         "Luxury",
         "Bangalore",
         "1"
        ],
        [
         "19",
         "19559",
         "Atliq Exotica",
         "Luxury",
         "Bangalore",
         "1"
        ],
        [
         "20",
         "19560",
         "Atliq City",
         "Business",
         "Bangalore",
         "1"
        ],
        [
         "21",
         "19561",
         "Atliq Blu",
         "Luxury",
         "Bangalore",
         "1"
        ],
        [
         "22",
         "19562",
         "Atliq Bay",
         "Luxury",
         "Bangalore",
         "1"
        ],
        [
         "23",
         "19563",
         "Atliq Palace",
         "Business",
         "Bangalore",
         "1"
        ],
        [
         "24",
         "17564",
         "Atliq Seasons",
         "Business",
         "Mumbai",
         "1"
        ]
       ],
       "shape": {
        "columns": 5,
        "rows": 25
       }
      },
      "text/html": [
       "<div>\n",
       "<style scoped>\n",
       "    .dataframe tbody tr th:only-of-type {\n",
       "        vertical-align: middle;\n",
       "    }\n",
       "\n",
       "    .dataframe tbody tr th {\n",
       "        vertical-align: top;\n",
       "    }\n",
       "\n",
       "    .dataframe thead th {\n",
       "        text-align: right;\n",
       "    }\n",
       "</style>\n",
       "<table border=\"1\" class=\"dataframe\">\n",
       "  <thead>\n",
       "    <tr style=\"text-align: right;\">\n",
       "      <th></th>\n",
       "      <th>property_id</th>\n",
       "      <th>property_name</th>\n",
       "      <th>category</th>\n",
       "      <th>city</th>\n",
       "      <th>count</th>\n",
       "    </tr>\n",
       "  </thead>\n",
       "  <tbody>\n",
       "    <tr>\n",
       "      <th>0</th>\n",
       "      <td>16558</td>\n",
       "      <td>Atliq Grands</td>\n",
       "      <td>Luxury</td>\n",
       "      <td>Delhi</td>\n",
       "      <td>1</td>\n",
       "    </tr>\n",
       "    <tr>\n",
       "      <th>1</th>\n",
       "      <td>16559</td>\n",
       "      <td>Atliq Exotica</td>\n",
       "      <td>Luxury</td>\n",
       "      <td>Mumbai</td>\n",
       "      <td>1</td>\n",
       "    </tr>\n",
       "    <tr>\n",
       "      <th>2</th>\n",
       "      <td>16560</td>\n",
       "      <td>Atliq City</td>\n",
       "      <td>Business</td>\n",
       "      <td>Delhi</td>\n",
       "      <td>1</td>\n",
       "    </tr>\n",
       "    <tr>\n",
       "      <th>3</th>\n",
       "      <td>16561</td>\n",
       "      <td>Atliq Blu</td>\n",
       "      <td>Luxury</td>\n",
       "      <td>Delhi</td>\n",
       "      <td>1</td>\n",
       "    </tr>\n",
       "    <tr>\n",
       "      <th>4</th>\n",
       "      <td>16562</td>\n",
       "      <td>Atliq Bay</td>\n",
       "      <td>Luxury</td>\n",
       "      <td>Delhi</td>\n",
       "      <td>1</td>\n",
       "    </tr>\n",
       "    <tr>\n",
       "      <th>5</th>\n",
       "      <td>16563</td>\n",
       "      <td>Atliq Palace</td>\n",
       "      <td>Business</td>\n",
       "      <td>Delhi</td>\n",
       "      <td>1</td>\n",
       "    </tr>\n",
       "    <tr>\n",
       "      <th>6</th>\n",
       "      <td>17558</td>\n",
       "      <td>Atliq Grands</td>\n",
       "      <td>Luxury</td>\n",
       "      <td>Mumbai</td>\n",
       "      <td>1</td>\n",
       "    </tr>\n",
       "    <tr>\n",
       "      <th>7</th>\n",
       "      <td>17559</td>\n",
       "      <td>Atliq Exotica</td>\n",
       "      <td>Luxury</td>\n",
       "      <td>Mumbai</td>\n",
       "      <td>1</td>\n",
       "    </tr>\n",
       "    <tr>\n",
       "      <th>8</th>\n",
       "      <td>17560</td>\n",
       "      <td>Atliq City</td>\n",
       "      <td>Business</td>\n",
       "      <td>Mumbai</td>\n",
       "      <td>1</td>\n",
       "    </tr>\n",
       "    <tr>\n",
       "      <th>9</th>\n",
       "      <td>17561</td>\n",
       "      <td>Atliq Blu</td>\n",
       "      <td>Luxury</td>\n",
       "      <td>Mumbai</td>\n",
       "      <td>1</td>\n",
       "    </tr>\n",
       "    <tr>\n",
       "      <th>10</th>\n",
       "      <td>17562</td>\n",
       "      <td>Atliq Bay</td>\n",
       "      <td>Luxury</td>\n",
       "      <td>Mumbai</td>\n",
       "      <td>1</td>\n",
       "    </tr>\n",
       "    <tr>\n",
       "      <th>11</th>\n",
       "      <td>17563</td>\n",
       "      <td>Atliq Palace</td>\n",
       "      <td>Business</td>\n",
       "      <td>Mumbai</td>\n",
       "      <td>1</td>\n",
       "    </tr>\n",
       "    <tr>\n",
       "      <th>12</th>\n",
       "      <td>18558</td>\n",
       "      <td>Atliq Grands</td>\n",
       "      <td>Luxury</td>\n",
       "      <td>Hyderabad</td>\n",
       "      <td>1</td>\n",
       "    </tr>\n",
       "    <tr>\n",
       "      <th>13</th>\n",
       "      <td>18559</td>\n",
       "      <td>Atliq Exotica</td>\n",
       "      <td>Luxury</td>\n",
       "      <td>Hyderabad</td>\n",
       "      <td>1</td>\n",
       "    </tr>\n",
       "    <tr>\n",
       "      <th>14</th>\n",
       "      <td>18560</td>\n",
       "      <td>Atliq City</td>\n",
       "      <td>Business</td>\n",
       "      <td>Hyderabad</td>\n",
       "      <td>1</td>\n",
       "    </tr>\n",
       "    <tr>\n",
       "      <th>15</th>\n",
       "      <td>18561</td>\n",
       "      <td>Atliq Blu</td>\n",
       "      <td>Luxury</td>\n",
       "      <td>Hyderabad</td>\n",
       "      <td>1</td>\n",
       "    </tr>\n",
       "    <tr>\n",
       "      <th>16</th>\n",
       "      <td>18562</td>\n",
       "      <td>Atliq Bay</td>\n",
       "      <td>Luxury</td>\n",
       "      <td>Hyderabad</td>\n",
       "      <td>1</td>\n",
       "    </tr>\n",
       "    <tr>\n",
       "      <th>17</th>\n",
       "      <td>18563</td>\n",
       "      <td>Atliq Palace</td>\n",
       "      <td>Business</td>\n",
       "      <td>Hyderabad</td>\n",
       "      <td>1</td>\n",
       "    </tr>\n",
       "    <tr>\n",
       "      <th>18</th>\n",
       "      <td>19558</td>\n",
       "      <td>Atliq Grands</td>\n",
       "      <td>Luxury</td>\n",
       "      <td>Bangalore</td>\n",
       "      <td>1</td>\n",
       "    </tr>\n",
       "    <tr>\n",
       "      <th>19</th>\n",
       "      <td>19559</td>\n",
       "      <td>Atliq Exotica</td>\n",
       "      <td>Luxury</td>\n",
       "      <td>Bangalore</td>\n",
       "      <td>1</td>\n",
       "    </tr>\n",
       "    <tr>\n",
       "      <th>20</th>\n",
       "      <td>19560</td>\n",
       "      <td>Atliq City</td>\n",
       "      <td>Business</td>\n",
       "      <td>Bangalore</td>\n",
       "      <td>1</td>\n",
       "    </tr>\n",
       "    <tr>\n",
       "      <th>21</th>\n",
       "      <td>19561</td>\n",
       "      <td>Atliq Blu</td>\n",
       "      <td>Luxury</td>\n",
       "      <td>Bangalore</td>\n",
       "      <td>1</td>\n",
       "    </tr>\n",
       "    <tr>\n",
       "      <th>22</th>\n",
       "      <td>19562</td>\n",
       "      <td>Atliq Bay</td>\n",
       "      <td>Luxury</td>\n",
       "      <td>Bangalore</td>\n",
       "      <td>1</td>\n",
       "    </tr>\n",
       "    <tr>\n",
       "      <th>23</th>\n",
       "      <td>19563</td>\n",
       "      <td>Atliq Palace</td>\n",
       "      <td>Business</td>\n",
       "      <td>Bangalore</td>\n",
       "      <td>1</td>\n",
       "    </tr>\n",
       "    <tr>\n",
       "      <th>24</th>\n",
       "      <td>17564</td>\n",
       "      <td>Atliq Seasons</td>\n",
       "      <td>Business</td>\n",
       "      <td>Mumbai</td>\n",
       "      <td>1</td>\n",
       "    </tr>\n",
       "  </tbody>\n",
       "</table>\n",
       "</div>"
      ],
      "text/plain": [
       "    property_id  property_name  category       city  count\n",
       "0         16558   Atliq Grands    Luxury      Delhi      1\n",
       "1         16559  Atliq Exotica    Luxury     Mumbai      1\n",
       "2         16560     Atliq City  Business      Delhi      1\n",
       "3         16561      Atliq Blu    Luxury      Delhi      1\n",
       "4         16562      Atliq Bay    Luxury      Delhi      1\n",
       "5         16563   Atliq Palace  Business      Delhi      1\n",
       "6         17558   Atliq Grands    Luxury     Mumbai      1\n",
       "7         17559  Atliq Exotica    Luxury     Mumbai      1\n",
       "8         17560     Atliq City  Business     Mumbai      1\n",
       "9         17561      Atliq Blu    Luxury     Mumbai      1\n",
       "10        17562      Atliq Bay    Luxury     Mumbai      1\n",
       "11        17563   Atliq Palace  Business     Mumbai      1\n",
       "12        18558   Atliq Grands    Luxury  Hyderabad      1\n",
       "13        18559  Atliq Exotica    Luxury  Hyderabad      1\n",
       "14        18560     Atliq City  Business  Hyderabad      1\n",
       "15        18561      Atliq Blu    Luxury  Hyderabad      1\n",
       "16        18562      Atliq Bay    Luxury  Hyderabad      1\n",
       "17        18563   Atliq Palace  Business  Hyderabad      1\n",
       "18        19558   Atliq Grands    Luxury  Bangalore      1\n",
       "19        19559  Atliq Exotica    Luxury  Bangalore      1\n",
       "20        19560     Atliq City  Business  Bangalore      1\n",
       "21        19561      Atliq Blu    Luxury  Bangalore      1\n",
       "22        19562      Atliq Bay    Luxury  Bangalore      1\n",
       "23        19563   Atliq Palace  Business  Bangalore      1\n",
       "24        17564  Atliq Seasons  Business     Mumbai      1"
      ]
     },
     "execution_count": 53,
     "metadata": {},
     "output_type": "execute_result"
    }
   ],
   "source": [
    "df_copy_hotels = dim_hotels.copy()\n",
    "df_copy_hotels['count'] = 1\n",
    "df_copy_hotels"
   ]
  },
  {
   "cell_type": "code",
   "execution_count": 62,
   "id": "b877dfb2",
   "metadata": {},
   "outputs": [
    {
     "data": {
      "text/plain": [
       "<Axes: xlabel='city', ylabel='count'>"
      ]
     },
     "execution_count": 62,
     "metadata": {},
     "output_type": "execute_result"
    },
    {
     "data": {
      "image/png": "[encoded data removed]",
      "text/plain": [
       "<Figure size 640x480 with 1 Axes>"
      ]
     },
     "metadata": {},
     "output_type": "display_data"
    }
   ],
   "source": [
    "sns.barplot(df_copy_hotels,x='city',y='count',estimator='sum',hue='category')"
   ]
  },
  {
   "cell_type": "code",
   "execution_count": 68,
   "id": "5489dd6b",
   "metadata": {},
   "outputs": [
    {
     "name": "stdout",
     "output_type": "stream",
     "text": [
      "unique list - [16559 19562 19563 17558 16558 17560 19558 19560 17561 16560 16561 16562\n",
      " 16563 17559 17562 17563 18558 18559 18561 18562 18563 19559 19561 17564\n",
      " 18560]\n",
      "unique Value count - 25\n"
     ]
    }
   ],
   "source": [
    "# unique property ids in agg_bookings\n",
    "\n",
    "print(f'unique list - {fact_agg_bookings[\"property_id\"].unique()}')\n",
    "print(f'unique Value count - {len(fact_agg_bookings[\"property_id\"].unique())}')"
   ]
  },
  {
   "cell_type": "code",
   "execution_count": 70,
   "id": "4786a422",
   "metadata": {},
   "outputs": [
    {
     "data": {
      "application/vnd.microsoft.datawrangler.viewer.v0+json": {
       "columns": [
        {
         "name": "property_id",
         "rawType": "int64",
         "type": "integer"
        },
        {
         "name": "count",
         "rawType": "int64",
         "type": "integer"
        }
       ],
       "ref": "26e68477-5e65-4439-b2da-8ec82b29ec3a",
       "rows": [
        [
         "16559",
         "368"
        ],
        [
         "17559",
         "368"
        ],
        [
         "17564",
         "368"
        ],
        [
         "19561",
         "368"
        ],
        [
         "19559",
         "368"
        ],
        [
         "18563",
         "368"
        ],
        [
         "18562",
         "368"
        ],
        [
         "18561",
         "368"
        ],
        [
         "18559",
         "368"
        ],
        [
         "18558",
         "368"
        ],
        [
         "17563",
         "368"
        ],
        [
         "17562",
         "368"
        ],
        [
         "16563",
         "368"
        ],
        [
         "19562",
         "368"
        ],
        [
         "16562",
         "368"
        ],
        [
         "16561",
         "368"
        ],
        [
         "16560",
         "368"
        ],
        [
         "17561",
         "368"
        ],
        [
         "19560",
         "368"
        ],
        [
         "19558",
         "368"
        ],
        [
         "17560",
         "368"
        ],
        [
         "16558",
         "368"
        ],
        [
         "17558",
         "368"
        ],
        [
         "19563",
         "368"
        ],
        [
         "18560",
         "368"
        ]
       ],
       "shape": {
        "columns": 1,
        "rows": 25
       }
      },
      "text/plain": [
       "property_id\n",
       "16559    368\n",
       "17559    368\n",
       "17564    368\n",
       "19561    368\n",
       "19559    368\n",
       "18563    368\n",
       "18562    368\n",
       "18561    368\n",
       "18559    368\n",
       "18558    368\n",
       "17563    368\n",
       "17562    368\n",
       "16563    368\n",
       "19562    368\n",
       "16562    368\n",
       "16561    368\n",
       "16560    368\n",
       "17561    368\n",
       "19560    368\n",
       "19558    368\n",
       "17560    368\n",
       "16558    368\n",
       "17558    368\n",
       "19563    368\n",
       "18560    368\n",
       "Name: count, dtype: int64"
      ]
     },
     "execution_count": 70,
     "metadata": {},
     "output_type": "execute_result"
    }
   ],
   "source": [
    "# total booking per property_id\n",
    "\n",
    "fact_agg_bookings['property_id'].value_counts()"
   ]
  },
  {
   "cell_type": "code",
   "execution_count": 75,
   "id": "4a131a03",
   "metadata": {},
   "outputs": [
    {
     "data": {
      "text/plain": [
       "<Axes: xlabel='property_id', ylabel='successful_bookings'>"
      ]
     },
     "execution_count": 75,
     "metadata": {},
     "output_type": "execute_result"
    },
    {
     "data": {
      "image/png": "[encoded data removed]",
      "text/plain": [
       "<Figure size 1800x600 with 1 Axes>"
      ]
     },
     "metadata": {},
     "output_type": "display_data"
    }
   ],
   "source": [
    "plt.figure(figsize=(18,6))\n",
    "sns.barplot(fact_agg_bookings,x='property_id',y='successful_bookings',estimator='sum')"
   ]
  },
  {
   "cell_type": "code",
   "execution_count": 76,
   "id": "7c09bc7e",
   "metadata": {},
   "outputs": [
    {
     "data": {
      "application/vnd.microsoft.datawrangler.viewer.v0+json": {
       "columns": [
        {
         "name": "index",
         "rawType": "int64",
         "type": "integer"
        },
        {
         "name": "property_id",
         "rawType": "int64",
         "type": "integer"
        },
        {
         "name": "check_in_date",
         "rawType": "object",
         "type": "string"
        },
        {
         "name": "room_category",
         "rawType": "object",
         "type": "string"
        },
        {
         "name": "successful_bookings",
         "rawType": "int64",
         "type": "integer"
        },
        {
         "name": "capacity",
         "rawType": "float64",
         "type": "float"
        }
       ],
       "ref": "56d93ef1-2835-4898-905b-52a0537a36e5",
       "rows": [
        [
         "0",
         "16559",
         "1-May-22",
         "RT1",
         "25",
         "30.0"
        ],
        [
         "1",
         "19562",
         "1-May-22",
         "RT1",
         "28",
         "30.0"
        ],
        [
         "2",
         "19563",
         "1-May-22",
         "RT1",
         "23",
         "30.0"
        ],
        [
         "3",
         "17558",
         "1-May-22",
         "RT1",
         "30",
         "19.0"
        ],
        [
         "4",
         "16558",
         "1-May-22",
         "RT1",
         "18",
         "19.0"
        ]
       ],
       "shape": {
        "columns": 5,
        "rows": 5
       }
      },
      "text/html": [
       "<div>\n",
       "<style scoped>\n",
       "    .dataframe tbody tr th:only-of-type {\n",
       "        vertical-align: middle;\n",
       "    }\n",
       "\n",
       "    .dataframe tbody tr th {\n",
       "        vertical-align: top;\n",
       "    }\n",
       "\n",
       "    .dataframe thead th {\n",
       "        text-align: right;\n",
       "    }\n",
       "</style>\n",
       "<table border=\"1\" class=\"dataframe\">\n",
       "  <thead>\n",
       "    <tr style=\"text-align: right;\">\n",
       "      <th></th>\n",
       "      <th>property_id</th>\n",
       "      <th>check_in_date</th>\n",
       "      <th>room_category</th>\n",
       "      <th>successful_bookings</th>\n",
       "      <th>capacity</th>\n",
       "    </tr>\n",
       "  </thead>\n",
       "  <tbody>\n",
       "    <tr>\n",
       "      <th>0</th>\n",
       "      <td>16559</td>\n",
       "      <td>1-May-22</td>\n",
       "      <td>RT1</td>\n",
       "      <td>25</td>\n",
       "      <td>30.0</td>\n",
       "    </tr>\n",
       "    <tr>\n",
       "      <th>1</th>\n",
       "      <td>19562</td>\n",
       "      <td>1-May-22</td>\n",
       "      <td>RT1</td>\n",
       "      <td>28</td>\n",
       "      <td>30.0</td>\n",
       "    </tr>\n",
       "    <tr>\n",
       "      <th>2</th>\n",
       "      <td>19563</td>\n",
       "      <td>1-May-22</td>\n",
       "      <td>RT1</td>\n",
       "      <td>23</td>\n",
       "      <td>30.0</td>\n",
       "    </tr>\n",
       "    <tr>\n",
       "      <th>3</th>\n",
       "      <td>17558</td>\n",
       "      <td>1-May-22</td>\n",
       "      <td>RT1</td>\n",
       "      <td>30</td>\n",
       "      <td>19.0</td>\n",
       "    </tr>\n",
       "    <tr>\n",
       "      <th>4</th>\n",
       "      <td>16558</td>\n",
       "      <td>1-May-22</td>\n",
       "      <td>RT1</td>\n",
       "      <td>18</td>\n",
       "      <td>19.0</td>\n",
       "    </tr>\n",
       "  </tbody>\n",
       "</table>\n",
       "</div>"
      ],
      "text/plain": [
       "   property_id check_in_date room_category  successful_bookings  capacity\n",
       "0        16559      1-May-22           RT1                   25      30.0\n",
       "1        19562      1-May-22           RT1                   28      30.0\n",
       "2        19563      1-May-22           RT1                   23      30.0\n",
       "3        17558      1-May-22           RT1                   30      19.0\n",
       "4        16558      1-May-22           RT1                   18      19.0"
      ]
     },
     "execution_count": 76,
     "metadata": {},
     "output_type": "execute_result"
    }
   ],
   "source": [
    "# days on which booking are greater then capacity\n",
    "\n",
    "fact_agg_bookings.head()"
   ]
  },
  {
   "cell_type": "code",
   "execution_count": 77,
   "id": "5841d65e",
   "metadata": {},
   "outputs": [
    {
     "ename": "ValueError",
     "evalue": "The truth value of a Series is ambiguous. Use a.empty, a.bool(), a.item(), a.any() or a.all().",
     "output_type": "error",
     "traceback": [
      "\u001b[31m---------------------------------------------------------------------------\u001b[39m",
      "\u001b[31mValueError\u001b[39m                                Traceback (most recent call last)",
      "\u001b[32m/var/folders/n6/28ff8fsj0c901jvkhvfb8ylw0000gn/T/ipykernel_1615/2905375186.py\u001b[39m in \u001b[36m?\u001b[39m\u001b[34m()\u001b[39m\n\u001b[32m      1\u001b[39m df_capacity_booking = fact_agg_bookings.copy()\n\u001b[32m----> \u001b[39m\u001b[32m2\u001b[39m df_capacity_booking[\u001b[33m'morethencapacity'\u001b[39m] = \u001b[33m'more'\u001b[39m \u001b[38;5;28;01mif\u001b[39;00m df_capacity_booking[\u001b[33m'successful_bookings'\u001b[39m] > df_capacity_booking[\u001b[33m'capacity'\u001b[39m] \u001b[38;5;28;01melse\u001b[39;00m \u001b[33m'less'\u001b[39m\n\u001b[32m      3\u001b[39m df_capacity_booking.head()\n",
      "\u001b[32m~/Data Sci Work/Data Sci REPO/Machine-Learning/venv/lib/python3.11/site-packages/pandas/core/generic.py\u001b[39m in \u001b[36m?\u001b[39m\u001b[34m(self)\u001b[39m\n\u001b[32m   1575\u001b[39m     @final\n\u001b[32m   1576\u001b[39m     \u001b[38;5;28;01mdef\u001b[39;00m __nonzero__(self) -> NoReturn:\n\u001b[32m-> \u001b[39m\u001b[32m1577\u001b[39m         raise ValueError(\n\u001b[32m   1578\u001b[39m             \u001b[33mf\"The truth value of a {type(self).__name__} is ambiguous. \"\u001b[39m\n\u001b[32m   1579\u001b[39m             \u001b[33m\"Use a.empty, a.bool(), a.item(), a.any() or a.all().\"\u001b[39m\n\u001b[32m   1580\u001b[39m         )\n",
      "\u001b[31mValueError\u001b[39m: The truth value of a Series is ambiguous. Use a.empty, a.bool(), a.item(), a.any() or a.all()."
     ]
    }
   ],
   "source": [
    "df_capacity_booking = fact_agg_bookings.copy()\n",
    "df_capacity_booking['morethencapacity'] = 'more' if df_capacity_booking['successful_bookings'] > df_capacity_booking['capacity'] else 'less'\n",
    "df_capacity_booking.head()"
   ]
  },
  {
   "cell_type": "markdown",
   "id": "d1cfb060",
   "metadata": {},
   "source": [
    "we are getting the error due to empty values in capacity"
   ]
  },
  {
   "cell_type": "code",
   "execution_count": 78,
   "id": "2bd00043",
   "metadata": {},
   "outputs": [
    {
     "data": {
      "application/vnd.microsoft.datawrangler.viewer.v0+json": {
       "columns": [
        {
         "name": "index",
         "rawType": "object",
         "type": "string"
        },
        {
         "name": "0",
         "rawType": "int64",
         "type": "integer"
        }
       ],
       "ref": "d7d38531-db8b-4c0d-a393-5a301c986d8e",
       "rows": [
        [
         "property_id",
         "0"
        ],
        [
         "check_in_date",
         "0"
        ],
        [
         "room_category",
         "0"
        ],
        [
         "successful_bookings",
         "0"
        ],
        [
         "capacity",
         "2"
        ]
       ],
       "shape": {
        "columns": 1,
        "rows": 5
       }
      },
      "text/plain": [
       "property_id            0\n",
       "check_in_date          0\n",
       "room_category          0\n",
       "successful_bookings    0\n",
       "capacity               2\n",
       "dtype: int64"
      ]
     },
     "execution_count": 78,
     "metadata": {},
     "output_type": "execute_result"
    }
   ],
   "source": [
    "fact_agg_bookings.isnull().sum()"
   ]
  },
  {
   "cell_type": "code",
   "execution_count": 80,
   "id": "58bda9ae",
   "metadata": {},
   "outputs": [
    {
     "data": {
      "application/vnd.microsoft.datawrangler.viewer.v0+json": {
       "columns": [
        {
         "name": "index",
         "rawType": "int64",
         "type": "integer"
        },
        {
         "name": "property_id",
         "rawType": "int64",
         "type": "integer"
        },
        {
         "name": "check_in_date",
         "rawType": "object",
         "type": "string"
        },
        {
         "name": "room_category",
         "rawType": "object",
         "type": "string"
        },
        {
         "name": "successful_bookings",
         "rawType": "int64",
         "type": "integer"
        },
        {
         "name": "capacity",
         "rawType": "float64",
         "type": "float"
        }
       ],
       "ref": "7c781fa6-a65a-42ae-b7af-75aef9d1f85a",
       "rows": [
        [
         "3",
         "17558",
         "1-May-22",
         "RT1",
         "30",
         "19.0"
        ],
        [
         "12",
         "16563",
         "1-May-22",
         "RT1",
         "100",
         "41.0"
        ],
        [
         "4136",
         "19558",
         "11-Jun-22",
         "RT2",
         "50",
         "39.0"
        ],
        [
         "6209",
         "19560",
         "2-Jul-22",
         "RT1",
         "123",
         "26.0"
        ],
        [
         "8522",
         "19559",
         "25-Jul-22",
         "RT1",
         "35",
         "24.0"
        ],
        [
         "9194",
         "18563",
         "31-Jul-22",
         "RT4",
         "20",
         "18.0"
        ]
       ],
       "shape": {
        "columns": 5,
        "rows": 6
       }
      },
      "text/html": [
       "<div>\n",
       "<style scoped>\n",
       "    .dataframe tbody tr th:only-of-type {\n",
       "        vertical-align: middle;\n",
       "    }\n",
       "\n",
       "    .dataframe tbody tr th {\n",
       "        vertical-align: top;\n",
       "    }\n",
       "\n",
       "    .dataframe thead th {\n",
       "        text-align: right;\n",
       "    }\n",
       "</style>\n",
       "<table border=\"1\" class=\"dataframe\">\n",
       "  <thead>\n",
       "    <tr style=\"text-align: right;\">\n",
       "      <th></th>\n",
       "      <th>property_id</th>\n",
       "      <th>check_in_date</th>\n",
       "      <th>room_category</th>\n",
       "      <th>successful_bookings</th>\n",
       "      <th>capacity</th>\n",
       "    </tr>\n",
       "  </thead>\n",
       "  <tbody>\n",
       "    <tr>\n",
       "      <th>3</th>\n",
       "      <td>17558</td>\n",
       "      <td>1-May-22</td>\n",
       "      <td>RT1</td>\n",
       "      <td>30</td>\n",
       "      <td>19.0</td>\n",
       "    </tr>\n",
       "    <tr>\n",
       "      <th>12</th>\n",
       "      <td>16563</td>\n",
       "      <td>1-May-22</td>\n",
       "      <td>RT1</td>\n",
       "      <td>100</td>\n",
       "      <td>41.0</td>\n",
       "    </tr>\n",
       "    <tr>\n",
       "      <th>4136</th>\n",
       "      <td>19558</td>\n",
       "      <td>11-Jun-22</td>\n",
       "      <td>RT2</td>\n",
       "      <td>50</td>\n",
       "      <td>39.0</td>\n",
       "    </tr>\n",
       "    <tr>\n",
       "      <th>6209</th>\n",
       "      <td>19560</td>\n",
       "      <td>2-Jul-22</td>\n",
       "      <td>RT1</td>\n",
       "      <td>123</td>\n",
       "      <td>26.0</td>\n",
       "    </tr>\n",
       "    <tr>\n",
       "      <th>8522</th>\n",
       "      <td>19559</td>\n",
       "      <td>25-Jul-22</td>\n",
       "      <td>RT1</td>\n",
       "      <td>35</td>\n",
       "      <td>24.0</td>\n",
       "    </tr>\n",
       "    <tr>\n",
       "      <th>9194</th>\n",
       "      <td>18563</td>\n",
       "      <td>31-Jul-22</td>\n",
       "      <td>RT4</td>\n",
       "      <td>20</td>\n",
       "      <td>18.0</td>\n",
       "    </tr>\n",
       "  </tbody>\n",
       "</table>\n",
       "</div>"
      ],
      "text/plain": [
       "      property_id check_in_date room_category  successful_bookings  capacity\n",
       "3           17558      1-May-22           RT1                   30      19.0\n",
       "12          16563      1-May-22           RT1                  100      41.0\n",
       "4136        19558     11-Jun-22           RT2                   50      39.0\n",
       "6209        19560      2-Jul-22           RT1                  123      26.0\n",
       "8522        19559     25-Jul-22           RT1                   35      24.0\n",
       "9194        18563     31-Jul-22           RT4                   20      18.0"
      ]
     },
     "execution_count": 80,
     "metadata": {},
     "output_type": "execute_result"
    }
   ],
   "source": [
    "df_capacity_booking = fact_agg_bookings[fact_agg_bookings['successful_bookings']>fact_agg_bookings['capacity']]\n",
    "df_capacity_booking"
   ]
  },
  {
   "cell_type": "code",
   "execution_count": 82,
   "id": "0c6a39ba",
   "metadata": {},
   "outputs": [
    {
     "data": {
      "application/vnd.microsoft.datawrangler.viewer.v0+json": {
       "columns": [
        {
         "name": "index",
         "rawType": "int64",
         "type": "integer"
        },
        {
         "name": "property_id",
         "rawType": "int64",
         "type": "integer"
        },
        {
         "name": "check_in_date",
         "rawType": "object",
         "type": "string"
        },
        {
         "name": "room_category",
         "rawType": "object",
         "type": "string"
        },
        {
         "name": "successful_bookings",
         "rawType": "int64",
         "type": "integer"
        },
        {
         "name": "capacity",
         "rawType": "float64",
         "type": "float"
        }
       ],
       "ref": "a795c9e8-306d-40d2-a5c8-d3fa654eb134",
       "rows": [
        [
         "3128",
         "17558",
         "1-Jun-22",
         "RT2",
         "19",
         "50.0"
        ],
        [
         "2128",
         "17558",
         "22-May-22",
         "RT2",
         "38",
         "50.0"
        ],
        [
         "1728",
         "17558",
         "18-May-22",
         "RT2",
         "21",
         "50.0"
        ],
        [
         "5828",
         "17558",
         "28-Jun-22",
         "RT2",
         "26",
         "50.0"
        ],
        [
         "3928",
         "17558",
         "9-Jun-22",
         "RT2",
         "27",
         "50.0"
        ],
        [
         "928",
         "17558",
         "10-May-22",
         "RT2",
         "24",
         "50.0"
        ],
        [
         "7428",
         "17558",
         "14-Jul-22",
         "RT2",
         "25",
         "50.0"
        ],
        [
         "5728",
         "17558",
         "27-Jun-22",
         "RT2",
         "24",
         "50.0"
        ],
        [
         "3528",
         "17558",
         "5-Jun-22",
         "RT2",
         "35",
         "50.0"
        ],
        [
         "7528",
         "17558",
         "15-Jul-22",
         "RT2",
         "28",
         "50.0"
        ],
        [
         "1828",
         "17558",
         "19-May-22",
         "RT2",
         "22",
         "50.0"
        ],
        [
         "5628",
         "17558",
         "26-Jun-22",
         "RT2",
         "34",
         "50.0"
        ],
        [
         "8728",
         "17558",
         "27-Jul-22",
         "RT2",
         "22",
         "50.0"
        ],
        [
         "828",
         "17558",
         "9-May-22",
         "RT2",
         "24",
         "50.0"
        ],
        [
         "5528",
         "17558",
         "25-Jun-22",
         "RT2",
         "28",
         "50.0"
        ],
        [
         "4027",
         "17558",
         "10-Jun-22",
         "RT2",
         "28",
         "50.0"
        ],
        [
         "2928",
         "17558",
         "30-May-22",
         "RT2",
         "23",
         "50.0"
        ],
        [
         "8828",
         "17558",
         "28-Jul-22",
         "RT2",
         "21",
         "50.0"
        ],
        [
         "1928",
         "17558",
         "20-May-22",
         "RT2",
         "19",
         "50.0"
        ],
        [
         "9028",
         "17558",
         "30-Jul-22",
         "RT2",
         "32",
         "50.0"
        ],
        [
         "7728",
         "17558",
         "17-Jul-22",
         "RT2",
         "31",
         "50.0"
        ],
        [
         "5428",
         "17558",
         "24-Jun-22",
         "RT2",
         "22",
         "50.0"
        ],
        [
         "728",
         "17558",
         "8-May-22",
         "RT2",
         "38",
         "50.0"
        ],
        [
         "5328",
         "17558",
         "23-Jun-22",
         "RT2",
         "18",
         "50.0"
        ],
        [
         "7828",
         "17558",
         "18-Jul-22",
         "RT2",
         "20",
         "50.0"
        ],
        [
         "2027",
         "17558",
         "21-May-22",
         "RT2",
         "31",
         "50.0"
        ],
        [
         "5229",
         "17558",
         "22-Jun-22",
         "RT2",
         "22",
         "50.0"
        ],
        [
         "2628",
         "17558",
         "27-May-22",
         "RT2",
         "26",
         "50.0"
        ],
        [
         "7928",
         "17558",
         "19-Jul-22",
         "RT2",
         "18",
         "50.0"
        ],
        [
         "5928",
         "17558",
         "29-Jun-22",
         "RT2",
         "25",
         "50.0"
        ],
        [
         "128",
         "17558",
         "2-May-22",
         "RT2",
         "27",
         "50.0"
        ],
        [
         "7328",
         "17558",
         "13-Jul-22",
         "RT2",
         "26",
         "50.0"
        ],
        [
         "6328",
         "17558",
         "3-Jul-22",
         "RT2",
         "34",
         "50.0"
        ],
        [
         "6728",
         "17558",
         "7-Jul-22",
         "RT2",
         "29",
         "50.0"
        ],
        [
         "3728",
         "17558",
         "7-Jun-22",
         "RT2",
         "28",
         "50.0"
        ],
        [
         "6628",
         "17558",
         "6-Jul-22",
         "RT2",
         "26",
         "50.0"
        ],
        [
         "1328",
         "17558",
         "14-May-22",
         "RT2",
         "36",
         "50.0"
        ],
        [
         "1229",
         "17558",
         "13-May-22",
         "RT2",
         "27",
         "50.0"
        ],
        [
         "6828",
         "17558",
         "8-Jul-22",
         "RT2",
         "25",
         "50.0"
        ],
        [
         "3229",
         "17558",
         "2-Jun-22",
         "RT2",
         "21",
         "50.0"
        ],
        [
         "6528",
         "17558",
         "5-Jul-22",
         "RT2",
         "22",
         "50.0"
        ],
        [
         "6928",
         "17558",
         "9-Jul-22",
         "RT2",
         "37",
         "50.0"
        ],
        [
         "6428",
         "17558",
         "4-Jul-22",
         "RT2",
         "26",
         "50.0"
        ],
        [
         "1428",
         "17558",
         "15-May-22",
         "RT2",
         "28",
         "50.0"
        ],
        [
         "3828",
         "17558",
         "8-Jun-22",
         "RT2",
         "25",
         "50.0"
        ],
        [
         "1128",
         "17558",
         "12-May-22",
         "RT2",
         "28",
         "50.0"
        ],
        [
         "2728",
         "17558",
         "28-May-22",
         "RT2",
         "36",
         "50.0"
        ],
        [
         "7027",
         "17558",
         "10-Jul-22",
         "RT2",
         "35",
         "50.0"
        ],
        [
         "8928",
         "17558",
         "29-Jul-22",
         "RT2",
         "23",
         "50.0"
        ],
        [
         "1528",
         "17558",
         "16-May-22",
         "RT2",
         "21",
         "50.0"
        ]
       ],
       "shape": {
        "columns": 5,
        "rows": 9200
       }
      },
      "text/html": [
       "<div>\n",
       "<style scoped>\n",
       "    .dataframe tbody tr th:only-of-type {\n",
       "        vertical-align: middle;\n",
       "    }\n",
       "\n",
       "    .dataframe tbody tr th {\n",
       "        vertical-align: top;\n",
       "    }\n",
       "\n",
       "    .dataframe thead th {\n",
       "        text-align: right;\n",
       "    }\n",
       "</style>\n",
       "<table border=\"1\" class=\"dataframe\">\n",
       "  <thead>\n",
       "    <tr style=\"text-align: right;\">\n",
       "      <th></th>\n",
       "      <th>property_id</th>\n",
       "      <th>check_in_date</th>\n",
       "      <th>room_category</th>\n",
       "      <th>successful_bookings</th>\n",
       "      <th>capacity</th>\n",
       "    </tr>\n",
       "  </thead>\n",
       "  <tbody>\n",
       "    <tr>\n",
       "      <th>3128</th>\n",
       "      <td>17558</td>\n",
       "      <td>1-Jun-22</td>\n",
       "      <td>RT2</td>\n",
       "      <td>19</td>\n",
       "      <td>50.0</td>\n",
       "    </tr>\n",
       "    <tr>\n",
       "      <th>2128</th>\n",
       "      <td>17558</td>\n",
       "      <td>22-May-22</td>\n",
       "      <td>RT2</td>\n",
       "      <td>38</td>\n",
       "      <td>50.0</td>\n",
       "    </tr>\n",
       "    <tr>\n",
       "      <th>1728</th>\n",
       "      <td>17558</td>\n",
       "      <td>18-May-22</td>\n",
       "      <td>RT2</td>\n",
       "      <td>21</td>\n",
       "      <td>50.0</td>\n",
       "    </tr>\n",
       "    <tr>\n",
       "      <th>5828</th>\n",
       "      <td>17558</td>\n",
       "      <td>28-Jun-22</td>\n",
       "      <td>RT2</td>\n",
       "      <td>26</td>\n",
       "      <td>50.0</td>\n",
       "    </tr>\n",
       "    <tr>\n",
       "      <th>3928</th>\n",
       "      <td>17558</td>\n",
       "      <td>9-Jun-22</td>\n",
       "      <td>RT2</td>\n",
       "      <td>27</td>\n",
       "      <td>50.0</td>\n",
       "    </tr>\n",
       "    <tr>\n",
       "      <th>...</th>\n",
       "      <td>...</td>\n",
       "      <td>...</td>\n",
       "      <td>...</td>\n",
       "      <td>...</td>\n",
       "      <td>...</td>\n",
       "    </tr>\n",
       "    <tr>\n",
       "      <th>7475</th>\n",
       "      <td>19559</td>\n",
       "      <td>14-Jul-22</td>\n",
       "      <td>RT4</td>\n",
       "      <td>2</td>\n",
       "      <td>3.0</td>\n",
       "    </tr>\n",
       "    <tr>\n",
       "      <th>7476</th>\n",
       "      <td>16558</td>\n",
       "      <td>14-Jul-22</td>\n",
       "      <td>RT4</td>\n",
       "      <td>2</td>\n",
       "      <td>3.0</td>\n",
       "    </tr>\n",
       "    <tr>\n",
       "      <th>7375</th>\n",
       "      <td>19559</td>\n",
       "      <td>13-Jul-22</td>\n",
       "      <td>RT4</td>\n",
       "      <td>2</td>\n",
       "      <td>3.0</td>\n",
       "    </tr>\n",
       "    <tr>\n",
       "      <th>8</th>\n",
       "      <td>17561</td>\n",
       "      <td>1-May-22</td>\n",
       "      <td>RT1</td>\n",
       "      <td>22</td>\n",
       "      <td>NaN</td>\n",
       "    </tr>\n",
       "    <tr>\n",
       "      <th>14</th>\n",
       "      <td>17562</td>\n",
       "      <td>1-May-22</td>\n",
       "      <td>RT1</td>\n",
       "      <td>12</td>\n",
       "      <td>NaN</td>\n",
       "    </tr>\n",
       "  </tbody>\n",
       "</table>\n",
       "<p>9200 rows × 5 columns</p>\n",
       "</div>"
      ],
      "text/plain": [
       "      property_id check_in_date room_category  successful_bookings  capacity\n",
       "3128        17558      1-Jun-22           RT2                   19      50.0\n",
       "2128        17558     22-May-22           RT2                   38      50.0\n",
       "1728        17558     18-May-22           RT2                   21      50.0\n",
       "5828        17558     28-Jun-22           RT2                   26      50.0\n",
       "3928        17558      9-Jun-22           RT2                   27      50.0\n",
       "...           ...           ...           ...                  ...       ...\n",
       "7475        19559     14-Jul-22           RT4                    2       3.0\n",
       "7476        16558     14-Jul-22           RT4                    2       3.0\n",
       "7375        19559     13-Jul-22           RT4                    2       3.0\n",
       "8           17561      1-May-22           RT1                   22       NaN\n",
       "14          17562      1-May-22           RT1                   12       NaN\n",
       "\n",
       "[9200 rows x 5 columns]"
      ]
     },
     "execution_count": 82,
     "metadata": {},
     "output_type": "execute_result"
    }
   ],
   "source": [
    "# property that have highest capacity\n",
    "\n",
    "fact_agg_bookings.sort_values('capacity',ascending=False)"
   ]
  },
  {
   "cell_type": "code",
   "execution_count": 91,
   "id": "6230aa74",
   "metadata": {},
   "outputs": [
    {
     "name": "stdout",
     "output_type": "stream",
     "text": [
      "property_id\n",
      "16558    22.0\n",
      "16559    41.0\n",
      "16560    34.0\n",
      "16561    24.0\n",
      "16562    43.0\n",
      "16563    41.0\n",
      "17558    50.0\n",
      "17559    39.0\n",
      "17560    45.0\n",
      "17561    36.0\n",
      "17562    30.0\n",
      "17563    44.0\n",
      "17564    40.0\n",
      "18558    30.0\n",
      "18559    44.0\n",
      "18560    40.0\n",
      "18561    40.0\n",
      "18562    38.0\n",
      "18563    29.0\n",
      "19558    40.0\n",
      "19559    41.0\n",
      "19560    38.0\n",
      "19561    45.0\n",
      "19562    30.0\n",
      "19563    45.0\n",
      "Name: capacity, dtype: float64\n"
     ]
    }
   ],
   "source": [
    "highest_capacity = fact_agg_bookings.groupby('property_id')['capacity'].max()\n",
    "print(highest_capacity)"
   ]
  },
  {
   "cell_type": "code",
   "execution_count": 93,
   "id": "99876492",
   "metadata": {},
   "outputs": [
    {
     "data": {
      "application/vnd.microsoft.datawrangler.viewer.v0+json": {
       "columns": [
        {
         "name": "property_id",
         "rawType": "int64",
         "type": "integer"
        },
        {
         "name": "capacity",
         "rawType": "float64",
         "type": "float"
        }
       ],
       "ref": "e1fe4218-8441-412d-a3cf-c80fea61662c",
       "rows": [
        [
         "16558",
         "22.0"
        ],
        [
         "16559",
         "41.0"
        ],
        [
         "16560",
         "34.0"
        ],
        [
         "16561",
         "24.0"
        ],
        [
         "16562",
         "43.0"
        ],
        [
         "16563",
         "41.0"
        ],
        [
         "17558",
         "50.0"
        ],
        [
         "17559",
         "39.0"
        ],
        [
         "17560",
         "45.0"
        ],
        [
         "17561",
         "36.0"
        ],
        [
         "17562",
         "30.0"
        ],
        [
         "17563",
         "44.0"
        ],
        [
         "17564",
         "40.0"
        ],
        [
         "18558",
         "30.0"
        ],
        [
         "18559",
         "44.0"
        ],
        [
         "18560",
         "40.0"
        ],
        [
         "18561",
         "40.0"
        ],
        [
         "18562",
         "38.0"
        ],
        [
         "18563",
         "29.0"
        ],
        [
         "19558",
         "40.0"
        ],
        [
         "19559",
         "41.0"
        ],
        [
         "19560",
         "38.0"
        ],
        [
         "19561",
         "45.0"
        ],
        [
         "19562",
         "30.0"
        ],
        [
         "19563",
         "45.0"
        ]
       ],
       "shape": {
        "columns": 1,
        "rows": 25
       }
      },
      "text/html": [
       "<div>\n",
       "<style scoped>\n",
       "    .dataframe tbody tr th:only-of-type {\n",
       "        vertical-align: middle;\n",
       "    }\n",
       "\n",
       "    .dataframe tbody tr th {\n",
       "        vertical-align: top;\n",
       "    }\n",
       "\n",
       "    .dataframe thead th {\n",
       "        text-align: right;\n",
       "    }\n",
       "</style>\n",
       "<table border=\"1\" class=\"dataframe\">\n",
       "  <thead>\n",
       "    <tr style=\"text-align: right;\">\n",
       "      <th></th>\n",
       "      <th>capacity</th>\n",
       "    </tr>\n",
       "    <tr>\n",
       "      <th>property_id</th>\n",
       "      <th></th>\n",
       "    </tr>\n",
       "  </thead>\n",
       "  <tbody>\n",
       "    <tr>\n",
       "      <th>16558</th>\n",
       "      <td>22.0</td>\n",
       "    </tr>\n",
       "    <tr>\n",
       "      <th>16559</th>\n",
       "      <td>41.0</td>\n",
       "    </tr>\n",
       "    <tr>\n",
       "      <th>16560</th>\n",
       "      <td>34.0</td>\n",
       "    </tr>\n",
       "    <tr>\n",
       "      <th>16561</th>\n",
       "      <td>24.0</td>\n",
       "    </tr>\n",
       "    <tr>\n",
       "      <th>16562</th>\n",
       "      <td>43.0</td>\n",
       "    </tr>\n",
       "    <tr>\n",
       "      <th>16563</th>\n",
       "      <td>41.0</td>\n",
       "    </tr>\n",
       "    <tr>\n",
       "      <th>17558</th>\n",
       "      <td>50.0</td>\n",
       "    </tr>\n",
       "    <tr>\n",
       "      <th>17559</th>\n",
       "      <td>39.0</td>\n",
       "    </tr>\n",
       "    <tr>\n",
       "      <th>17560</th>\n",
       "      <td>45.0</td>\n",
       "    </tr>\n",
       "    <tr>\n",
       "      <th>17561</th>\n",
       "      <td>36.0</td>\n",
       "    </tr>\n",
       "    <tr>\n",
       "      <th>17562</th>\n",
       "      <td>30.0</td>\n",
       "    </tr>\n",
       "    <tr>\n",
       "      <th>17563</th>\n",
       "      <td>44.0</td>\n",
       "    </tr>\n",
       "    <tr>\n",
       "      <th>17564</th>\n",
       "      <td>40.0</td>\n",
       "    </tr>\n",
       "    <tr>\n",
       "      <th>18558</th>\n",
       "      <td>30.0</td>\n",
       "    </tr>\n",
       "    <tr>\n",
       "      <th>18559</th>\n",
       "      <td>44.0</td>\n",
       "    </tr>\n",
       "    <tr>\n",
       "      <th>18560</th>\n",
       "      <td>40.0</td>\n",
       "    </tr>\n",
       "    <tr>\n",
       "      <th>18561</th>\n",
       "      <td>40.0</td>\n",
       "    </tr>\n",
       "    <tr>\n",
       "      <th>18562</th>\n",
       "      <td>38.0</td>\n",
       "    </tr>\n",
       "    <tr>\n",
       "      <th>18563</th>\n",
       "      <td>29.0</td>\n",
       "    </tr>\n",
       "    <tr>\n",
       "      <th>19558</th>\n",
       "      <td>40.0</td>\n",
       "    </tr>\n",
       "    <tr>\n",
       "      <th>19559</th>\n",
       "      <td>41.0</td>\n",
       "    </tr>\n",
       "    <tr>\n",
       "      <th>19560</th>\n",
       "      <td>38.0</td>\n",
       "    </tr>\n",
       "    <tr>\n",
       "      <th>19561</th>\n",
       "      <td>45.0</td>\n",
       "    </tr>\n",
       "    <tr>\n",
       "      <th>19562</th>\n",
       "      <td>30.0</td>\n",
       "    </tr>\n",
       "    <tr>\n",
       "      <th>19563</th>\n",
       "      <td>45.0</td>\n",
       "    </tr>\n",
       "  </tbody>\n",
       "</table>\n",
       "</div>"
      ],
      "text/plain": [
       "             capacity\n",
       "property_id          \n",
       "16558            22.0\n",
       "16559            41.0\n",
       "16560            34.0\n",
       "16561            24.0\n",
       "16562            43.0\n",
       "16563            41.0\n",
       "17558            50.0\n",
       "17559            39.0\n",
       "17560            45.0\n",
       "17561            36.0\n",
       "17562            30.0\n",
       "17563            44.0\n",
       "17564            40.0\n",
       "18558            30.0\n",
       "18559            44.0\n",
       "18560            40.0\n",
       "18561            40.0\n",
       "18562            38.0\n",
       "18563            29.0\n",
       "19558            40.0\n",
       "19559            41.0\n",
       "19560            38.0\n",
       "19561            45.0\n",
       "19562            30.0\n",
       "19563            45.0"
      ]
     },
     "execution_count": 93,
     "metadata": {},
     "output_type": "execute_result"
    }
   ],
   "source": [
    "df = pd.DataFrame(highest_capacity)\n",
    "df"
   ]
  },
  {
   "cell_type": "code",
   "execution_count": 94,
   "id": "2e8ca0e7",
   "metadata": {},
   "outputs": [
    {
     "data": {
      "application/vnd.microsoft.datawrangler.viewer.v0+json": {
       "columns": [
        {
         "name": "property_id",
         "rawType": "int64",
         "type": "integer"
        },
        {
         "name": "capacity",
         "rawType": "float64",
         "type": "float"
        }
       ],
       "ref": "adc33171-29eb-49e9-b7c1-60925109be0b",
       "rows": [
        [
         "17558",
         "50.0"
        ]
       ],
       "shape": {
        "columns": 1,
        "rows": 1
       }
      },
      "text/html": [
       "<div>\n",
       "<style scoped>\n",
       "    .dataframe tbody tr th:only-of-type {\n",
       "        vertical-align: middle;\n",
       "    }\n",
       "\n",
       "    .dataframe tbody tr th {\n",
       "        vertical-align: top;\n",
       "    }\n",
       "\n",
       "    .dataframe thead th {\n",
       "        text-align: right;\n",
       "    }\n",
       "</style>\n",
       "<table border=\"1\" class=\"dataframe\">\n",
       "  <thead>\n",
       "    <tr style=\"text-align: right;\">\n",
       "      <th></th>\n",
       "      <th>capacity</th>\n",
       "    </tr>\n",
       "    <tr>\n",
       "      <th>property_id</th>\n",
       "      <th></th>\n",
       "    </tr>\n",
       "  </thead>\n",
       "  <tbody>\n",
       "    <tr>\n",
       "      <th>17558</th>\n",
       "      <td>50.0</td>\n",
       "    </tr>\n",
       "  </tbody>\n",
       "</table>\n",
       "</div>"
      ],
      "text/plain": [
       "             capacity\n",
       "property_id          \n",
       "17558            50.0"
      ]
     },
     "execution_count": 94,
     "metadata": {},
     "output_type": "execute_result"
    }
   ],
   "source": [
    "df[df['capacity'] == df['capacity'].max()]"
   ]
  },
  {
   "cell_type": "code",
   "execution_count": 105,
   "id": "d071cb3b",
   "metadata": {},
   "outputs": [
    {
     "data": {
      "text/plain": [
       "array([17558])"
      ]
     },
     "execution_count": 105,
     "metadata": {},
     "output_type": "execute_result"
    }
   ],
   "source": [
    "# Ease way\n",
    "\n",
    "fact_agg_bookings[fact_agg_bookings['capacity'] == fact_agg_bookings['capacity'].max()]['property_id'].unique()"
   ]
  },
  {
   "cell_type": "code",
   "execution_count": null,
   "id": "41e038df",
   "metadata": {},
   "outputs": [],
   "source": []
  }
 ],
 "metadata": {
  "kernelspec": {
   "display_name": "venv",
   "language": "python",
   "name": "python3"
  },
  "language_info": {
   "codemirror_mode": {
    "name": "ipython",
    "version": 3
   },
   "file_extension": ".py",
   "mimetype": "text/x-python",
   "name": "python",
   "nbconvert_exporter": "python",
   "pygments_lexer": "ipython3",
   "version": "3.11.9"
  }
 },
 "nbformat": 4,
 "nbformat_minor": 5
}
