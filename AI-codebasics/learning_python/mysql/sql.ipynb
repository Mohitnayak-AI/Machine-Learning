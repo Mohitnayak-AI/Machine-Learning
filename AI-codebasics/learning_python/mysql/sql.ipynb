{
 "cells": [
  {
   "cell_type": "code",
   "execution_count": null,
   "id": "61f158b3",
   "metadata": {},
   "outputs": [
    {
     "name": "stdout",
     "output_type": "stream",
     "text": [
      "Collecting mysql-connector-python\n",
      "  Downloading mysql_connector_python-9.4.0-cp311-cp311-macosx_14_0_arm64.whl.metadata (7.3 kB)\n",
      "Downloading mysql_connector_python-9.4.0-cp311-cp311-macosx_14_0_arm64.whl (17.5 MB)\n",
      "\u001b[2K   \u001b[90m━━━━━━━━━━━━━━━━━━━━━━━━━━━━━━━━━━━━━━━━\u001b[0m \u001b[32m17.5/17.5 MB\u001b[0m \u001b[31m61.4 MB/s\u001b[0m eta \u001b[36m0:00:00\u001b[0m00:01\u001b[0m00:01\u001b[0m\n",
      "\u001b[?25hInstalling collected packages: mysql-connector-python\n",
      "Successfully installed mysql-connector-python-9.4.0\n",
      "\n",
      "\u001b[1m[\u001b[0m\u001b[34;49mnotice\u001b[0m\u001b[1;39;49m]\u001b[0m\u001b[39;49m A new release of pip is available: \u001b[0m\u001b[31;49m24.0\u001b[0m\u001b[39;49m -> \u001b[0m\u001b[32;49m25.2\u001b[0m\n",
      "\u001b[1m[\u001b[0m\u001b[34;49mnotice\u001b[0m\u001b[1;39;49m]\u001b[0m\u001b[39;49m To update, run: \u001b[0m\u001b[32;49mpip install --upgrade pip\u001b[0m\n"
     ]
    }
   ],
   "source": [
    "# connect MySQL using Python\n",
    "! pip install mysql-connector-python\n"
   ]
  },
  {
   "cell_type": "code",
   "execution_count": 3,
   "id": "83081b49",
   "metadata": {},
   "outputs": [],
   "source": [
    "import mysql.connector\n",
    "\n",
    "connection = mysql.connector.connect(\n",
    "    host = 'localhost',\n",
    "    user = 'root',\n",
    "    password = 'Mahakal2090#',\n",
    "    database = 'expense_manager'\n",
    ")"
   ]
  },
  {
   "cell_type": "code",
   "execution_count": 9,
   "id": "fa921da8",
   "metadata": {},
   "outputs": [
    {
     "name": "stdout",
     "output_type": "stream",
     "text": [
      "connected\n",
      "{'id': 3, 'expense_date': datetime.date(2024, 8, 2), 'amount': 50.0, 'category': 'Entertainment', 'notes': 'Movie tickets'}\n",
      "{'id': 4, 'expense_date': datetime.date(2024, 8, 2), 'amount': 150.0, 'category': 'Shopping', 'notes': 'New shoes'}\n",
      "{'id': 5, 'expense_date': datetime.date(2024, 8, 3), 'amount': 100.0, 'category': 'Food', 'notes': 'Dinner at a restaurant'}\n",
      "{'id': 11, 'expense_date': datetime.date(2024, 8, 2), 'amount': 400.0, 'category': 'Food', 'notes': 'Groceries for the week'}\n",
      "{'id': 12, 'expense_date': datetime.date(2024, 8, 2), 'amount': 80.0, 'category': 'Entertainment', 'notes': 'Concert tickets'}\n",
      "{'id': 13, 'expense_date': datetime.date(2024, 8, 2), 'amount': 100.0, 'category': 'Shopping', 'notes': 'Clothes'}\n",
      "{'id': 14, 'expense_date': datetime.date(2024, 8, 2), 'amount': 50.0, 'category': 'Other', 'notes': 'Gasoline'}\n",
      "{'id': 15, 'expense_date': datetime.date(2024, 8, 3), 'amount': 60.0, 'category': 'Food', 'notes': 'Dinner at a restaurant'}\n",
      "{'id': 16, 'expense_date': datetime.date(2024, 8, 3), 'amount': 20.0, 'category': 'Entertainment', 'notes': 'Video rental'}\n",
      "{'id': 17, 'expense_date': datetime.date(2024, 8, 3), 'amount': 120.0, 'category': 'Shopping', 'notes': 'Gadgets'}\n",
      "{'id': 18, 'expense_date': datetime.date(2024, 8, 3), 'amount': 15.0, 'category': 'Other', 'notes': 'Coffee'}\n",
      "{'id': 19, 'expense_date': datetime.date(2024, 8, 4), 'amount': 25.0, 'category': 'Food', 'notes': 'Lunch'}\n",
      "{'id': 20, 'expense_date': datetime.date(2024, 8, 4), 'amount': 200.0, 'category': 'Shopping', 'notes': 'Home supplies'}\n",
      "{'id': 21, 'expense_date': datetime.date(2024, 8, 4), 'amount': 10.0, 'category': 'Other', 'notes': 'Parking'}\n",
      "{'id': 22, 'expense_date': datetime.date(2024, 8, 5), 'amount': 350.0, 'category': 'Rent', 'notes': 'Shared rent payment'}\n",
      "{'id': 23, 'expense_date': datetime.date(2024, 8, 5), 'amount': 40.0, 'category': 'Food', 'notes': 'Snacks'}\n",
      "{'id': 24, 'expense_date': datetime.date(2024, 8, 5), 'amount': 75.0, 'category': 'Entertainment', 'notes': 'Theater tickets'}\n",
      "{'id': 25, 'expense_date': datetime.date(2024, 8, 5), 'amount': 100.0, 'category': 'Shopping', 'notes': 'Books'}\n",
      "{'id': 26, 'expense_date': datetime.date(2024, 8, 5), 'amount': 15.0, 'category': 'Other', 'notes': 'Miscellaneous'}\n",
      "{'id': 27, 'expense_date': datetime.date(2024, 8, 6), 'amount': 30.0, 'category': 'Food', 'notes': 'Breakfast'}\n",
      "{'id': 28, 'expense_date': datetime.date(2024, 8, 6), 'amount': 100.0, 'category': 'Shopping', 'notes': 'Shoes'}\n",
      "{'id': 29, 'expense_date': datetime.date(2024, 8, 6), 'amount': 80.0, 'category': 'Entertainment', 'notes': 'Movies'}\n",
      "{'id': 30, 'expense_date': datetime.date(2024, 8, 6), 'amount': 15.0, 'category': 'Other', 'notes': 'Public transport'}\n",
      "{'id': 31, 'expense_date': datetime.date(2024, 9, 1), 'amount': 1200.0, 'category': 'Rent', 'notes': 'Monthly rent payment'}\n",
      "{'id': 32, 'expense_date': datetime.date(2024, 9, 1), 'amount': 300.0, 'category': 'Food', 'notes': 'Groceries for the week'}\n",
      "{'id': 33, 'expense_date': datetime.date(2024, 9, 1), 'amount': 50.0, 'category': 'Entertainment', 'notes': 'Movie tickets'}\n",
      "{'id': 34, 'expense_date': datetime.date(2024, 9, 1), 'amount': 150.0, 'category': 'Shopping', 'notes': 'New shoes'}\n",
      "{'id': 35, 'expense_date': datetime.date(2024, 9, 1), 'amount': 20.0, 'category': 'Other', 'notes': 'Bus fare'}\n",
      "{'id': 36, 'expense_date': datetime.date(2024, 9, 2), 'amount': 400.0, 'category': 'Food', 'notes': 'Groceries for the week'}\n",
      "{'id': 37, 'expense_date': datetime.date(2024, 9, 2), 'amount': 80.0, 'category': 'Entertainment', 'notes': 'Concert tickets'}\n",
      "{'id': 38, 'expense_date': datetime.date(2024, 9, 2), 'amount': 100.0, 'category': 'Shopping', 'notes': 'Clothes'}\n",
      "{'id': 39, 'expense_date': datetime.date(2024, 9, 2), 'amount': 50.0, 'category': 'Other', 'notes': 'Gasoline'}\n",
      "{'id': 40, 'expense_date': datetime.date(2024, 9, 3), 'amount': 60.0, 'category': 'Food', 'notes': 'Dinner at a restaurant'}\n",
      "{'id': 41, 'expense_date': datetime.date(2024, 9, 3), 'amount': 20.0, 'category': 'Entertainment', 'notes': 'Video rental'}\n",
      "{'id': 42, 'expense_date': datetime.date(2024, 9, 3), 'amount': 120.0, 'category': 'Shopping', 'notes': 'Gadgets'}\n",
      "{'id': 43, 'expense_date': datetime.date(2024, 9, 3), 'amount': 15.0, 'category': 'Other', 'notes': 'Coffee'}\n",
      "{'id': 44, 'expense_date': datetime.date(2024, 9, 4), 'amount': 25.0, 'category': 'Food', 'notes': 'Lunch'}\n",
      "{'id': 45, 'expense_date': datetime.date(2024, 9, 4), 'amount': 200.0, 'category': 'Shopping', 'notes': 'Home supplies'}\n",
      "{'id': 46, 'expense_date': datetime.date(2024, 9, 4), 'amount': 10.0, 'category': 'Other', 'notes': 'Parking'}\n",
      "{'id': 47, 'expense_date': datetime.date(2024, 9, 5), 'amount': 350.0, 'category': 'Rent', 'notes': 'Shared rent payment'}\n",
      "{'id': 48, 'expense_date': datetime.date(2024, 9, 5), 'amount': 40.0, 'category': 'Food', 'notes': 'Snacks'}\n",
      "{'id': 49, 'expense_date': datetime.date(2024, 9, 5), 'amount': 75.0, 'category': 'Entertainment', 'notes': 'Theater tickets'}\n",
      "{'id': 50, 'expense_date': datetime.date(2024, 9, 5), 'amount': 100.0, 'category': 'Shopping', 'notes': 'Books'}\n",
      "{'id': 51, 'expense_date': datetime.date(2024, 9, 5), 'amount': 15.0, 'category': 'Other', 'notes': 'Miscellaneous'}\n",
      "{'id': 52, 'expense_date': datetime.date(2024, 9, 30), 'amount': 1000.0, 'category': 'Rent', 'notes': 'Monthly rent payment'}\n",
      "{'id': 53, 'expense_date': datetime.date(2024, 9, 30), 'amount': 250.0, 'category': 'Food', 'notes': 'Groceries for the week'}\n",
      "{'id': 54, 'expense_date': datetime.date(2024, 9, 30), 'amount': 40.0, 'category': 'Entertainment', 'notes': 'Cinema tickets'}\n",
      "{'id': 55, 'expense_date': datetime.date(2024, 9, 30), 'amount': 100.0, 'category': 'Shopping', 'notes': 'Clothes'}\n",
      "{'id': 56, 'expense_date': datetime.date(2024, 9, 30), 'amount': 20.0, 'category': 'Other', 'notes': 'Public transport'}\n",
      "{'id': 62, 'expense_date': datetime.date(2024, 8, 15), 'amount': 10.0, 'category': 'Shopping', 'notes': 'Bought potatoes'}\n",
      "{'id': 63, 'expense_date': datetime.date(2024, 8, 1), 'amount': 1227.0, 'category': 'Rent', 'notes': 'Monthly rent payment'}\n",
      "{'id': 64, 'expense_date': datetime.date(2024, 8, 1), 'amount': 300.0, 'category': 'Food', 'notes': 'Groceries for the week'}\n",
      "{'id': 65, 'expense_date': datetime.date(2024, 8, 1), 'amount': 1200.0, 'category': 'Rent', 'notes': 'Monthly rent payment'}\n",
      "{'id': 66, 'expense_date': datetime.date(2024, 8, 1), 'amount': 300.0, 'category': 'Food', 'notes': 'Groceries for the week'}\n"
     ]
    }
   ],
   "source": [
    "if connection.is_connected():\n",
    "    print(\"connected\")\n",
    "else:\n",
    "    print(\"not\")\n",
    "\n",
    "cursor = connection.cursor(dictionary=True)\n",
    "cursor.execute(\"SELECT * FROM expenses\")\n",
    "expences = cursor.fetchall()\n",
    "\n",
    "for ex in expences:\n",
    "    print(ex)\n",
    "\n",
    "connection.close()"
   ]
  },
  {
   "cell_type": "code",
   "execution_count": null,
   "id": "b99bcba9",
   "metadata": {},
   "outputs": [
    {
     "name": "stdout",
     "output_type": "stream",
     "text": [
      "connected\n",
      "{'id': 5, 'expense_date': datetime.date(2024, 8, 3), 'amount': 100.0, 'category': 'Food', 'notes': 'Dinner at a restaurant'}\n",
      "{'id': 15, 'expense_date': datetime.date(2024, 8, 3), 'amount': 60.0, 'category': 'Food', 'notes': 'Dinner at a restaurant'}\n",
      "{'id': 16, 'expense_date': datetime.date(2024, 8, 3), 'amount': 20.0, 'category': 'Entertainment', 'notes': 'Video rental'}\n",
      "{'id': 17, 'expense_date': datetime.date(2024, 8, 3), 'amount': 120.0, 'category': 'Shopping', 'notes': 'Gadgets'}\n",
      "{'id': 18, 'expense_date': datetime.date(2024, 8, 3), 'amount': 15.0, 'category': 'Other', 'notes': 'Coffee'}\n"
     ]
    }
   ],
   "source": [
    "def get_bd_cursor():\n",
    "    connection = mysql.connector.connect(\n",
    "    host = 'localhost',\n",
    "    user = 'root',\n",
    "    password = 'Mahakal2090#',\n",
    "    database = 'expense_manager'\n",
    "    )\n",
    "    \n",
    "    if connection.is_connected():\n",
    "        print(\"connected\")\n",
    "    else:\n",
    "        print(\"not\")\n",
    "\n",
    "    cursor = connection.cursor(dictionary=True)\n",
    "    return connection, cursor\n",
    "\n",
    "def fatch_all_data():\n",
    "    connection, cursor = get_bd_cursor()\n",
    "    cursor.execute(\"SELECT * FROM expenses\")\n",
    "    expences = cursor.fetchall()\n",
    "    for ex in expences:\n",
    "        print(ex)\n",
    "        \n",
    "    cursor.close()\n",
    "    connection.close()\n",
    "    \n",
    "def fatch_exp_date(expense_date):\n",
    "    connection, cursor = get_bd_cursor()\n",
    "    cursor.execute(\"SELECT * FROM expenses WHERE expense_date = %s\",(expense_date,))\n",
    "    expences = cursor.fetchall()\n",
    "    for ex in expences:\n",
    "        print(ex)\n",
    "        \n",
    "    cursor.close()\n",
    "    connection.close()\n",
    "    \n",
    "if __name__ == \"__main__\":\n",
    "    # fatch_all_data()\n",
    "    fatch_exp_date(\"2024-08-03\")\n"
   ]
  },
  {
   "cell_type": "markdown",
   "id": "63928a39",
   "metadata": {},
   "source": [
    "### Better Modeulare coding with generator to optimised and reduse the code"
   ]
  },
  {
   "cell_type": "code",
   "execution_count": 5,
   "id": "b9a247b9",
   "metadata": {},
   "outputs": [
    {
     "name": "stdout",
     "output_type": "stream",
     "text": [
      "***** expenses for 8/6 ********\n",
      "connected\n",
      "{'id': 67, 'expense_date': datetime.date(2025, 8, 6), 'amount': 300.0, 'category': 'Food', 'notes': 'Panipuri'}\n",
      "****** delete for 8/6 *******\n",
      "connected\n",
      "***** again expenses for 8/6 ********\n",
      "connected\n"
     ]
    }
   ],
   "source": [
    "from contextlib import contextmanager\n",
    "\n",
    "@contextmanager\n",
    "def get_bd_cursor(commit=False):\n",
    "    connection = mysql.connector.connect(\n",
    "    host = 'localhost',\n",
    "    user = 'root',\n",
    "    password = 'Mahakal2090#',\n",
    "    database = 'expense_manager'\n",
    "    )\n",
    "    \n",
    "    if connection.is_connected():\n",
    "        print(\"connected\")\n",
    "    else:\n",
    "        print(\"not\")\n",
    "\n",
    "    cursor = connection.cursor(dictionary=True)\n",
    "    yield cursor\n",
    "    if commit:\n",
    "        connection.commit()\n",
    "    cursor.close()\n",
    "    connection.close()\n",
    "\n",
    "def fatch_all_data():\n",
    "    with get_bd_cursor() as cursor:\n",
    "        cursor.execute(\"SELECT * FROM expenses\")\n",
    "        expences = cursor.fetchall()\n",
    "        for ex in expences:\n",
    "            print(ex)\n",
    "        \n",
    "    \n",
    "def fatch_exp_date(expense_date):\n",
    "    with get_bd_cursor() as cursor:\n",
    "        cursor.execute(\"SELECT * FROM expenses WHERE expense_date = %s\",(expense_date,))\n",
    "        expences = cursor.fetchall()\n",
    "        for ex in expences:\n",
    "            print(ex)\n",
    "            \n",
    "def insert_into(expense_date, amount, category, notes):\n",
    "    with get_bd_cursor(commit=True) as cursor:\n",
    "        cursor.execute(\"INSERT INTO expenses (expense_date, amount, category, notes) VALUES (%s,%s,%s,%s)\",\n",
    "                       (expense_date, amount, category, notes))\n",
    "\n",
    "def delete_data(expense_date):\n",
    "    with get_bd_cursor(commit=True) as cursor:\n",
    "        cursor.execute(\"DELETE FROM expenses WHERE expense_date = %s\",(expense_date,))\n",
    "        \n",
    "    \n",
    "if __name__ == \"__main__\":\n",
    "    # fatch_all_data()\n",
    "    # insert_into(\"2025-08-06\",300,\"Food\",\"Panipuri\")\n",
    "    # fatch_exp_date(\"2025-08-06\")\n",
    "    print(\"***** expenses for 8/6 ********\")\n",
    "    fatch_exp_date(\"2025-08-06\")\n",
    "    print(\"****** delete for 8/6 *******\")\n",
    "    delete_data(\"2025-08-06\")\n",
    "    print(\"***** again expenses for 8/6 ********\")\n",
    "    fatch_exp_date(\"2025-08-06\")\n",
    "    \n",
    "    "
   ]
  },
  {
   "cell_type": "code",
   "execution_count": null,
   "id": "4e794c6e",
   "metadata": {},
   "outputs": [],
   "source": []
  },
  {
   "cell_type": "code",
   "execution_count": null,
   "id": "1755558a",
   "metadata": {},
   "outputs": [],
   "source": []
  }
 ],
 "metadata": {
  "kernelspec": {
   "display_name": "venv",
   "language": "python",
   "name": "python3"
  },
  "language_info": {
   "codemirror_mode": {
    "name": "ipython",
    "version": 3
   },
   "file_extension": ".py",
   "mimetype": "text/x-python",
   "name": "python",
   "nbconvert_exporter": "python",
   "pygments_lexer": "ipython3",
   "version": "3.11.9"
  }
 },
 "nbformat": 4,
 "nbformat_minor": 5
}
