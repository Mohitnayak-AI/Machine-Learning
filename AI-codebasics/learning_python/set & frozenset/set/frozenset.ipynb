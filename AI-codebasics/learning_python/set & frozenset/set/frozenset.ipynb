{
 "cells": [
  {
   "cell_type": "markdown",
   "id": "8ee3f251",
   "metadata": {},
   "source": [
    "set"
   ]
  },
  {
   "cell_type": "code",
   "execution_count": 2,
   "id": "f3136b43",
   "metadata": {},
   "outputs": [
    {
     "data": {
      "text/plain": [
       "{1, 2, 3, 4, 5, 6}"
      ]
     },
     "execution_count": 2,
     "metadata": {},
     "output_type": "execute_result"
    }
   ],
   "source": [
    "myset = set([1,2,2,3,4,4,5,5,6])\n",
    "myset"
   ]
  },
  {
   "cell_type": "code",
   "execution_count": 3,
   "id": "a85a920a",
   "metadata": {},
   "outputs": [
    {
     "data": {
      "text/plain": [
       "{1, 2, 3, 4, 5, 6}"
      ]
     },
     "execution_count": 3,
     "metadata": {},
     "output_type": "execute_result"
    }
   ],
   "source": [
    "# another way to create set\n",
    "\n",
    "myset = {1,2,2,3,4,4,5,6,6}\n",
    "myset"
   ]
  },
  {
   "cell_type": "code",
   "execution_count": 4,
   "id": "f67c601b",
   "metadata": {},
   "outputs": [
    {
     "data": {
      "text/plain": [
       "{'Dosa', 'idle', 'poori'}"
      ]
     },
     "execution_count": 4,
     "metadata": {},
     "output_type": "execute_result"
    }
   ],
   "source": [
    "menu = {'Dosa','idle','poori'}\n",
    "menu"
   ]
  },
  {
   "cell_type": "code",
   "execution_count": 5,
   "id": "fbc32805",
   "metadata": {},
   "outputs": [],
   "source": [
    "menu.add('pizza') # to add a item in the set"
   ]
  },
  {
   "cell_type": "code",
   "execution_count": 6,
   "id": "9060ac3b",
   "metadata": {},
   "outputs": [
    {
     "data": {
      "text/plain": [
       "{'Dosa', 'idle', 'pizza', 'poori'}"
      ]
     },
     "execution_count": 6,
     "metadata": {},
     "output_type": "execute_result"
    }
   ],
   "source": [
    "menu"
   ]
  },
  {
   "cell_type": "code",
   "execution_count": 7,
   "id": "af86b3d2",
   "metadata": {},
   "outputs": [
    {
     "data": {
      "text/plain": [
       "{'Dosa', 'idle', 'poori'}"
      ]
     },
     "execution_count": 7,
     "metadata": {},
     "output_type": "execute_result"
    }
   ],
   "source": [
    "menu.remove('pizza') # to remove an item from the list\n",
    "menu"
   ]
  },
  {
   "cell_type": "code",
   "execution_count": 8,
   "id": "afba16ad",
   "metadata": {},
   "outputs": [
    {
     "data": {
      "text/plain": [
       "frozenset({'Dosa', 'idle', 'poori'})"
      ]
     },
     "execution_count": 8,
     "metadata": {},
     "output_type": "execute_result"
    }
   ],
   "source": [
    "# if you went a list that can't be change \n",
    "\n",
    "menu = frozenset(['Dosa','idle','poori'])\n",
    "menu"
   ]
  },
  {
   "cell_type": "code",
   "execution_count": 9,
   "id": "e0946aad",
   "metadata": {},
   "outputs": [
    {
     "ename": "AttributeError",
     "evalue": "'frozenset' object has no attribute 'add'",
     "output_type": "error",
     "traceback": [
      "\u001b[31m---------------------------------------------------------------------------\u001b[39m",
      "\u001b[31mAttributeError\u001b[39m                            Traceback (most recent call last)",
      "\u001b[36mCell\u001b[39m\u001b[36m \u001b[39m\u001b[32mIn[9]\u001b[39m\u001b[32m, line 1\u001b[39m\n\u001b[32m----> \u001b[39m\u001b[32m1\u001b[39m \u001b[43mmenu\u001b[49m\u001b[43m.\u001b[49m\u001b[43madd\u001b[49m(\u001b[33m'\u001b[39m\u001b[33mpizza\u001b[39m\u001b[33m'\u001b[39m)\n",
      "\u001b[31mAttributeError\u001b[39m: 'frozenset' object has no attribute 'add'"
     ]
    }
   ],
   "source": [
    "menu.add('pizza')"
   ]
  },
  {
   "cell_type": "code",
   "execution_count": 10,
   "id": "5d83e2f9",
   "metadata": {},
   "outputs": [
    {
     "ename": "AttributeError",
     "evalue": "'frozenset' object has no attribute 'remove'",
     "output_type": "error",
     "traceback": [
      "\u001b[31m---------------------------------------------------------------------------\u001b[39m",
      "\u001b[31mAttributeError\u001b[39m                            Traceback (most recent call last)",
      "\u001b[36mCell\u001b[39m\u001b[36m \u001b[39m\u001b[32mIn[10]\u001b[39m\u001b[32m, line 1\u001b[39m\n\u001b[32m----> \u001b[39m\u001b[32m1\u001b[39m \u001b[43mmenu\u001b[49m\u001b[43m.\u001b[49m\u001b[43mremove\u001b[49m(\u001b[33m'\u001b[39m\u001b[33mDosa\u001b[39m\u001b[33m'\u001b[39m)\n",
      "\u001b[31mAttributeError\u001b[39m: 'frozenset' object has no attribute 'remove'"
     ]
    }
   ],
   "source": [
    "menu.remove('Dosa')"
   ]
  },
  {
   "cell_type": "markdown",
   "id": "b6550a1c",
   "metadata": {},
   "source": [
    "so you can see you can't delete or add any item from frozen set"
   ]
  },
  {
   "cell_type": "code",
   "execution_count": 12,
   "id": "5413e9c9",
   "metadata": {},
   "outputs": [
    {
     "data": {
      "text/plain": [
       "True"
      ]
     },
     "execution_count": 12,
     "metadata": {},
     "output_type": "execute_result"
    }
   ],
   "source": [
    "\"Dosa\" in menu # check in the menbership"
   ]
  },
  {
   "cell_type": "code",
   "execution_count": 13,
   "id": "91d2e65f",
   "metadata": {},
   "outputs": [],
   "source": [
    "transactions = [\n",
    "    {'customer_name': \"Mira\", \"amount\": 56, \"date\": \"2024-08-01\"},\n",
    "    {'customer_name': \"Mira\", \"amount\": 12.3, \"date\": \"2024-09-05\"},\n",
    "    {'customer_name': \"Mohan\", \"amount\": 21, \"date\": \"2024-09-03\"},\n",
    "    {'customer_name': \"Mohan\", \"amount\": 36.8, \"date\": \"2024-09-10\"},\n",
    "    {'customer_name': \"Lucy\", \"amount\": 66.3, \"date\": \"2024-09-10\"}\n",
    "]"
   ]
  },
  {
   "cell_type": "code",
   "execution_count": 17,
   "id": "c186b32c",
   "metadata": {},
   "outputs": [
    {
     "data": {
      "text/plain": [
       "{'Lucy', 'Mira', 'Mohan'}"
      ]
     },
     "execution_count": 17,
     "metadata": {},
     "output_type": "execute_result"
    }
   ],
   "source": [
    "cust = set()\n",
    "for x in transactions:\n",
    "    cust.add(x['customer_name'])\n",
    "\n",
    "cust"
   ]
  },
  {
   "cell_type": "code",
   "execution_count": 18,
   "id": "b80c36bc",
   "metadata": {},
   "outputs": [],
   "source": [
    "a = {\"Mira\", \"Mohan\", \"Lucy\", \"Ahmed\"}\n",
    "b = {\"Chen\", \"Mohan\", \"Radha\", \"Maria\"}"
   ]
  },
  {
   "cell_type": "code",
   "execution_count": 19,
   "id": "2f95163f",
   "metadata": {},
   "outputs": [
    {
     "data": {
      "text/plain": [
       "{'Mohan'}"
      ]
     },
     "execution_count": 19,
     "metadata": {},
     "output_type": "execute_result"
    }
   ],
   "source": [
    "# find common from the above\n",
    "\n",
    "a&b"
   ]
  },
  {
   "cell_type": "code",
   "execution_count": 20,
   "id": "e94fe597",
   "metadata": {},
   "outputs": [
    {
     "data": {
      "text/plain": [
       "{'Ahmed', 'Lucy', 'Mira'}"
      ]
     },
     "execution_count": 20,
     "metadata": {},
     "output_type": "execute_result"
    }
   ],
   "source": [
    "a-b"
   ]
  },
  {
   "cell_type": "code",
   "execution_count": 21,
   "id": "67079de1",
   "metadata": {},
   "outputs": [
    {
     "data": {
      "text/plain": [
       "{'Chen', 'Maria', 'Radha'}"
      ]
     },
     "execution_count": 21,
     "metadata": {},
     "output_type": "execute_result"
    }
   ],
   "source": [
    "b-a"
   ]
  },
  {
   "cell_type": "code",
   "execution_count": 23,
   "id": "f5a9aacb",
   "metadata": {},
   "outputs": [
    {
     "data": {
      "text/plain": [
       "{'Ahmed', 'Chen', 'Lucy', 'Maria', 'Mira', 'Mohan', 'Radha'}"
      ]
     },
     "execution_count": 23,
     "metadata": {},
     "output_type": "execute_result"
    }
   ],
   "source": [
    "a|b"
   ]
  },
  {
   "cell_type": "code",
   "execution_count": 24,
   "id": "c60cb063",
   "metadata": {},
   "outputs": [
    {
     "data": {
      "text/plain": [
       "{'Mohan'}"
      ]
     },
     "execution_count": 24,
     "metadata": {},
     "output_type": "execute_result"
    }
   ],
   "source": [
    "a.intersection(b)"
   ]
  },
  {
   "cell_type": "code",
   "execution_count": 25,
   "id": "9df86ce9",
   "metadata": {},
   "outputs": [
    {
     "data": {
      "text/plain": [
       "{'Ahmed', 'Chen', 'Lucy', 'Maria', 'Mira', 'Mohan', 'Radha'}"
      ]
     },
     "execution_count": 25,
     "metadata": {},
     "output_type": "execute_result"
    }
   ],
   "source": [
    "a.union(b)"
   ]
  },
  {
   "cell_type": "code",
   "execution_count": null,
   "id": "0155a213",
   "metadata": {},
   "outputs": [],
   "source": []
  }
 ],
 "metadata": {
  "kernelspec": {
   "display_name": "venv",
   "language": "python",
   "name": "python3"
  },
  "language_info": {
   "codemirror_mode": {
    "name": "ipython",
    "version": 3
   },
   "file_extension": ".py",
   "mimetype": "text/x-python",
   "name": "python",
   "nbconvert_exporter": "python",
   "pygments_lexer": "ipython3",
   "version": "3.11.9"
  }
 },
 "nbformat": 4,
 "nbformat_minor": 5
}
