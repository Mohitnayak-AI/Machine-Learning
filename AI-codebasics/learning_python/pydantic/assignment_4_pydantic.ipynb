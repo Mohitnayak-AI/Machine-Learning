{
 "cells": [
  {
   "cell_type": "markdown",
   "id": "99a94300",
   "metadata": {},
   "source": [
    "<h2 align=\"center\" style=\"color:blue\">Codebasics Python Course: Exercise - Pydantic</h2>"
   ]
  },
  {
   "cell_type": "markdown",
   "id": "9273e84b",
   "metadata": {},
   "source": [
    "### Task 1: Implementing Data Validation for Restaurant Reservations Using Pydantic\n",
    "\n",
    "At AlitQ Technologies, we're developing a booking system for a restaurant chain. This system must handle reservations while ensuring that all customer and reservation data is validated to prevent errors.\n",
    "\n",
    "For this project, we're using Pydantic to validate and manage the data. Pydantic ensures data integrity, making sure the information is correct and reliable before processing.\n",
    "\n",
    "**Scenario:**\n",
    "AlitQ's system must handle the following reservation details:\n",
    "\n",
    "- Customer name\n",
    "- Reservation date\n",
    "- Number of guests\n",
    "- Optional special requests\n",
    "\n",
    "Your task is to write a program that defines a Pydantic model (class Reservation) to manage these reservation details. The model should validate:\n",
    "\n",
    "`customer_name` as a string\n",
    "\n",
    "`reservation_date` as a valid date\n",
    "\n",
    "`number_of_guests` as an integer\n",
    "\n",
    "`special_requests` as an optional string (can be empty)\n",
    "\n",
    "This ensures smooth operations and prevents invalid data from entering the system."
   ]
  },
  {
   "cell_type": "code",
   "execution_count": 2,
   "id": "2b556a5f",
   "metadata": {
    "scrolled": true
   },
   "outputs": [],
   "source": [
    "from datetime import datetime\n",
    "from pydantic import BaseModel, ValidationError\n",
    "from typing import Optional\n",
    "from datetime import date\n",
    "\n",
    "class Reservation(BaseModel):\n",
    "    #write your code here\n",
    "    customer_name : str\n",
    "    reservation_date : date\n",
    "    number_of_guests : int\n",
    "    special_request : Optional[str] = None"
   ]
  },
  {
   "cell_type": "code",
   "execution_count": 4,
   "id": "0b478310",
   "metadata": {},
   "outputs": [
    {
     "data": {
      "text/plain": [
       "'mohit'"
      ]
     },
     "execution_count": 4,
     "metadata": {},
     "output_type": "execute_result"
    }
   ],
   "source": [
    "hotel = Reservation(customer_name = \"mohit\",reservation_date = \"2025-08-07\",number_of_guests = 2)\n",
    "hotel.customer_name"
   ]
  },
  {
   "cell_type": "markdown",
   "id": "cf589fc6",
   "metadata": {},
   "source": [
    "### Task 2: Creating Reservation Objects with Error Handling\n",
    "\n",
    "Now, you need to write a `create_reservation()` function that takes a Python dictionary as input, validates it using the Pydantic Reservation model, and creates a reservation object.\n",
    "\n",
    "**Scenario:**\n",
    "\n",
    "Write the create_reservation() function that:\n",
    "\n",
    "1. Takes a Python dictionary as input.\n",
    "2. Attempts to create a Reservation object using the Pydantic model from Task 1.\n",
    "3. If validation fails, the function should catch the Pydantic validation exception and print the error: `\"Failed to create reservation\"` followed by the specific validation error message.\n",
    "\n",
    "This will ensure invalid data is flagged, preventing potential system issues."
   ]
  },
  {
   "cell_type": "code",
   "execution_count": 11,
   "id": "81270c7c",
   "metadata": {},
   "outputs": [],
   "source": [
    "def create_reservation(data):\n",
    "    try:\n",
    "        #write your code here\n",
    "        reservation = Reservation(**data)\n",
    "        print(f\"Reservation sucessfull for {reservation.customer_name} on {reservation.reservation_date}\")\n",
    "        if reservation.special_request:\n",
    "            print(f\"special request {reservation.special_request}\")\n",
    "    except ValidationError as e:\n",
    "        #write your code here\n",
    "        print(f\"can't reserved due to {e}\")"
   ]
  },
  {
   "cell_type": "markdown",
   "id": "31c477b3",
   "metadata": {},
   "source": [
    "### Task 3: Creating a Valid Reservation\n",
    "\n",
    "Now that you've implemented data validation and error handling, it's time to create a correct reservation entry for the booking system. Use the following values to ensure all fields match the expected format for the Reservation model:\n",
    "\n",
    "- Customer Name: \"Vishnu Parmar\"\n",
    "- Reservation Date: 31 Dec 2025, Time 19:00\n",
    "- Number of Guests: 4\n",
    "- Special Requests: \"Table near the window\"\n",
    "\n",
    "Ensure that the reservation is successfully created using the create_reservation() function from Task 2, without triggering any validation errors."
   ]
  },
  {
   "cell_type": "code",
   "execution_count": 12,
   "id": "ed11aa08",
   "metadata": {},
   "outputs": [
    {
     "name": "stdout",
     "output_type": "stream",
     "text": [
      "Reservation sucessfull for Vishnu Parmar on 2025-12-31\n",
      "special request Table near the window\n"
     ]
    }
   ],
   "source": [
    "# Correct data\n",
    "customer_data = {\n",
    "    \"customer_name\": \"Vishnu Parmar\",\n",
    "    \"reservation_date\": \"2025-12-31\",\n",
    "    \"number_of_guests\": 4,\n",
    "    \"special_request\": \"Table near the window\"\n",
    "}\n",
    "\n",
    "# Write your code here\n",
    "create_reservation(customer_data)"
   ]
  },
  {
   "cell_type": "markdown",
   "id": "cb0e92fa",
   "metadata": {},
   "source": [
    "### Task 4: Creating an Invalid Reservation\n",
    "\n",
    "To test the robustness of the validation system in the AlitQ booking system, create an invalid reservation entry with missing required fields. Use the following values:\n",
    "\n",
    "- Customer Name: \"Chen Chu\"\n",
    "- Number of Guests: 3\n",
    "\n",
    "Since the `Reservation Date` is missing, this should trigger a validation error. Use the `create_reservation()` function from Task 2 and ensure it catches and prints the error message correctly."
   ]
  },
  {
   "cell_type": "code",
   "execution_count": 13,
   "id": "7a5f68b5",
   "metadata": {},
   "outputs": [
    {
     "name": "stdout",
     "output_type": "stream",
     "text": [
      "can't reserved due to 1 validation error for Reservation\n",
      "reservation_date\n",
      "  Field required [type=missing, input_value={'customer_name': 'Chen C..., 'number_of_guests': 3}, input_type=dict]\n",
      "    For further information visit https://errors.pydantic.dev/2.11/v/missing\n"
     ]
    }
   ],
   "source": [
    "# Incorrect data: missing the number of guests\n",
    "\n",
    "incorrect_data = {\n",
    "    \"customer_name\": \"Chen Chu\",\n",
    "    \"number_of_guests\": 3\n",
    "}\n",
    "\n",
    "\n",
    "# Write your code here\n",
    "create_reservation(incorrect_data)"
   ]
  },
  {
   "cell_type": "code",
   "execution_count": null,
   "id": "904a109a-7962-496a-ba9b-08c00a852cbf",
   "metadata": {},
   "outputs": [],
   "source": []
  }
 ],
 "metadata": {
  "kernelspec": {
   "display_name": "venv",
   "language": "python",
   "name": "python3"
  },
  "language_info": {
   "codemirror_mode": {
    "name": "ipython",
    "version": 3
   },
   "file_extension": ".py",
   "mimetype": "text/x-python",
   "name": "python",
   "nbconvert_exporter": "python",
   "pygments_lexer": "ipython3",
   "version": "3.11.9"
  }
 },
 "nbformat": 4,
 "nbformat_minor": 5
}
