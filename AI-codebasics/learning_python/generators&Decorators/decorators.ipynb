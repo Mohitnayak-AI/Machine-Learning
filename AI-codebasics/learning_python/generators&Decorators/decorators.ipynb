{
 "cells": [
  {
   "cell_type": "code",
   "execution_count": 1,
   "id": "b23bf713",
   "metadata": {},
   "outputs": [],
   "source": [
    "def get_square(num):\n",
    "    result = []\n",
    "    for n in num:\n",
    "        result.append(n**2)\n",
    "    return result"
   ]
  },
  {
   "cell_type": "code",
   "execution_count": 2,
   "id": "dbf5d286",
   "metadata": {},
   "outputs": [],
   "source": [
    "def get_cube(num):\n",
    "    result = []\n",
    "    for n in num:\n",
    "        result.append(n**3)\n",
    "    return result"
   ]
  },
  {
   "cell_type": "code",
   "execution_count": 3,
   "id": "17311551",
   "metadata": {},
   "outputs": [
    {
     "data": {
      "text/plain": [
       "[1, 4, 9, 16, 25]"
      ]
     },
     "execution_count": 3,
     "metadata": {},
     "output_type": "execute_result"
    }
   ],
   "source": [
    "my_list = [1,2,3,4,5]\n",
    "\n",
    "get_square(my_list)"
   ]
  },
  {
   "cell_type": "code",
   "execution_count": 4,
   "id": "e0e48cf9",
   "metadata": {},
   "outputs": [
    {
     "data": {
      "text/plain": [
       "[1, 8, 27, 64, 125]"
      ]
     },
     "execution_count": 4,
     "metadata": {},
     "output_type": "execute_result"
    }
   ],
   "source": [
    "get_cube(my_list)"
   ]
  },
  {
   "cell_type": "code",
   "execution_count": 5,
   "id": "96a612a4",
   "metadata": {},
   "outputs": [],
   "source": [
    "# To mesure performance by calculationg the time taken \n",
    "\n",
    "import time\n",
    "\n",
    "\n",
    "def get_square(num):\n",
    "    start = time.time()\n",
    "    result = []\n",
    "    for n in num:\n",
    "        result.append(n**2)\n",
    "    end = time.time()\n",
    "    print(f'time taken {(end-start)*1000} in mil sec')\n",
    "    return result"
   ]
  },
  {
   "cell_type": "code",
   "execution_count": 6,
   "id": "e8762f87",
   "metadata": {},
   "outputs": [],
   "source": [
    "def get_cube(num):\n",
    "    start = time.time()\n",
    "    result = []\n",
    "    for n in num:\n",
    "        result.append(n**3)\n",
    "    end = time.time()\n",
    "    print(f'time taken {(end-start)*1000} in mil sec')\n",
    "    return result"
   ]
  },
  {
   "cell_type": "code",
   "execution_count": 13,
   "id": "2ae2dc44",
   "metadata": {},
   "outputs": [
    {
     "name": "stdout",
     "output_type": "stream",
     "text": [
      "Function Name get_square took 4.6520233154296875 sec\n"
     ]
    }
   ],
   "source": [
    "# to get only the time taken\n",
    "\n",
    "_ = get_square(range(100000)) # to get only the print statment use `_ = unused variable`"
   ]
  },
  {
   "cell_type": "code",
   "execution_count": 8,
   "id": "4f15aa1f",
   "metadata": {},
   "outputs": [
    {
     "name": "stdout",
     "output_type": "stream",
     "text": [
      "time taken 6.18290901184082 in mil sec\n"
     ]
    }
   ],
   "source": [
    "_ = get_cube(range(100000))"
   ]
  },
  {
   "cell_type": "markdown",
   "id": "d74799ef",
   "metadata": {},
   "source": [
    "As you can see we are repeting the the time taken code in both the function but there is a easyer way to do it using `Decorators`\n",
    "\n",
    "    Decorator is a function for a function"
   ]
  },
  {
   "cell_type": "code",
   "execution_count": 9,
   "id": "7c1b0549",
   "metadata": {},
   "outputs": [],
   "source": [
    "def timer(func):\n",
    "    def wrapper(*args, **kwargs):\n",
    "        start = time.time()\n",
    "        result = func(*args,**kwargs)\n",
    "        end = time.time()\n",
    "        print(f\"Function Name {func.__name__} took {(end-start)*1000} sec\")\n",
    "        return result\n",
    "    return wrapper"
   ]
  },
  {
   "cell_type": "code",
   "execution_count": 10,
   "id": "2cacc720",
   "metadata": {},
   "outputs": [
    {
     "name": "stdout",
     "output_type": "stream",
     "text": [
      "Function Name get_square took 3.8170814514160156 sec\n"
     ]
    }
   ],
   "source": [
    "@timer\n",
    "def get_square(num):\n",
    "    result = []\n",
    "    for n in num:\n",
    "        result.append(n**2)\n",
    "    return result\n",
    "\n",
    "_ = get_square(range(100000))"
   ]
  },
  {
   "cell_type": "code",
   "execution_count": null,
   "id": "229fdc04",
   "metadata": {},
   "outputs": [],
   "source": []
  }
 ],
 "metadata": {
  "kernelspec": {
   "display_name": "venv",
   "language": "python",
   "name": "python3"
  },
  "language_info": {
   "codemirror_mode": {
    "name": "ipython",
    "version": 3
   },
   "file_extension": ".py",
   "mimetype": "text/x-python",
   "name": "python",
   "nbconvert_exporter": "python",
   "pygments_lexer": "ipython3",
   "version": "3.11.9"
  }
 },
 "nbformat": 4,
 "nbformat_minor": 5
}
