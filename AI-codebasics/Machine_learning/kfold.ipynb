{
 "cells": [
  {
   "cell_type": "code",
   "execution_count": 3,
   "id": "d2e910ba",
   "metadata": {},
   "outputs": [],
   "source": [
    "import numpy as np\n",
    "import matplotlib.pyplot as plt\n",
    "from sklearn.datasets import make_classification\n",
    "from sklearn.linear_model import LogisticRegression\n",
    "from sklearn.model_selection import train_test_split\n",
    "from sklearn.metrics import classification_report"
   ]
  },
  {
   "cell_type": "code",
   "execution_count": 2,
   "id": "4916cc9b",
   "metadata": {},
   "outputs": [],
   "source": [
    "x, y = make_classification(\n",
    "    n_samples=1000,\n",
    "    n_features=10,\n",
    "    n_informative=8,\n",
    "    n_redundant=2,\n",
    "    n_repeated=0,\n",
    "    n_classes=2,\n",
    "    random_state=42\n",
    ")\n",
    "\n",
    "x_train,x_test,y_train,y_test = train_test_split(x,y,test_size=0.2,random_state=42)"
   ]
  },
  {
   "cell_type": "code",
   "execution_count": 4,
   "id": "963cc59b",
   "metadata": {},
   "outputs": [
    {
     "name": "stdout",
     "output_type": "stream",
     "text": [
      "              precision    recall  f1-score   support\n",
      "\n",
      "           0       0.73      0.62      0.67       106\n",
      "           1       0.63      0.73      0.68        94\n",
      "\n",
      "    accuracy                           0.68       200\n",
      "   macro avg       0.68      0.68      0.67       200\n",
      "weighted avg       0.68      0.68      0.67       200\n",
      "\n"
     ]
    }
   ],
   "source": [
    "lr = LogisticRegression()\n",
    "lr.fit(x_train,y_train)\n",
    "\n",
    "y_pred = lr.predict(x_test)\n",
    "\n",
    "cr = classification_report(y_test,y_pred)\n",
    "\n",
    "print(cr)"
   ]
  },
  {
   "cell_type": "code",
   "execution_count": 7,
   "id": "0107af37",
   "metadata": {},
   "outputs": [
    {
     "name": "stdout",
     "output_type": "stream",
     "text": [
      "[0.675, 0.715, 0.72, 0.645, 0.72]\n"
     ]
    }
   ],
   "source": [
    "from sklearn.model_selection import KFold\n",
    "\n",
    "kf = KFold(n_splits=5,shuffle=True,random_state=42)\n",
    "score =[]\n",
    "\n",
    "for train_index,test_index in kf.split(x,y):\n",
    "    x_train,x_test = x[train_index],x[test_index]\n",
    "    y_train,y_test = y[train_index],y[test_index]\n",
    "    \n",
    "    lr.fit(x_train,y_train)\n",
    "    score.append(lr.score(x_test,y_test))\n",
    "print(score)"
   ]
  },
  {
   "cell_type": "code",
   "execution_count": 11,
   "id": "7eb27040",
   "metadata": {},
   "outputs": [
    {
     "data": {
      "text/plain": [
       "array([0.71 , 0.69 , 0.655, 0.685, 0.7  ])"
      ]
     },
     "execution_count": 11,
     "metadata": {},
     "output_type": "execute_result"
    }
   ],
   "source": [
    "from sklearn.model_selection import cross_val_score\n",
    "\n",
    "score_log = cross_val_score(LogisticRegression(),x,y,cv=5)\n",
    "score_log"
   ]
  },
  {
   "cell_type": "code",
   "execution_count": 12,
   "id": "4f56c47f",
   "metadata": {},
   "outputs": [
    {
     "data": {
      "text/plain": [
       "array([0.81 , 0.73 , 0.825, 0.8  , 0.82 ])"
      ]
     },
     "execution_count": 12,
     "metadata": {},
     "output_type": "execute_result"
    }
   ],
   "source": [
    "# Now Decision tree\n",
    "from sklearn.tree import DecisionTreeClassifier\n",
    "\n",
    "score_tree = cross_val_score(DecisionTreeClassifier(),x,y,cv=5)\n",
    "score_tree"
   ]
  },
  {
   "cell_type": "code",
   "execution_count": 13,
   "id": "1ea83c4a",
   "metadata": {},
   "outputs": [
    {
     "name": "stdout",
     "output_type": "stream",
     "text": [
      "0.688 0.7969999999999999\n"
     ]
    }
   ],
   "source": [
    "avg_score_log = np.average(score_log)\n",
    "avg_score_tree = np.average(score_tree)\n",
    "\n",
    "print(avg_score_log,avg_score_tree)"
   ]
  },
  {
   "cell_type": "code",
   "execution_count": 14,
   "id": "1ca8cf7c",
   "metadata": {},
   "outputs": [
    {
     "data": {
      "text/plain": [
       "np.float64(0.8880000000000001)"
      ]
     },
     "execution_count": 14,
     "metadata": {},
     "output_type": "execute_result"
    }
   ],
   "source": [
    "# Randome forest\n",
    "\n",
    "from sklearn.ensemble import RandomForestClassifier\n",
    "score_rf = cross_val_score(RandomForestClassifier(),x,y,cv=5)\n",
    "np.average(score_rf)"
   ]
  },
  {
   "cell_type": "code",
   "execution_count": 15,
   "id": "841ef77a",
   "metadata": {},
   "outputs": [
    {
     "data": {
      "text/plain": [
       "np.float64(0.8780000000000001)"
      ]
     },
     "execution_count": 15,
     "metadata": {},
     "output_type": "execute_result"
    }
   ],
   "source": [
    "score_rf = cross_val_score(RandomForestClassifier(n_estimators=20),x,y,cv=5)\n",
    "np.average(score_rf)"
   ]
  },
  {
   "cell_type": "code",
   "execution_count": 16,
   "id": "ecdc894c",
   "metadata": {},
   "outputs": [
    {
     "data": {
      "text/plain": [
       "np.float64(0.876)"
      ]
     },
     "execution_count": 16,
     "metadata": {},
     "output_type": "execute_result"
    }
   ],
   "source": [
    "score_rf = cross_val_score(RandomForestClassifier(n_estimators=30),x,y,cv=5)\n",
    "np.average(score_rf)"
   ]
  },
  {
   "cell_type": "code",
   "execution_count": 17,
   "id": "7f12676b",
   "metadata": {},
   "outputs": [
    {
     "data": {
      "text/plain": [
       "{'fit_time': array([0.00540066, 0.00408912, 0.00714707, 0.00656509, 0.00492382]),\n",
       " 'score_time': array([0.00203824, 0.00097489, 0.0031321 , 0.00163293, 0.0008409 ]),\n",
       " 'test_accuracy': array([0.81 , 0.705, 0.815, 0.8  , 0.82 ]),\n",
       " 'test_roc_auc': array([0.81 , 0.705, 0.815, 0.8  , 0.82 ])}"
      ]
     },
     "execution_count": 17,
     "metadata": {},
     "output_type": "execute_result"
    }
   ],
   "source": [
    "from sklearn.model_selection import cross_validate\n",
    "\n",
    "cross_validate(DecisionTreeClassifier(),x,y,cv=5,scoring=['accuracy','roc_auc'])"
   ]
  },
  {
   "cell_type": "markdown",
   "id": "05356b01",
   "metadata": {},
   "source": [
    "## Stratified K fold"
   ]
  },
  {
   "cell_type": "code",
   "execution_count": 18,
   "id": "2ec9dae8",
   "metadata": {},
   "outputs": [],
   "source": [
    "x, y = make_classification(\n",
    "    n_samples=1000,\n",
    "    n_features=10,\n",
    "    n_informative=8,\n",
    "    n_redundant=2,\n",
    "    n_repeated=0,\n",
    "    n_classes=2,\n",
    "    weights=[0.9,0.1],\n",
    "    random_state=42\n",
    ")\n",
    "\n",
    "x_train,x_test,y_train,y_test = train_test_split(x,y,test_size=0.2,random_state=42)"
   ]
  },
  {
   "cell_type": "code",
   "execution_count": 19,
   "id": "d92a6875",
   "metadata": {},
   "outputs": [
    {
     "data": {
      "text/plain": [
       "Counter({np.int64(0): 897, np.int64(1): 103})"
      ]
     },
     "execution_count": 19,
     "metadata": {},
     "output_type": "execute_result"
    }
   ],
   "source": [
    "from collections import Counter\n",
    "Counter(y)"
   ]
  },
  {
   "cell_type": "code",
   "execution_count": 21,
   "id": "056abe22",
   "metadata": {},
   "outputs": [
    {
     "name": "stdout",
     "output_type": "stream",
     "text": [
      "Counter({np.int64(0): 177, np.int64(1): 23})\n",
      "0.89\n",
      "Counter({np.int64(0): 179, np.int64(1): 21})\n",
      "0.88\n",
      "Counter({np.int64(0): 183, np.int64(1): 17})\n",
      "0.915\n",
      "Counter({np.int64(0): 181, np.int64(1): 19})\n",
      "0.91\n",
      "Counter({np.int64(0): 177, np.int64(1): 23})\n",
      "0.89\n"
     ]
    }
   ],
   "source": [
    "from sklearn.model_selection import KFold\n",
    "\n",
    "kf = KFold(n_splits=5,shuffle=True,random_state=42)\n",
    "\n",
    "for train_index,test_index in kf.split(x,y):\n",
    "    x_train,x_test = x[train_index],x[test_index]\n",
    "    y_train,y_test = y[train_index],y[test_index]\n",
    "    \n",
    "    lr.fit(x_train,y_train)\n",
    "    print(Counter(y_test))\n",
    "    print(lr.score(x_test,y_test))"
   ]
  },
  {
   "cell_type": "code",
   "execution_count": 22,
   "id": "f735e0d1",
   "metadata": {},
   "outputs": [
    {
     "name": "stdout",
     "output_type": "stream",
     "text": [
      "Counter({np.int64(0): 180, np.int64(1): 20})\n",
      "0.915\n",
      "Counter({np.int64(0): 180, np.int64(1): 20})\n",
      "0.91\n",
      "Counter({np.int64(0): 179, np.int64(1): 21})\n",
      "0.895\n",
      "Counter({np.int64(0): 179, np.int64(1): 21})\n",
      "0.895\n",
      "Counter({np.int64(0): 179, np.int64(1): 21})\n",
      "0.895\n"
     ]
    }
   ],
   "source": [
    "from sklearn.model_selection import StratifiedKFold\n",
    "\n",
    "kf = StratifiedKFold(n_splits=5,shuffle=True,random_state=42)\n",
    "\n",
    "for train_index,test_index in kf.split(x,y):\n",
    "    x_train,x_test = x[train_index],x[test_index]\n",
    "    y_train,y_test = y[train_index],y[test_index]\n",
    "    \n",
    "    lr.fit(x_train,y_train)\n",
    "    print(Counter(y_test))\n",
    "    print(lr.score(x_test,y_test))"
   ]
  },
  {
   "cell_type": "code",
   "execution_count": 23,
   "id": "3c943d29",
   "metadata": {},
   "outputs": [
    {
     "data": {
      "text/plain": [
       "{'fit_time': array([0.00627899, 0.00606704, 0.01259327, 0.00683022, 0.00498271]),\n",
       " 'score_time': array([0.00120187, 0.00100112, 0.00168705, 0.00093198, 0.00085139]),\n",
       " 'test_accuracy': array([0.895, 0.845, 0.865, 0.875, 0.92 ]),\n",
       " 'test_roc_auc': array([0.65277778, 0.55833333, 0.6934025 , 0.74102155, 0.72412876])}"
      ]
     },
     "execution_count": 23,
     "metadata": {},
     "output_type": "execute_result"
    }
   ],
   "source": [
    "cross_validate(DecisionTreeClassifier(),x,y,cv=5,scoring=['accuracy','roc_auc'])"
   ]
  },
  {
   "cell_type": "code",
   "execution_count": 24,
   "id": "eb51c10c",
   "metadata": {},
   "outputs": [
    {
     "data": {
      "text/plain": [
       "{'fit_time': array([0.00567293, 0.00511312, 0.00889969, 0.00729084, 0.00482607]),\n",
       " 'score_time': array([0.00108385, 0.00093102, 0.00285316, 0.00082111, 0.00087881]),\n",
       " 'test_accuracy': array([0.91 , 0.89 , 0.91 , 0.845, 0.915]),\n",
       " 'test_roc_auc': array([0.70555556, 0.71666667, 0.71854217, 0.59816441, 0.70031923])}"
      ]
     },
     "execution_count": 24,
     "metadata": {},
     "output_type": "execute_result"
    }
   ],
   "source": [
    "skf = StratifiedKFold(n_splits=5,shuffle=True,random_state=42)\n",
    "cross_validate(DecisionTreeClassifier(),x,y,cv=skf,scoring=['accuracy','roc_auc'])"
   ]
  },
  {
   "cell_type": "code",
   "execution_count": null,
   "id": "59699137",
   "metadata": {},
   "outputs": [],
   "source": []
  }
 ],
 "metadata": {
  "kernelspec": {
   "display_name": "venv",
   "language": "python",
   "name": "python3"
  },
  "language_info": {
   "codemirror_mode": {
    "name": "ipython",
    "version": 3
   },
   "file_extension": ".py",
   "mimetype": "text/x-python",
   "name": "python",
   "nbconvert_exporter": "python",
   "pygments_lexer": "ipython3",
   "version": "3.11.9"
  }
 },
 "nbformat": 4,
 "nbformat_minor": 5
}
