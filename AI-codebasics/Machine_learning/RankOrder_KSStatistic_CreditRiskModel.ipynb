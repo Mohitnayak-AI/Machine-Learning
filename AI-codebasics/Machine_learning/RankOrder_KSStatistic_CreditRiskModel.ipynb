{
 "cells": [
  {
   "cell_type": "code",
   "execution_count": 1,
   "id": "37537561",
   "metadata": {},
   "outputs": [
    {
     "data": {
      "application/vnd.microsoft.datawrangler.viewer.v0+json": {
       "columns": [
        {
         "name": "index",
         "rawType": "int64",
         "type": "integer"
        },
        {
         "name": "Borrower Name",
         "rawType": "object",
         "type": "string"
        },
        {
         "name": "Default Probability",
         "rawType": "float64",
         "type": "float"
        },
        {
         "name": "Default Truth",
         "rawType": "int64",
         "type": "integer"
        }
       ],
       "ref": "8f92069d-6fc3-4e44-8021-9e16f436135c",
       "rows": [
        [
         "0",
         "Priya Rao",
         "0.32",
         "0"
        ],
        [
         "1",
         "Raj Patel",
         "0.67",
         "1"
        ],
        [
         "2",
         "Meera Gupta",
         "0.56",
         "1"
        ],
        [
         "3",
         "Linda Johnson",
         "0.18",
         "0"
        ],
        [
         "4",
         "Aditi Sharma",
         "0.75",
         "1"
        ],
        [
         "5",
         "John Smith",
         "0.49",
         "1"
        ],
        [
         "6",
         "Arjun Reddy",
         "0.12",
         "0"
        ],
        [
         "7",
         "Emily Chen",
         "0.44",
         "0"
        ],
        [
         "8",
         "Laura Kim",
         "0.06",
         "0"
        ],
        [
         "9",
         "Vivek Singh",
         "0.39",
         "0"
        ],
        [
         "10",
         "Michael Brown",
         "0.28",
         "0"
        ],
        [
         "11",
         "Sunita Verma",
         "0.22",
         "0"
        ],
        [
         "12",
         "Anil Kumar",
         "0.62",
         "0"
        ],
        [
         "13",
         "Sarah Lee",
         "0.52",
         "1"
        ],
        [
         "14",
         "Zoe Chang",
         "0.15",
         "0"
        ],
        [
         "15",
         "Mohan Das",
         "0.03",
         "0"
        ]
       ],
       "shape": {
        "columns": 3,
        "rows": 16
       }
      },
      "text/html": [
       "<div>\n",
       "<style scoped>\n",
       "    .dataframe tbody tr th:only-of-type {\n",
       "        vertical-align: middle;\n",
       "    }\n",
       "\n",
       "    .dataframe tbody tr th {\n",
       "        vertical-align: top;\n",
       "    }\n",
       "\n",
       "    .dataframe thead th {\n",
       "        text-align: right;\n",
       "    }\n",
       "</style>\n",
       "<table border=\"1\" class=\"dataframe\">\n",
       "  <thead>\n",
       "    <tr style=\"text-align: right;\">\n",
       "      <th></th>\n",
       "      <th>Borrower Name</th>\n",
       "      <th>Default Probability</th>\n",
       "      <th>Default Truth</th>\n",
       "    </tr>\n",
       "  </thead>\n",
       "  <tbody>\n",
       "    <tr>\n",
       "      <th>0</th>\n",
       "      <td>Priya Rao</td>\n",
       "      <td>0.32</td>\n",
       "      <td>0</td>\n",
       "    </tr>\n",
       "    <tr>\n",
       "      <th>1</th>\n",
       "      <td>Raj Patel</td>\n",
       "      <td>0.67</td>\n",
       "      <td>1</td>\n",
       "    </tr>\n",
       "    <tr>\n",
       "      <th>2</th>\n",
       "      <td>Meera Gupta</td>\n",
       "      <td>0.56</td>\n",
       "      <td>1</td>\n",
       "    </tr>\n",
       "    <tr>\n",
       "      <th>3</th>\n",
       "      <td>Linda Johnson</td>\n",
       "      <td>0.18</td>\n",
       "      <td>0</td>\n",
       "    </tr>\n",
       "    <tr>\n",
       "      <th>4</th>\n",
       "      <td>Aditi Sharma</td>\n",
       "      <td>0.75</td>\n",
       "      <td>1</td>\n",
       "    </tr>\n",
       "    <tr>\n",
       "      <th>5</th>\n",
       "      <td>John Smith</td>\n",
       "      <td>0.49</td>\n",
       "      <td>1</td>\n",
       "    </tr>\n",
       "    <tr>\n",
       "      <th>6</th>\n",
       "      <td>Arjun Reddy</td>\n",
       "      <td>0.12</td>\n",
       "      <td>0</td>\n",
       "    </tr>\n",
       "    <tr>\n",
       "      <th>7</th>\n",
       "      <td>Emily Chen</td>\n",
       "      <td>0.44</td>\n",
       "      <td>0</td>\n",
       "    </tr>\n",
       "    <tr>\n",
       "      <th>8</th>\n",
       "      <td>Laura Kim</td>\n",
       "      <td>0.06</td>\n",
       "      <td>0</td>\n",
       "    </tr>\n",
       "    <tr>\n",
       "      <th>9</th>\n",
       "      <td>Vivek Singh</td>\n",
       "      <td>0.39</td>\n",
       "      <td>0</td>\n",
       "    </tr>\n",
       "    <tr>\n",
       "      <th>10</th>\n",
       "      <td>Michael Brown</td>\n",
       "      <td>0.28</td>\n",
       "      <td>0</td>\n",
       "    </tr>\n",
       "    <tr>\n",
       "      <th>11</th>\n",
       "      <td>Sunita Verma</td>\n",
       "      <td>0.22</td>\n",
       "      <td>0</td>\n",
       "    </tr>\n",
       "    <tr>\n",
       "      <th>12</th>\n",
       "      <td>Anil Kumar</td>\n",
       "      <td>0.62</td>\n",
       "      <td>0</td>\n",
       "    </tr>\n",
       "    <tr>\n",
       "      <th>13</th>\n",
       "      <td>Sarah Lee</td>\n",
       "      <td>0.52</td>\n",
       "      <td>1</td>\n",
       "    </tr>\n",
       "    <tr>\n",
       "      <th>14</th>\n",
       "      <td>Zoe Chang</td>\n",
       "      <td>0.15</td>\n",
       "      <td>0</td>\n",
       "    </tr>\n",
       "    <tr>\n",
       "      <th>15</th>\n",
       "      <td>Mohan Das</td>\n",
       "      <td>0.03</td>\n",
       "      <td>0</td>\n",
       "    </tr>\n",
       "  </tbody>\n",
       "</table>\n",
       "</div>"
      ],
      "text/plain": [
       "    Borrower Name  Default Probability  Default Truth\n",
       "0       Priya Rao                 0.32              0\n",
       "1       Raj Patel                 0.67              1\n",
       "2     Meera Gupta                 0.56              1\n",
       "3   Linda Johnson                 0.18              0\n",
       "4    Aditi Sharma                 0.75              1\n",
       "5      John Smith                 0.49              1\n",
       "6     Arjun Reddy                 0.12              0\n",
       "7      Emily Chen                 0.44              0\n",
       "8       Laura Kim                 0.06              0\n",
       "9     Vivek Singh                 0.39              0\n",
       "10  Michael Brown                 0.28              0\n",
       "11   Sunita Verma                 0.22              0\n",
       "12     Anil Kumar                 0.62              0\n",
       "13      Sarah Lee                 0.52              1\n",
       "14      Zoe Chang                 0.15              0\n",
       "15      Mohan Das                 0.03              0"
      ]
     },
     "execution_count": 1,
     "metadata": {},
     "output_type": "execute_result"
    }
   ],
   "source": [
    "import pandas as pd\n",
    "import numpy as np\n",
    "from scipy import stats\n",
    "pd.set_option('display.float_format',lambda x: '{:.2f}'.format(x))\n",
    "\n",
    "df = pd.read_csv('./data/data.csv')\n",
    "df"
   ]
  },
  {
   "cell_type": "code",
   "execution_count": 2,
   "id": "9be566c6",
   "metadata": {},
   "outputs": [
    {
     "data": {
      "application/vnd.microsoft.datawrangler.viewer.v0+json": {
       "columns": [
        {
         "name": "index",
         "rawType": "int64",
         "type": "integer"
        },
        {
         "name": "Borrower Name",
         "rawType": "object",
         "type": "string"
        },
        {
         "name": "Default Probability",
         "rawType": "float64",
         "type": "float"
        },
        {
         "name": "Default Truth",
         "rawType": "int64",
         "type": "integer"
        }
       ],
       "ref": "174f023c-44f0-4d4d-b4f3-ab721680c768",
       "rows": [
        [
         "4",
         "Aditi Sharma",
         "0.75",
         "1"
        ],
        [
         "1",
         "Raj Patel",
         "0.67",
         "1"
        ],
        [
         "12",
         "Anil Kumar",
         "0.62",
         "0"
        ],
        [
         "2",
         "Meera Gupta",
         "0.56",
         "1"
        ],
        [
         "13",
         "Sarah Lee",
         "0.52",
         "1"
        ],
        [
         "5",
         "John Smith",
         "0.49",
         "1"
        ],
        [
         "7",
         "Emily Chen",
         "0.44",
         "0"
        ],
        [
         "9",
         "Vivek Singh",
         "0.39",
         "0"
        ],
        [
         "0",
         "Priya Rao",
         "0.32",
         "0"
        ],
        [
         "10",
         "Michael Brown",
         "0.28",
         "0"
        ],
        [
         "11",
         "Sunita Verma",
         "0.22",
         "0"
        ],
        [
         "3",
         "Linda Johnson",
         "0.18",
         "0"
        ],
        [
         "14",
         "Zoe Chang",
         "0.15",
         "0"
        ],
        [
         "6",
         "Arjun Reddy",
         "0.12",
         "0"
        ],
        [
         "8",
         "Laura Kim",
         "0.06",
         "0"
        ],
        [
         "15",
         "Mohan Das",
         "0.03",
         "0"
        ]
       ],
       "shape": {
        "columns": 3,
        "rows": 16
       }
      },
      "text/html": [
       "<div>\n",
       "<style scoped>\n",
       "    .dataframe tbody tr th:only-of-type {\n",
       "        vertical-align: middle;\n",
       "    }\n",
       "\n",
       "    .dataframe tbody tr th {\n",
       "        vertical-align: top;\n",
       "    }\n",
       "\n",
       "    .dataframe thead th {\n",
       "        text-align: right;\n",
       "    }\n",
       "</style>\n",
       "<table border=\"1\" class=\"dataframe\">\n",
       "  <thead>\n",
       "    <tr style=\"text-align: right;\">\n",
       "      <th></th>\n",
       "      <th>Borrower Name</th>\n",
       "      <th>Default Probability</th>\n",
       "      <th>Default Truth</th>\n",
       "    </tr>\n",
       "  </thead>\n",
       "  <tbody>\n",
       "    <tr>\n",
       "      <th>4</th>\n",
       "      <td>Aditi Sharma</td>\n",
       "      <td>0.75</td>\n",
       "      <td>1</td>\n",
       "    </tr>\n",
       "    <tr>\n",
       "      <th>1</th>\n",
       "      <td>Raj Patel</td>\n",
       "      <td>0.67</td>\n",
       "      <td>1</td>\n",
       "    </tr>\n",
       "    <tr>\n",
       "      <th>12</th>\n",
       "      <td>Anil Kumar</td>\n",
       "      <td>0.62</td>\n",
       "      <td>0</td>\n",
       "    </tr>\n",
       "    <tr>\n",
       "      <th>2</th>\n",
       "      <td>Meera Gupta</td>\n",
       "      <td>0.56</td>\n",
       "      <td>1</td>\n",
       "    </tr>\n",
       "    <tr>\n",
       "      <th>13</th>\n",
       "      <td>Sarah Lee</td>\n",
       "      <td>0.52</td>\n",
       "      <td>1</td>\n",
       "    </tr>\n",
       "    <tr>\n",
       "      <th>5</th>\n",
       "      <td>John Smith</td>\n",
       "      <td>0.49</td>\n",
       "      <td>1</td>\n",
       "    </tr>\n",
       "    <tr>\n",
       "      <th>7</th>\n",
       "      <td>Emily Chen</td>\n",
       "      <td>0.44</td>\n",
       "      <td>0</td>\n",
       "    </tr>\n",
       "    <tr>\n",
       "      <th>9</th>\n",
       "      <td>Vivek Singh</td>\n",
       "      <td>0.39</td>\n",
       "      <td>0</td>\n",
       "    </tr>\n",
       "    <tr>\n",
       "      <th>0</th>\n",
       "      <td>Priya Rao</td>\n",
       "      <td>0.32</td>\n",
       "      <td>0</td>\n",
       "    </tr>\n",
       "    <tr>\n",
       "      <th>10</th>\n",
       "      <td>Michael Brown</td>\n",
       "      <td>0.28</td>\n",
       "      <td>0</td>\n",
       "    </tr>\n",
       "    <tr>\n",
       "      <th>11</th>\n",
       "      <td>Sunita Verma</td>\n",
       "      <td>0.22</td>\n",
       "      <td>0</td>\n",
       "    </tr>\n",
       "    <tr>\n",
       "      <th>3</th>\n",
       "      <td>Linda Johnson</td>\n",
       "      <td>0.18</td>\n",
       "      <td>0</td>\n",
       "    </tr>\n",
       "    <tr>\n",
       "      <th>14</th>\n",
       "      <td>Zoe Chang</td>\n",
       "      <td>0.15</td>\n",
       "      <td>0</td>\n",
       "    </tr>\n",
       "    <tr>\n",
       "      <th>6</th>\n",
       "      <td>Arjun Reddy</td>\n",
       "      <td>0.12</td>\n",
       "      <td>0</td>\n",
       "    </tr>\n",
       "    <tr>\n",
       "      <th>8</th>\n",
       "      <td>Laura Kim</td>\n",
       "      <td>0.06</td>\n",
       "      <td>0</td>\n",
       "    </tr>\n",
       "    <tr>\n",
       "      <th>15</th>\n",
       "      <td>Mohan Das</td>\n",
       "      <td>0.03</td>\n",
       "      <td>0</td>\n",
       "    </tr>\n",
       "  </tbody>\n",
       "</table>\n",
       "</div>"
      ],
      "text/plain": [
       "    Borrower Name  Default Probability  Default Truth\n",
       "4    Aditi Sharma                 0.75              1\n",
       "1       Raj Patel                 0.67              1\n",
       "12     Anil Kumar                 0.62              0\n",
       "2     Meera Gupta                 0.56              1\n",
       "13      Sarah Lee                 0.52              1\n",
       "5      John Smith                 0.49              1\n",
       "7      Emily Chen                 0.44              0\n",
       "9     Vivek Singh                 0.39              0\n",
       "0       Priya Rao                 0.32              0\n",
       "10  Michael Brown                 0.28              0\n",
       "11   Sunita Verma                 0.22              0\n",
       "3   Linda Johnson                 0.18              0\n",
       "14      Zoe Chang                 0.15              0\n",
       "6     Arjun Reddy                 0.12              0\n",
       "8       Laura Kim                 0.06              0\n",
       "15      Mohan Das                 0.03              0"
      ]
     },
     "execution_count": 2,
     "metadata": {},
     "output_type": "execute_result"
    }
   ],
   "source": [
    "df_sorted = df.sort_values(by='Default Probability',ascending=False)\n",
    "df_sorted"
   ]
  },
  {
   "cell_type": "code",
   "execution_count": 3,
   "id": "263a5a2f",
   "metadata": {},
   "outputs": [
    {
     "data": {
      "application/vnd.microsoft.datawrangler.viewer.v0+json": {
       "columns": [
        {
         "name": "index",
         "rawType": "int64",
         "type": "integer"
        },
        {
         "name": "Borrower Name",
         "rawType": "object",
         "type": "string"
        },
        {
         "name": "Default Probability",
         "rawType": "float64",
         "type": "float"
        },
        {
         "name": "Default Truth",
         "rawType": "int64",
         "type": "integer"
        },
        {
         "name": "quartile",
         "rawType": "category",
         "type": "unknown"
        }
       ],
       "ref": "f9a104d0-d802-44cc-a1b0-0dabb36c18cb",
       "rows": [
        [
         "4",
         "Aditi Sharma",
         "0.75",
         "1",
         "Q4"
        ],
        [
         "1",
         "Raj Patel",
         "0.67",
         "1",
         "Q4"
        ],
        [
         "12",
         "Anil Kumar",
         "0.62",
         "0",
         "Q4"
        ],
        [
         "2",
         "Meera Gupta",
         "0.56",
         "1",
         "Q4"
        ],
        [
         "13",
         "Sarah Lee",
         "0.52",
         "1",
         "Q3"
        ],
        [
         "5",
         "John Smith",
         "0.49",
         "1",
         "Q3"
        ],
        [
         "7",
         "Emily Chen",
         "0.44",
         "0",
         "Q3"
        ],
        [
         "9",
         "Vivek Singh",
         "0.39",
         "0",
         "Q3"
        ],
        [
         "0",
         "Priya Rao",
         "0.32",
         "0",
         "Q2"
        ],
        [
         "10",
         "Michael Brown",
         "0.28",
         "0",
         "Q2"
        ],
        [
         "11",
         "Sunita Verma",
         "0.22",
         "0",
         "Q2"
        ],
        [
         "3",
         "Linda Johnson",
         "0.18",
         "0",
         "Q2"
        ],
        [
         "14",
         "Zoe Chang",
         "0.15",
         "0",
         "Q1"
        ],
        [
         "6",
         "Arjun Reddy",
         "0.12",
         "0",
         "Q1"
        ],
        [
         "8",
         "Laura Kim",
         "0.06",
         "0",
         "Q1"
        ],
        [
         "15",
         "Mohan Das",
         "0.03",
         "0",
         "Q1"
        ]
       ],
       "shape": {
        "columns": 4,
        "rows": 16
       }
      },
      "text/html": [
       "<div>\n",
       "<style scoped>\n",
       "    .dataframe tbody tr th:only-of-type {\n",
       "        vertical-align: middle;\n",
       "    }\n",
       "\n",
       "    .dataframe tbody tr th {\n",
       "        vertical-align: top;\n",
       "    }\n",
       "\n",
       "    .dataframe thead th {\n",
       "        text-align: right;\n",
       "    }\n",
       "</style>\n",
       "<table border=\"1\" class=\"dataframe\">\n",
       "  <thead>\n",
       "    <tr style=\"text-align: right;\">\n",
       "      <th></th>\n",
       "      <th>Borrower Name</th>\n",
       "      <th>Default Probability</th>\n",
       "      <th>Default Truth</th>\n",
       "      <th>quartile</th>\n",
       "    </tr>\n",
       "  </thead>\n",
       "  <tbody>\n",
       "    <tr>\n",
       "      <th>4</th>\n",
       "      <td>Aditi Sharma</td>\n",
       "      <td>0.75</td>\n",
       "      <td>1</td>\n",
       "      <td>Q4</td>\n",
       "    </tr>\n",
       "    <tr>\n",
       "      <th>1</th>\n",
       "      <td>Raj Patel</td>\n",
       "      <td>0.67</td>\n",
       "      <td>1</td>\n",
       "      <td>Q4</td>\n",
       "    </tr>\n",
       "    <tr>\n",
       "      <th>12</th>\n",
       "      <td>Anil Kumar</td>\n",
       "      <td>0.62</td>\n",
       "      <td>0</td>\n",
       "      <td>Q4</td>\n",
       "    </tr>\n",
       "    <tr>\n",
       "      <th>2</th>\n",
       "      <td>Meera Gupta</td>\n",
       "      <td>0.56</td>\n",
       "      <td>1</td>\n",
       "      <td>Q4</td>\n",
       "    </tr>\n",
       "    <tr>\n",
       "      <th>13</th>\n",
       "      <td>Sarah Lee</td>\n",
       "      <td>0.52</td>\n",
       "      <td>1</td>\n",
       "      <td>Q3</td>\n",
       "    </tr>\n",
       "    <tr>\n",
       "      <th>5</th>\n",
       "      <td>John Smith</td>\n",
       "      <td>0.49</td>\n",
       "      <td>1</td>\n",
       "      <td>Q3</td>\n",
       "    </tr>\n",
       "    <tr>\n",
       "      <th>7</th>\n",
       "      <td>Emily Chen</td>\n",
       "      <td>0.44</td>\n",
       "      <td>0</td>\n",
       "      <td>Q3</td>\n",
       "    </tr>\n",
       "    <tr>\n",
       "      <th>9</th>\n",
       "      <td>Vivek Singh</td>\n",
       "      <td>0.39</td>\n",
       "      <td>0</td>\n",
       "      <td>Q3</td>\n",
       "    </tr>\n",
       "    <tr>\n",
       "      <th>0</th>\n",
       "      <td>Priya Rao</td>\n",
       "      <td>0.32</td>\n",
       "      <td>0</td>\n",
       "      <td>Q2</td>\n",
       "    </tr>\n",
       "    <tr>\n",
       "      <th>10</th>\n",
       "      <td>Michael Brown</td>\n",
       "      <td>0.28</td>\n",
       "      <td>0</td>\n",
       "      <td>Q2</td>\n",
       "    </tr>\n",
       "    <tr>\n",
       "      <th>11</th>\n",
       "      <td>Sunita Verma</td>\n",
       "      <td>0.22</td>\n",
       "      <td>0</td>\n",
       "      <td>Q2</td>\n",
       "    </tr>\n",
       "    <tr>\n",
       "      <th>3</th>\n",
       "      <td>Linda Johnson</td>\n",
       "      <td>0.18</td>\n",
       "      <td>0</td>\n",
       "      <td>Q2</td>\n",
       "    </tr>\n",
       "    <tr>\n",
       "      <th>14</th>\n",
       "      <td>Zoe Chang</td>\n",
       "      <td>0.15</td>\n",
       "      <td>0</td>\n",
       "      <td>Q1</td>\n",
       "    </tr>\n",
       "    <tr>\n",
       "      <th>6</th>\n",
       "      <td>Arjun Reddy</td>\n",
       "      <td>0.12</td>\n",
       "      <td>0</td>\n",
       "      <td>Q1</td>\n",
       "    </tr>\n",
       "    <tr>\n",
       "      <th>8</th>\n",
       "      <td>Laura Kim</td>\n",
       "      <td>0.06</td>\n",
       "      <td>0</td>\n",
       "      <td>Q1</td>\n",
       "    </tr>\n",
       "    <tr>\n",
       "      <th>15</th>\n",
       "      <td>Mohan Das</td>\n",
       "      <td>0.03</td>\n",
       "      <td>0</td>\n",
       "      <td>Q1</td>\n",
       "    </tr>\n",
       "  </tbody>\n",
       "</table>\n",
       "</div>"
      ],
      "text/plain": [
       "    Borrower Name  Default Probability  Default Truth quartile\n",
       "4    Aditi Sharma                 0.75              1       Q4\n",
       "1       Raj Patel                 0.67              1       Q4\n",
       "12     Anil Kumar                 0.62              0       Q4\n",
       "2     Meera Gupta                 0.56              1       Q4\n",
       "13      Sarah Lee                 0.52              1       Q3\n",
       "5      John Smith                 0.49              1       Q3\n",
       "7      Emily Chen                 0.44              0       Q3\n",
       "9     Vivek Singh                 0.39              0       Q3\n",
       "0       Priya Rao                 0.32              0       Q2\n",
       "10  Michael Brown                 0.28              0       Q2\n",
       "11   Sunita Verma                 0.22              0       Q2\n",
       "3   Linda Johnson                 0.18              0       Q2\n",
       "14      Zoe Chang                 0.15              0       Q1\n",
       "6     Arjun Reddy                 0.12              0       Q1\n",
       "8       Laura Kim                 0.06              0       Q1\n",
       "15      Mohan Das                 0.03              0       Q1"
      ]
     },
     "execution_count": 3,
     "metadata": {},
     "output_type": "execute_result"
    }
   ],
   "source": [
    "df_sorted['quartile'] = pd.qcut(df_sorted['Default Probability'],q=4,labels=['Q1','Q2','Q3','Q4'])\n",
    "df_sorted"
   ]
  },
  {
   "cell_type": "code",
   "execution_count": 5,
   "id": "b7a50f1d",
   "metadata": {},
   "outputs": [
    {
     "name": "stderr",
     "output_type": "stream",
     "text": [
      "/var/folders/n6/28ff8fsj0c901jvkhvfb8ylw0000gn/T/ipykernel_1719/1219264085.py:1: FutureWarning: The default of observed=False is deprecated and will be changed to True in a future version of pandas. Pass observed=False to retain current behavior or observed=True to adopt the future default and silence this warning.\n",
      "  df_groupd = df_sorted.groupby('quartile').apply(lambda x: pd.Series({\n",
      "/var/folders/n6/28ff8fsj0c901jvkhvfb8ylw0000gn/T/ipykernel_1719/1219264085.py:1: FutureWarning: DataFrameGroupBy.apply operated on the grouping columns. This behavior is deprecated, and in a future version of pandas the grouping columns will be excluded from the operation. Either pass `include_groups=False` to exclude the groupings or explicitly select the grouping columns after groupby to silence this warning.\n",
      "  df_groupd = df_sorted.groupby('quartile').apply(lambda x: pd.Series({\n"
     ]
    },
    {
     "data": {
      "application/vnd.microsoft.datawrangler.viewer.v0+json": {
       "columns": [
        {
         "name": "index",
         "rawType": "int64",
         "type": "integer"
        },
        {
         "name": "quartile",
         "rawType": "category",
         "type": "unknown"
        },
        {
         "name": "Min Prob",
         "rawType": "float64",
         "type": "float"
        },
        {
         "name": "Max prob",
         "rawType": "float64",
         "type": "float"
        },
        {
         "name": "Event",
         "rawType": "float64",
         "type": "float"
        },
        {
         "name": "Non-Event",
         "rawType": "float64",
         "type": "float"
        }
       ],
       "ref": "631c960f-0f2e-46f3-ab99-fad9006d9770",
       "rows": [
        [
         "0",
         "Q1",
         "0.03",
         "0.15",
         "0.0",
         "4.0"
        ],
        [
         "1",
         "Q2",
         "0.18",
         "0.32",
         "0.0",
         "4.0"
        ],
        [
         "2",
         "Q3",
         "0.39",
         "0.52",
         "2.0",
         "2.0"
        ],
        [
         "3",
         "Q4",
         "0.56",
         "0.75",
         "3.0",
         "1.0"
        ]
       ],
       "shape": {
        "columns": 5,
        "rows": 4
       }
      },
      "text/html": [
       "<div>\n",
       "<style scoped>\n",
       "    .dataframe tbody tr th:only-of-type {\n",
       "        vertical-align: middle;\n",
       "    }\n",
       "\n",
       "    .dataframe tbody tr th {\n",
       "        vertical-align: top;\n",
       "    }\n",
       "\n",
       "    .dataframe thead th {\n",
       "        text-align: right;\n",
       "    }\n",
       "</style>\n",
       "<table border=\"1\" class=\"dataframe\">\n",
       "  <thead>\n",
       "    <tr style=\"text-align: right;\">\n",
       "      <th></th>\n",
       "      <th>quartile</th>\n",
       "      <th>Min Prob</th>\n",
       "      <th>Max prob</th>\n",
       "      <th>Event</th>\n",
       "      <th>Non-Event</th>\n",
       "    </tr>\n",
       "  </thead>\n",
       "  <tbody>\n",
       "    <tr>\n",
       "      <th>0</th>\n",
       "      <td>Q1</td>\n",
       "      <td>0.03</td>\n",
       "      <td>0.15</td>\n",
       "      <td>0.00</td>\n",
       "      <td>4.00</td>\n",
       "    </tr>\n",
       "    <tr>\n",
       "      <th>1</th>\n",
       "      <td>Q2</td>\n",
       "      <td>0.18</td>\n",
       "      <td>0.32</td>\n",
       "      <td>0.00</td>\n",
       "      <td>4.00</td>\n",
       "    </tr>\n",
       "    <tr>\n",
       "      <th>2</th>\n",
       "      <td>Q3</td>\n",
       "      <td>0.39</td>\n",
       "      <td>0.52</td>\n",
       "      <td>2.00</td>\n",
       "      <td>2.00</td>\n",
       "    </tr>\n",
       "    <tr>\n",
       "      <th>3</th>\n",
       "      <td>Q4</td>\n",
       "      <td>0.56</td>\n",
       "      <td>0.75</td>\n",
       "      <td>3.00</td>\n",
       "      <td>1.00</td>\n",
       "    </tr>\n",
       "  </tbody>\n",
       "</table>\n",
       "</div>"
      ],
      "text/plain": [
       "  quartile  Min Prob  Max prob  Event  Non-Event\n",
       "0       Q1      0.03      0.15   0.00       4.00\n",
       "1       Q2      0.18      0.32   0.00       4.00\n",
       "2       Q3      0.39      0.52   2.00       2.00\n",
       "3       Q4      0.56      0.75   3.00       1.00"
      ]
     },
     "execution_count": 5,
     "metadata": {},
     "output_type": "execute_result"
    }
   ],
   "source": [
    "df_groupd = df_sorted.groupby('quartile').apply(lambda x: pd.Series({\n",
    "    'Min Prob':x['Default Probability'].min(),\n",
    "    'Max prob':x['Default Probability'].max(),\n",
    "    'Event':x['Default Truth'].sum(),\n",
    "    'Non-Event':x['Default Truth'].count() - x['Default Truth'].sum(),\n",
    "}))\n",
    "df_groupd.reset_index(inplace=True)\n",
    "df_groupd"
   ]
  },
  {
   "cell_type": "code",
   "execution_count": 6,
   "id": "c2ed2581",
   "metadata": {},
   "outputs": [
    {
     "data": {
      "application/vnd.microsoft.datawrangler.viewer.v0+json": {
       "columns": [
        {
         "name": "index",
         "rawType": "int64",
         "type": "integer"
        },
        {
         "name": "quartile",
         "rawType": "category",
         "type": "unknown"
        },
        {
         "name": "Min Prob",
         "rawType": "float64",
         "type": "float"
        },
        {
         "name": "Max prob",
         "rawType": "float64",
         "type": "float"
        },
        {
         "name": "Event",
         "rawType": "float64",
         "type": "float"
        },
        {
         "name": "Non-Event",
         "rawType": "float64",
         "type": "float"
        }
       ],
       "ref": "4ddef60f-ad43-4de2-8523-78c963bdabda",
       "rows": [
        [
         "3",
         "Q4",
         "0.56",
         "0.75",
         "3.0",
         "1.0"
        ],
        [
         "2",
         "Q3",
         "0.39",
         "0.52",
         "2.0",
         "2.0"
        ],
        [
         "1",
         "Q2",
         "0.18",
         "0.32",
         "0.0",
         "4.0"
        ],
        [
         "0",
         "Q1",
         "0.03",
         "0.15",
         "0.0",
         "4.0"
        ]
       ],
       "shape": {
        "columns": 5,
        "rows": 4
       }
      },
      "text/html": [
       "<div>\n",
       "<style scoped>\n",
       "    .dataframe tbody tr th:only-of-type {\n",
       "        vertical-align: middle;\n",
       "    }\n",
       "\n",
       "    .dataframe tbody tr th {\n",
       "        vertical-align: top;\n",
       "    }\n",
       "\n",
       "    .dataframe thead th {\n",
       "        text-align: right;\n",
       "    }\n",
       "</style>\n",
       "<table border=\"1\" class=\"dataframe\">\n",
       "  <thead>\n",
       "    <tr style=\"text-align: right;\">\n",
       "      <th></th>\n",
       "      <th>quartile</th>\n",
       "      <th>Min Prob</th>\n",
       "      <th>Max prob</th>\n",
       "      <th>Event</th>\n",
       "      <th>Non-Event</th>\n",
       "    </tr>\n",
       "  </thead>\n",
       "  <tbody>\n",
       "    <tr>\n",
       "      <th>3</th>\n",
       "      <td>Q4</td>\n",
       "      <td>0.56</td>\n",
       "      <td>0.75</td>\n",
       "      <td>3.00</td>\n",
       "      <td>1.00</td>\n",
       "    </tr>\n",
       "    <tr>\n",
       "      <th>2</th>\n",
       "      <td>Q3</td>\n",
       "      <td>0.39</td>\n",
       "      <td>0.52</td>\n",
       "      <td>2.00</td>\n",
       "      <td>2.00</td>\n",
       "    </tr>\n",
       "    <tr>\n",
       "      <th>1</th>\n",
       "      <td>Q2</td>\n",
       "      <td>0.18</td>\n",
       "      <td>0.32</td>\n",
       "      <td>0.00</td>\n",
       "      <td>4.00</td>\n",
       "    </tr>\n",
       "    <tr>\n",
       "      <th>0</th>\n",
       "      <td>Q1</td>\n",
       "      <td>0.03</td>\n",
       "      <td>0.15</td>\n",
       "      <td>0.00</td>\n",
       "      <td>4.00</td>\n",
       "    </tr>\n",
       "  </tbody>\n",
       "</table>\n",
       "</div>"
      ],
      "text/plain": [
       "  quartile  Min Prob  Max prob  Event  Non-Event\n",
       "3       Q4      0.56      0.75   3.00       1.00\n",
       "2       Q3      0.39      0.52   2.00       2.00\n",
       "1       Q2      0.18      0.32   0.00       4.00\n",
       "0       Q1      0.03      0.15   0.00       4.00"
      ]
     },
     "execution_count": 6,
     "metadata": {},
     "output_type": "execute_result"
    }
   ],
   "source": [
    "df_groupd.sort_values('quartile',ascending=False,inplace=True)\n",
    "df_groupd"
   ]
  },
  {
   "cell_type": "code",
   "execution_count": 7,
   "id": "a3abbbe0",
   "metadata": {},
   "outputs": [
    {
     "data": {
      "application/vnd.microsoft.datawrangler.viewer.v0+json": {
       "columns": [
        {
         "name": "index",
         "rawType": "int64",
         "type": "integer"
        },
        {
         "name": "quartile",
         "rawType": "category",
         "type": "unknown"
        },
        {
         "name": "Min Prob",
         "rawType": "float64",
         "type": "float"
        },
        {
         "name": "Max prob",
         "rawType": "float64",
         "type": "float"
        },
        {
         "name": "Event",
         "rawType": "float64",
         "type": "float"
        },
        {
         "name": "Non-Event",
         "rawType": "float64",
         "type": "float"
        },
        {
         "name": "Event_rate",
         "rawType": "float64",
         "type": "float"
        },
        {
         "name": "Non-Event_rate",
         "rawType": "float64",
         "type": "float"
        }
       ],
       "ref": "3cc86875-8410-42c2-8b0e-20b2a49e601d",
       "rows": [
        [
         "3",
         "Q4",
         "0.56",
         "0.75",
         "3.0",
         "1.0",
         "75.0",
         "25.0"
        ],
        [
         "2",
         "Q3",
         "0.39",
         "0.52",
         "2.0",
         "2.0",
         "50.0",
         "50.0"
        ],
        [
         "1",
         "Q2",
         "0.18",
         "0.32",
         "0.0",
         "4.0",
         "0.0",
         "100.0"
        ],
        [
         "0",
         "Q1",
         "0.03",
         "0.15",
         "0.0",
         "4.0",
         "0.0",
         "100.0"
        ]
       ],
       "shape": {
        "columns": 7,
        "rows": 4
       }
      },
      "text/html": [
       "<div>\n",
       "<style scoped>\n",
       "    .dataframe tbody tr th:only-of-type {\n",
       "        vertical-align: middle;\n",
       "    }\n",
       "\n",
       "    .dataframe tbody tr th {\n",
       "        vertical-align: top;\n",
       "    }\n",
       "\n",
       "    .dataframe thead th {\n",
       "        text-align: right;\n",
       "    }\n",
       "</style>\n",
       "<table border=\"1\" class=\"dataframe\">\n",
       "  <thead>\n",
       "    <tr style=\"text-align: right;\">\n",
       "      <th></th>\n",
       "      <th>quartile</th>\n",
       "      <th>Min Prob</th>\n",
       "      <th>Max prob</th>\n",
       "      <th>Event</th>\n",
       "      <th>Non-Event</th>\n",
       "      <th>Event_rate</th>\n",
       "      <th>Non-Event_rate</th>\n",
       "    </tr>\n",
       "  </thead>\n",
       "  <tbody>\n",
       "    <tr>\n",
       "      <th>3</th>\n",
       "      <td>Q4</td>\n",
       "      <td>0.56</td>\n",
       "      <td>0.75</td>\n",
       "      <td>3.00</td>\n",
       "      <td>1.00</td>\n",
       "      <td>75.00</td>\n",
       "      <td>25.00</td>\n",
       "    </tr>\n",
       "    <tr>\n",
       "      <th>2</th>\n",
       "      <td>Q3</td>\n",
       "      <td>0.39</td>\n",
       "      <td>0.52</td>\n",
       "      <td>2.00</td>\n",
       "      <td>2.00</td>\n",
       "      <td>50.00</td>\n",
       "      <td>50.00</td>\n",
       "    </tr>\n",
       "    <tr>\n",
       "      <th>1</th>\n",
       "      <td>Q2</td>\n",
       "      <td>0.18</td>\n",
       "      <td>0.32</td>\n",
       "      <td>0.00</td>\n",
       "      <td>4.00</td>\n",
       "      <td>0.00</td>\n",
       "      <td>100.00</td>\n",
       "    </tr>\n",
       "    <tr>\n",
       "      <th>0</th>\n",
       "      <td>Q1</td>\n",
       "      <td>0.03</td>\n",
       "      <td>0.15</td>\n",
       "      <td>0.00</td>\n",
       "      <td>4.00</td>\n",
       "      <td>0.00</td>\n",
       "      <td>100.00</td>\n",
       "    </tr>\n",
       "  </tbody>\n",
       "</table>\n",
       "</div>"
      ],
      "text/plain": [
       "  quartile  Min Prob  Max prob  Event  Non-Event  Event_rate  Non-Event_rate\n",
       "3       Q4      0.56      0.75   3.00       1.00       75.00           25.00\n",
       "2       Q3      0.39      0.52   2.00       2.00       50.00           50.00\n",
       "1       Q2      0.18      0.32   0.00       4.00        0.00          100.00\n",
       "0       Q1      0.03      0.15   0.00       4.00        0.00          100.00"
      ]
     },
     "execution_count": 7,
     "metadata": {},
     "output_type": "execute_result"
    }
   ],
   "source": [
    "df_groupd['Event_rate'] = (df_groupd['Event']/(df_groupd['Event']+df_groupd['Non-Event']))*100\n",
    "df_groupd['Non-Event_rate'] = (df_groupd['Non-Event']/(df_groupd['Event']+df_groupd['Non-Event']))*100\n",
    "df_groupd"
   ]
  },
  {
   "cell_type": "code",
   "execution_count": 8,
   "id": "6d7ac849",
   "metadata": {},
   "outputs": [
    {
     "data": {
      "application/vnd.microsoft.datawrangler.viewer.v0+json": {
       "columns": [
        {
         "name": "index",
         "rawType": "int64",
         "type": "integer"
        },
        {
         "name": "quartile",
         "rawType": "category",
         "type": "unknown"
        },
        {
         "name": "Min Prob",
         "rawType": "float64",
         "type": "float"
        },
        {
         "name": "Max prob",
         "rawType": "float64",
         "type": "float"
        },
        {
         "name": "Event",
         "rawType": "float64",
         "type": "float"
        },
        {
         "name": "Non-Event",
         "rawType": "float64",
         "type": "float"
        },
        {
         "name": "Event_rate",
         "rawType": "float64",
         "type": "float"
        },
        {
         "name": "Non-Event_rate",
         "rawType": "float64",
         "type": "float"
        },
        {
         "name": "cum_Event",
         "rawType": "float64",
         "type": "float"
        },
        {
         "name": "cum_non_Event",
         "rawType": "float64",
         "type": "float"
        }
       ],
       "ref": "f83deff3-e899-4375-ae37-24103a892fdb",
       "rows": [
        [
         "3",
         "Q4",
         "0.56",
         "0.75",
         "3.0",
         "1.0",
         "75.0",
         "25.0",
         "3.0",
         "1.0"
        ],
        [
         "2",
         "Q3",
         "0.39",
         "0.52",
         "2.0",
         "2.0",
         "50.0",
         "50.0",
         "5.0",
         "3.0"
        ],
        [
         "1",
         "Q2",
         "0.18",
         "0.32",
         "0.0",
         "4.0",
         "0.0",
         "100.0",
         "5.0",
         "7.0"
        ],
        [
         "0",
         "Q1",
         "0.03",
         "0.15",
         "0.0",
         "4.0",
         "0.0",
         "100.0",
         "5.0",
         "11.0"
        ]
       ],
       "shape": {
        "columns": 9,
        "rows": 4
       }
      },
      "text/html": [
       "<div>\n",
       "<style scoped>\n",
       "    .dataframe tbody tr th:only-of-type {\n",
       "        vertical-align: middle;\n",
       "    }\n",
       "\n",
       "    .dataframe tbody tr th {\n",
       "        vertical-align: top;\n",
       "    }\n",
       "\n",
       "    .dataframe thead th {\n",
       "        text-align: right;\n",
       "    }\n",
       "</style>\n",
       "<table border=\"1\" class=\"dataframe\">\n",
       "  <thead>\n",
       "    <tr style=\"text-align: right;\">\n",
       "      <th></th>\n",
       "      <th>quartile</th>\n",
       "      <th>Min Prob</th>\n",
       "      <th>Max prob</th>\n",
       "      <th>Event</th>\n",
       "      <th>Non-Event</th>\n",
       "      <th>Event_rate</th>\n",
       "      <th>Non-Event_rate</th>\n",
       "      <th>cum_Event</th>\n",
       "      <th>cum_non_Event</th>\n",
       "    </tr>\n",
       "  </thead>\n",
       "  <tbody>\n",
       "    <tr>\n",
       "      <th>3</th>\n",
       "      <td>Q4</td>\n",
       "      <td>0.56</td>\n",
       "      <td>0.75</td>\n",
       "      <td>3.00</td>\n",
       "      <td>1.00</td>\n",
       "      <td>75.00</td>\n",
       "      <td>25.00</td>\n",
       "      <td>3.00</td>\n",
       "      <td>1.00</td>\n",
       "    </tr>\n",
       "    <tr>\n",
       "      <th>2</th>\n",
       "      <td>Q3</td>\n",
       "      <td>0.39</td>\n",
       "      <td>0.52</td>\n",
       "      <td>2.00</td>\n",
       "      <td>2.00</td>\n",
       "      <td>50.00</td>\n",
       "      <td>50.00</td>\n",
       "      <td>5.00</td>\n",
       "      <td>3.00</td>\n",
       "    </tr>\n",
       "    <tr>\n",
       "      <th>1</th>\n",
       "      <td>Q2</td>\n",
       "      <td>0.18</td>\n",
       "      <td>0.32</td>\n",
       "      <td>0.00</td>\n",
       "      <td>4.00</td>\n",
       "      <td>0.00</td>\n",
       "      <td>100.00</td>\n",
       "      <td>5.00</td>\n",
       "      <td>7.00</td>\n",
       "    </tr>\n",
       "    <tr>\n",
       "      <th>0</th>\n",
       "      <td>Q1</td>\n",
       "      <td>0.03</td>\n",
       "      <td>0.15</td>\n",
       "      <td>0.00</td>\n",
       "      <td>4.00</td>\n",
       "      <td>0.00</td>\n",
       "      <td>100.00</td>\n",
       "      <td>5.00</td>\n",
       "      <td>11.00</td>\n",
       "    </tr>\n",
       "  </tbody>\n",
       "</table>\n",
       "</div>"
      ],
      "text/plain": [
       "  quartile  Min Prob  Max prob  Event  Non-Event  Event_rate  Non-Event_rate  \\\n",
       "3       Q4      0.56      0.75   3.00       1.00       75.00           25.00   \n",
       "2       Q3      0.39      0.52   2.00       2.00       50.00           50.00   \n",
       "1       Q2      0.18      0.32   0.00       4.00        0.00          100.00   \n",
       "0       Q1      0.03      0.15   0.00       4.00        0.00          100.00   \n",
       "\n",
       "   cum_Event  cum_non_Event  \n",
       "3       3.00           1.00  \n",
       "2       5.00           3.00  \n",
       "1       5.00           7.00  \n",
       "0       5.00          11.00  "
      ]
     },
     "execution_count": 8,
     "metadata": {},
     "output_type": "execute_result"
    }
   ],
   "source": [
    "df_groupd['cum_Event'] = df_groupd['Event'].cumsum()\n",
    "df_groupd['cum_non_Event'] = df_groupd['Non-Event'].cumsum()\n",
    "df_groupd"
   ]
  },
  {
   "cell_type": "code",
   "execution_count": 9,
   "id": "6d9599e9",
   "metadata": {},
   "outputs": [
    {
     "data": {
      "application/vnd.microsoft.datawrangler.viewer.v0+json": {
       "columns": [
        {
         "name": "index",
         "rawType": "int64",
         "type": "integer"
        },
        {
         "name": "quartile",
         "rawType": "category",
         "type": "unknown"
        },
        {
         "name": "Min Prob",
         "rawType": "float64",
         "type": "float"
        },
        {
         "name": "Max prob",
         "rawType": "float64",
         "type": "float"
        },
        {
         "name": "Event",
         "rawType": "float64",
         "type": "float"
        },
        {
         "name": "Non-Event",
         "rawType": "float64",
         "type": "float"
        },
        {
         "name": "Event_rate",
         "rawType": "float64",
         "type": "float"
        },
        {
         "name": "Non-Event_rate",
         "rawType": "float64",
         "type": "float"
        },
        {
         "name": "cum_Event",
         "rawType": "float64",
         "type": "float"
        },
        {
         "name": "cum_non_Event",
         "rawType": "float64",
         "type": "float"
        },
        {
         "name": "cum_Event_rate",
         "rawType": "float64",
         "type": "float"
        },
        {
         "name": "cum_non_Event_rate",
         "rawType": "float64",
         "type": "float"
        }
       ],
       "ref": "52034c0e-b4bb-485e-b6bf-bd4ba185d97c",
       "rows": [
        [
         "3",
         "Q4",
         "0.56",
         "0.75",
         "3.0",
         "1.0",
         "75.0",
         "25.0",
         "3.0",
         "1.0",
         "60.0",
         "9.090909090909092"
        ],
        [
         "2",
         "Q3",
         "0.39",
         "0.52",
         "2.0",
         "2.0",
         "50.0",
         "50.0",
         "5.0",
         "3.0",
         "100.0",
         "27.27272727272727"
        ],
        [
         "1",
         "Q2",
         "0.18",
         "0.32",
         "0.0",
         "4.0",
         "0.0",
         "100.0",
         "5.0",
         "7.0",
         "100.0",
         "63.63636363636363"
        ],
        [
         "0",
         "Q1",
         "0.03",
         "0.15",
         "0.0",
         "4.0",
         "0.0",
         "100.0",
         "5.0",
         "11.0",
         "100.0",
         "100.0"
        ]
       ],
       "shape": {
        "columns": 11,
        "rows": 4
       }
      },
      "text/html": [
       "<div>\n",
       "<style scoped>\n",
       "    .dataframe tbody tr th:only-of-type {\n",
       "        vertical-align: middle;\n",
       "    }\n",
       "\n",
       "    .dataframe tbody tr th {\n",
       "        vertical-align: top;\n",
       "    }\n",
       "\n",
       "    .dataframe thead th {\n",
       "        text-align: right;\n",
       "    }\n",
       "</style>\n",
       "<table border=\"1\" class=\"dataframe\">\n",
       "  <thead>\n",
       "    <tr style=\"text-align: right;\">\n",
       "      <th></th>\n",
       "      <th>quartile</th>\n",
       "      <th>Min Prob</th>\n",
       "      <th>Max prob</th>\n",
       "      <th>Event</th>\n",
       "      <th>Non-Event</th>\n",
       "      <th>Event_rate</th>\n",
       "      <th>Non-Event_rate</th>\n",
       "      <th>cum_Event</th>\n",
       "      <th>cum_non_Event</th>\n",
       "      <th>cum_Event_rate</th>\n",
       "      <th>cum_non_Event_rate</th>\n",
       "    </tr>\n",
       "  </thead>\n",
       "  <tbody>\n",
       "    <tr>\n",
       "      <th>3</th>\n",
       "      <td>Q4</td>\n",
       "      <td>0.56</td>\n",
       "      <td>0.75</td>\n",
       "      <td>3.00</td>\n",
       "      <td>1.00</td>\n",
       "      <td>75.00</td>\n",
       "      <td>25.00</td>\n",
       "      <td>3.00</td>\n",
       "      <td>1.00</td>\n",
       "      <td>60.00</td>\n",
       "      <td>9.09</td>\n",
       "    </tr>\n",
       "    <tr>\n",
       "      <th>2</th>\n",
       "      <td>Q3</td>\n",
       "      <td>0.39</td>\n",
       "      <td>0.52</td>\n",
       "      <td>2.00</td>\n",
       "      <td>2.00</td>\n",
       "      <td>50.00</td>\n",
       "      <td>50.00</td>\n",
       "      <td>5.00</td>\n",
       "      <td>3.00</td>\n",
       "      <td>100.00</td>\n",
       "      <td>27.27</td>\n",
       "    </tr>\n",
       "    <tr>\n",
       "      <th>1</th>\n",
       "      <td>Q2</td>\n",
       "      <td>0.18</td>\n",
       "      <td>0.32</td>\n",
       "      <td>0.00</td>\n",
       "      <td>4.00</td>\n",
       "      <td>0.00</td>\n",
       "      <td>100.00</td>\n",
       "      <td>5.00</td>\n",
       "      <td>7.00</td>\n",
       "      <td>100.00</td>\n",
       "      <td>63.64</td>\n",
       "    </tr>\n",
       "    <tr>\n",
       "      <th>0</th>\n",
       "      <td>Q1</td>\n",
       "      <td>0.03</td>\n",
       "      <td>0.15</td>\n",
       "      <td>0.00</td>\n",
       "      <td>4.00</td>\n",
       "      <td>0.00</td>\n",
       "      <td>100.00</td>\n",
       "      <td>5.00</td>\n",
       "      <td>11.00</td>\n",
       "      <td>100.00</td>\n",
       "      <td>100.00</td>\n",
       "    </tr>\n",
       "  </tbody>\n",
       "</table>\n",
       "</div>"
      ],
      "text/plain": [
       "  quartile  Min Prob  Max prob  Event  Non-Event  Event_rate  Non-Event_rate  \\\n",
       "3       Q4      0.56      0.75   3.00       1.00       75.00           25.00   \n",
       "2       Q3      0.39      0.52   2.00       2.00       50.00           50.00   \n",
       "1       Q2      0.18      0.32   0.00       4.00        0.00          100.00   \n",
       "0       Q1      0.03      0.15   0.00       4.00        0.00          100.00   \n",
       "\n",
       "   cum_Event  cum_non_Event  cum_Event_rate  cum_non_Event_rate  \n",
       "3       3.00           1.00           60.00                9.09  \n",
       "2       5.00           3.00          100.00               27.27  \n",
       "1       5.00           7.00          100.00               63.64  \n",
       "0       5.00          11.00          100.00              100.00  "
      ]
     },
     "execution_count": 9,
     "metadata": {},
     "output_type": "execute_result"
    }
   ],
   "source": [
    "df_groupd['cum_Event_rate'] = (df_groupd['cum_Event']/df_groupd['Event'].sum())*100\n",
    "df_groupd['cum_non_Event_rate'] = (df_groupd['cum_non_Event']/df_groupd['Non-Event'].sum())*100\n",
    "df_groupd"
   ]
  },
  {
   "cell_type": "code",
   "execution_count": 11,
   "id": "c4769de3",
   "metadata": {},
   "outputs": [
    {
     "data": {
      "application/vnd.microsoft.datawrangler.viewer.v0+json": {
       "columns": [
        {
         "name": "index",
         "rawType": "int64",
         "type": "integer"
        },
        {
         "name": "quartile",
         "rawType": "category",
         "type": "unknown"
        },
        {
         "name": "Min Prob",
         "rawType": "float64",
         "type": "float"
        },
        {
         "name": "Max prob",
         "rawType": "float64",
         "type": "float"
        },
        {
         "name": "Event",
         "rawType": "float64",
         "type": "float"
        },
        {
         "name": "Non-Event",
         "rawType": "float64",
         "type": "float"
        },
        {
         "name": "Event_rate",
         "rawType": "float64",
         "type": "float"
        },
        {
         "name": "Non-Event_rate",
         "rawType": "float64",
         "type": "float"
        },
        {
         "name": "cum_Event",
         "rawType": "float64",
         "type": "float"
        },
        {
         "name": "cum_non_Event",
         "rawType": "float64",
         "type": "float"
        },
        {
         "name": "cum_Event_rate",
         "rawType": "float64",
         "type": "float"
        },
        {
         "name": "cum_non_Event_rate",
         "rawType": "float64",
         "type": "float"
        },
        {
         "name": "KS",
         "rawType": "float64",
         "type": "float"
        }
       ],
       "ref": "c8b7254a-efb6-46b5-8a32-22313f6361c8",
       "rows": [
        [
         "3",
         "Q4",
         "0.56",
         "0.75",
         "3.0",
         "1.0",
         "75.0",
         "25.0",
         "3.0",
         "1.0",
         "60.0",
         "9.090909090909092",
         "50.90909090909091"
        ],
        [
         "2",
         "Q3",
         "0.39",
         "0.52",
         "2.0",
         "2.0",
         "50.0",
         "50.0",
         "5.0",
         "3.0",
         "100.0",
         "27.27272727272727",
         "72.72727272727273"
        ],
        [
         "1",
         "Q2",
         "0.18",
         "0.32",
         "0.0",
         "4.0",
         "0.0",
         "100.0",
         "5.0",
         "7.0",
         "100.0",
         "63.63636363636363",
         "36.36363636363637"
        ],
        [
         "0",
         "Q1",
         "0.03",
         "0.15",
         "0.0",
         "4.0",
         "0.0",
         "100.0",
         "5.0",
         "11.0",
         "100.0",
         "100.0",
         "0.0"
        ]
       ],
       "shape": {
        "columns": 12,
        "rows": 4
       }
      },
      "text/html": [
       "<div>\n",
       "<style scoped>\n",
       "    .dataframe tbody tr th:only-of-type {\n",
       "        vertical-align: middle;\n",
       "    }\n",
       "\n",
       "    .dataframe tbody tr th {\n",
       "        vertical-align: top;\n",
       "    }\n",
       "\n",
       "    .dataframe thead th {\n",
       "        text-align: right;\n",
       "    }\n",
       "</style>\n",
       "<table border=\"1\" class=\"dataframe\">\n",
       "  <thead>\n",
       "    <tr style=\"text-align: right;\">\n",
       "      <th></th>\n",
       "      <th>quartile</th>\n",
       "      <th>Min Prob</th>\n",
       "      <th>Max prob</th>\n",
       "      <th>Event</th>\n",
       "      <th>Non-Event</th>\n",
       "      <th>Event_rate</th>\n",
       "      <th>Non-Event_rate</th>\n",
       "      <th>cum_Event</th>\n",
       "      <th>cum_non_Event</th>\n",
       "      <th>cum_Event_rate</th>\n",
       "      <th>cum_non_Event_rate</th>\n",
       "      <th>KS</th>\n",
       "    </tr>\n",
       "  </thead>\n",
       "  <tbody>\n",
       "    <tr>\n",
       "      <th>3</th>\n",
       "      <td>Q4</td>\n",
       "      <td>0.56</td>\n",
       "      <td>0.75</td>\n",
       "      <td>3.00</td>\n",
       "      <td>1.00</td>\n",
       "      <td>75.00</td>\n",
       "      <td>25.00</td>\n",
       "      <td>3.00</td>\n",
       "      <td>1.00</td>\n",
       "      <td>60.00</td>\n",
       "      <td>9.09</td>\n",
       "      <td>50.91</td>\n",
       "    </tr>\n",
       "    <tr>\n",
       "      <th>2</th>\n",
       "      <td>Q3</td>\n",
       "      <td>0.39</td>\n",
       "      <td>0.52</td>\n",
       "      <td>2.00</td>\n",
       "      <td>2.00</td>\n",
       "      <td>50.00</td>\n",
       "      <td>50.00</td>\n",
       "      <td>5.00</td>\n",
       "      <td>3.00</td>\n",
       "      <td>100.00</td>\n",
       "      <td>27.27</td>\n",
       "      <td>72.73</td>\n",
       "    </tr>\n",
       "    <tr>\n",
       "      <th>1</th>\n",
       "      <td>Q2</td>\n",
       "      <td>0.18</td>\n",
       "      <td>0.32</td>\n",
       "      <td>0.00</td>\n",
       "      <td>4.00</td>\n",
       "      <td>0.00</td>\n",
       "      <td>100.00</td>\n",
       "      <td>5.00</td>\n",
       "      <td>7.00</td>\n",
       "      <td>100.00</td>\n",
       "      <td>63.64</td>\n",
       "      <td>36.36</td>\n",
       "    </tr>\n",
       "    <tr>\n",
       "      <th>0</th>\n",
       "      <td>Q1</td>\n",
       "      <td>0.03</td>\n",
       "      <td>0.15</td>\n",
       "      <td>0.00</td>\n",
       "      <td>4.00</td>\n",
       "      <td>0.00</td>\n",
       "      <td>100.00</td>\n",
       "      <td>5.00</td>\n",
       "      <td>11.00</td>\n",
       "      <td>100.00</td>\n",
       "      <td>100.00</td>\n",
       "      <td>0.00</td>\n",
       "    </tr>\n",
       "  </tbody>\n",
       "</table>\n",
       "</div>"
      ],
      "text/plain": [
       "  quartile  Min Prob  Max prob  Event  Non-Event  Event_rate  Non-Event_rate  \\\n",
       "3       Q4      0.56      0.75   3.00       1.00       75.00           25.00   \n",
       "2       Q3      0.39      0.52   2.00       2.00       50.00           50.00   \n",
       "1       Q2      0.18      0.32   0.00       4.00        0.00          100.00   \n",
       "0       Q1      0.03      0.15   0.00       4.00        0.00          100.00   \n",
       "\n",
       "   cum_Event  cum_non_Event  cum_Event_rate  cum_non_Event_rate    KS  \n",
       "3       3.00           1.00           60.00                9.09 50.91  \n",
       "2       5.00           3.00          100.00               27.27 72.73  \n",
       "1       5.00           7.00          100.00               63.64 36.36  \n",
       "0       5.00          11.00          100.00              100.00  0.00  "
      ]
     },
     "execution_count": 11,
     "metadata": {},
     "output_type": "execute_result"
    }
   ],
   "source": [
    "df_groupd['KS'] = abs(df_groupd['cum_Event_rate']-df_groupd['cum_non_Event_rate'])\n",
    "df_groupd"
   ]
  },
  {
   "cell_type": "code",
   "execution_count": null,
   "id": "0f2251eb",
   "metadata": {},
   "outputs": [],
   "source": []
  }
 ],
 "metadata": {
  "kernelspec": {
   "display_name": "venv",
   "language": "python",
   "name": "python3"
  },
  "language_info": {
   "codemirror_mode": {
    "name": "ipython",
    "version": 3
   },
   "file_extension": ".py",
   "mimetype": "text/x-python",
   "name": "python",
   "nbconvert_exporter": "python",
   "pygments_lexer": "ipython3",
   "version": "3.11.9"
  }
 },
 "nbformat": 4,
 "nbformat_minor": 5
}
