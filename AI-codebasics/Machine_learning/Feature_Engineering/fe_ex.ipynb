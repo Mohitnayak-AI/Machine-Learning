{
 "cells": [
  {
   "cell_type": "code",
   "execution_count": 58,
   "id": "992fc952",
   "metadata": {},
   "outputs": [],
   "source": [
    "import pandas as pd\n",
    "import matplotlib.pyplot as plt\n",
    "import seaborn as sns\n",
    "\n",
    "from sklearn.linear_model import LinearRegression\n",
    "from sklearn.metrics import r2_score,mean_squared_error\n",
    "from sklearn.model_selection import train_test_split\n",
    "from statsmodels.stats.outliers_influence import variance_inflation_factor\n",
    "from sklearn.preprocessing import MinMaxScaler"
   ]
  },
  {
   "cell_type": "code",
   "execution_count": 59,
   "id": "08459787",
   "metadata": {},
   "outputs": [
    {
     "data": {
      "application/vnd.microsoft.datawrangler.viewer.v0+json": {
       "columns": [
        {
         "name": "index",
         "rawType": "int64",
         "type": "integer"
        },
        {
         "name": "pollution_level",
         "rawType": "float64",
         "type": "float"
        },
        {
         "name": "resource_consumption",
         "rawType": "float64",
         "type": "float"
        },
        {
         "name": "population_density",
         "rawType": "float64",
         "type": "float"
        },
        {
         "name": "economic_activity",
         "rawType": "float64",
         "type": "float"
        },
        {
         "name": "industrial_activity",
         "rawType": "float64",
         "type": "float"
        },
        {
         "name": "traffic_density",
         "rawType": "float64",
         "type": "float"
        },
        {
         "name": "waste_generation",
         "rawType": "float64",
         "type": "float"
        },
        {
         "name": "renewable_energy_usage",
         "rawType": "float64",
         "type": "float"
        },
        {
         "name": "air_quality_index",
         "rawType": "float64",
         "type": "float"
        },
        {
         "name": "carbon_footprint",
         "rawType": "float64",
         "type": "float"
        },
        {
         "name": "environmental_impact_score",
         "rawType": "float64",
         "type": "float"
        }
       ],
       "ref": "673abd28-fdc5-41ec-baa8-e19f8700cb29",
       "rows": [
        [
         "0",
         "41.84",
         "68.83",
         "338.27",
         "93.18",
         "104.96",
         "216.85",
         "57.15",
         "28.66",
         "58.02",
         "287.7",
         "74.87"
        ],
        [
         "1",
         "38.46",
         "72.14",
         "353.67",
         "120.44",
         "72.86",
         "233.87",
         "46.07",
         "36.61",
         "92.69",
         "322.34",
         "43.7"
        ],
        [
         "2",
         "54.97",
         "60.23",
         "324.93",
         "114.66",
         "72.64",
         "221.37",
         "34.13",
         "30.88",
         "81.9",
         "329.35",
         "57.47"
        ],
        [
         "3",
         "56.35",
         "71.6",
         "202.88",
         "127.56",
         "75.76",
         "129.26",
         "47.93",
         "24.88",
         "76.2",
         "300.33",
         "21.75"
        ],
        [
         "4",
         "54.0",
         "65.76",
         "292.23",
         "80.19",
         "63.19",
         "239.81",
         "56.24",
         "39.24",
         "88.57",
         "327.12",
         "48.77"
        ]
       ],
       "shape": {
        "columns": 11,
        "rows": 5
       }
      },
      "text/html": [
       "<div>\n",
       "<style scoped>\n",
       "    .dataframe tbody tr th:only-of-type {\n",
       "        vertical-align: middle;\n",
       "    }\n",
       "\n",
       "    .dataframe tbody tr th {\n",
       "        vertical-align: top;\n",
       "    }\n",
       "\n",
       "    .dataframe thead th {\n",
       "        text-align: right;\n",
       "    }\n",
       "</style>\n",
       "<table border=\"1\" class=\"dataframe\">\n",
       "  <thead>\n",
       "    <tr style=\"text-align: right;\">\n",
       "      <th></th>\n",
       "      <th>pollution_level</th>\n",
       "      <th>resource_consumption</th>\n",
       "      <th>population_density</th>\n",
       "      <th>economic_activity</th>\n",
       "      <th>industrial_activity</th>\n",
       "      <th>traffic_density</th>\n",
       "      <th>waste_generation</th>\n",
       "      <th>renewable_energy_usage</th>\n",
       "      <th>air_quality_index</th>\n",
       "      <th>carbon_footprint</th>\n",
       "      <th>environmental_impact_score</th>\n",
       "    </tr>\n",
       "  </thead>\n",
       "  <tbody>\n",
       "    <tr>\n",
       "      <th>0</th>\n",
       "      <td>41.84</td>\n",
       "      <td>68.83</td>\n",
       "      <td>338.27</td>\n",
       "      <td>93.18</td>\n",
       "      <td>104.96</td>\n",
       "      <td>216.85</td>\n",
       "      <td>57.15</td>\n",
       "      <td>28.66</td>\n",
       "      <td>58.02</td>\n",
       "      <td>287.70</td>\n",
       "      <td>74.87</td>\n",
       "    </tr>\n",
       "    <tr>\n",
       "      <th>1</th>\n",
       "      <td>38.46</td>\n",
       "      <td>72.14</td>\n",
       "      <td>353.67</td>\n",
       "      <td>120.44</td>\n",
       "      <td>72.86</td>\n",
       "      <td>233.87</td>\n",
       "      <td>46.07</td>\n",
       "      <td>36.61</td>\n",
       "      <td>92.69</td>\n",
       "      <td>322.34</td>\n",
       "      <td>43.70</td>\n",
       "    </tr>\n",
       "    <tr>\n",
       "      <th>2</th>\n",
       "      <td>54.97</td>\n",
       "      <td>60.23</td>\n",
       "      <td>324.93</td>\n",
       "      <td>114.66</td>\n",
       "      <td>72.64</td>\n",
       "      <td>221.37</td>\n",
       "      <td>34.13</td>\n",
       "      <td>30.88</td>\n",
       "      <td>81.90</td>\n",
       "      <td>329.35</td>\n",
       "      <td>57.47</td>\n",
       "    </tr>\n",
       "    <tr>\n",
       "      <th>3</th>\n",
       "      <td>56.35</td>\n",
       "      <td>71.60</td>\n",
       "      <td>202.88</td>\n",
       "      <td>127.56</td>\n",
       "      <td>75.76</td>\n",
       "      <td>129.26</td>\n",
       "      <td>47.93</td>\n",
       "      <td>24.88</td>\n",
       "      <td>76.20</td>\n",
       "      <td>300.33</td>\n",
       "      <td>21.75</td>\n",
       "    </tr>\n",
       "    <tr>\n",
       "      <th>4</th>\n",
       "      <td>54.00</td>\n",
       "      <td>65.76</td>\n",
       "      <td>292.23</td>\n",
       "      <td>80.19</td>\n",
       "      <td>63.19</td>\n",
       "      <td>239.81</td>\n",
       "      <td>56.24</td>\n",
       "      <td>39.24</td>\n",
       "      <td>88.57</td>\n",
       "      <td>327.12</td>\n",
       "      <td>48.77</td>\n",
       "    </tr>\n",
       "  </tbody>\n",
       "</table>\n",
       "</div>"
      ],
      "text/plain": [
       "   pollution_level  ...  environmental_impact_score\n",
       "0            41.84  ...                       74.87\n",
       "1            38.46  ...                       43.70\n",
       "2            54.97  ...                       57.47\n",
       "3            56.35  ...                       21.75\n",
       "4            54.00  ...                       48.77\n",
       "\n",
       "[5 rows x 11 columns]"
      ]
     },
     "execution_count": 59,
     "metadata": {},
     "output_type": "execute_result"
    }
   ],
   "source": [
    "df = pd.read_csv('../data/environmental_impact_data.csv')\n",
    "df.head()"
   ]
  },
  {
   "cell_type": "code",
   "execution_count": 60,
   "id": "673dbb61",
   "metadata": {},
   "outputs": [
    {
     "data": {
      "text/plain": [
       "(100, 11)"
      ]
     },
     "execution_count": 60,
     "metadata": {},
     "output_type": "execute_result"
    }
   ],
   "source": [
    "df.shape"
   ]
  },
  {
   "cell_type": "code",
   "execution_count": 61,
   "id": "d052af37",
   "metadata": {},
   "outputs": [
    {
     "data": {
      "application/vnd.microsoft.datawrangler.viewer.v0+json": {
       "columns": [
        {
         "name": "index",
         "rawType": "object",
         "type": "string"
        },
        {
         "name": "pollution_level",
         "rawType": "float64",
         "type": "float"
        },
        {
         "name": "resource_consumption",
         "rawType": "float64",
         "type": "float"
        },
        {
         "name": "population_density",
         "rawType": "float64",
         "type": "float"
        },
        {
         "name": "economic_activity",
         "rawType": "float64",
         "type": "float"
        },
        {
         "name": "industrial_activity",
         "rawType": "float64",
         "type": "float"
        },
        {
         "name": "traffic_density",
         "rawType": "float64",
         "type": "float"
        },
        {
         "name": "waste_generation",
         "rawType": "float64",
         "type": "float"
        },
        {
         "name": "renewable_energy_usage",
         "rawType": "float64",
         "type": "float"
        },
        {
         "name": "air_quality_index",
         "rawType": "float64",
         "type": "float"
        },
        {
         "name": "carbon_footprint",
         "rawType": "float64",
         "type": "float"
        },
        {
         "name": "environmental_impact_score",
         "rawType": "float64",
         "type": "float"
        }
       ],
       "ref": "43edc5db-f758-46d8-8b1a-9fa0576e1172",
       "rows": [
        [
         "count",
         "100.0",
         "100.0",
         "100.0",
         "100.0",
         "100.0",
         "100.0",
         "100.0",
         "100.0",
         "100.0",
         "100.0",
         "100.0"
        ],
        [
         "mean",
         "48.80799999999999",
         "70.7299",
         "300.08889999999997",
         "102.00590000000003",
         "77.45380000000002",
         "202.34490000000002",
         "49.7501",
         "30.085499999999996",
         "80.2225",
         "294.2364",
         "45.3091"
        ],
        [
         "std",
         "8.784508862742182",
         "8.804048826958807",
         "49.082548008225885",
         "18.634315369308",
         "15.582052663629435",
         "35.48279482048627",
         "9.400569668424838",
         "5.199462360512271",
         "10.185130018063022",
         "45.32070333242253",
         "21.458624368488273"
        ],
        [
         "min",
         "28.44",
         "51.87",
         "173.96",
         "50.25",
         "42.18",
         "113.55",
         "28.73",
         "16.27",
         "51.98",
         "103.88",
         "0.0"
        ],
        [
         "25%",
         "43.26",
         "65.3925",
         "269.84749999999997",
         "90.84",
         "66.41",
         "181.33499999999998",
         "43.845",
         "27.1025",
         "74.0325",
         "265.0425",
         "30.8275"
        ],
        [
         "50%",
         "50.13",
         "69.5",
         "298.965",
         "102.965",
         "75.995",
         "204.72",
         "49.94",
         "29.6",
         "81.25999999999999",
         "300.22",
         "43.815"
        ],
        [
         "75%",
         "54.745000000000005",
         "76.31",
         "334.76250000000005",
         "114.6",
         "88.005",
         "226.825",
         "55.6525",
         "33.9375",
         "86.09",
         "321.2825",
         "60.54"
        ],
        [
         "max",
         "70.46",
         "92.41",
         "402.73",
         "140.27",
         "121.53",
         "276.94",
         "70.27",
         "40.86",
         "105.3",
         "383.82",
         "100.0"
        ]
       ],
       "shape": {
        "columns": 11,
        "rows": 8
       }
      },
      "text/html": [
       "<div>\n",
       "<style scoped>\n",
       "    .dataframe tbody tr th:only-of-type {\n",
       "        vertical-align: middle;\n",
       "    }\n",
       "\n",
       "    .dataframe tbody tr th {\n",
       "        vertical-align: top;\n",
       "    }\n",
       "\n",
       "    .dataframe thead th {\n",
       "        text-align: right;\n",
       "    }\n",
       "</style>\n",
       "<table border=\"1\" class=\"dataframe\">\n",
       "  <thead>\n",
       "    <tr style=\"text-align: right;\">\n",
       "      <th></th>\n",
       "      <th>pollution_level</th>\n",
       "      <th>resource_consumption</th>\n",
       "      <th>population_density</th>\n",
       "      <th>economic_activity</th>\n",
       "      <th>industrial_activity</th>\n",
       "      <th>traffic_density</th>\n",
       "      <th>waste_generation</th>\n",
       "      <th>renewable_energy_usage</th>\n",
       "      <th>air_quality_index</th>\n",
       "      <th>carbon_footprint</th>\n",
       "      <th>environmental_impact_score</th>\n",
       "    </tr>\n",
       "  </thead>\n",
       "  <tbody>\n",
       "    <tr>\n",
       "      <th>count</th>\n",
       "      <td>100.000000</td>\n",
       "      <td>100.000000</td>\n",
       "      <td>100.000000</td>\n",
       "      <td>100.000000</td>\n",
       "      <td>100.000000</td>\n",
       "      <td>100.000000</td>\n",
       "      <td>100.00000</td>\n",
       "      <td>100.000000</td>\n",
       "      <td>100.00000</td>\n",
       "      <td>100.000000</td>\n",
       "      <td>100.000000</td>\n",
       "    </tr>\n",
       "    <tr>\n",
       "      <th>mean</th>\n",
       "      <td>48.808000</td>\n",
       "      <td>70.729900</td>\n",
       "      <td>300.088900</td>\n",
       "      <td>102.005900</td>\n",
       "      <td>77.453800</td>\n",
       "      <td>202.344900</td>\n",
       "      <td>49.75010</td>\n",
       "      <td>30.085500</td>\n",
       "      <td>80.22250</td>\n",
       "      <td>294.236400</td>\n",
       "      <td>45.309100</td>\n",
       "    </tr>\n",
       "    <tr>\n",
       "      <th>std</th>\n",
       "      <td>8.784509</td>\n",
       "      <td>8.804049</td>\n",
       "      <td>49.082548</td>\n",
       "      <td>18.634315</td>\n",
       "      <td>15.582053</td>\n",
       "      <td>35.482795</td>\n",
       "      <td>9.40057</td>\n",
       "      <td>5.199462</td>\n",
       "      <td>10.18513</td>\n",
       "      <td>45.320703</td>\n",
       "      <td>21.458624</td>\n",
       "    </tr>\n",
       "    <tr>\n",
       "      <th>min</th>\n",
       "      <td>28.440000</td>\n",
       "      <td>51.870000</td>\n",
       "      <td>173.960000</td>\n",
       "      <td>50.250000</td>\n",
       "      <td>42.180000</td>\n",
       "      <td>113.550000</td>\n",
       "      <td>28.73000</td>\n",
       "      <td>16.270000</td>\n",
       "      <td>51.98000</td>\n",
       "      <td>103.880000</td>\n",
       "      <td>0.000000</td>\n",
       "    </tr>\n",
       "    <tr>\n",
       "      <th>25%</th>\n",
       "      <td>43.260000</td>\n",
       "      <td>65.392500</td>\n",
       "      <td>269.847500</td>\n",
       "      <td>90.840000</td>\n",
       "      <td>66.410000</td>\n",
       "      <td>181.335000</td>\n",
       "      <td>43.84500</td>\n",
       "      <td>27.102500</td>\n",
       "      <td>74.03250</td>\n",
       "      <td>265.042500</td>\n",
       "      <td>30.827500</td>\n",
       "    </tr>\n",
       "    <tr>\n",
       "      <th>50%</th>\n",
       "      <td>50.130000</td>\n",
       "      <td>69.500000</td>\n",
       "      <td>298.965000</td>\n",
       "      <td>102.965000</td>\n",
       "      <td>75.995000</td>\n",
       "      <td>204.720000</td>\n",
       "      <td>49.94000</td>\n",
       "      <td>29.600000</td>\n",
       "      <td>81.26000</td>\n",
       "      <td>300.220000</td>\n",
       "      <td>43.815000</td>\n",
       "    </tr>\n",
       "    <tr>\n",
       "      <th>75%</th>\n",
       "      <td>54.745000</td>\n",
       "      <td>76.310000</td>\n",
       "      <td>334.762500</td>\n",
       "      <td>114.600000</td>\n",
       "      <td>88.005000</td>\n",
       "      <td>226.825000</td>\n",
       "      <td>55.65250</td>\n",
       "      <td>33.937500</td>\n",
       "      <td>86.09000</td>\n",
       "      <td>321.282500</td>\n",
       "      <td>60.540000</td>\n",
       "    </tr>\n",
       "    <tr>\n",
       "      <th>max</th>\n",
       "      <td>70.460000</td>\n",
       "      <td>92.410000</td>\n",
       "      <td>402.730000</td>\n",
       "      <td>140.270000</td>\n",
       "      <td>121.530000</td>\n",
       "      <td>276.940000</td>\n",
       "      <td>70.27000</td>\n",
       "      <td>40.860000</td>\n",
       "      <td>105.30000</td>\n",
       "      <td>383.820000</td>\n",
       "      <td>100.000000</td>\n",
       "    </tr>\n",
       "  </tbody>\n",
       "</table>\n",
       "</div>"
      ],
      "text/plain": [
       "       pollution_level  ...  environmental_impact_score\n",
       "count       100.000000  ...                  100.000000\n",
       "mean         48.808000  ...                   45.309100\n",
       "std           8.784509  ...                   21.458624\n",
       "min          28.440000  ...                    0.000000\n",
       "25%          43.260000  ...                   30.827500\n",
       "50%          50.130000  ...                   43.815000\n",
       "75%          54.745000  ...                   60.540000\n",
       "max          70.460000  ...                  100.000000\n",
       "\n",
       "[8 rows x 11 columns]"
      ]
     },
     "execution_count": 61,
     "metadata": {},
     "output_type": "execute_result"
    }
   ],
   "source": [
    "df.describe()"
   ]
  },
  {
   "cell_type": "code",
   "execution_count": 62,
   "id": "435f8d4c",
   "metadata": {},
   "outputs": [
    {
     "data": {
      "text/plain": [
       "<Axes: >"
      ]
     },
     "execution_count": 62,
     "metadata": {},
     "output_type": "execute_result"
    },
    {
     "data": {
      "image/png": "[encoded data removed]",
      "text/plain": [
       "<Figure size 1000x1200 with 2 Axes>"
      ]
     },
     "metadata": {},
     "output_type": "display_data"
    }
   ],
   "source": [
    "cm = df.corr()\n",
    "plt.figure(figsize=(10,12))\n",
    "sns.heatmap(cm,annot=True)"
   ]
  },
  {
   "cell_type": "code",
   "execution_count": 63,
   "id": "1ce3551c",
   "metadata": {},
   "outputs": [
    {
     "data": {
      "application/vnd.microsoft.datawrangler.viewer.v0+json": {
       "columns": [
        {
         "name": "index",
         "rawType": "object",
         "type": "string"
        },
        {
         "name": "environmental_impact_score",
         "rawType": "float64",
         "type": "float"
        }
       ],
       "ref": "1882f18c-64a9-4bbc-9bc6-8e23daf394df",
       "rows": [
        [
         "pollution_level",
         "0.25883288324865683"
        ],
        [
         "resource_consumption",
         "0.09530671375128051"
        ],
        [
         "population_density",
         "0.09175914053826349"
        ],
        [
         "economic_activity",
         "-0.10776918632447453"
        ],
        [
         "industrial_activity",
         "0.6906980878516301"
        ],
        [
         "traffic_density",
         "0.5940556076423931"
        ],
        [
         "waste_generation",
         "0.15524164375937471"
        ],
        [
         "renewable_energy_usage",
         "0.11271377058517155"
        ],
        [
         "air_quality_index",
         "-0.19154250356642386"
        ],
        [
         "carbon_footprint",
         "-0.07518465829018839"
        ],
        [
         "environmental_impact_score",
         "1.0"
        ]
       ],
       "shape": {
        "columns": 1,
        "rows": 11
       }
      },
      "text/plain": [
       "pollution_level               0.258833\n",
       "resource_consumption          0.095307\n",
       "population_density            0.091759\n",
       "economic_activity            -0.107769\n",
       "industrial_activity           0.690698\n",
       "traffic_density               0.594056\n",
       "waste_generation              0.155242\n",
       "renewable_energy_usage        0.112714\n",
       "air_quality_index            -0.191543\n",
       "carbon_footprint             -0.075185\n",
       "environmental_impact_score    1.000000\n",
       "Name: environmental_impact_score, dtype: float64"
      ]
     },
     "execution_count": 63,
     "metadata": {},
     "output_type": "execute_result"
    }
   ],
   "source": [
    "cm['environmental_impact_score']"
   ]
  },
  {
   "cell_type": "code",
   "execution_count": 64,
   "id": "74b2deb6",
   "metadata": {},
   "outputs": [
    {
     "data": {
      "application/vnd.microsoft.datawrangler.viewer.v0+json": {
       "columns": [
        {
         "name": "index",
         "rawType": "object",
         "type": "string"
        },
        {
         "name": "environmental_impact_score",
         "rawType": "float64",
         "type": "float"
        }
       ],
       "ref": "7c1f37d3-fd57-4690-88d6-2226a27047cc",
       "rows": [
        [
         "pollution_level",
         "0.25883288324865683"
        ],
        [
         "resource_consumption",
         "0.09530671375128051"
        ],
        [
         "population_density",
         "0.09175914053826349"
        ],
        [
         "economic_activity",
         "0.10776918632447453"
        ],
        [
         "industrial_activity",
         "0.6906980878516301"
        ],
        [
         "traffic_density",
         "0.5940556076423931"
        ],
        [
         "waste_generation",
         "0.15524164375937471"
        ],
        [
         "renewable_energy_usage",
         "0.11271377058517155"
        ],
        [
         "air_quality_index",
         "0.19154250356642386"
        ],
        [
         "carbon_footprint",
         "0.07518465829018839"
        ],
        [
         "environmental_impact_score",
         "1.0"
        ]
       ],
       "shape": {
        "columns": 1,
        "rows": 11
       }
      },
      "text/plain": [
       "pollution_level               0.258833\n",
       "resource_consumption          0.095307\n",
       "population_density            0.091759\n",
       "economic_activity             0.107769\n",
       "industrial_activity           0.690698\n",
       "traffic_density               0.594056\n",
       "waste_generation              0.155242\n",
       "renewable_energy_usage        0.112714\n",
       "air_quality_index             0.191543\n",
       "carbon_footprint              0.075185\n",
       "environmental_impact_score    1.000000\n",
       "Name: environmental_impact_score, dtype: float64"
      ]
     },
     "execution_count": 64,
     "metadata": {},
     "output_type": "execute_result"
    }
   ],
   "source": [
    "cm_df = abs(cm['environmental_impact_score'])\n",
    "cm_df"
   ]
  },
  {
   "cell_type": "code",
   "execution_count": 65,
   "id": "eff17907",
   "metadata": {},
   "outputs": [
    {
     "data": {
      "text/plain": [
       "Index(['pollution_level', 'industrial_activity', 'traffic_density'], dtype='object')"
      ]
     },
     "execution_count": 65,
     "metadata": {},
     "output_type": "execute_result"
    }
   ],
   "source": [
    "selected_feature = cm_df[cm_df>0.25].index.drop('environmental_impact_score')\n",
    "selected_feature"
   ]
  },
  {
   "cell_type": "code",
   "execution_count": 66,
   "id": "ed182b9c",
   "metadata": {},
   "outputs": [
    {
     "name": "stdout",
     "output_type": "stream",
     "text": [
      "R2 - 97.02 and MSE - 11.44911468238552\n"
     ]
    }
   ],
   "source": [
    "x = df[selected_feature]\n",
    "y = df['environmental_impact_score']\n",
    "\n",
    "x_train,x_test,y_train,y_test = train_test_split(x,y,test_size=0.2,random_state=42)\n",
    "\n",
    "model = LinearRegression()\n",
    "model.fit(x_train,y_train)\n",
    "\n",
    "y_pred = model.predict(x_test)\n",
    "\n",
    "r2 = r2_score(y_pred,y_test)\n",
    "mse = mean_squared_error(y_pred,y_test)\n",
    "\n",
    "print(f'R2 - {round(r2*100,2)} and MSE - {mse}')"
   ]
  },
  {
   "cell_type": "code",
   "execution_count": 67,
   "id": "b520296d",
   "metadata": {},
   "outputs": [
    {
     "data": {
      "application/vnd.microsoft.datawrangler.viewer.v0+json": {
       "columns": [
        {
         "name": "index",
         "rawType": "int64",
         "type": "integer"
        },
        {
         "name": "pollution_level",
         "rawType": "float64",
         "type": "float"
        },
        {
         "name": "resource_consumption",
         "rawType": "float64",
         "type": "float"
        },
        {
         "name": "population_density",
         "rawType": "float64",
         "type": "float"
        },
        {
         "name": "economic_activity",
         "rawType": "float64",
         "type": "float"
        },
        {
         "name": "industrial_activity",
         "rawType": "float64",
         "type": "float"
        },
        {
         "name": "traffic_density",
         "rawType": "float64",
         "type": "float"
        },
        {
         "name": "waste_generation",
         "rawType": "float64",
         "type": "float"
        },
        {
         "name": "renewable_energy_usage",
         "rawType": "float64",
         "type": "float"
        },
        {
         "name": "air_quality_index",
         "rawType": "float64",
         "type": "float"
        },
        {
         "name": "carbon_footprint",
         "rawType": "float64",
         "type": "float"
        },
        {
         "name": "environmental_impact_score",
         "rawType": "float64",
         "type": "float"
        }
       ],
       "ref": "08e14610-ff9c-4088-a06f-9134c2b77777",
       "rows": [
        [
         "0",
         "41.84",
         "68.83",
         "338.27",
         "93.18",
         "104.96",
         "216.85",
         "57.15",
         "28.66",
         "58.02",
         "287.7",
         "74.87"
        ],
        [
         "1",
         "38.46",
         "72.14",
         "353.67",
         "120.44",
         "72.86",
         "233.87",
         "46.07",
         "36.61",
         "92.69",
         "322.34",
         "43.7"
        ],
        [
         "2",
         "54.97",
         "60.23",
         "324.93",
         "114.66",
         "72.64",
         "221.37",
         "34.13",
         "30.88",
         "81.9",
         "329.35",
         "57.47"
        ],
        [
         "3",
         "56.35",
         "71.6",
         "202.88",
         "127.56",
         "75.76",
         "129.26",
         "47.93",
         "24.88",
         "76.2",
         "300.33",
         "21.75"
        ],
        [
         "4",
         "54.0",
         "65.76",
         "292.23",
         "80.19",
         "63.19",
         "239.81",
         "56.24",
         "39.24",
         "88.57",
         "327.12",
         "48.77"
        ]
       ],
       "shape": {
        "columns": 11,
        "rows": 5
       }
      },
      "text/html": [
       "<div>\n",
       "<style scoped>\n",
       "    .dataframe tbody tr th:only-of-type {\n",
       "        vertical-align: middle;\n",
       "    }\n",
       "\n",
       "    .dataframe tbody tr th {\n",
       "        vertical-align: top;\n",
       "    }\n",
       "\n",
       "    .dataframe thead th {\n",
       "        text-align: right;\n",
       "    }\n",
       "</style>\n",
       "<table border=\"1\" class=\"dataframe\">\n",
       "  <thead>\n",
       "    <tr style=\"text-align: right;\">\n",
       "      <th></th>\n",
       "      <th>pollution_level</th>\n",
       "      <th>resource_consumption</th>\n",
       "      <th>population_density</th>\n",
       "      <th>economic_activity</th>\n",
       "      <th>industrial_activity</th>\n",
       "      <th>traffic_density</th>\n",
       "      <th>waste_generation</th>\n",
       "      <th>renewable_energy_usage</th>\n",
       "      <th>air_quality_index</th>\n",
       "      <th>carbon_footprint</th>\n",
       "      <th>environmental_impact_score</th>\n",
       "    </tr>\n",
       "  </thead>\n",
       "  <tbody>\n",
       "    <tr>\n",
       "      <th>0</th>\n",
       "      <td>41.84</td>\n",
       "      <td>68.83</td>\n",
       "      <td>338.27</td>\n",
       "      <td>93.18</td>\n",
       "      <td>104.96</td>\n",
       "      <td>216.85</td>\n",
       "      <td>57.15</td>\n",
       "      <td>28.66</td>\n",
       "      <td>58.02</td>\n",
       "      <td>287.70</td>\n",
       "      <td>74.87</td>\n",
       "    </tr>\n",
       "    <tr>\n",
       "      <th>1</th>\n",
       "      <td>38.46</td>\n",
       "      <td>72.14</td>\n",
       "      <td>353.67</td>\n",
       "      <td>120.44</td>\n",
       "      <td>72.86</td>\n",
       "      <td>233.87</td>\n",
       "      <td>46.07</td>\n",
       "      <td>36.61</td>\n",
       "      <td>92.69</td>\n",
       "      <td>322.34</td>\n",
       "      <td>43.70</td>\n",
       "    </tr>\n",
       "    <tr>\n",
       "      <th>2</th>\n",
       "      <td>54.97</td>\n",
       "      <td>60.23</td>\n",
       "      <td>324.93</td>\n",
       "      <td>114.66</td>\n",
       "      <td>72.64</td>\n",
       "      <td>221.37</td>\n",
       "      <td>34.13</td>\n",
       "      <td>30.88</td>\n",
       "      <td>81.90</td>\n",
       "      <td>329.35</td>\n",
       "      <td>57.47</td>\n",
       "    </tr>\n",
       "    <tr>\n",
       "      <th>3</th>\n",
       "      <td>56.35</td>\n",
       "      <td>71.60</td>\n",
       "      <td>202.88</td>\n",
       "      <td>127.56</td>\n",
       "      <td>75.76</td>\n",
       "      <td>129.26</td>\n",
       "      <td>47.93</td>\n",
       "      <td>24.88</td>\n",
       "      <td>76.20</td>\n",
       "      <td>300.33</td>\n",
       "      <td>21.75</td>\n",
       "    </tr>\n",
       "    <tr>\n",
       "      <th>4</th>\n",
       "      <td>54.00</td>\n",
       "      <td>65.76</td>\n",
       "      <td>292.23</td>\n",
       "      <td>80.19</td>\n",
       "      <td>63.19</td>\n",
       "      <td>239.81</td>\n",
       "      <td>56.24</td>\n",
       "      <td>39.24</td>\n",
       "      <td>88.57</td>\n",
       "      <td>327.12</td>\n",
       "      <td>48.77</td>\n",
       "    </tr>\n",
       "  </tbody>\n",
       "</table>\n",
       "</div>"
      ],
      "text/plain": [
       "   pollution_level  ...  environmental_impact_score\n",
       "0            41.84  ...                       74.87\n",
       "1            38.46  ...                       43.70\n",
       "2            54.97  ...                       57.47\n",
       "3            56.35  ...                       21.75\n",
       "4            54.00  ...                       48.77\n",
       "\n",
       "[5 rows x 11 columns]"
      ]
     },
     "execution_count": 67,
     "metadata": {},
     "output_type": "execute_result"
    }
   ],
   "source": [
    "df.head()"
   ]
  },
  {
   "cell_type": "code",
   "execution_count": 68,
   "id": "7193a505",
   "metadata": {},
   "outputs": [],
   "source": [
    "x = df.drop('environmental_impact_score',axis=1)\n",
    "y = df['environmental_impact_score']\n",
    "\n",
    "x_train,x_test,y_train,y_test = train_test_split(x,y,test_size=0.2,random_state=42)"
   ]
  },
  {
   "cell_type": "code",
   "execution_count": 69,
   "id": "e8c9ed65",
   "metadata": {},
   "outputs": [
    {
     "data": {
      "application/vnd.microsoft.datawrangler.viewer.v0+json": {
       "columns": [
        {
         "name": "index",
         "rawType": "int64",
         "type": "integer"
        },
        {
         "name": "pollution_level",
         "rawType": "float64",
         "type": "float"
        },
        {
         "name": "resource_consumption",
         "rawType": "float64",
         "type": "float"
        },
        {
         "name": "population_density",
         "rawType": "float64",
         "type": "float"
        },
        {
         "name": "economic_activity",
         "rawType": "float64",
         "type": "float"
        },
        {
         "name": "industrial_activity",
         "rawType": "float64",
         "type": "float"
        },
        {
         "name": "traffic_density",
         "rawType": "float64",
         "type": "float"
        },
        {
         "name": "waste_generation",
         "rawType": "float64",
         "type": "float"
        },
        {
         "name": "renewable_energy_usage",
         "rawType": "float64",
         "type": "float"
        },
        {
         "name": "air_quality_index",
         "rawType": "float64",
         "type": "float"
        },
        {
         "name": "carbon_footprint",
         "rawType": "float64",
         "type": "float"
        },
        {
         "name": "environmental_impact_score",
         "rawType": "float64",
         "type": "float"
        }
       ],
       "ref": "8d4b2925-c45e-4b28-b2e7-f4df66d81dec",
       "rows": [
        [
         "0",
         "0.3188957639219421",
         "0.41835224469659593",
         "0.7182322857017964",
         "0.4768940235503222",
         "0.7911783238815374",
         "0.6322296346165617",
         "0.6841598459316321",
         "0.5038633590890607",
         "0.11327831957989509",
         "0.6566407087232978",
         "74.87"
        ],
        [
         "1",
         "0.2384578772013327",
         "0.5",
         "0.7855488044761114",
         "0.7797156187513886",
         "0.38664146187775683",
         "0.736397576351062",
         "0.4174289841116997",
         "0.8271655144367629",
         "0.763503375843961",
         "0.7803815103236408",
         "43.7"
        ],
        [
         "2",
         "0.6313660161827702",
         "0.20621608288110505",
         "0.6599204441141757",
         "0.7155076649633415",
         "0.3838689350976686",
         "0.659893506334537",
         "0.12999518536350507",
         "0.5941439609597396",
         "0.561140285071268",
         "0.805422590555119",
         "57.47"
        ],
        [
         "3",
         "0.6642075202284629",
         "0.48667982239763186",
         "0.1264151768151418",
         "0.8588091535214396",
         "0.4231884057971016",
         "0.09615031519676842",
         "0.4622051035146847",
         "0.3501423342822285",
         "0.45423855963991",
         "0.7017575194684574",
         "21.75"
        ],
        [
         "4",
         "0.6082817705854356",
         "0.3426245683275779",
         "0.5169821217817021",
         "0.3325927571650744",
         "0.26477630749842473",
         "0.7727523104229146",
         "0.6622532498796342",
         "0.934119560797072",
         "0.6862340585146286",
         "0.797456597842395",
         "48.77"
        ]
       ],
       "shape": {
        "columns": 11,
        "rows": 5
       }
      },
      "text/html": [
       "<div>\n",
       "<style scoped>\n",
       "    .dataframe tbody tr th:only-of-type {\n",
       "        vertical-align: middle;\n",
       "    }\n",
       "\n",
       "    .dataframe tbody tr th {\n",
       "        vertical-align: top;\n",
       "    }\n",
       "\n",
       "    .dataframe thead th {\n",
       "        text-align: right;\n",
       "    }\n",
       "</style>\n",
       "<table border=\"1\" class=\"dataframe\">\n",
       "  <thead>\n",
       "    <tr style=\"text-align: right;\">\n",
       "      <th></th>\n",
       "      <th>pollution_level</th>\n",
       "      <th>resource_consumption</th>\n",
       "      <th>population_density</th>\n",
       "      <th>economic_activity</th>\n",
       "      <th>industrial_activity</th>\n",
       "      <th>traffic_density</th>\n",
       "      <th>waste_generation</th>\n",
       "      <th>renewable_energy_usage</th>\n",
       "      <th>air_quality_index</th>\n",
       "      <th>carbon_footprint</th>\n",
       "      <th>environmental_impact_score</th>\n",
       "    </tr>\n",
       "  </thead>\n",
       "  <tbody>\n",
       "    <tr>\n",
       "      <th>0</th>\n",
       "      <td>0.318896</td>\n",
       "      <td>0.418352</td>\n",
       "      <td>0.718232</td>\n",
       "      <td>0.476894</td>\n",
       "      <td>0.791178</td>\n",
       "      <td>0.632230</td>\n",
       "      <td>0.684160</td>\n",
       "      <td>0.503863</td>\n",
       "      <td>0.113278</td>\n",
       "      <td>0.656641</td>\n",
       "      <td>74.87</td>\n",
       "    </tr>\n",
       "    <tr>\n",
       "      <th>1</th>\n",
       "      <td>0.238458</td>\n",
       "      <td>0.500000</td>\n",
       "      <td>0.785549</td>\n",
       "      <td>0.779716</td>\n",
       "      <td>0.386641</td>\n",
       "      <td>0.736398</td>\n",
       "      <td>0.417429</td>\n",
       "      <td>0.827166</td>\n",
       "      <td>0.763503</td>\n",
       "      <td>0.780382</td>\n",
       "      <td>43.70</td>\n",
       "    </tr>\n",
       "    <tr>\n",
       "      <th>2</th>\n",
       "      <td>0.631366</td>\n",
       "      <td>0.206216</td>\n",
       "      <td>0.659920</td>\n",
       "      <td>0.715508</td>\n",
       "      <td>0.383869</td>\n",
       "      <td>0.659894</td>\n",
       "      <td>0.129995</td>\n",
       "      <td>0.594144</td>\n",
       "      <td>0.561140</td>\n",
       "      <td>0.805423</td>\n",
       "      <td>57.47</td>\n",
       "    </tr>\n",
       "    <tr>\n",
       "      <th>3</th>\n",
       "      <td>0.664208</td>\n",
       "      <td>0.486680</td>\n",
       "      <td>0.126415</td>\n",
       "      <td>0.858809</td>\n",
       "      <td>0.423188</td>\n",
       "      <td>0.096150</td>\n",
       "      <td>0.462205</td>\n",
       "      <td>0.350142</td>\n",
       "      <td>0.454239</td>\n",
       "      <td>0.701758</td>\n",
       "      <td>21.75</td>\n",
       "    </tr>\n",
       "    <tr>\n",
       "      <th>4</th>\n",
       "      <td>0.608282</td>\n",
       "      <td>0.342625</td>\n",
       "      <td>0.516982</td>\n",
       "      <td>0.332593</td>\n",
       "      <td>0.264776</td>\n",
       "      <td>0.772752</td>\n",
       "      <td>0.662253</td>\n",
       "      <td>0.934120</td>\n",
       "      <td>0.686234</td>\n",
       "      <td>0.797457</td>\n",
       "      <td>48.77</td>\n",
       "    </tr>\n",
       "  </tbody>\n",
       "</table>\n",
       "</div>"
      ],
      "text/plain": [
       "   pollution_level  ...  environmental_impact_score\n",
       "0         0.318896  ...                       74.87\n",
       "1         0.238458  ...                       43.70\n",
       "2         0.631366  ...                       57.47\n",
       "3         0.664208  ...                       21.75\n",
       "4         0.608282  ...                       48.77\n",
       "\n",
       "[5 rows x 11 columns]"
      ]
     },
     "execution_count": 69,
     "metadata": {},
     "output_type": "execute_result"
    }
   ],
   "source": [
    "minmax = MinMaxScaler()\n",
    "scale = minmax.fit_transform(df.drop(columns=['environmental_impact_score']))\n",
    "\n",
    "df_scale = pd.DataFrame(scale,columns=df.columns[:-1])\n",
    "df_scale['environmental_impact_score'] = df['environmental_impact_score']\n",
    "df_scale.head()"
   ]
  },
  {
   "cell_type": "code",
   "execution_count": 70,
   "id": "e6b7e36e",
   "metadata": {},
   "outputs": [],
   "source": [
    "def calculate_vif(data):\n",
    "    vif_df = pd.DataFrame()\n",
    "    vif_df['variance'] = data.columns\n",
    "    vif_df['vif'] = [variance_inflation_factor(data.values,i) for i in range(data.shape[1])]\n",
    "    return vif_df"
   ]
  },
  {
   "cell_type": "code",
   "execution_count": 71,
   "id": "49a4450b",
   "metadata": {},
   "outputs": [
    {
     "data": {
      "application/vnd.microsoft.datawrangler.viewer.v0+json": {
       "columns": [
        {
         "name": "index",
         "rawType": "int64",
         "type": "integer"
        },
        {
         "name": "variance",
         "rawType": "object",
         "type": "string"
        },
        {
         "name": "vif",
         "rawType": "float64",
         "type": "float"
        }
       ],
       "ref": "fd2b0ea3-a104-4ce4-a2c2-aefb8301b5ba",
       "rows": [
        [
         "0",
         "pollution_level",
         "5.791072602511915"
        ],
        [
         "1",
         "resource_consumption",
         "5.676857380478337"
        ],
        [
         "2",
         "population_density",
         "7.78307062719483"
        ],
        [
         "3",
         "economic_activity",
         "7.470285144870344"
        ],
        [
         "4",
         "industrial_activity",
         "6.037037113878963"
        ],
        [
         "5",
         "traffic_density",
         "7.310719360026767"
        ],
        [
         "6",
         "waste_generation",
         "7.114372792893178"
        ],
        [
         "7",
         "renewable_energy_usage",
         "8.735315028644607"
        ],
        [
         "8",
         "air_quality_index",
         "8.909886216580992"
        ],
        [
         "9",
         "carbon_footprint",
         "14.231670874830659"
        ]
       ],
       "shape": {
        "columns": 2,
        "rows": 10
       }
      },
      "text/html": [
       "<div>\n",
       "<style scoped>\n",
       "    .dataframe tbody tr th:only-of-type {\n",
       "        vertical-align: middle;\n",
       "    }\n",
       "\n",
       "    .dataframe tbody tr th {\n",
       "        vertical-align: top;\n",
       "    }\n",
       "\n",
       "    .dataframe thead th {\n",
       "        text-align: right;\n",
       "    }\n",
       "</style>\n",
       "<table border=\"1\" class=\"dataframe\">\n",
       "  <thead>\n",
       "    <tr style=\"text-align: right;\">\n",
       "      <th></th>\n",
       "      <th>variance</th>\n",
       "      <th>vif</th>\n",
       "    </tr>\n",
       "  </thead>\n",
       "  <tbody>\n",
       "    <tr>\n",
       "      <th>0</th>\n",
       "      <td>pollution_level</td>\n",
       "      <td>5.791073</td>\n",
       "    </tr>\n",
       "    <tr>\n",
       "      <th>1</th>\n",
       "      <td>resource_consumption</td>\n",
       "      <td>5.676857</td>\n",
       "    </tr>\n",
       "    <tr>\n",
       "      <th>2</th>\n",
       "      <td>population_density</td>\n",
       "      <td>7.783071</td>\n",
       "    </tr>\n",
       "    <tr>\n",
       "      <th>3</th>\n",
       "      <td>economic_activity</td>\n",
       "      <td>7.470285</td>\n",
       "    </tr>\n",
       "    <tr>\n",
       "      <th>4</th>\n",
       "      <td>industrial_activity</td>\n",
       "      <td>6.037037</td>\n",
       "    </tr>\n",
       "    <tr>\n",
       "      <th>5</th>\n",
       "      <td>traffic_density</td>\n",
       "      <td>7.310719</td>\n",
       "    </tr>\n",
       "    <tr>\n",
       "      <th>6</th>\n",
       "      <td>waste_generation</td>\n",
       "      <td>7.114373</td>\n",
       "    </tr>\n",
       "    <tr>\n",
       "      <th>7</th>\n",
       "      <td>renewable_energy_usage</td>\n",
       "      <td>8.735315</td>\n",
       "    </tr>\n",
       "    <tr>\n",
       "      <th>8</th>\n",
       "      <td>air_quality_index</td>\n",
       "      <td>8.909886</td>\n",
       "    </tr>\n",
       "    <tr>\n",
       "      <th>9</th>\n",
       "      <td>carbon_footprint</td>\n",
       "      <td>14.231671</td>\n",
       "    </tr>\n",
       "  </tbody>\n",
       "</table>\n",
       "</div>"
      ],
      "text/plain": [
       "                 variance        vif\n",
       "0         pollution_level   5.791073\n",
       "1    resource_consumption   5.676857\n",
       "2      population_density   7.783071\n",
       "3       economic_activity   7.470285\n",
       "4     industrial_activity   6.037037\n",
       "5         traffic_density   7.310719\n",
       "6        waste_generation   7.114373\n",
       "7  renewable_energy_usage   8.735315\n",
       "8       air_quality_index   8.909886\n",
       "9        carbon_footprint  14.231671"
      ]
     },
     "execution_count": 71,
     "metadata": {},
     "output_type": "execute_result"
    }
   ],
   "source": [
    "x = df_scale.drop('environmental_impact_score',axis=1)\n",
    "selected_feature = calculate_vif(x)\n",
    "selected_feature"
   ]
  },
  {
   "cell_type": "code",
   "execution_count": 72,
   "id": "869b8164",
   "metadata": {},
   "outputs": [
    {
     "data": {
      "application/vnd.microsoft.datawrangler.viewer.v0+json": {
       "columns": [
        {
         "name": "index",
         "rawType": "int64",
         "type": "integer"
        },
        {
         "name": "variance",
         "rawType": "object",
         "type": "string"
        }
       ],
       "ref": "92152394-92f4-4ce6-9c17-bd36f9367e07",
       "rows": [
        [
         "0",
         "pollution_level"
        ],
        [
         "1",
         "resource_consumption"
        ],
        [
         "2",
         "population_density"
        ],
        [
         "3",
         "economic_activity"
        ],
        [
         "4",
         "industrial_activity"
        ],
        [
         "5",
         "traffic_density"
        ],
        [
         "6",
         "waste_generation"
        ]
       ],
       "shape": {
        "columns": 1,
        "rows": 7
       }
      },
      "text/plain": [
       "0         pollution_level\n",
       "1    resource_consumption\n",
       "2      population_density\n",
       "3       economic_activity\n",
       "4     industrial_activity\n",
       "5         traffic_density\n",
       "6        waste_generation\n",
       "Name: variance, dtype: object"
      ]
     },
     "execution_count": 72,
     "metadata": {},
     "output_type": "execute_result"
    }
   ],
   "source": [
    "selected_feature = selected_feature[selected_feature['vif']<=8]['variance']\n",
    "selected_feature"
   ]
  },
  {
   "cell_type": "code",
   "execution_count": 73,
   "id": "3133d1b6",
   "metadata": {},
   "outputs": [
    {
     "name": "stdout",
     "output_type": "stream",
     "text": [
      "R2 - 96.3 and MSE - 14.166472703956552\n"
     ]
    }
   ],
   "source": [
    "x = df[selected_feature]\n",
    "y = df['environmental_impact_score']\n",
    "\n",
    "x_train,x_test,y_train,y_test = train_test_split(x,y,test_size=0.2,random_state=42)\n",
    "\n",
    "model = LinearRegression()\n",
    "model.fit(x_train,y_train)\n",
    "\n",
    "y_pred = model.predict(x_test)\n",
    "\n",
    "r2 = r2_score(y_pred,y_test)\n",
    "mse = mean_squared_error(y_pred,y_test)\n",
    "\n",
    "print(f'R2 - {round(r2*100,2)} and MSE - {mse}')"
   ]
  },
  {
   "cell_type": "code",
   "execution_count": null,
   "id": "c73c6027",
   "metadata": {},
   "outputs": [],
   "source": []
  }
 ],
 "metadata": {
  "kernelspec": {
   "display_name": "venv",
   "language": "python",
   "name": "python3"
  },
  "language_info": {
   "codemirror_mode": {
    "name": "ipython",
    "version": 3
   },
   "file_extension": ".py",
   "mimetype": "text/x-python",
   "name": "python",
   "nbconvert_exporter": "python",
   "pygments_lexer": "ipython3",
   "version": "3.11.9"
  }
 },
 "nbformat": 4,
 "nbformat_minor": 5
}
