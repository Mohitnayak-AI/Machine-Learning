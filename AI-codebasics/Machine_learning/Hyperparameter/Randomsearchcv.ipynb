{
 "cells": [
  {
   "cell_type": "code",
   "execution_count": 10,
   "id": "7a0c7628",
   "metadata": {},
   "outputs": [],
   "source": [
    "import numpy as np\n",
    "import pandas as pd\n",
    "import matplotlib.pyplot as plt\n",
    "from sklearn.datasets import make_classification\n",
    "from sklearn.linear_model import LogisticRegression\n",
    "from sklearn.model_selection import train_test_split\n",
    "from sklearn.metrics import classification_report\n",
    "from sklearn.tree import DecisionTreeClassifier\n",
    "from sklearn.model_selection import cross_val_score\n",
    "from sklearn.svm import SVC"
   ]
  },
  {
   "cell_type": "code",
   "execution_count": 6,
   "id": "e3af1447",
   "metadata": {},
   "outputs": [],
   "source": [
    "x, y = make_classification(\n",
    "    n_samples=1000,\n",
    "    n_features=10,\n",
    "    n_informative=8,\n",
    "    n_redundant=2,\n",
    "    n_repeated=0,\n",
    "    n_classes=2,\n",
    "    random_state=42\n",
    ")\n",
    "\n",
    "x_train,x_test,y_train,y_test = train_test_split(x,y,test_size=0.2,random_state=42)"
   ]
  },
  {
   "cell_type": "code",
   "execution_count": 7,
   "id": "e2cb00e7",
   "metadata": {},
   "outputs": [],
   "source": [
    "from sklearn.model_selection import RandomizedSearchCV"
   ]
  },
  {
   "cell_type": "code",
   "execution_count": 9,
   "id": "5e3b4c46",
   "metadata": {},
   "outputs": [
    {
     "data": {
      "application/vnd.microsoft.datawrangler.viewer.v0+json": {
       "columns": [
        {
         "name": "index",
         "rawType": "int64",
         "type": "integer"
        },
        {
         "name": "mean_fit_time",
         "rawType": "float64",
         "type": "float"
        },
        {
         "name": "std_fit_time",
         "rawType": "float64",
         "type": "float"
        },
        {
         "name": "mean_score_time",
         "rawType": "float64",
         "type": "float"
        },
        {
         "name": "std_score_time",
         "rawType": "float64",
         "type": "float"
        },
        {
         "name": "param_max_depth",
         "rawType": "int64",
         "type": "integer"
        },
        {
         "name": "param_criterion",
         "rawType": "object",
         "type": "string"
        },
        {
         "name": "params",
         "rawType": "object",
         "type": "unknown"
        },
        {
         "name": "split0_test_score",
         "rawType": "float64",
         "type": "float"
        },
        {
         "name": "split1_test_score",
         "rawType": "float64",
         "type": "float"
        },
        {
         "name": "split2_test_score",
         "rawType": "float64",
         "type": "float"
        },
        {
         "name": "split3_test_score",
         "rawType": "float64",
         "type": "float"
        },
        {
         "name": "split4_test_score",
         "rawType": "float64",
         "type": "float"
        },
        {
         "name": "mean_test_score",
         "rawType": "float64",
         "type": "float"
        },
        {
         "name": "std_test_score",
         "rawType": "float64",
         "type": "float"
        },
        {
         "name": "rank_test_score",
         "rawType": "int32",
         "type": "integer"
        }
       ],
       "ref": "5f9b2d9e-ad49-41a0-aaef-7cde7b9ae06a",
       "rows": [
        [
         "0",
         "0.0034645557403564452",
         "0.0004048771100294934",
         "0.00034160614013671874",
         "5.916997728624172e-05",
         "5",
         "gini",
         "{'max_depth': 5, 'criterion': 'gini'}",
         "0.79375",
         "0.80625",
         "0.8125",
         "0.81875",
         "0.76875",
         "0.8",
         "0.017677669529663674",
         "2"
        ],
        [
         "1",
         "0.0043179988861083984",
         "0.0002260910198768971",
         "0.00039119720458984374",
         "7.122762931436305e-05",
         "20",
         "entropy",
         "{'max_depth': 20, 'criterion': 'entropy'}",
         "0.80625",
         "0.81875",
         "0.78125",
         "0.8125",
         "0.8",
         "0.80375",
         "0.012869537676233743",
         "1"
        ],
        [
         "2",
         "0.004036617279052734",
         "0.00020696267497371913",
         "0.00031528472900390627",
         "2.31875275821635e-05",
         "15",
         "gini",
         "{'max_depth': 15, 'criterion': 'gini'}",
         "0.84375",
         "0.81875",
         "0.76875",
         "0.775",
         "0.78125",
         "0.7975000000000001",
         "0.02893959225697555",
         "3"
        ]
       ],
       "shape": {
        "columns": 15,
        "rows": 3
       }
      },
      "text/html": [
       "<div>\n",
       "<style scoped>\n",
       "    .dataframe tbody tr th:only-of-type {\n",
       "        vertical-align: middle;\n",
       "    }\n",
       "\n",
       "    .dataframe tbody tr th {\n",
       "        vertical-align: top;\n",
       "    }\n",
       "\n",
       "    .dataframe thead th {\n",
       "        text-align: right;\n",
       "    }\n",
       "</style>\n",
       "<table border=\"1\" class=\"dataframe\">\n",
       "  <thead>\n",
       "    <tr style=\"text-align: right;\">\n",
       "      <th></th>\n",
       "      <th>mean_fit_time</th>\n",
       "      <th>std_fit_time</th>\n",
       "      <th>mean_score_time</th>\n",
       "      <th>std_score_time</th>\n",
       "      <th>param_max_depth</th>\n",
       "      <th>param_criterion</th>\n",
       "      <th>params</th>\n",
       "      <th>split0_test_score</th>\n",
       "      <th>split1_test_score</th>\n",
       "      <th>split2_test_score</th>\n",
       "      <th>split3_test_score</th>\n",
       "      <th>split4_test_score</th>\n",
       "      <th>mean_test_score</th>\n",
       "      <th>std_test_score</th>\n",
       "      <th>rank_test_score</th>\n",
       "    </tr>\n",
       "  </thead>\n",
       "  <tbody>\n",
       "    <tr>\n",
       "      <th>0</th>\n",
       "      <td>0.003465</td>\n",
       "      <td>0.000405</td>\n",
       "      <td>0.000342</td>\n",
       "      <td>0.000059</td>\n",
       "      <td>5</td>\n",
       "      <td>gini</td>\n",
       "      <td>{'max_depth': 5, 'criterion': 'gini'}</td>\n",
       "      <td>0.79375</td>\n",
       "      <td>0.80625</td>\n",
       "      <td>0.81250</td>\n",
       "      <td>0.81875</td>\n",
       "      <td>0.76875</td>\n",
       "      <td>0.80000</td>\n",
       "      <td>0.017678</td>\n",
       "      <td>2</td>\n",
       "    </tr>\n",
       "    <tr>\n",
       "      <th>1</th>\n",
       "      <td>0.004318</td>\n",
       "      <td>0.000226</td>\n",
       "      <td>0.000391</td>\n",
       "      <td>0.000071</td>\n",
       "      <td>20</td>\n",
       "      <td>entropy</td>\n",
       "      <td>{'max_depth': 20, 'criterion': 'entropy'}</td>\n",
       "      <td>0.80625</td>\n",
       "      <td>0.81875</td>\n",
       "      <td>0.78125</td>\n",
       "      <td>0.81250</td>\n",
       "      <td>0.80000</td>\n",
       "      <td>0.80375</td>\n",
       "      <td>0.012870</td>\n",
       "      <td>1</td>\n",
       "    </tr>\n",
       "    <tr>\n",
       "      <th>2</th>\n",
       "      <td>0.004037</td>\n",
       "      <td>0.000207</td>\n",
       "      <td>0.000315</td>\n",
       "      <td>0.000023</td>\n",
       "      <td>15</td>\n",
       "      <td>gini</td>\n",
       "      <td>{'max_depth': 15, 'criterion': 'gini'}</td>\n",
       "      <td>0.84375</td>\n",
       "      <td>0.81875</td>\n",
       "      <td>0.76875</td>\n",
       "      <td>0.77500</td>\n",
       "      <td>0.78125</td>\n",
       "      <td>0.79750</td>\n",
       "      <td>0.028940</td>\n",
       "      <td>3</td>\n",
       "    </tr>\n",
       "  </tbody>\n",
       "</table>\n",
       "</div>"
      ],
      "text/plain": [
       "   mean_fit_time  std_fit_time  ...  std_test_score  rank_test_score\n",
       "0       0.003465      0.000405  ...        0.017678                2\n",
       "1       0.004318      0.000226  ...        0.012870                1\n",
       "2       0.004037      0.000207  ...        0.028940                3\n",
       "\n",
       "[3 rows x 15 columns]"
      ]
     },
     "execution_count": 9,
     "metadata": {},
     "output_type": "execute_result"
    }
   ],
   "source": [
    "params = {\n",
    "    'criterion':['gini','entropy'],\n",
    "    'max_depth':[5,10,15,20]\n",
    "}\n",
    "\n",
    "rscv = RandomizedSearchCV(\n",
    "    DecisionTreeClassifier(),\n",
    "    params,\n",
    "    cv=5,\n",
    "    return_train_score=False,\n",
    "    n_iter=3,\n",
    "    n_jobs=-1\n",
    ")\n",
    "\n",
    "rscv.fit(x_train,y_train)\n",
    "result = rscv.cv_results_\n",
    "\n",
    "pd.DataFrame(result)"
   ]
  },
  {
   "cell_type": "code",
   "execution_count": null,
   "id": "de78bf8f",
   "metadata": {},
   "outputs": [
    {
     "name": "stderr",
     "output_type": "stream",
     "text": [
      "/Users/mohitrajnayak/Data Sci Work/Data Sci REPO/Machine-Learning/venv/lib/python3.11/site-packages/sklearn/model_selection/_search.py:317: UserWarning: The total space of parameters 8 is smaller than n_iter=10. Running 8 iterations. For exhaustive searches, use GridSearchCV.\n",
      "  warnings.warn(\n"
     ]
    },
    {
     "data": {
      "application/vnd.microsoft.datawrangler.viewer.v0+json": {
       "columns": [
        {
         "name": "index",
         "rawType": "int64",
         "type": "integer"
        },
        {
         "name": "model",
         "rawType": "object",
         "type": "string"
        },
        {
         "name": "best_param",
         "rawType": "object",
         "type": "unknown"
        },
        {
         "name": "best_score",
         "rawType": "float64",
         "type": "float"
        }
       ],
       "ref": "f06eb532-ddaa-4601-8f31-5840197e1982",
       "rows": [
        [
         "0",
         "DecisionTreeClassifier",
         "{'max_depth': 10, 'criterion': 'entropy'}",
         "0.8237499999999999"
        ],
        [
         "1",
         "svm",
         "{'kernel': 'rbf', 'gamma': 'scale', 'C': 10}",
         "0.915"
        ]
       ],
       "shape": {
        "columns": 3,
        "rows": 2
       }
      },
      "text/html": [
       "<div>\n",
       "<style scoped>\n",
       "    .dataframe tbody tr th:only-of-type {\n",
       "        vertical-align: middle;\n",
       "    }\n",
       "\n",
       "    .dataframe tbody tr th {\n",
       "        vertical-align: top;\n",
       "    }\n",
       "\n",
       "    .dataframe thead th {\n",
       "        text-align: right;\n",
       "    }\n",
       "</style>\n",
       "<table border=\"1\" class=\"dataframe\">\n",
       "  <thead>\n",
       "    <tr style=\"text-align: right;\">\n",
       "      <th></th>\n",
       "      <th>model</th>\n",
       "      <th>best_param</th>\n",
       "      <th>best_score</th>\n",
       "    </tr>\n",
       "  </thead>\n",
       "  <tbody>\n",
       "    <tr>\n",
       "      <th>0</th>\n",
       "      <td>DecisionTreeClassifier</td>\n",
       "      <td>{'max_depth': 10, 'criterion': 'entropy'}</td>\n",
       "      <td>0.82375</td>\n",
       "    </tr>\n",
       "    <tr>\n",
       "      <th>1</th>\n",
       "      <td>svm</td>\n",
       "      <td>{'kernel': 'rbf', 'gamma': 'scale', 'C': 10}</td>\n",
       "      <td>0.91500</td>\n",
       "    </tr>\n",
       "  </tbody>\n",
       "</table>\n",
       "</div>"
      ],
      "text/plain": [
       "                    model  ... best_score\n",
       "0  DecisionTreeClassifier  ...    0.82375\n",
       "1                     svm  ...    0.91500\n",
       "\n",
       "[2 rows x 3 columns]"
      ]
     },
     "execution_count": 12,
     "metadata": {},
     "output_type": "execute_result"
    }
   ],
   "source": [
    "model_params ={\n",
    "    'DecisionTreeClassifier':{\n",
    "        'model':DecisionTreeClassifier(),\n",
    "        'params':{\n",
    "            'criterion':['gini','entropy'],\n",
    "            'max_depth':[5,10,15,20]\n",
    "        }\n",
    "    },\n",
    "    'svm':{\n",
    "        'model':SVC(),\n",
    "        'params':{\n",
    "            'gamma':['scale','auto'],\n",
    "            'C':[1,10,20],\n",
    "            'kernel':['rbf','linear']\n",
    "        }\n",
    "    }\n",
    "}\n",
    "\n",
    "score = []\n",
    "\n",
    "for key,val in model_params.items():\n",
    "    clf = RandomizedSearchCV(\n",
    "        val['model'],\n",
    "        val['params'],\n",
    "        cv=5,\n",
    "        return_train_score=False,\n",
    "        n_iter=3,\n",
    "        n_jobs=-1\n",
    "    )\n",
    "    clf.fit(x_train,y_train)\n",
    "    score.append({\n",
    "        'model':key,\n",
    "        'best_param':clf.best_params_,\n",
    "        'best_score':clf.best_score_\n",
    "    })\n",
    "    \n",
    "pd.DataFrame(score)"
   ]
  },
  {
   "cell_type": "code",
   "execution_count": null,
   "id": "42c7a804",
   "metadata": {},
   "outputs": [],
   "source": []
  }
 ],
 "metadata": {
  "kernelspec": {
   "display_name": "venv",
   "language": "python",
   "name": "python3"
  },
  "language_info": {
   "codemirror_mode": {
    "name": "ipython",
    "version": 3
   },
   "file_extension": ".py",
   "mimetype": "text/x-python",
   "name": "python",
   "nbconvert_exporter": "python",
   "pygments_lexer": "ipython3",
   "version": "3.11.9"
  }
 },
 "nbformat": 4,
 "nbformat_minor": 5
}
