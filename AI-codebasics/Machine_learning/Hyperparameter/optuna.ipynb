{
 "cells": [
  {
   "cell_type": "code",
   "execution_count": 1,
   "id": "78366a19",
   "metadata": {},
   "outputs": [],
   "source": [
    "import numpy as np\n",
    "from sklearn.datasets import load_iris,make_classification\n",
    "from sklearn.linear_model import LogisticRegression\n",
    "from sklearn.model_selection import GridSearchCV,train_test_split\n",
    "from sklearn.metrics import classification_report"
   ]
  },
  {
   "cell_type": "markdown",
   "id": "e2a0667f",
   "metadata": {},
   "source": [
    "Generate Dataset"
   ]
  },
  {
   "cell_type": "code",
   "execution_count": 2,
   "id": "44870680",
   "metadata": {},
   "outputs": [],
   "source": [
    "x,y = make_classification(\n",
    "    n_classes=2,\n",
    "    n_features=10,\n",
    "    n_samples=1000,\n",
    "    n_informative=8,\n",
    "    n_redundant=2,\n",
    "    n_repeated=0,\n",
    "    random_state=42\n",
    ")"
   ]
  },
  {
   "cell_type": "markdown",
   "id": "2e666c3b",
   "metadata": {},
   "source": [
    "Hyperparameter with GridSearchCV"
   ]
  },
  {
   "cell_type": "code",
   "execution_count": 4,
   "id": "56e6ea91",
   "metadata": {},
   "outputs": [
    {
     "name": "stdout",
     "output_type": "stream",
     "text": [
      "Fitting 3 folds for each of 25 candidates, totalling 75 fits\n",
      "Best Params {'C': 1, 'solver': 'liblinear'}\n",
      "Best Score 0.7212084518412135\n",
      "classification_report\n",
      "              precision    recall  f1-score   support\n",
      "\n",
      "           0       0.73      0.62      0.67       106\n",
      "           1       0.63      0.73      0.68        94\n",
      "\n",
      "    accuracy                           0.68       200\n",
      "   macro avg       0.68      0.68      0.67       200\n",
      "weighted avg       0.68      0.68      0.67       200\n",
      "\n"
     ]
    }
   ],
   "source": [
    "x_train,x_test,y_train,y_test = train_test_split(x,y,test_size=0.2,random_state=42)\n",
    "\n",
    "model = LogisticRegression(max_iter=2000)\n",
    "\n",
    "params_dict = {\n",
    "    'C':[1,2,3,4,5],\n",
    "    'solver':['lbfgs','saga','liblinear','newton-cg','sag']\n",
    "}\n",
    "\n",
    "\n",
    "grid_search = GridSearchCV(\n",
    "    estimator=model,\n",
    "    param_grid=params_dict,\n",
    "    cv=3,\n",
    "    verbose=1,\n",
    "    scoring='accuracy'\n",
    ") \n",
    "\n",
    "grid_search.fit(x_train,y_train)\n",
    "\n",
    "print(f'Best Params {grid_search.best_params_}')\n",
    "print(f'Best Score {grid_search.best_score_}')\n",
    "\n",
    "best_model = grid_search.best_estimator_\n",
    "y_pred = best_model.predict(x_test)\n",
    "\n",
    "print('classification_report')\n",
    "print(classification_report(y_test,y_pred))"
   ]
  },
  {
   "cell_type": "markdown",
   "id": "37f97578",
   "metadata": {},
   "source": [
    "Hyperparameter with Optuna"
   ]
  },
  {
   "cell_type": "code",
   "execution_count": 5,
   "id": "26d0d81a",
   "metadata": {},
   "outputs": [
    {
     "name": "stderr",
     "output_type": "stream",
     "text": [
      "/Users/mohitrajnayak/Data Sci Work/Data Sci REPO/Machine-Learning/venv/lib/python3.11/site-packages/tqdm/auto.py:21: TqdmWarning: IProgress not found. Please update jupyter and ipywidgets. See https://ipywidgets.readthedocs.io/en/stable/user_install.html\n",
      "  from .autonotebook import tqdm as notebook_tqdm\n"
     ]
    }
   ],
   "source": [
    "import optuna\n",
    "from sklearn.model_selection import cross_val_score"
   ]
  },
  {
   "cell_type": "code",
   "execution_count": 7,
   "id": "10249709",
   "metadata": {},
   "outputs": [
    {
     "name": "stderr",
     "output_type": "stream",
     "text": [
      "[I 2025-09-09 20:38:58,108] A new study created in memory with name: no-name-36e09b91-2b80-4dcc-bd5e-473a78074a1b\n",
      "[I 2025-09-09 20:38:58,115] Trial 0 finished with value: 0.6889973806141471 and parameters: {'C': 3.6330059982611265, 'solver': 'newton-cg'}. Best is trial 0 with value: 0.6889973806141471.\n",
      "[I 2025-09-09 20:38:58,121] Trial 1 finished with value: 0.6889973806141471 and parameters: {'C': 4.629716574388645, 'solver': 'saga'}. Best is trial 0 with value: 0.6889973806141471.\n",
      "[I 2025-09-09 20:38:58,125] Trial 2 finished with value: 0.6889973806141471 and parameters: {'C': 2.926707378009225, 'solver': 'liblinear'}. Best is trial 0 with value: 0.6889973806141471.\n",
      "[I 2025-09-09 20:38:58,132] Trial 3 finished with value: 0.6889973806141471 and parameters: {'C': 1.9894865906148524, 'solver': 'liblinear'}. Best is trial 0 with value: 0.6889973806141471.\n",
      "[I 2025-09-09 20:38:58,136] Trial 4 finished with value: 0.6889973806141471 and parameters: {'C': 3.2079158555774696, 'solver': 'newton-cg'}. Best is trial 0 with value: 0.6889973806141471.\n",
      "[I 2025-09-09 20:38:58,141] Trial 5 finished with value: 0.6889973806141471 and parameters: {'C': 4.599839892833792, 'solver': 'saga'}. Best is trial 0 with value: 0.6889973806141471.\n",
      "[I 2025-09-09 20:38:58,146] Trial 6 finished with value: 0.6889973806141471 and parameters: {'C': 3.7990680364316183, 'solver': 'liblinear'}. Best is trial 0 with value: 0.6889973806141471.\n",
      "[I 2025-09-09 20:38:58,150] Trial 7 finished with value: 0.6889973806141471 and parameters: {'C': 3.3593595842363873, 'solver': 'newton-cg'}. Best is trial 0 with value: 0.6889973806141471.\n",
      "[I 2025-09-09 20:38:58,154] Trial 8 finished with value: 0.6889973806141471 and parameters: {'C': 1.6611646339999053, 'solver': 'sag'}. Best is trial 0 with value: 0.6889973806141471.\n",
      "[I 2025-09-09 20:38:58,158] Trial 9 finished with value: 0.6889973806141471 and parameters: {'C': 1.3481913292611991, 'solver': 'liblinear'}. Best is trial 0 with value: 0.6889973806141471.\n"
     ]
    },
    {
     "name": "stdout",
     "output_type": "stream",
     "text": [
      "Best Params {'C': 3.6330059982611265, 'solver': 'newton-cg'}\n",
      "Best Score 0.6889973806141471\n"
     ]
    }
   ],
   "source": [
    "def objective(trial):\n",
    "\n",
    "    C = trial.suggest_float(\"C\",1,5)\n",
    "    solver = trial.suggest_categorical(\"solver\",['lbfgs','saga','liblinear','newton-cg','sag'])\n",
    "    \n",
    "    LogisticRegression(C=C,solver=solver,max_iter=1000)\n",
    "    score = cross_val_score(model,x,y,cv=3,scoring='accuracy')\n",
    "    accuracy = np.mean(score)\n",
    "    return accuracy\n",
    "\n",
    "study = optuna.create_study(direction='maximize')\n",
    "study.optimize(objective,n_trials=10)\n",
    "\n",
    "print(f'Best Params {study.best_params}')\n",
    "print(f'Best Score {study.best_value}')"
   ]
  },
  {
   "cell_type": "code",
   "execution_count": 8,
   "id": "defa5045",
   "metadata": {},
   "outputs": [
    {
     "name": "stdout",
     "output_type": "stream",
     "text": [
      "              precision    recall  f1-score   support\n",
      "\n",
      "           0       0.73      0.62      0.67       106\n",
      "           1       0.63      0.73      0.68        94\n",
      "\n",
      "    accuracy                           0.68       200\n",
      "   macro avg       0.68      0.68      0.67       200\n",
      "weighted avg       0.68      0.68      0.67       200\n",
      "\n"
     ]
    }
   ],
   "source": [
    "best_model = LogisticRegression(**study.best_params,max_iter=1000)\n",
    "best_model.fit(x_train,y_train)\n",
    "\n",
    "y_pred = best_model.predict(x_test)\n",
    "\n",
    "print(classification_report(y_test,y_pred))"
   ]
  },
  {
   "cell_type": "code",
   "execution_count": null,
   "id": "79b5d61a",
   "metadata": {},
   "outputs": [],
   "source": []
  }
 ],
 "metadata": {
  "kernelspec": {
   "display_name": "venv",
   "language": "python",
   "name": "python3"
  },
  "language_info": {
   "codemirror_mode": {
    "name": "ipython",
    "version": 3
   },
   "file_extension": ".py",
   "mimetype": "text/x-python",
   "name": "python",
   "nbconvert_exporter": "python",
   "pygments_lexer": "ipython3",
   "version": "3.11.9"
  }
 },
 "nbformat": 4,
 "nbformat_minor": 5
}
