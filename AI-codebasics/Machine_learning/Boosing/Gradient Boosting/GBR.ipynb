{
 "cells": [
  {
   "cell_type": "code",
   "execution_count": 12,
   "id": "432f16fe",
   "metadata": {},
   "outputs": [],
   "source": [
    "import pandas as pd\n",
    "from matplotlib import pyplot as plt\n",
    "import seaborn as sns"
   ]
  },
  {
   "cell_type": "code",
   "execution_count": 2,
   "id": "1cf8eb14",
   "metadata": {},
   "outputs": [
    {
     "data": {
      "application/vnd.microsoft.datawrangler.viewer.v0+json": {
       "columns": [
        {
         "name": "index",
         "rawType": "int64",
         "type": "integer"
        },
        {
         "name": "Ad Spend ($)",
         "rawType": "int64",
         "type": "integer"
        },
        {
         "name": "Season",
         "rawType": "object",
         "type": "string"
        },
        {
         "name": "Revenue ($)",
         "rawType": "int64",
         "type": "integer"
        }
       ],
       "ref": "203493f4-752f-43de-a708-49b07891f589",
       "rows": [
        [
         "0",
         "463",
         "Monsoon",
         "440"
        ],
        [
         "1",
         "158",
         "Winter",
         "297"
        ],
        [
         "2",
         "328",
         "Monsoon",
         "214"
        ],
        [
         "3",
         "322",
         "Monsoon",
         "48"
        ],
        [
         "4",
         "726",
         "Winter",
         "1048"
        ]
       ],
       "shape": {
        "columns": 3,
        "rows": 5
       }
      },
      "text/html": [
       "<div>\n",
       "<style scoped>\n",
       "    .dataframe tbody tr th:only-of-type {\n",
       "        vertical-align: middle;\n",
       "    }\n",
       "\n",
       "    .dataframe tbody tr th {\n",
       "        vertical-align: top;\n",
       "    }\n",
       "\n",
       "    .dataframe thead th {\n",
       "        text-align: right;\n",
       "    }\n",
       "</style>\n",
       "<table border=\"1\" class=\"dataframe\">\n",
       "  <thead>\n",
       "    <tr style=\"text-align: right;\">\n",
       "      <th></th>\n",
       "      <th>Ad Spend ($)</th>\n",
       "      <th>Season</th>\n",
       "      <th>Revenue ($)</th>\n",
       "    </tr>\n",
       "  </thead>\n",
       "  <tbody>\n",
       "    <tr>\n",
       "      <th>0</th>\n",
       "      <td>463</td>\n",
       "      <td>Monsoon</td>\n",
       "      <td>440</td>\n",
       "    </tr>\n",
       "    <tr>\n",
       "      <th>1</th>\n",
       "      <td>158</td>\n",
       "      <td>Winter</td>\n",
       "      <td>297</td>\n",
       "    </tr>\n",
       "    <tr>\n",
       "      <th>2</th>\n",
       "      <td>328</td>\n",
       "      <td>Monsoon</td>\n",
       "      <td>214</td>\n",
       "    </tr>\n",
       "    <tr>\n",
       "      <th>3</th>\n",
       "      <td>322</td>\n",
       "      <td>Monsoon</td>\n",
       "      <td>48</td>\n",
       "    </tr>\n",
       "    <tr>\n",
       "      <th>4</th>\n",
       "      <td>726</td>\n",
       "      <td>Winter</td>\n",
       "      <td>1048</td>\n",
       "    </tr>\n",
       "  </tbody>\n",
       "</table>\n",
       "</div>"
      ],
      "text/plain": [
       "   Ad Spend ($)   Season  Revenue ($)\n",
       "0           463  Monsoon          440\n",
       "1           158   Winter          297\n",
       "2           328  Monsoon          214\n",
       "3           322  Monsoon           48\n",
       "4           726   Winter         1048"
      ]
     },
     "execution_count": 2,
     "metadata": {},
     "output_type": "execute_result"
    }
   ],
   "source": [
    "df = pd.read_csv('../../data/ad_spend.csv')\n",
    "df.head()"
   ]
  },
  {
   "cell_type": "code",
   "execution_count": 3,
   "id": "e70303e3",
   "metadata": {},
   "outputs": [
    {
     "data": {
      "text/plain": [
       "(200, 3)"
      ]
     },
     "execution_count": 3,
     "metadata": {},
     "output_type": "execute_result"
    }
   ],
   "source": [
    "df.shape"
   ]
  },
  {
   "cell_type": "code",
   "execution_count": 5,
   "id": "7b59fb57",
   "metadata": {},
   "outputs": [],
   "source": [
    "g = df.groupby('Season')[[\"Ad Spend ($)\",\"Revenue ($)\"]].mean()"
   ]
  },
  {
   "cell_type": "code",
   "execution_count": 10,
   "id": "1aeeb42e",
   "metadata": {},
   "outputs": [
    {
     "data": {
      "image/png": "[encoded data removed]",
      "text/plain": [
       "<Figure size 640x480 with 1 Axes>"
      ]
     },
     "metadata": {},
     "output_type": "display_data"
    }
   ],
   "source": [
    "ax = g.plot(kind='bar')\n",
    "\n",
    "ax.set_title(\"Avg Spend and Revenue per season\")\n",
    "ax.set_xlabel('Season')\n",
    "ax.set_ylabel('Values')\n",
    "\n",
    "plt.xticks(rotation = 0)\n",
    "plt.show()"
   ]
  },
  {
   "cell_type": "code",
   "execution_count": 11,
   "id": "16825db3",
   "metadata": {},
   "outputs": [
    {
     "data": {
      "image/png": "[encoded data removed]",
      "text/plain": [
       "<Figure size 640x480 with 1 Axes>"
      ]
     },
     "metadata": {},
     "output_type": "display_data"
    }
   ],
   "source": [
    "for season, subdf in df.groupby('Season'):\n",
    "    plt.scatter(subdf['Ad Spend ($)'],subdf['Revenue ($)'], label = season, alpha=0.5)\n",
    "    \n",
    "plt.xlabel('Spend')\n",
    "plt.ylabel('Revesue')\n",
    "plt.legend()\n",
    "plt.show()"
   ]
  },
  {
   "cell_type": "code",
   "execution_count": null,
   "id": "48beb67d",
   "metadata": {},
   "outputs": [
    {
     "data": {
      "text/plain": [
       "<matplotlib.legend.Legend at 0x1683d7650>"
      ]
     },
     "execution_count": 15,
     "metadata": {},
     "output_type": "execute_result"
    },
    {
     "data": {
      "image/png": "[encoded data removed]",
      "text/plain": [
       "<Figure size 640x480 with 1 Axes>"
      ]
     },
     "metadata": {},
     "output_type": "display_data"
    }
   ],
   "source": [
    "sns.scatterplot(df,x='Ad Spend ($)',y='Revenue ($)',hue='Season')\n",
    "plt.title('spend vs reveneu by season')\n",
    "plt.legend()"
   ]
  },
  {
   "cell_type": "code",
   "execution_count": 16,
   "id": "233bb318",
   "metadata": {},
   "outputs": [
    {
     "data": {
      "application/vnd.microsoft.datawrangler.viewer.v0+json": {
       "columns": [
        {
         "name": "index",
         "rawType": "int64",
         "type": "integer"
        },
        {
         "name": "Ad Spend ($)",
         "rawType": "int64",
         "type": "integer"
        },
        {
         "name": "Revenue ($)",
         "rawType": "int64",
         "type": "integer"
        },
        {
         "name": "Season_Summer",
         "rawType": "int64",
         "type": "integer"
        },
        {
         "name": "Season_Winter",
         "rawType": "int64",
         "type": "integer"
        }
       ],
       "ref": "d1033e87-136f-46a9-9dfe-f0068a2e259a",
       "rows": [
        [
         "0",
         "463",
         "440",
         "0",
         "0"
        ],
        [
         "1",
         "158",
         "297",
         "0",
         "1"
        ],
        [
         "2",
         "328",
         "214",
         "0",
         "0"
        ],
        [
         "3",
         "322",
         "48",
         "0",
         "0"
        ],
        [
         "4",
         "726",
         "1048",
         "0",
         "1"
        ]
       ],
       "shape": {
        "columns": 4,
        "rows": 5
       }
      },
      "text/html": [
       "<div>\n",
       "<style scoped>\n",
       "    .dataframe tbody tr th:only-of-type {\n",
       "        vertical-align: middle;\n",
       "    }\n",
       "\n",
       "    .dataframe tbody tr th {\n",
       "        vertical-align: top;\n",
       "    }\n",
       "\n",
       "    .dataframe thead th {\n",
       "        text-align: right;\n",
       "    }\n",
       "</style>\n",
       "<table border=\"1\" class=\"dataframe\">\n",
       "  <thead>\n",
       "    <tr style=\"text-align: right;\">\n",
       "      <th></th>\n",
       "      <th>Ad Spend ($)</th>\n",
       "      <th>Revenue ($)</th>\n",
       "      <th>Season_Summer</th>\n",
       "      <th>Season_Winter</th>\n",
       "    </tr>\n",
       "  </thead>\n",
       "  <tbody>\n",
       "    <tr>\n",
       "      <th>0</th>\n",
       "      <td>463</td>\n",
       "      <td>440</td>\n",
       "      <td>0</td>\n",
       "      <td>0</td>\n",
       "    </tr>\n",
       "    <tr>\n",
       "      <th>1</th>\n",
       "      <td>158</td>\n",
       "      <td>297</td>\n",
       "      <td>0</td>\n",
       "      <td>1</td>\n",
       "    </tr>\n",
       "    <tr>\n",
       "      <th>2</th>\n",
       "      <td>328</td>\n",
       "      <td>214</td>\n",
       "      <td>0</td>\n",
       "      <td>0</td>\n",
       "    </tr>\n",
       "    <tr>\n",
       "      <th>3</th>\n",
       "      <td>322</td>\n",
       "      <td>48</td>\n",
       "      <td>0</td>\n",
       "      <td>0</td>\n",
       "    </tr>\n",
       "    <tr>\n",
       "      <th>4</th>\n",
       "      <td>726</td>\n",
       "      <td>1048</td>\n",
       "      <td>0</td>\n",
       "      <td>1</td>\n",
       "    </tr>\n",
       "  </tbody>\n",
       "</table>\n",
       "</div>"
      ],
      "text/plain": [
       "   Ad Spend ($)  Revenue ($)  Season_Summer  Season_Winter\n",
       "0           463          440              0              0\n",
       "1           158          297              0              1\n",
       "2           328          214              0              0\n",
       "3           322           48              0              0\n",
       "4           726         1048              0              1"
      ]
     },
     "execution_count": 16,
     "metadata": {},
     "output_type": "execute_result"
    }
   ],
   "source": [
    "df_encode = pd.get_dummies(df,columns=['Season'],drop_first=True,dtype=int)\n",
    "df_encode.head()"
   ]
  },
  {
   "cell_type": "code",
   "execution_count": 27,
   "id": "2b9e9ca2",
   "metadata": {},
   "outputs": [],
   "source": [
    "from sklearn.model_selection import train_test_split\n",
    "\n",
    "x = df_encode.drop('Revenue ($)',axis=1)\n",
    "y = df_encode['Revenue ($)']\n",
    "\n",
    "x_train,x_test,y_train,y_test = train_test_split(x,y,test_size=0.2,random_state=42)"
   ]
  },
  {
   "cell_type": "code",
   "execution_count": 28,
   "id": "90b5df1d",
   "metadata": {},
   "outputs": [
    {
     "name": "stdout",
     "output_type": "stream",
     "text": [
      "R2-Score - 87.53\n"
     ]
    }
   ],
   "source": [
    "## Linear Regression Model\n",
    "\n",
    "from sklearn.linear_model import LinearRegression\n",
    "from sklearn.metrics import r2_score,mean_squared_error\n",
    "\n",
    "lr = LinearRegression()\n",
    "lr.fit(x_train,y_train)\n",
    "\n",
    "y_pred = lr.predict(x_test)\n",
    "\n",
    "print(f'R2-Score - {round(r2_score(y_test,y_pred)*100,2)}')"
   ]
  },
  {
   "cell_type": "code",
   "execution_count": 29,
   "id": "59dc850d",
   "metadata": {},
   "outputs": [
    {
     "name": "stdout",
     "output_type": "stream",
     "text": [
      "R2-Score - 78.62\n"
     ]
    }
   ],
   "source": [
    "## Desision Tree Regression\n",
    "\n",
    "from sklearn.tree import DecisionTreeRegressor\n",
    "\n",
    "dt = DecisionTreeRegressor()\n",
    "dt.fit(x_train,y_train)\n",
    "\n",
    "y_pred = dt.predict(x_test)\n",
    "\n",
    "print(f'R2-Score - {round(r2_score(y_test,y_pred)*100,2)}')"
   ]
  },
  {
   "cell_type": "code",
   "execution_count": 33,
   "id": "4cf55e1a",
   "metadata": {},
   "outputs": [
    {
     "name": "stdout",
     "output_type": "stream",
     "text": [
      "R2-Score - 85.67\n"
     ]
    }
   ],
   "source": [
    "## Gradiant Boosting Regression\n",
    "\n",
    "from sklearn.ensemble import GradientBoostingRegressor\n",
    "\n",
    "gb = GradientBoostingRegressor()\n",
    "gb.fit(x_train,y_train)\n",
    "\n",
    "y_pred = gb.predict(x_test)\n",
    "\n",
    "print(f'R2-Score - {round(r2_score(y_test,y_pred)*100,2)}')"
   ]
  },
  {
   "cell_type": "code",
   "execution_count": 34,
   "id": "3a391667",
   "metadata": {},
   "outputs": [
    {
     "data": {
      "application/vnd.microsoft.datawrangler.viewer.v0+json": {
       "columns": [
        {
         "name": "index",
         "rawType": "int64",
         "type": "integer"
        },
        {
         "name": "Actual",
         "rawType": "int64",
         "type": "integer"
        },
        {
         "name": "Predict",
         "rawType": "float64",
         "type": "float"
        }
       ],
       "ref": "418ffcea-333e-442d-8ad6-51e31eb5e300",
       "rows": [
        [
         "95",
         "903",
         "954.4628138355702"
        ],
        [
         "15",
         "1047",
         "871.5875707427075"
        ],
        [
         "30",
         "1026",
         "871.9501294231825"
        ],
        [
         "158",
         "1203",
         "1289.316134279766"
        ],
        [
         "128",
         "558",
         "667.8190390340789"
        ],
        [
         "115",
         "354",
         "473.8192273441521"
        ],
        [
         "69",
         "1446",
         "1460.1447331128966"
        ],
        [
         "170",
         "108",
         "273.56775648815267"
        ],
        [
         "174",
         "375",
         "278.4531677285631"
        ],
        [
         "45",
         "522",
         "543.8371899479077"
        ],
        [
         "66",
         "862",
         "806.1686673800644"
        ],
        [
         "182",
         "404",
         "290.0750647221207"
        ],
        [
         "165",
         "1068",
         "950.731899175514"
        ],
        [
         "78",
         "277",
         "493.4527894510794"
        ],
        [
         "186",
         "513",
         "590.0894541017869"
        ],
        [
         "177",
         "662",
         "562.4718630018239"
        ],
        [
         "56",
         "183",
         "238.95296122877386"
        ],
        [
         "152",
         "733",
         "665.0948671959559"
        ],
        [
         "82",
         "866",
         "964.3105139240305"
        ],
        [
         "68",
         "378",
         "584.5121650761763"
        ],
        [
         "124",
         "217",
         "431.0851437499688"
        ],
        [
         "16",
         "626",
         "581.3463309569439"
        ],
        [
         "148",
         "708",
         "578.3855270560616"
        ],
        [
         "93",
         "144",
         "420.65832249292976"
        ],
        [
         "65",
         "966",
         "952.7197592509572"
        ],
        [
         "60",
         "1084",
         "999.786200240707"
        ],
        [
         "84",
         "901",
         "871.5875707427075"
        ],
        [
         "67",
         "666",
         "655.221866835519"
        ],
        [
         "125",
         "652",
         "436.5669581766162"
        ],
        [
         "132",
         "485",
         "550.6408393063806"
        ],
        [
         "9",
         "824",
         "912.9542868068037"
        ],
        [
         "18",
         "804",
         "617.7903989989084"
        ],
        [
         "55",
         "581",
         "748.378134437214"
        ],
        [
         "75",
         "1312",
         "1137.3615967563846"
        ],
        [
         "150",
         "1110",
         "1186.2359786222144"
        ],
        [
         "104",
         "196",
         "428.7695395357279"
        ],
        [
         "135",
         "588",
         "579.1233093503126"
        ],
        [
         "137",
         "148",
         "-19.984576512719865"
        ],
        [
         "164",
         "597",
         "561.060491003599"
        ],
        [
         "76",
         "259",
         "322.63463793980225"
        ]
       ],
       "shape": {
        "columns": 2,
        "rows": 40
       }
      },
      "text/html": [
       "<div>\n",
       "<style scoped>\n",
       "    .dataframe tbody tr th:only-of-type {\n",
       "        vertical-align: middle;\n",
       "    }\n",
       "\n",
       "    .dataframe tbody tr th {\n",
       "        vertical-align: top;\n",
       "    }\n",
       "\n",
       "    .dataframe thead th {\n",
       "        text-align: right;\n",
       "    }\n",
       "</style>\n",
       "<table border=\"1\" class=\"dataframe\">\n",
       "  <thead>\n",
       "    <tr style=\"text-align: right;\">\n",
       "      <th></th>\n",
       "      <th>Actual</th>\n",
       "      <th>Predict</th>\n",
       "    </tr>\n",
       "  </thead>\n",
       "  <tbody>\n",
       "    <tr>\n",
       "      <th>95</th>\n",
       "      <td>903</td>\n",
       "      <td>954.462814</td>\n",
       "    </tr>\n",
       "    <tr>\n",
       "      <th>15</th>\n",
       "      <td>1047</td>\n",
       "      <td>871.587571</td>\n",
       "    </tr>\n",
       "    <tr>\n",
       "      <th>30</th>\n",
       "      <td>1026</td>\n",
       "      <td>871.950129</td>\n",
       "    </tr>\n",
       "    <tr>\n",
       "      <th>158</th>\n",
       "      <td>1203</td>\n",
       "      <td>1289.316134</td>\n",
       "    </tr>\n",
       "    <tr>\n",
       "      <th>128</th>\n",
       "      <td>558</td>\n",
       "      <td>667.819039</td>\n",
       "    </tr>\n",
       "    <tr>\n",
       "      <th>115</th>\n",
       "      <td>354</td>\n",
       "      <td>473.819227</td>\n",
       "    </tr>\n",
       "    <tr>\n",
       "      <th>69</th>\n",
       "      <td>1446</td>\n",
       "      <td>1460.144733</td>\n",
       "    </tr>\n",
       "    <tr>\n",
       "      <th>170</th>\n",
       "      <td>108</td>\n",
       "      <td>273.567756</td>\n",
       "    </tr>\n",
       "    <tr>\n",
       "      <th>174</th>\n",
       "      <td>375</td>\n",
       "      <td>278.453168</td>\n",
       "    </tr>\n",
       "    <tr>\n",
       "      <th>45</th>\n",
       "      <td>522</td>\n",
       "      <td>543.837190</td>\n",
       "    </tr>\n",
       "    <tr>\n",
       "      <th>66</th>\n",
       "      <td>862</td>\n",
       "      <td>806.168667</td>\n",
       "    </tr>\n",
       "    <tr>\n",
       "      <th>182</th>\n",
       "      <td>404</td>\n",
       "      <td>290.075065</td>\n",
       "    </tr>\n",
       "    <tr>\n",
       "      <th>165</th>\n",
       "      <td>1068</td>\n",
       "      <td>950.731899</td>\n",
       "    </tr>\n",
       "    <tr>\n",
       "      <th>78</th>\n",
       "      <td>277</td>\n",
       "      <td>493.452789</td>\n",
       "    </tr>\n",
       "    <tr>\n",
       "      <th>186</th>\n",
       "      <td>513</td>\n",
       "      <td>590.089454</td>\n",
       "    </tr>\n",
       "    <tr>\n",
       "      <th>177</th>\n",
       "      <td>662</td>\n",
       "      <td>562.471863</td>\n",
       "    </tr>\n",
       "    <tr>\n",
       "      <th>56</th>\n",
       "      <td>183</td>\n",
       "      <td>238.952961</td>\n",
       "    </tr>\n",
       "    <tr>\n",
       "      <th>152</th>\n",
       "      <td>733</td>\n",
       "      <td>665.094867</td>\n",
       "    </tr>\n",
       "    <tr>\n",
       "      <th>82</th>\n",
       "      <td>866</td>\n",
       "      <td>964.310514</td>\n",
       "    </tr>\n",
       "    <tr>\n",
       "      <th>68</th>\n",
       "      <td>378</td>\n",
       "      <td>584.512165</td>\n",
       "    </tr>\n",
       "    <tr>\n",
       "      <th>124</th>\n",
       "      <td>217</td>\n",
       "      <td>431.085144</td>\n",
       "    </tr>\n",
       "    <tr>\n",
       "      <th>16</th>\n",
       "      <td>626</td>\n",
       "      <td>581.346331</td>\n",
       "    </tr>\n",
       "    <tr>\n",
       "      <th>148</th>\n",
       "      <td>708</td>\n",
       "      <td>578.385527</td>\n",
       "    </tr>\n",
       "    <tr>\n",
       "      <th>93</th>\n",
       "      <td>144</td>\n",
       "      <td>420.658322</td>\n",
       "    </tr>\n",
       "    <tr>\n",
       "      <th>65</th>\n",
       "      <td>966</td>\n",
       "      <td>952.719759</td>\n",
       "    </tr>\n",
       "    <tr>\n",
       "      <th>60</th>\n",
       "      <td>1084</td>\n",
       "      <td>999.786200</td>\n",
       "    </tr>\n",
       "    <tr>\n",
       "      <th>84</th>\n",
       "      <td>901</td>\n",
       "      <td>871.587571</td>\n",
       "    </tr>\n",
       "    <tr>\n",
       "      <th>67</th>\n",
       "      <td>666</td>\n",
       "      <td>655.221867</td>\n",
       "    </tr>\n",
       "    <tr>\n",
       "      <th>125</th>\n",
       "      <td>652</td>\n",
       "      <td>436.566958</td>\n",
       "    </tr>\n",
       "    <tr>\n",
       "      <th>132</th>\n",
       "      <td>485</td>\n",
       "      <td>550.640839</td>\n",
       "    </tr>\n",
       "    <tr>\n",
       "      <th>9</th>\n",
       "      <td>824</td>\n",
       "      <td>912.954287</td>\n",
       "    </tr>\n",
       "    <tr>\n",
       "      <th>18</th>\n",
       "      <td>804</td>\n",
       "      <td>617.790399</td>\n",
       "    </tr>\n",
       "    <tr>\n",
       "      <th>55</th>\n",
       "      <td>581</td>\n",
       "      <td>748.378134</td>\n",
       "    </tr>\n",
       "    <tr>\n",
       "      <th>75</th>\n",
       "      <td>1312</td>\n",
       "      <td>1137.361597</td>\n",
       "    </tr>\n",
       "    <tr>\n",
       "      <th>150</th>\n",
       "      <td>1110</td>\n",
       "      <td>1186.235979</td>\n",
       "    </tr>\n",
       "    <tr>\n",
       "      <th>104</th>\n",
       "      <td>196</td>\n",
       "      <td>428.769540</td>\n",
       "    </tr>\n",
       "    <tr>\n",
       "      <th>135</th>\n",
       "      <td>588</td>\n",
       "      <td>579.123309</td>\n",
       "    </tr>\n",
       "    <tr>\n",
       "      <th>137</th>\n",
       "      <td>148</td>\n",
       "      <td>-19.984577</td>\n",
       "    </tr>\n",
       "    <tr>\n",
       "      <th>164</th>\n",
       "      <td>597</td>\n",
       "      <td>561.060491</td>\n",
       "    </tr>\n",
       "    <tr>\n",
       "      <th>76</th>\n",
       "      <td>259</td>\n",
       "      <td>322.634638</td>\n",
       "    </tr>\n",
       "  </tbody>\n",
       "</table>\n",
       "</div>"
      ],
      "text/plain": [
       "     Actual      Predict\n",
       "95      903   954.462814\n",
       "15     1047   871.587571\n",
       "30     1026   871.950129\n",
       "158    1203  1289.316134\n",
       "128     558   667.819039\n",
       "115     354   473.819227\n",
       "69     1446  1460.144733\n",
       "170     108   273.567756\n",
       "174     375   278.453168\n",
       "45      522   543.837190\n",
       "66      862   806.168667\n",
       "182     404   290.075065\n",
       "165    1068   950.731899\n",
       "78      277   493.452789\n",
       "186     513   590.089454\n",
       "177     662   562.471863\n",
       "56      183   238.952961\n",
       "152     733   665.094867\n",
       "82      866   964.310514\n",
       "68      378   584.512165\n",
       "124     217   431.085144\n",
       "16      626   581.346331\n",
       "148     708   578.385527\n",
       "93      144   420.658322\n",
       "65      966   952.719759\n",
       "60     1084   999.786200\n",
       "84      901   871.587571\n",
       "67      666   655.221867\n",
       "125     652   436.566958\n",
       "132     485   550.640839\n",
       "9       824   912.954287\n",
       "18      804   617.790399\n",
       "55      581   748.378134\n",
       "75     1312  1137.361597\n",
       "150    1110  1186.235979\n",
       "104     196   428.769540\n",
       "135     588   579.123309\n",
       "137     148   -19.984577\n",
       "164     597   561.060491\n",
       "76      259   322.634638"
      ]
     },
     "execution_count": 34,
     "metadata": {},
     "output_type": "execute_result"
    }
   ],
   "source": [
    "df_evalute = pd.DataFrame({'Actual':y_test,'Predict':y_pred})\n",
    "df_evalute"
   ]
  },
  {
   "cell_type": "code",
   "execution_count": 36,
   "id": "9cdc2370",
   "metadata": {},
   "outputs": [
    {
     "data": {
      "application/vnd.microsoft.datawrangler.viewer.v0+json": {
       "columns": [
        {
         "name": "index",
         "rawType": "int64",
         "type": "integer"
        },
        {
         "name": "Actual",
         "rawType": "int64",
         "type": "integer"
        },
        {
         "name": "Predict",
         "rawType": "float64",
         "type": "float"
        },
        {
         "name": "percent_diff",
         "rawType": "float64",
         "type": "float"
        }
       ],
       "ref": "267b18e3-3861-440e-ae50-a650a761f8b6",
       "rows": [
        [
         "95",
         "903",
         "954.4628138355702",
         "5.7"
        ],
        [
         "15",
         "1047",
         "871.5875707427075",
         "16.75"
        ],
        [
         "30",
         "1026",
         "871.9501294231825",
         "15.01"
        ],
        [
         "158",
         "1203",
         "1289.316134279766",
         "7.18"
        ],
        [
         "128",
         "558",
         "667.8190390340789",
         "19.68"
        ],
        [
         "115",
         "354",
         "473.8192273441521",
         "33.85"
        ],
        [
         "69",
         "1446",
         "1460.1447331128966",
         "0.98"
        ],
        [
         "170",
         "108",
         "273.56775648815267",
         "153.3"
        ],
        [
         "174",
         "375",
         "278.4531677285631",
         "25.75"
        ],
        [
         "45",
         "522",
         "543.8371899479077",
         "4.18"
        ],
        [
         "66",
         "862",
         "806.1686673800644",
         "6.48"
        ],
        [
         "182",
         "404",
         "290.0750647221207",
         "28.2"
        ],
        [
         "165",
         "1068",
         "950.731899175514",
         "10.98"
        ],
        [
         "78",
         "277",
         "493.4527894510794",
         "78.14"
        ],
        [
         "186",
         "513",
         "590.0894541017869",
         "15.03"
        ],
        [
         "177",
         "662",
         "562.4718630018239",
         "15.03"
        ],
        [
         "56",
         "183",
         "238.95296122877386",
         "30.58"
        ],
        [
         "152",
         "733",
         "665.0948671959559",
         "9.26"
        ],
        [
         "82",
         "866",
         "964.3105139240305",
         "11.35"
        ],
        [
         "68",
         "378",
         "584.5121650761763",
         "54.63"
        ],
        [
         "124",
         "217",
         "431.0851437499688",
         "98.66"
        ],
        [
         "16",
         "626",
         "581.3463309569439",
         "7.13"
        ],
        [
         "148",
         "708",
         "578.3855270560616",
         "18.31"
        ],
        [
         "93",
         "144",
         "420.65832249292976",
         "192.12"
        ],
        [
         "65",
         "966",
         "952.7197592509572",
         "1.37"
        ],
        [
         "60",
         "1084",
         "999.786200240707",
         "7.77"
        ],
        [
         "84",
         "901",
         "871.5875707427075",
         "3.26"
        ],
        [
         "67",
         "666",
         "655.221866835519",
         "1.62"
        ],
        [
         "125",
         "652",
         "436.5669581766162",
         "33.04"
        ],
        [
         "132",
         "485",
         "550.6408393063806",
         "13.53"
        ],
        [
         "9",
         "824",
         "912.9542868068037",
         "10.8"
        ],
        [
         "18",
         "804",
         "617.7903989989084",
         "23.16"
        ],
        [
         "55",
         "581",
         "748.378134437214",
         "28.81"
        ],
        [
         "75",
         "1312",
         "1137.3615967563846",
         "13.31"
        ],
        [
         "150",
         "1110",
         "1186.2359786222144",
         "6.87"
        ],
        [
         "104",
         "196",
         "428.7695395357279",
         "118.76"
        ],
        [
         "135",
         "588",
         "579.1233093503126",
         "1.51"
        ],
        [
         "137",
         "148",
         "-19.984576512719865",
         "113.5"
        ],
        [
         "164",
         "597",
         "561.060491003599",
         "6.02"
        ],
        [
         "76",
         "259",
         "322.63463793980225",
         "24.57"
        ]
       ],
       "shape": {
        "columns": 3,
        "rows": 40
       }
      },
      "text/html": [
       "<div>\n",
       "<style scoped>\n",
       "    .dataframe tbody tr th:only-of-type {\n",
       "        vertical-align: middle;\n",
       "    }\n",
       "\n",
       "    .dataframe tbody tr th {\n",
       "        vertical-align: top;\n",
       "    }\n",
       "\n",
       "    .dataframe thead th {\n",
       "        text-align: right;\n",
       "    }\n",
       "</style>\n",
       "<table border=\"1\" class=\"dataframe\">\n",
       "  <thead>\n",
       "    <tr style=\"text-align: right;\">\n",
       "      <th></th>\n",
       "      <th>Actual</th>\n",
       "      <th>Predict</th>\n",
       "      <th>percent_diff</th>\n",
       "    </tr>\n",
       "  </thead>\n",
       "  <tbody>\n",
       "    <tr>\n",
       "      <th>95</th>\n",
       "      <td>903</td>\n",
       "      <td>954.462814</td>\n",
       "      <td>5.70</td>\n",
       "    </tr>\n",
       "    <tr>\n",
       "      <th>15</th>\n",
       "      <td>1047</td>\n",
       "      <td>871.587571</td>\n",
       "      <td>16.75</td>\n",
       "    </tr>\n",
       "    <tr>\n",
       "      <th>30</th>\n",
       "      <td>1026</td>\n",
       "      <td>871.950129</td>\n",
       "      <td>15.01</td>\n",
       "    </tr>\n",
       "    <tr>\n",
       "      <th>158</th>\n",
       "      <td>1203</td>\n",
       "      <td>1289.316134</td>\n",
       "      <td>7.18</td>\n",
       "    </tr>\n",
       "    <tr>\n",
       "      <th>128</th>\n",
       "      <td>558</td>\n",
       "      <td>667.819039</td>\n",
       "      <td>19.68</td>\n",
       "    </tr>\n",
       "    <tr>\n",
       "      <th>115</th>\n",
       "      <td>354</td>\n",
       "      <td>473.819227</td>\n",
       "      <td>33.85</td>\n",
       "    </tr>\n",
       "    <tr>\n",
       "      <th>69</th>\n",
       "      <td>1446</td>\n",
       "      <td>1460.144733</td>\n",
       "      <td>0.98</td>\n",
       "    </tr>\n",
       "    <tr>\n",
       "      <th>170</th>\n",
       "      <td>108</td>\n",
       "      <td>273.567756</td>\n",
       "      <td>153.30</td>\n",
       "    </tr>\n",
       "    <tr>\n",
       "      <th>174</th>\n",
       "      <td>375</td>\n",
       "      <td>278.453168</td>\n",
       "      <td>25.75</td>\n",
       "    </tr>\n",
       "    <tr>\n",
       "      <th>45</th>\n",
       "      <td>522</td>\n",
       "      <td>543.837190</td>\n",
       "      <td>4.18</td>\n",
       "    </tr>\n",
       "    <tr>\n",
       "      <th>66</th>\n",
       "      <td>862</td>\n",
       "      <td>806.168667</td>\n",
       "      <td>6.48</td>\n",
       "    </tr>\n",
       "    <tr>\n",
       "      <th>182</th>\n",
       "      <td>404</td>\n",
       "      <td>290.075065</td>\n",
       "      <td>28.20</td>\n",
       "    </tr>\n",
       "    <tr>\n",
       "      <th>165</th>\n",
       "      <td>1068</td>\n",
       "      <td>950.731899</td>\n",
       "      <td>10.98</td>\n",
       "    </tr>\n",
       "    <tr>\n",
       "      <th>78</th>\n",
       "      <td>277</td>\n",
       "      <td>493.452789</td>\n",
       "      <td>78.14</td>\n",
       "    </tr>\n",
       "    <tr>\n",
       "      <th>186</th>\n",
       "      <td>513</td>\n",
       "      <td>590.089454</td>\n",
       "      <td>15.03</td>\n",
       "    </tr>\n",
       "    <tr>\n",
       "      <th>177</th>\n",
       "      <td>662</td>\n",
       "      <td>562.471863</td>\n",
       "      <td>15.03</td>\n",
       "    </tr>\n",
       "    <tr>\n",
       "      <th>56</th>\n",
       "      <td>183</td>\n",
       "      <td>238.952961</td>\n",
       "      <td>30.58</td>\n",
       "    </tr>\n",
       "    <tr>\n",
       "      <th>152</th>\n",
       "      <td>733</td>\n",
       "      <td>665.094867</td>\n",
       "      <td>9.26</td>\n",
       "    </tr>\n",
       "    <tr>\n",
       "      <th>82</th>\n",
       "      <td>866</td>\n",
       "      <td>964.310514</td>\n",
       "      <td>11.35</td>\n",
       "    </tr>\n",
       "    <tr>\n",
       "      <th>68</th>\n",
       "      <td>378</td>\n",
       "      <td>584.512165</td>\n",
       "      <td>54.63</td>\n",
       "    </tr>\n",
       "    <tr>\n",
       "      <th>124</th>\n",
       "      <td>217</td>\n",
       "      <td>431.085144</td>\n",
       "      <td>98.66</td>\n",
       "    </tr>\n",
       "    <tr>\n",
       "      <th>16</th>\n",
       "      <td>626</td>\n",
       "      <td>581.346331</td>\n",
       "      <td>7.13</td>\n",
       "    </tr>\n",
       "    <tr>\n",
       "      <th>148</th>\n",
       "      <td>708</td>\n",
       "      <td>578.385527</td>\n",
       "      <td>18.31</td>\n",
       "    </tr>\n",
       "    <tr>\n",
       "      <th>93</th>\n",
       "      <td>144</td>\n",
       "      <td>420.658322</td>\n",
       "      <td>192.12</td>\n",
       "    </tr>\n",
       "    <tr>\n",
       "      <th>65</th>\n",
       "      <td>966</td>\n",
       "      <td>952.719759</td>\n",
       "      <td>1.37</td>\n",
       "    </tr>\n",
       "    <tr>\n",
       "      <th>60</th>\n",
       "      <td>1084</td>\n",
       "      <td>999.786200</td>\n",
       "      <td>7.77</td>\n",
       "    </tr>\n",
       "    <tr>\n",
       "      <th>84</th>\n",
       "      <td>901</td>\n",
       "      <td>871.587571</td>\n",
       "      <td>3.26</td>\n",
       "    </tr>\n",
       "    <tr>\n",
       "      <th>67</th>\n",
       "      <td>666</td>\n",
       "      <td>655.221867</td>\n",
       "      <td>1.62</td>\n",
       "    </tr>\n",
       "    <tr>\n",
       "      <th>125</th>\n",
       "      <td>652</td>\n",
       "      <td>436.566958</td>\n",
       "      <td>33.04</td>\n",
       "    </tr>\n",
       "    <tr>\n",
       "      <th>132</th>\n",
       "      <td>485</td>\n",
       "      <td>550.640839</td>\n",
       "      <td>13.53</td>\n",
       "    </tr>\n",
       "    <tr>\n",
       "      <th>9</th>\n",
       "      <td>824</td>\n",
       "      <td>912.954287</td>\n",
       "      <td>10.80</td>\n",
       "    </tr>\n",
       "    <tr>\n",
       "      <th>18</th>\n",
       "      <td>804</td>\n",
       "      <td>617.790399</td>\n",
       "      <td>23.16</td>\n",
       "    </tr>\n",
       "    <tr>\n",
       "      <th>55</th>\n",
       "      <td>581</td>\n",
       "      <td>748.378134</td>\n",
       "      <td>28.81</td>\n",
       "    </tr>\n",
       "    <tr>\n",
       "      <th>75</th>\n",
       "      <td>1312</td>\n",
       "      <td>1137.361597</td>\n",
       "      <td>13.31</td>\n",
       "    </tr>\n",
       "    <tr>\n",
       "      <th>150</th>\n",
       "      <td>1110</td>\n",
       "      <td>1186.235979</td>\n",
       "      <td>6.87</td>\n",
       "    </tr>\n",
       "    <tr>\n",
       "      <th>104</th>\n",
       "      <td>196</td>\n",
       "      <td>428.769540</td>\n",
       "      <td>118.76</td>\n",
       "    </tr>\n",
       "    <tr>\n",
       "      <th>135</th>\n",
       "      <td>588</td>\n",
       "      <td>579.123309</td>\n",
       "      <td>1.51</td>\n",
       "    </tr>\n",
       "    <tr>\n",
       "      <th>137</th>\n",
       "      <td>148</td>\n",
       "      <td>-19.984577</td>\n",
       "      <td>113.50</td>\n",
       "    </tr>\n",
       "    <tr>\n",
       "      <th>164</th>\n",
       "      <td>597</td>\n",
       "      <td>561.060491</td>\n",
       "      <td>6.02</td>\n",
       "    </tr>\n",
       "    <tr>\n",
       "      <th>76</th>\n",
       "      <td>259</td>\n",
       "      <td>322.634638</td>\n",
       "      <td>24.57</td>\n",
       "    </tr>\n",
       "  </tbody>\n",
       "</table>\n",
       "</div>"
      ],
      "text/plain": [
       "     Actual      Predict  percent_diff\n",
       "95      903   954.462814          5.70\n",
       "15     1047   871.587571         16.75\n",
       "30     1026   871.950129         15.01\n",
       "158    1203  1289.316134          7.18\n",
       "128     558   667.819039         19.68\n",
       "115     354   473.819227         33.85\n",
       "69     1446  1460.144733          0.98\n",
       "170     108   273.567756        153.30\n",
       "174     375   278.453168         25.75\n",
       "45      522   543.837190          4.18\n",
       "66      862   806.168667          6.48\n",
       "182     404   290.075065         28.20\n",
       "165    1068   950.731899         10.98\n",
       "78      277   493.452789         78.14\n",
       "186     513   590.089454         15.03\n",
       "177     662   562.471863         15.03\n",
       "56      183   238.952961         30.58\n",
       "152     733   665.094867          9.26\n",
       "82      866   964.310514         11.35\n",
       "68      378   584.512165         54.63\n",
       "124     217   431.085144         98.66\n",
       "16      626   581.346331          7.13\n",
       "148     708   578.385527         18.31\n",
       "93      144   420.658322        192.12\n",
       "65      966   952.719759          1.37\n",
       "60     1084   999.786200          7.77\n",
       "84      901   871.587571          3.26\n",
       "67      666   655.221867          1.62\n",
       "125     652   436.566958         33.04\n",
       "132     485   550.640839         13.53\n",
       "9       824   912.954287         10.80\n",
       "18      804   617.790399         23.16\n",
       "55      581   748.378134         28.81\n",
       "75     1312  1137.361597         13.31\n",
       "150    1110  1186.235979          6.87\n",
       "104     196   428.769540        118.76\n",
       "135     588   579.123309          1.51\n",
       "137     148   -19.984577        113.50\n",
       "164     597   561.060491          6.02\n",
       "76      259   322.634638         24.57"
      ]
     },
     "execution_count": 36,
     "metadata": {},
     "output_type": "execute_result"
    }
   ],
   "source": [
    "df_evalute['percent_diff'] = round(abs((df_evalute['Actual'] - df_evalute['Predict'])*100/df_evalute['Actual']),2)\n",
    "df_evalute"
   ]
  },
  {
   "cell_type": "code",
   "execution_count": null,
   "id": "f0197bf7",
   "metadata": {},
   "outputs": [],
   "source": []
  }
 ],
 "metadata": {
  "kernelspec": {
   "display_name": "venv",
   "language": "python",
   "name": "python3"
  },
  "language_info": {
   "codemirror_mode": {
    "name": "ipython",
    "version": 3
   },
   "file_extension": ".py",
   "mimetype": "text/x-python",
   "name": "python",
   "nbconvert_exporter": "python",
   "pygments_lexer": "ipython3",
   "version": "3.11.9"
  }
 },
 "nbformat": 4,
 "nbformat_minor": 5
}
