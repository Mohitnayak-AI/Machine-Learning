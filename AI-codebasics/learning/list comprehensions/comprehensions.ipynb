{
 "cells": [
  {
   "cell_type": "code",
   "execution_count": 2,
   "id": "2c6f4837",
   "metadata": {},
   "outputs": [
    {
     "data": {
      "text/plain": [
       "[1, 4, 9, 16, 25]"
      ]
     },
     "execution_count": 2,
     "metadata": {},
     "output_type": "execute_result"
    }
   ],
   "source": [
    "num = [1,2,3,4,5]\n",
    "sqr_num = []\n",
    "\n",
    "for i in num:\n",
    "    sqr_num.append(i**2)\n",
    "    \n",
    "sqr_num"
   ]
  },
  {
   "cell_type": "code",
   "execution_count": 4,
   "id": "dd6a0544",
   "metadata": {},
   "outputs": [
    {
     "data": {
      "text/plain": [
       "[1, 4, 9, 16, 25]"
      ]
     },
     "execution_count": 4,
     "metadata": {},
     "output_type": "execute_result"
    }
   ],
   "source": [
    "# List comprehention\n",
    "\n",
    "[i**2 for i in num]"
   ]
  },
  {
   "cell_type": "code",
   "execution_count": 10,
   "id": "7254cf15",
   "metadata": {},
   "outputs": [
    {
     "name": "stdout",
     "output_type": "stream",
     "text": [
      "time taken 0.356579065322876\n"
     ]
    }
   ],
   "source": [
    "# let check which one is faster \n",
    "\n",
    "import time\n",
    "\n",
    "sqr_list = []\n",
    "\n",
    "start = time.time()\n",
    "for i in range(10000000):\n",
    "    sqr_list.append(i**2)\n",
    "end = time.time()\n",
    "print('time taken',(end-start))\n"
   ]
  },
  {
   "cell_type": "code",
   "execution_count": 11,
   "id": "2da75bd3",
   "metadata": {},
   "outputs": [
    {
     "name": "stdout",
     "output_type": "stream",
     "text": [
      "time taken 0.28729891777038574\n"
     ]
    }
   ],
   "source": [
    "start = time.time()\n",
    "sqr_listc = [i**2 for i in range(10000000)]\n",
    "end = time.time()\n",
    "print('time taken',(end-start))"
   ]
  },
  {
   "cell_type": "markdown",
   "id": "5a189b12",
   "metadata": {},
   "source": [
    "so the list comprehention is more faster then normal for loop"
   ]
  },
  {
   "cell_type": "code",
   "execution_count": 12,
   "id": "bc7f1bbf",
   "metadata": {},
   "outputs": [],
   "source": [
    "price = [100,120,80,50]\n",
    "earning_per_share = [9,15,40,2]"
   ]
  },
  {
   "cell_type": "code",
   "execution_count": null,
   "id": "fefad45b",
   "metadata": {},
   "outputs": [
    {
     "data": {
      "text/plain": [
       "((100, 9), (120, 15), (80, 40), (50, 2))"
      ]
     },
     "execution_count": 19,
     "metadata": {},
     "output_type": "execute_result"
    }
   ],
   "source": [
    "tuple(zip(price,earning_per_share)) # zip will create copuls between two lists"
   ]
  },
  {
   "cell_type": "code",
   "execution_count": 18,
   "id": "f9d6433e",
   "metadata": {},
   "outputs": [
    {
     "data": {
      "text/plain": [
       "[11.11111111111111, 8.0, 2.0, 25.0]"
      ]
     },
     "execution_count": 18,
     "metadata": {},
     "output_type": "execute_result"
    }
   ],
   "source": [
    "# now calculate the BE Ratio = price/earning_per_share\n",
    "\n",
    "[p/e for p,e in zip(price,earning_per_share)]"
   ]
  },
  {
   "cell_type": "code",
   "execution_count": 20,
   "id": "a6b1891b",
   "metadata": {},
   "outputs": [
    {
     "ename": "ZeroDivisionError",
     "evalue": "division by zero",
     "output_type": "error",
     "traceback": [
      "\u001b[31m---------------------------------------------------------------------------\u001b[39m",
      "\u001b[31mZeroDivisionError\u001b[39m                         Traceback (most recent call last)",
      "\u001b[36mCell\u001b[39m\u001b[36m \u001b[39m\u001b[32mIn[20]\u001b[39m\u001b[32m, line 4\u001b[39m\n\u001b[32m      1\u001b[39m price = [\u001b[32m100\u001b[39m,\u001b[32m120\u001b[39m,\u001b[32m80\u001b[39m,\u001b[32m50\u001b[39m]\n\u001b[32m      2\u001b[39m earning_per_share = [\u001b[32m0\u001b[39m,\u001b[32m15\u001b[39m,\u001b[32m40\u001b[39m,\u001b[32m2\u001b[39m]\n\u001b[32m----> \u001b[39m\u001b[32m4\u001b[39m \u001b[43m[\u001b[49m\u001b[43mp\u001b[49m\u001b[43m/\u001b[49m\u001b[43me\u001b[49m\u001b[43m \u001b[49m\u001b[38;5;28;43;01mfor\u001b[39;49;00m\u001b[43m \u001b[49m\u001b[43mp\u001b[49m\u001b[43m,\u001b[49m\u001b[43me\u001b[49m\u001b[43m \u001b[49m\u001b[38;5;129;43;01min\u001b[39;49;00m\u001b[43m \u001b[49m\u001b[38;5;28;43mzip\u001b[39;49m\u001b[43m(\u001b[49m\u001b[43mprice\u001b[49m\u001b[43m,\u001b[49m\u001b[43mearning_per_share\u001b[49m\u001b[43m)\u001b[49m\u001b[43m]\u001b[49m\n",
      "\u001b[36mCell\u001b[39m\u001b[36m \u001b[39m\u001b[32mIn[20]\u001b[39m\u001b[32m, line 4\u001b[39m, in \u001b[36m<listcomp>\u001b[39m\u001b[34m(.0)\u001b[39m\n\u001b[32m      1\u001b[39m price = [\u001b[32m100\u001b[39m,\u001b[32m120\u001b[39m,\u001b[32m80\u001b[39m,\u001b[32m50\u001b[39m]\n\u001b[32m      2\u001b[39m earning_per_share = [\u001b[32m0\u001b[39m,\u001b[32m15\u001b[39m,\u001b[32m40\u001b[39m,\u001b[32m2\u001b[39m]\n\u001b[32m----> \u001b[39m\u001b[32m4\u001b[39m [\u001b[43mp\u001b[49m\u001b[43m/\u001b[49m\u001b[43me\u001b[49m \u001b[38;5;28;01mfor\u001b[39;00m p,e \u001b[38;5;129;01min\u001b[39;00m \u001b[38;5;28mzip\u001b[39m(price,earning_per_share)]\n",
      "\u001b[31mZeroDivisionError\u001b[39m: division by zero"
     ]
    }
   ],
   "source": [
    "price = [100,120,80,50]\n",
    "earning_per_share = [0,15,40,2]\n",
    "\n",
    "[p/e for p,e in zip(price,earning_per_share)]"
   ]
  },
  {
   "cell_type": "code",
   "execution_count": 21,
   "id": "4eaad076",
   "metadata": {},
   "outputs": [
    {
     "data": {
      "text/plain": [
       "[-1, 8.0, 2.0, 25.0]"
      ]
     },
     "execution_count": 21,
     "metadata": {},
     "output_type": "execute_result"
    }
   ],
   "source": [
    "[p/e if e !=0 else -1 for p,e in zip(price,earning_per_share)]"
   ]
  },
  {
   "cell_type": "code",
   "execution_count": 22,
   "id": "477392db",
   "metadata": {},
   "outputs": [
    {
     "data": {
      "text/plain": [
       "[-1, 8.0, 2.0, 25.0]"
      ]
     },
     "execution_count": 22,
     "metadata": {},
     "output_type": "execute_result"
    }
   ],
   "source": [
    "be = []\n",
    "\n",
    "for p,e in zip(price,earning_per_share):\n",
    "    if e != 0:\n",
    "        be.append(p/e)\n",
    "    else:\n",
    "        be.append(-1)\n",
    "\n",
    "be"
   ]
  },
  {
   "cell_type": "code",
   "execution_count": 24,
   "id": "95936fe0",
   "metadata": {},
   "outputs": [
    {
     "data": {
      "text/plain": [
       "[5, 6, 6, 4]"
      ]
     },
     "execution_count": 24,
     "metadata": {},
     "output_type": "execute_result"
    }
   ],
   "source": [
    "words = ['apple','banana','cherry','date']\n",
    "\n",
    "# find len of each words\n",
    "\n",
    "[len(x) for x in words]"
   ]
  },
  {
   "cell_type": "code",
   "execution_count": 29,
   "id": "94b9d178",
   "metadata": {},
   "outputs": [
    {
     "data": {
      "text/plain": [
       "108.0"
      ]
     },
     "execution_count": 29,
     "metadata": {},
     "output_type": "execute_result"
    }
   ],
   "source": [
    "120 - 120*0.1"
   ]
  },
  {
   "cell_type": "code",
   "execution_count": 31,
   "id": "15df5f66",
   "metadata": {},
   "outputs": [
    {
     "name": "stdout",
     "output_type": "stream",
     "text": [
      "time taken 5.221366882324219e-05\n",
      "[108.0, 99, 135.0, 80, 180.0]\n"
     ]
    }
   ],
   "source": [
    "# if price is more then 100 give 10% discount\n",
    "price = [120,99,150,80,200]\n",
    "\n",
    "start = time.time()\n",
    "one_way = [(x - x*0.1) if x>100 else x for x in price]\n",
    "end = time.time()\n",
    "print('time taken', (end-start))\n",
    "print(one_way)\n",
    "\n"
   ]
  },
  {
   "cell_type": "code",
   "execution_count": 32,
   "id": "365fe27e",
   "metadata": {},
   "outputs": [
    {
     "name": "stdout",
     "output_type": "stream",
     "text": [
      "time taken 4.506111145019531e-05\n",
      "[108.0, 99, 135.0, 80, 180.0]\n"
     ]
    }
   ],
   "source": [
    "start = time.time()\n",
    "another_way = [x*.9 if x > 100 else x for x in price]\n",
    "end = time.time()\n",
    "print('time taken', (end-start))\n",
    "print(another_way)\n"
   ]
  },
  {
   "cell_type": "code",
   "execution_count": 33,
   "id": "04bbf24e",
   "metadata": {},
   "outputs": [
    {
     "name": "stdout",
     "output_type": "stream",
     "text": [
      "Alice\n",
      "25\n",
      "Bob\n",
      "30\n",
      "Charlie\n",
      "35\n"
     ]
    }
   ],
   "source": [
    "# Dict Comprehension\n",
    "\n",
    "names = ['Alice','Bob','Charlie']\n",
    "age = [25,30,35]\n",
    "\n",
    "# normal \n",
    "\n",
    "for i in range(len(names)):\n",
    "    print(names[i])\n",
    "    print(age[i])"
   ]
  },
  {
   "cell_type": "code",
   "execution_count": 34,
   "id": "68cab025",
   "metadata": {},
   "outputs": [
    {
     "data": {
      "text/plain": [
       "{'Alice': 25, 'Bob': 30, 'Charlie': 35}"
      ]
     },
     "execution_count": 34,
     "metadata": {},
     "output_type": "execute_result"
    }
   ],
   "source": [
    "# dict comprehention\n",
    "{names[i]:age[i] for i in range(len(names))}"
   ]
  },
  {
   "cell_type": "code",
   "execution_count": 35,
   "id": "54e1cdfe",
   "metadata": {},
   "outputs": [],
   "source": [
    "transactions = [\n",
    "    {'customer_name': \"Mira\", \"amount\": 56, \"date\": \"2024-08-01\"},\n",
    "    {'customer_name': \"Mira\", \"amount\": 12.3, \"date\": \"2024-09-05\"},\n",
    "    {'customer_name': \"Mohan\", \"amount\": 21, \"date\": \"2024-09-03\"},\n",
    "    {'customer_name': \"Mohan\", \"amount\": 36.8, \"date\": \"2024-09-10\"},\n",
    "    {'customer_name': \"Lucy\", \"amount\": 66.3, \"date\": \"2024-09-10\"}\n",
    "]"
   ]
  },
  {
   "cell_type": "code",
   "execution_count": 40,
   "id": "91a161d6",
   "metadata": {},
   "outputs": [
    {
     "data": {
      "text/plain": [
       "{'Lucy', 'Mira', 'Mohan'}"
      ]
     },
     "execution_count": 40,
     "metadata": {},
     "output_type": "execute_result"
    }
   ],
   "source": [
    "{i['customer_name'] for i in transactions} # set comprehention"
   ]
  },
  {
   "cell_type": "code",
   "execution_count": 47,
   "id": "215e8227",
   "metadata": {},
   "outputs": [
    {
     "data": {
      "text/plain": [
       "[2, 4, 8]"
      ]
     },
     "execution_count": 47,
     "metadata": {},
     "output_type": "execute_result"
    }
   ],
   "source": [
    "[x for x in range(10)  if x % 2 == 0 if x % 3 != 0]"
   ]
  },
  {
   "cell_type": "code",
   "execution_count": 48,
   "id": "ac648ba6",
   "metadata": {},
   "outputs": [
    {
     "data": {
      "text/plain": [
       "{'Apparel', 'Electronics', 'Home Appliances', 'Literature'}"
      ]
     },
     "execution_count": 48,
     "metadata": {},
     "output_type": "execute_result"
    }
   ],
   "source": [
    "# Get Unique Prodoct Category\n",
    "\n",
    "products = [\n",
    "    {\"product_name\": \"Laptop\", \"category\": \"Electronics\", \"price\": 1200},\n",
    "    {\"product_name\": \"Jeans\", \"category\": \"Apparel\", \"price\": 40},\n",
    "    {\"product_name\": \"Coffee Maker\", \"category\": \"Home Appliances\", \"price\": 80},\n",
    "    {\"product_name\": \"Smartphone\", \"category\": \"Electronics\", \"price\": 999},\n",
    "    {\"product_name\": \"Jacket\", \"category\": \"Apparel\", \"price\": 60},\n",
    "    {\"product_name\": \"Blender\", \"category\": \"Home Appliances\", \"price\": 150},\n",
    "    {\"product_name\": \"Book\", \"category\": \"Literature\", \"price\": 15}\n",
    "]\n",
    "\n",
    "{i['category'] for i in products}"
   ]
  },
  {
   "cell_type": "code",
   "execution_count": 50,
   "id": "31d5662f",
   "metadata": {},
   "outputs": [],
   "source": [
    "# 1. Identify unique attendees for each concert.\n",
    "# 2. Find common attendees across the concerts.\n",
    "\n",
    "concert_a_attendees = {\"Alice\", \"Bob\", \"Charlie\", \"Diana\"}\n",
    "concert_b_attendees = {\"Bob\", \"Diana\", \"Eve\", \"Frank\"}\n",
    "concert_c_attendees = {\"Alice\", \"George\", \"Elle\", \"Frank\",\"Bob\"}\n"
   ]
  },
  {
   "cell_type": "code",
   "execution_count": 54,
   "id": "c2dc512d",
   "metadata": {},
   "outputs": [
    {
     "name": "stdout",
     "output_type": "stream",
     "text": [
      "concert a {'Charlie'}\n"
     ]
    }
   ],
   "source": [
    "ab = concert_a_attendees - concert_b_attendees\n",
    "abc = ab - concert_c_attendees\n",
    "print(\"concert a\", abc)"
   ]
  },
  {
   "cell_type": "code",
   "execution_count": 57,
   "id": "9a913c16",
   "metadata": {},
   "outputs": [
    {
     "name": "stdout",
     "output_type": "stream",
     "text": [
      "concert b {'Eve'}\n"
     ]
    }
   ],
   "source": [
    "bca = concert_b_attendees - concert_c_attendees - concert_a_attendees\n",
    "print('concert b',bca)"
   ]
  },
  {
   "cell_type": "code",
   "execution_count": 58,
   "id": "da244588",
   "metadata": {},
   "outputs": [
    {
     "name": "stdout",
     "output_type": "stream",
     "text": [
      "concert c {'George', 'Elle'}\n"
     ]
    }
   ],
   "source": [
    "cab = concert_c_attendees - concert_a_attendees - concert_b_attendees\n",
    "print('concert c', cab)"
   ]
  },
  {
   "cell_type": "code",
   "execution_count": 59,
   "id": "bd235291",
   "metadata": {},
   "outputs": [
    {
     "name": "stdout",
     "output_type": "stream",
     "text": [
      "common {'Bob'}\n"
     ]
    }
   ],
   "source": [
    "common = concert_a_attendees & concert_b_attendees & concert_c_attendees\n",
    "print(\"common\",common)"
   ]
  },
  {
   "cell_type": "code",
   "execution_count": 60,
   "id": "39b4c85d",
   "metadata": {},
   "outputs": [
    {
     "data": {
      "text/plain": [
       "[71, 74, 71, 73, 72, 71, 74, 72]"
      ]
     },
     "execution_count": 60,
     "metadata": {},
     "output_type": "execute_result"
    }
   ],
   "source": [
    "# Where temp is more then 70\n",
    "\n",
    "daily_temperatures = [68, 71, 74, 69, 70, 71, 68, 73, 72, 71, 70, 74, 72, 68]\n",
    "\n",
    "[i for i in daily_temperatures if i > 70]"
   ]
  },
  {
   "cell_type": "code",
   "execution_count": 61,
   "id": "00bb2d8f",
   "metadata": {},
   "outputs": [
    {
     "data": {
      "text/plain": [
       "{68, 69, 70, 71, 72, 73, 74}"
      ]
     },
     "execution_count": 61,
     "metadata": {},
     "output_type": "execute_result"
    }
   ],
   "source": [
    "# print unique temp\n",
    "\n",
    "{i for i in daily_temperatures}"
   ]
  },
  {
   "cell_type": "code",
   "execution_count": 68,
   "id": "411ccc81",
   "metadata": {},
   "outputs": [
    {
     "data": {
      "text/plain": [
       "{68: 3, 69: 1, 70: 2, 71: 3, 72: 2, 73: 1, 74: 2}"
      ]
     },
     "execution_count": 68,
     "metadata": {},
     "output_type": "execute_result"
    }
   ],
   "source": [
    "# count the temp per \n",
    "{i:daily_temperatures.count(i) for i in set(daily_temperatures)}"
   ]
  },
  {
   "cell_type": "code",
   "execution_count": 81,
   "id": "4829bde7",
   "metadata": {},
   "outputs": [],
   "source": [
    "posts = [\n",
    "    {\"content\": \"Loving the sunny weather today! #sunny #happy\", \"likes\": 120},\n",
    "    {\"content\": \"Nothing beats a beach day. #beachday #sunny\", \"likes\": 350},\n",
    "    {\"content\": \"A rainy day at home. #rainy #lazyday\", \"likes\": 75},\n",
    "    {\"content\": \"Best coffee in town. #coffeelove #morning\", \"likes\": 180},\n",
    "    {\"content\": \"Can't wait for the weekend. #weekend #party\", \"likes\": 90}\n",
    "]"
   ]
  },
  {
   "cell_type": "code",
   "execution_count": 85,
   "id": "6dc5b711",
   "metadata": {},
   "outputs": [
    {
     "data": {
      "text/plain": [
       "['Loving the sunny weather today! #sunny #happy',\n",
       " 'Nothing beats a beach day. #beachday #sunny',\n",
       " 'Best coffee in town. #coffeelove #morning']"
      ]
     },
     "execution_count": 85,
     "metadata": {},
     "output_type": "execute_result"
    }
   ],
   "source": [
    "opular_posts = [i['content'] for i in posts if i['likes'] > 100]\n",
    "opular_posts"
   ]
  },
  {
   "cell_type": "code",
   "execution_count": 92,
   "id": "1423dd25",
   "metadata": {},
   "outputs": [
    {
     "data": {
      "text/plain": [
       "{'#beachday', '#coffeelove', '#happy', '#morning', '#sunny'}"
      ]
     },
     "execution_count": 92,
     "metadata": {},
     "output_type": "execute_result"
    }
   ],
   "source": [
    "{h for i in opular_posts for h in i.split() if h.startswith('#') }"
   ]
  },
  {
   "cell_type": "code",
   "execution_count": 93,
   "id": "d62e6721",
   "metadata": {},
   "outputs": [
    {
     "data": {
      "text/plain": [
       "{'#sunny': 2, '#beachday': 1, '#morning': 1, '#happy': 1, '#coffeelove': 1}"
      ]
     },
     "execution_count": 93,
     "metadata": {},
     "output_type": "execute_result"
    }
   ],
   "source": [
    "hashtags = set(tag for post in opular_posts for tag in post.split() if tag.startswith('#'))\n",
    "{tag: sum(tag in post for post in opular_posts) for tag in hashtags}"
   ]
  },
  {
   "cell_type": "code",
   "execution_count": null,
   "id": "9e264100",
   "metadata": {},
   "outputs": [],
   "source": []
  }
 ],
 "metadata": {
  "kernelspec": {
   "display_name": "venv",
   "language": "python",
   "name": "python3"
  },
  "language_info": {
   "codemirror_mode": {
    "name": "ipython",
    "version": 3
   },
   "file_extension": ".py",
   "mimetype": "text/x-python",
   "name": "python",
   "nbconvert_exporter": "python",
   "pygments_lexer": "ipython3",
   "version": "3.11.9"
  }
 },
 "nbformat": 4,
 "nbformat_minor": 5
}
