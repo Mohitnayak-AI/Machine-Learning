{
 "cells": [
  {
   "cell_type": "markdown",
   "id": "8475b7b0",
   "metadata": {},
   "source": [
    "## Problem Statement\n",
    "\n",
    "You work for a fitness company and have gathered data on the fitness activities of 50 individuals using fitness trackers. The dataset is stored in an Excel file named \"fitness_data.xlsx\" and includes the following columns:\n",
    "\n",
    "- **name:** Name of the person.\n",
    "- **steps_taken:** The number of steps taken by individuals.\n",
    "- **calories_burned:** The estimated calories burned by individuals.\n",
    "- **sleep_duration(hours):** The number of hours of sleep individuals got on that day.\n",
    "- **water_intake(ounces):** The amount of water individuals consumed.\n"
   ]
  },
  {
   "cell_type": "code",
   "execution_count": null,
   "id": "3a9ca3e3",
   "metadata": {},
   "outputs": [],
   "source": []
  },
  {
   "cell_type": "markdown",
   "id": "d6ed840b",
   "metadata": {},
   "source": [
    "**Import Necessary Libraries**"
   ]
  },
  {
   "cell_type": "code",
   "execution_count": 1,
   "id": "ad014d43",
   "metadata": {},
   "outputs": [],
   "source": [
    "import pandas as pd\n",
    "import matplotlib.pyplot as plt\n",
    "import seaborn as sns"
   ]
  },
  {
   "cell_type": "markdown",
   "id": "a52c1332",
   "metadata": {},
   "source": [
    "## Task1\n",
    "\n",
    "1. Import the data from the \"fitness_data.xlsx\" Excel file.\n",
    "2. Display the first few rows of the dataset to get an overview.\n",
    "3. Calculate and display basic statistics (mean, median, min, max) for each column.\n"
   ]
  },
  {
   "cell_type": "code",
   "execution_count": 2,
   "id": "e2a3229f",
   "metadata": {},
   "outputs": [
    {
     "data": {
      "application/vnd.microsoft.datawrangler.viewer.v0+json": {
       "columns": [
        {
         "name": "index",
         "rawType": "int64",
         "type": "integer"
        },
        {
         "name": "name",
         "rawType": "object",
         "type": "string"
        },
        {
         "name": "steps_taken",
         "rawType": "int64",
         "type": "integer"
        },
        {
         "name": "calories_burned",
         "rawType": "int64",
         "type": "integer"
        },
        {
         "name": "sleep_duration(hours)",
         "rawType": "float64",
         "type": "float"
        },
        {
         "name": "water_intake(ounces)",
         "rawType": "int64",
         "type": "integer"
        }
       ],
       "ref": "7b59b86c-7c93-4308-bd31-a90cf796f8bc",
       "rows": [
        [
         "0",
         "Akshay",
         "10500",
         "4500",
         "7.5",
         "80"
        ],
        [
         "1",
         "Priya",
         "9800",
         "4200",
         "7.2",
         "75"
        ],
        [
         "2",
         "Raj",
         "11500",
         "4800",
         "7.0",
         "90"
        ],
        [
         "3",
         "Emily",
         "12000",
         "5000",
         "7.8",
         "85"
        ],
        [
         "4",
         "Rohit",
         "8900",
         "4000",
         "7.0",
         "70"
        ]
       ],
       "shape": {
        "columns": 5,
        "rows": 5
       }
      },
      "text/html": [
       "<div>\n",
       "<style scoped>\n",
       "    .dataframe tbody tr th:only-of-type {\n",
       "        vertical-align: middle;\n",
       "    }\n",
       "\n",
       "    .dataframe tbody tr th {\n",
       "        vertical-align: top;\n",
       "    }\n",
       "\n",
       "    .dataframe thead th {\n",
       "        text-align: right;\n",
       "    }\n",
       "</style>\n",
       "<table border=\"1\" class=\"dataframe\">\n",
       "  <thead>\n",
       "    <tr style=\"text-align: right;\">\n",
       "      <th></th>\n",
       "      <th>name</th>\n",
       "      <th>steps_taken</th>\n",
       "      <th>calories_burned</th>\n",
       "      <th>sleep_duration(hours)</th>\n",
       "      <th>water_intake(ounces)</th>\n",
       "    </tr>\n",
       "  </thead>\n",
       "  <tbody>\n",
       "    <tr>\n",
       "      <th>0</th>\n",
       "      <td>Akshay</td>\n",
       "      <td>10500</td>\n",
       "      <td>4500</td>\n",
       "      <td>7.5</td>\n",
       "      <td>80</td>\n",
       "    </tr>\n",
       "    <tr>\n",
       "      <th>1</th>\n",
       "      <td>Priya</td>\n",
       "      <td>9800</td>\n",
       "      <td>4200</td>\n",
       "      <td>7.2</td>\n",
       "      <td>75</td>\n",
       "    </tr>\n",
       "    <tr>\n",
       "      <th>2</th>\n",
       "      <td>Raj</td>\n",
       "      <td>11500</td>\n",
       "      <td>4800</td>\n",
       "      <td>7.0</td>\n",
       "      <td>90</td>\n",
       "    </tr>\n",
       "    <tr>\n",
       "      <th>3</th>\n",
       "      <td>Emily</td>\n",
       "      <td>12000</td>\n",
       "      <td>5000</td>\n",
       "      <td>7.8</td>\n",
       "      <td>85</td>\n",
       "    </tr>\n",
       "    <tr>\n",
       "      <th>4</th>\n",
       "      <td>Rohit</td>\n",
       "      <td>8900</td>\n",
       "      <td>4000</td>\n",
       "      <td>7.0</td>\n",
       "      <td>70</td>\n",
       "    </tr>\n",
       "  </tbody>\n",
       "</table>\n",
       "</div>"
      ],
      "text/plain": [
       "     name  steps_taken  calories_burned  sleep_duration(hours)  \\\n",
       "0  Akshay        10500             4500                    7.5   \n",
       "1   Priya         9800             4200                    7.2   \n",
       "2     Raj        11500             4800                    7.0   \n",
       "3   Emily        12000             5000                    7.8   \n",
       "4   Rohit         8900             4000                    7.0   \n",
       "\n",
       "   water_intake(ounces)  \n",
       "0                    80  \n",
       "1                    75  \n",
       "2                    90  \n",
       "3                    85  \n",
       "4                    70  "
      ]
     },
     "execution_count": 2,
     "metadata": {},
     "output_type": "execute_result"
    }
   ],
   "source": [
    "df = pd.read_excel('../data/fitness_data.xlsx')\n",
    "df.head()"
   ]
  },
  {
   "cell_type": "code",
   "execution_count": 3,
   "id": "06c9dafc",
   "metadata": {},
   "outputs": [
    {
     "data": {
      "application/vnd.microsoft.datawrangler.viewer.v0+json": {
       "columns": [
        {
         "name": "index",
         "rawType": "object",
         "type": "string"
        },
        {
         "name": "steps_taken",
         "rawType": "float64",
         "type": "float"
        },
        {
         "name": "calories_burned",
         "rawType": "float64",
         "type": "float"
        },
        {
         "name": "sleep_duration(hours)",
         "rawType": "float64",
         "type": "float"
        },
        {
         "name": "water_intake(ounces)",
         "rawType": "float64",
         "type": "float"
        }
       ],
       "ref": "070be02a-9cc1-4bfa-a6f6-8edda0964afa",
       "rows": [
        [
         "count",
         "50.0",
         "50.0",
         "50.0",
         "50.0"
        ],
        [
         "mean",
         "10316.0",
         "4418.0",
         "7.396",
         "79.6"
        ],
        [
         "std",
         "1177.0527011245035",
         "370.7080924338156",
         "1.6609512887720304",
         "14.457538108656857"
        ],
        [
         "min",
         "8000.0",
         "3700.0",
         "4.0",
         "30.0"
        ],
        [
         "25%",
         "9625.0",
         "4200.0",
         "7.0",
         "70.0"
        ],
        [
         "50%",
         "10250.0",
         "4400.0",
         "7.2",
         "80.0"
        ],
        [
         "75%",
         "11000.0",
         "4700.0",
         "7.5",
         "90.0"
        ],
        [
         "max",
         "15000.0",
         "5500.0",
         "18.0",
         "100.0"
        ]
       ],
       "shape": {
        "columns": 4,
        "rows": 8
       }
      },
      "text/html": [
       "<div>\n",
       "<style scoped>\n",
       "    .dataframe tbody tr th:only-of-type {\n",
       "        vertical-align: middle;\n",
       "    }\n",
       "\n",
       "    .dataframe tbody tr th {\n",
       "        vertical-align: top;\n",
       "    }\n",
       "\n",
       "    .dataframe thead th {\n",
       "        text-align: right;\n",
       "    }\n",
       "</style>\n",
       "<table border=\"1\" class=\"dataframe\">\n",
       "  <thead>\n",
       "    <tr style=\"text-align: right;\">\n",
       "      <th></th>\n",
       "      <th>steps_taken</th>\n",
       "      <th>calories_burned</th>\n",
       "      <th>sleep_duration(hours)</th>\n",
       "      <th>water_intake(ounces)</th>\n",
       "    </tr>\n",
       "  </thead>\n",
       "  <tbody>\n",
       "    <tr>\n",
       "      <th>count</th>\n",
       "      <td>50.000000</td>\n",
       "      <td>50.000000</td>\n",
       "      <td>50.000000</td>\n",
       "      <td>50.000000</td>\n",
       "    </tr>\n",
       "    <tr>\n",
       "      <th>mean</th>\n",
       "      <td>10316.000000</td>\n",
       "      <td>4418.000000</td>\n",
       "      <td>7.396000</td>\n",
       "      <td>79.600000</td>\n",
       "    </tr>\n",
       "    <tr>\n",
       "      <th>std</th>\n",
       "      <td>1177.052701</td>\n",
       "      <td>370.708092</td>\n",
       "      <td>1.660951</td>\n",
       "      <td>14.457538</td>\n",
       "    </tr>\n",
       "    <tr>\n",
       "      <th>min</th>\n",
       "      <td>8000.000000</td>\n",
       "      <td>3700.000000</td>\n",
       "      <td>4.000000</td>\n",
       "      <td>30.000000</td>\n",
       "    </tr>\n",
       "    <tr>\n",
       "      <th>25%</th>\n",
       "      <td>9625.000000</td>\n",
       "      <td>4200.000000</td>\n",
       "      <td>7.000000</td>\n",
       "      <td>70.000000</td>\n",
       "    </tr>\n",
       "    <tr>\n",
       "      <th>50%</th>\n",
       "      <td>10250.000000</td>\n",
       "      <td>4400.000000</td>\n",
       "      <td>7.200000</td>\n",
       "      <td>80.000000</td>\n",
       "    </tr>\n",
       "    <tr>\n",
       "      <th>75%</th>\n",
       "      <td>11000.000000</td>\n",
       "      <td>4700.000000</td>\n",
       "      <td>7.500000</td>\n",
       "      <td>90.000000</td>\n",
       "    </tr>\n",
       "    <tr>\n",
       "      <th>max</th>\n",
       "      <td>15000.000000</td>\n",
       "      <td>5500.000000</td>\n",
       "      <td>18.000000</td>\n",
       "      <td>100.000000</td>\n",
       "    </tr>\n",
       "  </tbody>\n",
       "</table>\n",
       "</div>"
      ],
      "text/plain": [
       "        steps_taken  calories_burned  sleep_duration(hours)  \\\n",
       "count     50.000000        50.000000              50.000000   \n",
       "mean   10316.000000      4418.000000               7.396000   \n",
       "std     1177.052701       370.708092               1.660951   \n",
       "min     8000.000000      3700.000000               4.000000   \n",
       "25%     9625.000000      4200.000000               7.000000   \n",
       "50%    10250.000000      4400.000000               7.200000   \n",
       "75%    11000.000000      4700.000000               7.500000   \n",
       "max    15000.000000      5500.000000              18.000000   \n",
       "\n",
       "       water_intake(ounces)  \n",
       "count             50.000000  \n",
       "mean              79.600000  \n",
       "std               14.457538  \n",
       "min               30.000000  \n",
       "25%               70.000000  \n",
       "50%               80.000000  \n",
       "75%               90.000000  \n",
       "max              100.000000  "
      ]
     },
     "execution_count": 3,
     "metadata": {},
     "output_type": "execute_result"
    }
   ],
   "source": [
    "df.describe()"
   ]
  },
  {
   "cell_type": "markdown",
   "id": "3fe8167c",
   "metadata": {},
   "source": [
    "## Task2:  Range and IQR\n",
    "\n",
    "1. Calculate the range of \"steps_taken\".\n",
    "2. Calculate the range of \"calories_burned\".\n",
    "3. Calculate the Interquartile Range (IQR) for \"sleep_duration(hours)\".\n",
    "4. Calculate the IQR for \"water_intake(ounces)\"."
   ]
  },
  {
   "cell_type": "code",
   "execution_count": 4,
   "id": "3fa325b8",
   "metadata": {},
   "outputs": [
    {
     "name": "stdout",
     "output_type": "stream",
     "text": [
      "7000\n",
      "1800\n",
      "0.5\n",
      "20.0\n"
     ]
    }
   ],
   "source": [
    "# Calculate the range of \"steps_taken\" for the entire week\n",
    "\n",
    "steps_range = (df['steps_taken'].max()) - (df['steps_taken'].min())\n",
    "print(steps_range)\n",
    "\n",
    "# Calculate the range of \"calories_burned\" for the entire week\n",
    "\n",
    "calorie_burn_range = (df['calories_burned'].max()) - (df['calories_burned'].min())\n",
    "print(calorie_burn_range)\n",
    "\n",
    "# Calculate the Interquartile Range (IQR) for \"sleep_duration(hours)\"\n",
    "\n",
    "q1, q3 = df['sleep_duration(hours)'].quantile([0.25,0.75])\n",
    "sleep_dur_iqr = q3 -q1\n",
    "print(sleep_dur_iqr)\n",
    "\n",
    "# Calculate the IQR for \"water_intake(ounces)\"\n",
    "\n",
    "q1, q3 = df['water_intake(ounces)'].quantile([0.25,0.75])\n",
    "water_intake_iqr = q3 - q1\n",
    "print(water_intake_iqr)\n",
    "\n",
    "# Print the results\n"
   ]
  },
  {
   "cell_type": "markdown",
   "id": "a62c412c",
   "metadata": {},
   "source": [
    "## Task3: Box Plot for Steps Taken\n",
    "\n",
    "- Create a box plot for the \"steps_taken\" column to visualize the distribution of daily steps taken by individuals. Interpret the box plot and identify any outliers."
   ]
  },
  {
   "cell_type": "code",
   "execution_count": 10,
   "id": "a71cfa71",
   "metadata": {},
   "outputs": [
    {
     "data": {
      "image/png": "[encoded data removed]",
      "text/plain": [
       "<Figure size 2000x600 with 1 Axes>"
      ]
     },
     "metadata": {},
     "output_type": "display_data"
    }
   ],
   "source": [
    "\n",
    "\n",
    "# Set the figure size\n",
    "plt.figure(figsize=(20,6))\n",
    "\n",
    "# Create a box plot for \"Steps Taken\"\n",
    "sns.boxplot(data=df,x='name',y='steps_taken')\n",
    "\n",
    "# Set the title and labels\n",
    "plt.title(\"Box Plot for Individual by steps taken\")\n",
    "\n",
    "# Rotate x-axis labels for better readability\n",
    "plt.xticks(rotation=45)\n",
    "\n",
    "# Ensure proper layout and display the plot\n",
    "plt.tight_layout()\n",
    "plt.show()"
   ]
  },
  {
   "cell_type": "code",
   "execution_count": 12,
   "id": "dcae76e7",
   "metadata": {},
   "outputs": [
    {
     "data": {
      "text/plain": [
       "<Axes: ylabel='steps_taken'>"
      ]
     },
     "execution_count": 12,
     "metadata": {},
     "output_type": "execute_result"
    },
    {
     "data": {
      "image/png": "[encoded data removed]",
      "text/plain": [
       "<Figure size 640x480 with 1 Axes>"
      ]
     },
     "metadata": {},
     "output_type": "display_data"
    }
   ],
   "source": [
    "sns.boxplot(df['steps_taken'])"
   ]
  },
  {
   "cell_type": "markdown",
   "id": "769c3beb",
   "metadata": {},
   "source": [
    "#### Observations\n",
    "\n",
    "- Most individuals appear to have a median daily step count around 10,000 as indicated by the orange line within the box.\n",
    "- The presence of an outlier at 15,000 indicates that there is at least one individual who took an exceptionally high number of steps. This could be due to various reasons, such as an unusually active day or a measurement error."
   ]
  },
  {
   "cell_type": "markdown",
   "id": "013b6cf8",
   "metadata": {},
   "source": [
    "\n",
    "## Task4: \n",
    "\n",
    "- Use the IQR method to identify and label outliers in the \"sleep_duration(hours)\" column."
   ]
  },
  {
   "cell_type": "code",
   "execution_count": 15,
   "id": "2e34ac45",
   "metadata": {},
   "outputs": [],
   "source": [
    "#defininig the function\n",
    "\n",
    "def get_outlier(data):\n",
    "    Q1, Q3 = data['sleep_duration(hours)'].quantile([0.25,0.75])\n",
    "    IQR = Q3 - Q1\n",
    "    upper = Q3 + 1.5 * IQR\n",
    "    lower = Q1 - 1.5 * IQR\n",
    "    \n",
    "    return upper, lower"
   ]
  },
  {
   "cell_type": "code",
   "execution_count": 16,
   "id": "d4687f98",
   "metadata": {},
   "outputs": [],
   "source": [
    "#get the lower and upper limits\n",
    "\n",
    "upper, lower = get_outlier(df)"
   ]
  },
  {
   "cell_type": "code",
   "execution_count": 18,
   "id": "30a9ffac",
   "metadata": {},
   "outputs": [
    {
     "data": {
      "text/plain": [
       "(8.25, 6.25)"
      ]
     },
     "execution_count": 18,
     "metadata": {},
     "output_type": "execute_result"
    }
   ],
   "source": [
    "upper,lower"
   ]
  },
  {
   "cell_type": "code",
   "execution_count": 17,
   "id": "649abd15",
   "metadata": {},
   "outputs": [
    {
     "data": {
      "application/vnd.microsoft.datawrangler.viewer.v0+json": {
       "columns": [
        {
         "name": "index",
         "rawType": "int64",
         "type": "integer"
        },
        {
         "name": "name",
         "rawType": "object",
         "type": "string"
        },
        {
         "name": "steps_taken",
         "rawType": "int64",
         "type": "integer"
        },
        {
         "name": "calories_burned",
         "rawType": "int64",
         "type": "integer"
        },
        {
         "name": "sleep_duration(hours)",
         "rawType": "float64",
         "type": "float"
        },
        {
         "name": "water_intake(ounces)",
         "rawType": "int64",
         "type": "integer"
        }
       ],
       "ref": "cda8609d-1ba5-4c36-8b08-19d9035b956a",
       "rows": [
        [
         "21",
         "Elena",
         "11700",
         "4900",
         "18.0",
         "100"
        ],
        [
         "30",
         "Siddharth",
         "11300",
         "4700",
         "4.0",
         "75"
        ]
       ],
       "shape": {
        "columns": 5,
        "rows": 2
       }
      },
      "text/html": [
       "<div>\n",
       "<style scoped>\n",
       "    .dataframe tbody tr th:only-of-type {\n",
       "        vertical-align: middle;\n",
       "    }\n",
       "\n",
       "    .dataframe tbody tr th {\n",
       "        vertical-align: top;\n",
       "    }\n",
       "\n",
       "    .dataframe thead th {\n",
       "        text-align: right;\n",
       "    }\n",
       "</style>\n",
       "<table border=\"1\" class=\"dataframe\">\n",
       "  <thead>\n",
       "    <tr style=\"text-align: right;\">\n",
       "      <th></th>\n",
       "      <th>name</th>\n",
       "      <th>steps_taken</th>\n",
       "      <th>calories_burned</th>\n",
       "      <th>sleep_duration(hours)</th>\n",
       "      <th>water_intake(ounces)</th>\n",
       "    </tr>\n",
       "  </thead>\n",
       "  <tbody>\n",
       "    <tr>\n",
       "      <th>21</th>\n",
       "      <td>Elena</td>\n",
       "      <td>11700</td>\n",
       "      <td>4900</td>\n",
       "      <td>18.0</td>\n",
       "      <td>100</td>\n",
       "    </tr>\n",
       "    <tr>\n",
       "      <th>30</th>\n",
       "      <td>Siddharth</td>\n",
       "      <td>11300</td>\n",
       "      <td>4700</td>\n",
       "      <td>4.0</td>\n",
       "      <td>75</td>\n",
       "    </tr>\n",
       "  </tbody>\n",
       "</table>\n",
       "</div>"
      ],
      "text/plain": [
       "         name  steps_taken  calories_burned  sleep_duration(hours)  \\\n",
       "21      Elena        11700             4900                   18.0   \n",
       "30  Siddharth        11300             4700                    4.0   \n",
       "\n",
       "    water_intake(ounces)  \n",
       "21                   100  \n",
       "30                    75  "
      ]
     },
     "execution_count": 17,
     "metadata": {},
     "output_type": "execute_result"
    }
   ],
   "source": [
    "# Identify and label outliers\n",
    "\n",
    "df_outlier = df[(df['sleep_duration(hours)'] < lower) | (df['sleep_duration(hours)'] > upper)]\n",
    "\n",
    "# Display the outliers\n",
    "df_outlier"
   ]
  },
  {
   "cell_type": "code",
   "execution_count": null,
   "id": "bdba82ec",
   "metadata": {},
   "outputs": [],
   "source": []
  }
 ],
 "metadata": {
  "kernelspec": {
   "display_name": "venv",
   "language": "python",
   "name": "python3"
  },
  "language_info": {
   "codemirror_mode": {
    "name": "ipython",
    "version": 3
   },
   "file_extension": ".py",
   "mimetype": "text/x-python",
   "name": "python",
   "nbconvert_exporter": "python",
   "pygments_lexer": "ipython3",
   "version": "3.11.9"
  }
 },
 "nbformat": 4,
 "nbformat_minor": 5
}
