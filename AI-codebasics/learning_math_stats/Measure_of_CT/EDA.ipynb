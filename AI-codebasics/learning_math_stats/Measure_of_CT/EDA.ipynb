{
 "cells": [
  {
   "cell_type": "code",
   "execution_count": 54,
   "id": "ebeb939f",
   "metadata": {},
   "outputs": [],
   "source": [
    "import pandas as pd\n",
    "import matplotlib.pyplot as plt"
   ]
  },
  {
   "cell_type": "code",
   "execution_count": 55,
   "id": "a97eeb06",
   "metadata": {},
   "outputs": [
    {
     "data": {
      "application/vnd.microsoft.datawrangler.viewer.v0+json": {
       "columns": [
        {
         "name": "index",
         "rawType": "int64",
         "type": "integer"
        },
        {
         "name": "date",
         "rawType": "object",
         "type": "string"
        },
        {
         "name": "brand",
         "rawType": "object",
         "type": "string"
        },
        {
         "name": "sold_qty",
         "rawType": "float64",
         "type": "float"
        }
       ],
       "ref": "edcf596d-27f6-4567-be32-f40c61f691c6",
       "rows": [
        [
         "0",
         "9/1/2023",
         "Nike",
         "24.0"
        ],
        [
         "1",
         "9/1/2023",
         "Adidas",
         "14.0"
        ],
        [
         "2",
         "9/2/2023",
         "Nike",
         "21.0"
        ],
        [
         "3",
         "9/2/2023",
         "Adidas",
         "12.0"
        ],
        [
         "4",
         "9/3/2023",
         "Nike",
         "18.0"
        ]
       ],
       "shape": {
        "columns": 3,
        "rows": 5
       }
      },
      "text/html": [
       "<div>\n",
       "<style scoped>\n",
       "    .dataframe tbody tr th:only-of-type {\n",
       "        vertical-align: middle;\n",
       "    }\n",
       "\n",
       "    .dataframe tbody tr th {\n",
       "        vertical-align: top;\n",
       "    }\n",
       "\n",
       "    .dataframe thead th {\n",
       "        text-align: right;\n",
       "    }\n",
       "</style>\n",
       "<table border=\"1\" class=\"dataframe\">\n",
       "  <thead>\n",
       "    <tr style=\"text-align: right;\">\n",
       "      <th></th>\n",
       "      <th>date</th>\n",
       "      <th>brand</th>\n",
       "      <th>sold_qty</th>\n",
       "    </tr>\n",
       "  </thead>\n",
       "  <tbody>\n",
       "    <tr>\n",
       "      <th>0</th>\n",
       "      <td>9/1/2023</td>\n",
       "      <td>Nike</td>\n",
       "      <td>24.0</td>\n",
       "    </tr>\n",
       "    <tr>\n",
       "      <th>1</th>\n",
       "      <td>9/1/2023</td>\n",
       "      <td>Adidas</td>\n",
       "      <td>14.0</td>\n",
       "    </tr>\n",
       "    <tr>\n",
       "      <th>2</th>\n",
       "      <td>9/2/2023</td>\n",
       "      <td>Nike</td>\n",
       "      <td>21.0</td>\n",
       "    </tr>\n",
       "    <tr>\n",
       "      <th>3</th>\n",
       "      <td>9/2/2023</td>\n",
       "      <td>Adidas</td>\n",
       "      <td>12.0</td>\n",
       "    </tr>\n",
       "    <tr>\n",
       "      <th>4</th>\n",
       "      <td>9/3/2023</td>\n",
       "      <td>Nike</td>\n",
       "      <td>18.0</td>\n",
       "    </tr>\n",
       "  </tbody>\n",
       "</table>\n",
       "</div>"
      ],
      "text/plain": [
       "       date   brand  sold_qty\n",
       "0  9/1/2023    Nike      24.0\n",
       "1  9/1/2023  Adidas      14.0\n",
       "2  9/2/2023    Nike      21.0\n",
       "3  9/2/2023  Adidas      12.0\n",
       "4  9/3/2023    Nike      18.0"
      ]
     },
     "execution_count": 55,
     "metadata": {},
     "output_type": "execute_result"
    }
   ],
   "source": [
    "df = pd.read_csv('./shoe_sales.csv')\n",
    "df.head()"
   ]
  },
  {
   "cell_type": "code",
   "execution_count": 56,
   "id": "e8b4d6d1",
   "metadata": {},
   "outputs": [
    {
     "data": {
      "text/plain": [
       "(60, 3)"
      ]
     },
     "execution_count": 56,
     "metadata": {},
     "output_type": "execute_result"
    }
   ],
   "source": [
    "df.shape"
   ]
  },
  {
   "cell_type": "code",
   "execution_count": 57,
   "id": "f4e9b456",
   "metadata": {},
   "outputs": [
    {
     "data": {
      "application/vnd.microsoft.datawrangler.viewer.v0+json": {
       "columns": [
        {
         "name": "index",
         "rawType": "object",
         "type": "string"
        },
        {
         "name": "sold_qty",
         "rawType": "float64",
         "type": "float"
        }
       ],
       "ref": "efab5cb9-0eac-419f-993f-1ddd54614c78",
       "rows": [
        [
         "count",
         "58.0"
        ],
        [
         "mean",
         "27.482758620689655"
        ],
        [
         "std",
         "88.5198444158958"
        ],
        [
         "min",
         "7.0"
        ],
        [
         "25%",
         "12.25"
        ],
        [
         "50%",
         "16.0"
        ],
        [
         "75%",
         "19.75"
        ],
        [
         "max",
         "689.0"
        ]
       ],
       "shape": {
        "columns": 1,
        "rows": 8
       }
      },
      "text/html": [
       "<div>\n",
       "<style scoped>\n",
       "    .dataframe tbody tr th:only-of-type {\n",
       "        vertical-align: middle;\n",
       "    }\n",
       "\n",
       "    .dataframe tbody tr th {\n",
       "        vertical-align: top;\n",
       "    }\n",
       "\n",
       "    .dataframe thead th {\n",
       "        text-align: right;\n",
       "    }\n",
       "</style>\n",
       "<table border=\"1\" class=\"dataframe\">\n",
       "  <thead>\n",
       "    <tr style=\"text-align: right;\">\n",
       "      <th></th>\n",
       "      <th>sold_qty</th>\n",
       "    </tr>\n",
       "  </thead>\n",
       "  <tbody>\n",
       "    <tr>\n",
       "      <th>count</th>\n",
       "      <td>58.000000</td>\n",
       "    </tr>\n",
       "    <tr>\n",
       "      <th>mean</th>\n",
       "      <td>27.482759</td>\n",
       "    </tr>\n",
       "    <tr>\n",
       "      <th>std</th>\n",
       "      <td>88.519844</td>\n",
       "    </tr>\n",
       "    <tr>\n",
       "      <th>min</th>\n",
       "      <td>7.000000</td>\n",
       "    </tr>\n",
       "    <tr>\n",
       "      <th>25%</th>\n",
       "      <td>12.250000</td>\n",
       "    </tr>\n",
       "    <tr>\n",
       "      <th>50%</th>\n",
       "      <td>16.000000</td>\n",
       "    </tr>\n",
       "    <tr>\n",
       "      <th>75%</th>\n",
       "      <td>19.750000</td>\n",
       "    </tr>\n",
       "    <tr>\n",
       "      <th>max</th>\n",
       "      <td>689.000000</td>\n",
       "    </tr>\n",
       "  </tbody>\n",
       "</table>\n",
       "</div>"
      ],
      "text/plain": [
       "         sold_qty\n",
       "count   58.000000\n",
       "mean    27.482759\n",
       "std     88.519844\n",
       "min      7.000000\n",
       "25%     12.250000\n",
       "50%     16.000000\n",
       "75%     19.750000\n",
       "max    689.000000"
      ]
     },
     "execution_count": 57,
     "metadata": {},
     "output_type": "execute_result"
    }
   ],
   "source": [
    "df.describe()"
   ]
  },
  {
   "cell_type": "code",
   "execution_count": 58,
   "id": "f9f1622d",
   "metadata": {},
   "outputs": [
    {
     "data": {
      "application/vnd.microsoft.datawrangler.viewer.v0+json": {
       "columns": [
        {
         "name": "index",
         "rawType": "int64",
         "type": "integer"
        },
        {
         "name": "date",
         "rawType": "object",
         "type": "string"
        },
        {
         "name": "brand",
         "rawType": "object",
         "type": "string"
        },
        {
         "name": "sold_qty",
         "rawType": "float64",
         "type": "float"
        }
       ],
       "ref": "046be7fb-f15f-4f1e-9cf5-1242d312ed0e",
       "rows": [
        [
         "3",
         "9/2/2023",
         "Adidas",
         "12.0"
        ],
        [
         "5",
         "9/3/2023",
         "Adidas",
         "11.0"
        ],
        [
         "9",
         "9/5/2023",
         "Adidas",
         "10.0"
        ],
        [
         "15",
         "9/8/2023",
         "Adidas",
         "8.0"
        ],
        [
         "19",
         "9/10/2023",
         "Adidas",
         "7.0"
        ],
        [
         "21",
         "9/11/2023",
         "Adidas",
         "9.0"
        ],
        [
         "25",
         "9/13/2023",
         "Adidas",
         "11.0"
        ],
        [
         "29",
         "9/15/2023",
         "Adidas",
         "10.0"
        ],
        [
         "33",
         "9/17/2023",
         "Adidas",
         "8.0"
        ],
        [
         "37",
         "9/19/2023",
         "Adidas",
         "7.0"
        ],
        [
         "43",
         "9/22/2023",
         "Adidas",
         "12.0"
        ],
        [
         "45",
         "9/23/2023",
         "Adidas",
         "11.0"
        ],
        [
         "49",
         "9/25/2023",
         "Adidas",
         "10.0"
        ],
        [
         "51",
         "9/26/2023",
         "Adidas",
         "9.0"
        ],
        [
         "57",
         "9/29/2023",
         "Adidas",
         "8.0"
        ]
       ],
       "shape": {
        "columns": 3,
        "rows": 15
       }
      },
      "text/html": [
       "<div>\n",
       "<style scoped>\n",
       "    .dataframe tbody tr th:only-of-type {\n",
       "        vertical-align: middle;\n",
       "    }\n",
       "\n",
       "    .dataframe tbody tr th {\n",
       "        vertical-align: top;\n",
       "    }\n",
       "\n",
       "    .dataframe thead th {\n",
       "        text-align: right;\n",
       "    }\n",
       "</style>\n",
       "<table border=\"1\" class=\"dataframe\">\n",
       "  <thead>\n",
       "    <tr style=\"text-align: right;\">\n",
       "      <th></th>\n",
       "      <th>date</th>\n",
       "      <th>brand</th>\n",
       "      <th>sold_qty</th>\n",
       "    </tr>\n",
       "  </thead>\n",
       "  <tbody>\n",
       "    <tr>\n",
       "      <th>3</th>\n",
       "      <td>9/2/2023</td>\n",
       "      <td>Adidas</td>\n",
       "      <td>12.0</td>\n",
       "    </tr>\n",
       "    <tr>\n",
       "      <th>5</th>\n",
       "      <td>9/3/2023</td>\n",
       "      <td>Adidas</td>\n",
       "      <td>11.0</td>\n",
       "    </tr>\n",
       "    <tr>\n",
       "      <th>9</th>\n",
       "      <td>9/5/2023</td>\n",
       "      <td>Adidas</td>\n",
       "      <td>10.0</td>\n",
       "    </tr>\n",
       "    <tr>\n",
       "      <th>15</th>\n",
       "      <td>9/8/2023</td>\n",
       "      <td>Adidas</td>\n",
       "      <td>8.0</td>\n",
       "    </tr>\n",
       "    <tr>\n",
       "      <th>19</th>\n",
       "      <td>9/10/2023</td>\n",
       "      <td>Adidas</td>\n",
       "      <td>7.0</td>\n",
       "    </tr>\n",
       "    <tr>\n",
       "      <th>21</th>\n",
       "      <td>9/11/2023</td>\n",
       "      <td>Adidas</td>\n",
       "      <td>9.0</td>\n",
       "    </tr>\n",
       "    <tr>\n",
       "      <th>25</th>\n",
       "      <td>9/13/2023</td>\n",
       "      <td>Adidas</td>\n",
       "      <td>11.0</td>\n",
       "    </tr>\n",
       "    <tr>\n",
       "      <th>29</th>\n",
       "      <td>9/15/2023</td>\n",
       "      <td>Adidas</td>\n",
       "      <td>10.0</td>\n",
       "    </tr>\n",
       "    <tr>\n",
       "      <th>33</th>\n",
       "      <td>9/17/2023</td>\n",
       "      <td>Adidas</td>\n",
       "      <td>8.0</td>\n",
       "    </tr>\n",
       "    <tr>\n",
       "      <th>37</th>\n",
       "      <td>9/19/2023</td>\n",
       "      <td>Adidas</td>\n",
       "      <td>7.0</td>\n",
       "    </tr>\n",
       "    <tr>\n",
       "      <th>43</th>\n",
       "      <td>9/22/2023</td>\n",
       "      <td>Adidas</td>\n",
       "      <td>12.0</td>\n",
       "    </tr>\n",
       "    <tr>\n",
       "      <th>45</th>\n",
       "      <td>9/23/2023</td>\n",
       "      <td>Adidas</td>\n",
       "      <td>11.0</td>\n",
       "    </tr>\n",
       "    <tr>\n",
       "      <th>49</th>\n",
       "      <td>9/25/2023</td>\n",
       "      <td>Adidas</td>\n",
       "      <td>10.0</td>\n",
       "    </tr>\n",
       "    <tr>\n",
       "      <th>51</th>\n",
       "      <td>9/26/2023</td>\n",
       "      <td>Adidas</td>\n",
       "      <td>9.0</td>\n",
       "    </tr>\n",
       "    <tr>\n",
       "      <th>57</th>\n",
       "      <td>9/29/2023</td>\n",
       "      <td>Adidas</td>\n",
       "      <td>8.0</td>\n",
       "    </tr>\n",
       "  </tbody>\n",
       "</table>\n",
       "</div>"
      ],
      "text/plain": [
       "         date   brand  sold_qty\n",
       "3    9/2/2023  Adidas      12.0\n",
       "5    9/3/2023  Adidas      11.0\n",
       "9    9/5/2023  Adidas      10.0\n",
       "15   9/8/2023  Adidas       8.0\n",
       "19  9/10/2023  Adidas       7.0\n",
       "21  9/11/2023  Adidas       9.0\n",
       "25  9/13/2023  Adidas      11.0\n",
       "29  9/15/2023  Adidas      10.0\n",
       "33  9/17/2023  Adidas       8.0\n",
       "37  9/19/2023  Adidas       7.0\n",
       "43  9/22/2023  Adidas      12.0\n",
       "45  9/23/2023  Adidas      11.0\n",
       "49  9/25/2023  Adidas      10.0\n",
       "51  9/26/2023  Adidas       9.0\n",
       "57  9/29/2023  Adidas       8.0"
      ]
     },
     "execution_count": 58,
     "metadata": {},
     "output_type": "execute_result"
    }
   ],
   "source": [
    "df[df.sold_qty<12.25]"
   ]
  },
  {
   "cell_type": "code",
   "execution_count": 59,
   "id": "4add0220",
   "metadata": {},
   "outputs": [
    {
     "data": {
      "text/plain": [
       "(15, 3)"
      ]
     },
     "execution_count": 59,
     "metadata": {},
     "output_type": "execute_result"
    }
   ],
   "source": [
    "df[df.sold_qty<12.25].shape"
   ]
  },
  {
   "cell_type": "code",
   "execution_count": 60,
   "id": "67aeed6f",
   "metadata": {},
   "outputs": [
    {
     "data": {
      "text/plain": [
       "0.25"
      ]
     },
     "execution_count": 60,
     "metadata": {},
     "output_type": "execute_result"
    }
   ],
   "source": [
    "15/60"
   ]
  },
  {
   "cell_type": "code",
   "execution_count": 61,
   "id": "5be96ba9",
   "metadata": {},
   "outputs": [
    {
     "data": {
      "application/vnd.microsoft.datawrangler.viewer.v0+json": {
       "columns": [
        {
         "name": "index",
         "rawType": "int64",
         "type": "integer"
        },
        {
         "name": "date",
         "rawType": "object",
         "type": "string"
        },
        {
         "name": "brand",
         "rawType": "object",
         "type": "string"
        },
        {
         "name": "sold_qty",
         "rawType": "float64",
         "type": "float"
        }
       ],
       "ref": "e49f279b-bb2e-4661-a74e-3d19677ad1cf",
       "rows": [
        [
         "1",
         "9/1/2023",
         "Adidas",
         "14.0"
        ],
        [
         "3",
         "9/2/2023",
         "Adidas",
         "12.0"
        ],
        [
         "4",
         "9/3/2023",
         "Nike",
         "18.0"
        ],
        [
         "5",
         "9/3/2023",
         "Adidas",
         "11.0"
        ],
        [
         "7",
         "9/4/2023",
         "Adidas",
         "13.0"
        ],
        [
         "9",
         "9/5/2023",
         "Adidas",
         "10.0"
        ],
        [
         "11",
         "9/6/2023",
         "Adidas",
         "15.0"
        ],
        [
         "12",
         "9/7/2023",
         "Nike",
         "19.0"
        ],
        [
         "13",
         "9/7/2023",
         "Adidas",
         "16.0"
        ],
        [
         "14",
         "9/8/2023",
         "Nike",
         "17.0"
        ],
        [
         "15",
         "9/8/2023",
         "Adidas",
         "8.0"
        ],
        [
         "17",
         "9/9/2023",
         "Adidas",
         "17.0"
        ],
        [
         "18",
         "9/10/2023",
         "Nike",
         "14.0"
        ],
        [
         "19",
         "9/10/2023",
         "Adidas",
         "7.0"
        ],
        [
         "21",
         "9/11/2023",
         "Adidas",
         "9.0"
        ],
        [
         "22",
         "9/12/2023",
         "Nike",
         "19.0"
        ],
        [
         "24",
         "9/13/2023",
         "Nike",
         "16.0"
        ],
        [
         "25",
         "9/13/2023",
         "Adidas",
         "11.0"
        ],
        [
         "27",
         "9/14/2023",
         "Adidas",
         "13.0"
        ],
        [
         "28",
         "9/15/2023",
         "Nike",
         "17.0"
        ],
        [
         "29",
         "9/15/2023",
         "Adidas",
         "10.0"
        ],
        [
         "31",
         "9/16/2023",
         "Adidas",
         "14.0"
        ],
        [
         "33",
         "9/17/2023",
         "Adidas",
         "8.0"
        ],
        [
         "34",
         "9/18/2023",
         "Nike",
         "18.0"
        ],
        [
         "35",
         "9/18/2023",
         "Adidas",
         "15.0"
        ],
        [
         "36",
         "9/19/2023",
         "Nike",
         "15.0"
        ],
        [
         "37",
         "9/19/2023",
         "Adidas",
         "7.0"
        ],
        [
         "39",
         "9/20/2023",
         "Adidas",
         "19.0"
        ],
        [
         "41",
         "9/21/2023",
         "Adidas",
         "18.0"
        ],
        [
         "42",
         "9/22/2023",
         "Nike",
         "16.0"
        ],
        [
         "43",
         "9/22/2023",
         "Adidas",
         "12.0"
        ],
        [
         "45",
         "9/23/2023",
         "Adidas",
         "11.0"
        ],
        [
         "46",
         "9/24/2023",
         "Nike",
         "15.0"
        ],
        [
         "47",
         "9/24/2023",
         "Adidas",
         "14.0"
        ],
        [
         "49",
         "9/25/2023",
         "Adidas",
         "10.0"
        ],
        [
         "50",
         "9/26/2023",
         "Nike",
         "19.0"
        ],
        [
         "51",
         "9/26/2023",
         "Adidas",
         "9.0"
        ],
        [
         "53",
         "9/27/2023",
         "Adidas",
         "13.0"
        ],
        [
         "55",
         "9/28/2023",
         "Adidas",
         "15.0"
        ],
        [
         "56",
         "9/29/2023",
         "Nike",
         "17.0"
        ],
        [
         "57",
         "9/29/2023",
         "Adidas",
         "8.0"
        ],
        [
         "58",
         "9/30/2023",
         "Nike",
         "18.0"
        ],
        [
         "59",
         "9/30/2023",
         "Adidas",
         "16.0"
        ]
       ],
       "shape": {
        "columns": 3,
        "rows": 43
       }
      },
      "text/html": [
       "<div>\n",
       "<style scoped>\n",
       "    .dataframe tbody tr th:only-of-type {\n",
       "        vertical-align: middle;\n",
       "    }\n",
       "\n",
       "    .dataframe tbody tr th {\n",
       "        vertical-align: top;\n",
       "    }\n",
       "\n",
       "    .dataframe thead th {\n",
       "        text-align: right;\n",
       "    }\n",
       "</style>\n",
       "<table border=\"1\" class=\"dataframe\">\n",
       "  <thead>\n",
       "    <tr style=\"text-align: right;\">\n",
       "      <th></th>\n",
       "      <th>date</th>\n",
       "      <th>brand</th>\n",
       "      <th>sold_qty</th>\n",
       "    </tr>\n",
       "  </thead>\n",
       "  <tbody>\n",
       "    <tr>\n",
       "      <th>1</th>\n",
       "      <td>9/1/2023</td>\n",
       "      <td>Adidas</td>\n",
       "      <td>14.0</td>\n",
       "    </tr>\n",
       "    <tr>\n",
       "      <th>3</th>\n",
       "      <td>9/2/2023</td>\n",
       "      <td>Adidas</td>\n",
       "      <td>12.0</td>\n",
       "    </tr>\n",
       "    <tr>\n",
       "      <th>4</th>\n",
       "      <td>9/3/2023</td>\n",
       "      <td>Nike</td>\n",
       "      <td>18.0</td>\n",
       "    </tr>\n",
       "    <tr>\n",
       "      <th>5</th>\n",
       "      <td>9/3/2023</td>\n",
       "      <td>Adidas</td>\n",
       "      <td>11.0</td>\n",
       "    </tr>\n",
       "    <tr>\n",
       "      <th>7</th>\n",
       "      <td>9/4/2023</td>\n",
       "      <td>Adidas</td>\n",
       "      <td>13.0</td>\n",
       "    </tr>\n",
       "    <tr>\n",
       "      <th>9</th>\n",
       "      <td>9/5/2023</td>\n",
       "      <td>Adidas</td>\n",
       "      <td>10.0</td>\n",
       "    </tr>\n",
       "    <tr>\n",
       "      <th>11</th>\n",
       "      <td>9/6/2023</td>\n",
       "      <td>Adidas</td>\n",
       "      <td>15.0</td>\n",
       "    </tr>\n",
       "    <tr>\n",
       "      <th>12</th>\n",
       "      <td>9/7/2023</td>\n",
       "      <td>Nike</td>\n",
       "      <td>19.0</td>\n",
       "    </tr>\n",
       "    <tr>\n",
       "      <th>13</th>\n",
       "      <td>9/7/2023</td>\n",
       "      <td>Adidas</td>\n",
       "      <td>16.0</td>\n",
       "    </tr>\n",
       "    <tr>\n",
       "      <th>14</th>\n",
       "      <td>9/8/2023</td>\n",
       "      <td>Nike</td>\n",
       "      <td>17.0</td>\n",
       "    </tr>\n",
       "    <tr>\n",
       "      <th>15</th>\n",
       "      <td>9/8/2023</td>\n",
       "      <td>Adidas</td>\n",
       "      <td>8.0</td>\n",
       "    </tr>\n",
       "    <tr>\n",
       "      <th>17</th>\n",
       "      <td>9/9/2023</td>\n",
       "      <td>Adidas</td>\n",
       "      <td>17.0</td>\n",
       "    </tr>\n",
       "    <tr>\n",
       "      <th>18</th>\n",
       "      <td>9/10/2023</td>\n",
       "      <td>Nike</td>\n",
       "      <td>14.0</td>\n",
       "    </tr>\n",
       "    <tr>\n",
       "      <th>19</th>\n",
       "      <td>9/10/2023</td>\n",
       "      <td>Adidas</td>\n",
       "      <td>7.0</td>\n",
       "    </tr>\n",
       "    <tr>\n",
       "      <th>21</th>\n",
       "      <td>9/11/2023</td>\n",
       "      <td>Adidas</td>\n",
       "      <td>9.0</td>\n",
       "    </tr>\n",
       "    <tr>\n",
       "      <th>22</th>\n",
       "      <td>9/12/2023</td>\n",
       "      <td>Nike</td>\n",
       "      <td>19.0</td>\n",
       "    </tr>\n",
       "    <tr>\n",
       "      <th>24</th>\n",
       "      <td>9/13/2023</td>\n",
       "      <td>Nike</td>\n",
       "      <td>16.0</td>\n",
       "    </tr>\n",
       "    <tr>\n",
       "      <th>25</th>\n",
       "      <td>9/13/2023</td>\n",
       "      <td>Adidas</td>\n",
       "      <td>11.0</td>\n",
       "    </tr>\n",
       "    <tr>\n",
       "      <th>27</th>\n",
       "      <td>9/14/2023</td>\n",
       "      <td>Adidas</td>\n",
       "      <td>13.0</td>\n",
       "    </tr>\n",
       "    <tr>\n",
       "      <th>28</th>\n",
       "      <td>9/15/2023</td>\n",
       "      <td>Nike</td>\n",
       "      <td>17.0</td>\n",
       "    </tr>\n",
       "    <tr>\n",
       "      <th>29</th>\n",
       "      <td>9/15/2023</td>\n",
       "      <td>Adidas</td>\n",
       "      <td>10.0</td>\n",
       "    </tr>\n",
       "    <tr>\n",
       "      <th>31</th>\n",
       "      <td>9/16/2023</td>\n",
       "      <td>Adidas</td>\n",
       "      <td>14.0</td>\n",
       "    </tr>\n",
       "    <tr>\n",
       "      <th>33</th>\n",
       "      <td>9/17/2023</td>\n",
       "      <td>Adidas</td>\n",
       "      <td>8.0</td>\n",
       "    </tr>\n",
       "    <tr>\n",
       "      <th>34</th>\n",
       "      <td>9/18/2023</td>\n",
       "      <td>Nike</td>\n",
       "      <td>18.0</td>\n",
       "    </tr>\n",
       "    <tr>\n",
       "      <th>35</th>\n",
       "      <td>9/18/2023</td>\n",
       "      <td>Adidas</td>\n",
       "      <td>15.0</td>\n",
       "    </tr>\n",
       "    <tr>\n",
       "      <th>36</th>\n",
       "      <td>9/19/2023</td>\n",
       "      <td>Nike</td>\n",
       "      <td>15.0</td>\n",
       "    </tr>\n",
       "    <tr>\n",
       "      <th>37</th>\n",
       "      <td>9/19/2023</td>\n",
       "      <td>Adidas</td>\n",
       "      <td>7.0</td>\n",
       "    </tr>\n",
       "    <tr>\n",
       "      <th>39</th>\n",
       "      <td>9/20/2023</td>\n",
       "      <td>Adidas</td>\n",
       "      <td>19.0</td>\n",
       "    </tr>\n",
       "    <tr>\n",
       "      <th>41</th>\n",
       "      <td>9/21/2023</td>\n",
       "      <td>Adidas</td>\n",
       "      <td>18.0</td>\n",
       "    </tr>\n",
       "    <tr>\n",
       "      <th>42</th>\n",
       "      <td>9/22/2023</td>\n",
       "      <td>Nike</td>\n",
       "      <td>16.0</td>\n",
       "    </tr>\n",
       "    <tr>\n",
       "      <th>43</th>\n",
       "      <td>9/22/2023</td>\n",
       "      <td>Adidas</td>\n",
       "      <td>12.0</td>\n",
       "    </tr>\n",
       "    <tr>\n",
       "      <th>45</th>\n",
       "      <td>9/23/2023</td>\n",
       "      <td>Adidas</td>\n",
       "      <td>11.0</td>\n",
       "    </tr>\n",
       "    <tr>\n",
       "      <th>46</th>\n",
       "      <td>9/24/2023</td>\n",
       "      <td>Nike</td>\n",
       "      <td>15.0</td>\n",
       "    </tr>\n",
       "    <tr>\n",
       "      <th>47</th>\n",
       "      <td>9/24/2023</td>\n",
       "      <td>Adidas</td>\n",
       "      <td>14.0</td>\n",
       "    </tr>\n",
       "    <tr>\n",
       "      <th>49</th>\n",
       "      <td>9/25/2023</td>\n",
       "      <td>Adidas</td>\n",
       "      <td>10.0</td>\n",
       "    </tr>\n",
       "    <tr>\n",
       "      <th>50</th>\n",
       "      <td>9/26/2023</td>\n",
       "      <td>Nike</td>\n",
       "      <td>19.0</td>\n",
       "    </tr>\n",
       "    <tr>\n",
       "      <th>51</th>\n",
       "      <td>9/26/2023</td>\n",
       "      <td>Adidas</td>\n",
       "      <td>9.0</td>\n",
       "    </tr>\n",
       "    <tr>\n",
       "      <th>53</th>\n",
       "      <td>9/27/2023</td>\n",
       "      <td>Adidas</td>\n",
       "      <td>13.0</td>\n",
       "    </tr>\n",
       "    <tr>\n",
       "      <th>55</th>\n",
       "      <td>9/28/2023</td>\n",
       "      <td>Adidas</td>\n",
       "      <td>15.0</td>\n",
       "    </tr>\n",
       "    <tr>\n",
       "      <th>56</th>\n",
       "      <td>9/29/2023</td>\n",
       "      <td>Nike</td>\n",
       "      <td>17.0</td>\n",
       "    </tr>\n",
       "    <tr>\n",
       "      <th>57</th>\n",
       "      <td>9/29/2023</td>\n",
       "      <td>Adidas</td>\n",
       "      <td>8.0</td>\n",
       "    </tr>\n",
       "    <tr>\n",
       "      <th>58</th>\n",
       "      <td>9/30/2023</td>\n",
       "      <td>Nike</td>\n",
       "      <td>18.0</td>\n",
       "    </tr>\n",
       "    <tr>\n",
       "      <th>59</th>\n",
       "      <td>9/30/2023</td>\n",
       "      <td>Adidas</td>\n",
       "      <td>16.0</td>\n",
       "    </tr>\n",
       "  </tbody>\n",
       "</table>\n",
       "</div>"
      ],
      "text/plain": [
       "         date   brand  sold_qty\n",
       "1    9/1/2023  Adidas      14.0\n",
       "3    9/2/2023  Adidas      12.0\n",
       "4    9/3/2023    Nike      18.0\n",
       "5    9/3/2023  Adidas      11.0\n",
       "7    9/4/2023  Adidas      13.0\n",
       "9    9/5/2023  Adidas      10.0\n",
       "11   9/6/2023  Adidas      15.0\n",
       "12   9/7/2023    Nike      19.0\n",
       "13   9/7/2023  Adidas      16.0\n",
       "14   9/8/2023    Nike      17.0\n",
       "15   9/8/2023  Adidas       8.0\n",
       "17   9/9/2023  Adidas      17.0\n",
       "18  9/10/2023    Nike      14.0\n",
       "19  9/10/2023  Adidas       7.0\n",
       "21  9/11/2023  Adidas       9.0\n",
       "22  9/12/2023    Nike      19.0\n",
       "24  9/13/2023    Nike      16.0\n",
       "25  9/13/2023  Adidas      11.0\n",
       "27  9/14/2023  Adidas      13.0\n",
       "28  9/15/2023    Nike      17.0\n",
       "29  9/15/2023  Adidas      10.0\n",
       "31  9/16/2023  Adidas      14.0\n",
       "33  9/17/2023  Adidas       8.0\n",
       "34  9/18/2023    Nike      18.0\n",
       "35  9/18/2023  Adidas      15.0\n",
       "36  9/19/2023    Nike      15.0\n",
       "37  9/19/2023  Adidas       7.0\n",
       "39  9/20/2023  Adidas      19.0\n",
       "41  9/21/2023  Adidas      18.0\n",
       "42  9/22/2023    Nike      16.0\n",
       "43  9/22/2023  Adidas      12.0\n",
       "45  9/23/2023  Adidas      11.0\n",
       "46  9/24/2023    Nike      15.0\n",
       "47  9/24/2023  Adidas      14.0\n",
       "49  9/25/2023  Adidas      10.0\n",
       "50  9/26/2023    Nike      19.0\n",
       "51  9/26/2023  Adidas       9.0\n",
       "53  9/27/2023  Adidas      13.0\n",
       "55  9/28/2023  Adidas      15.0\n",
       "56  9/29/2023    Nike      17.0\n",
       "57  9/29/2023  Adidas       8.0\n",
       "58  9/30/2023    Nike      18.0\n",
       "59  9/30/2023  Adidas      16.0"
      ]
     },
     "execution_count": 61,
     "metadata": {},
     "output_type": "execute_result"
    }
   ],
   "source": [
    "df[df.sold_qty<19.75]"
   ]
  },
  {
   "cell_type": "markdown",
   "id": "a4ef04b7",
   "metadata": {},
   "source": [
    "### (1) Nike Analysis"
   ]
  },
  {
   "cell_type": "code",
   "execution_count": 62,
   "id": "19876c8b",
   "metadata": {},
   "outputs": [
    {
     "data": {
      "text/plain": [
       "(30, 3)"
      ]
     },
     "execution_count": 62,
     "metadata": {},
     "output_type": "execute_result"
    }
   ],
   "source": [
    "df_nike = df[df.brand == \"Nike\"] # or df[df['brand'] == \"Nike\"]\n",
    "df_nike.shape"
   ]
  },
  {
   "cell_type": "code",
   "execution_count": 63,
   "id": "8ca456db",
   "metadata": {},
   "outputs": [
    {
     "data": {
      "application/vnd.microsoft.datawrangler.viewer.v0+json": {
       "columns": [
        {
         "name": "index",
         "rawType": "object",
         "type": "string"
        },
        {
         "name": "sold_qty",
         "rawType": "float64",
         "type": "float"
        }
       ],
       "ref": "5870c21a-7089-4389-ac9e-fe19a17f1256",
       "rows": [
        [
         "count",
         "28.0"
        ],
        [
         "mean",
         "19.642857142857142"
        ],
        [
         "std",
         "3.1176235692553904"
        ],
        [
         "min",
         "14.0"
        ],
        [
         "25%",
         "17.0"
        ],
        [
         "50%",
         "19.5"
        ],
        [
         "75%",
         "22.0"
        ],
        [
         "max",
         "25.0"
        ]
       ],
       "shape": {
        "columns": 1,
        "rows": 8
       }
      },
      "text/html": [
       "<div>\n",
       "<style scoped>\n",
       "    .dataframe tbody tr th:only-of-type {\n",
       "        vertical-align: middle;\n",
       "    }\n",
       "\n",
       "    .dataframe tbody tr th {\n",
       "        vertical-align: top;\n",
       "    }\n",
       "\n",
       "    .dataframe thead th {\n",
       "        text-align: right;\n",
       "    }\n",
       "</style>\n",
       "<table border=\"1\" class=\"dataframe\">\n",
       "  <thead>\n",
       "    <tr style=\"text-align: right;\">\n",
       "      <th></th>\n",
       "      <th>sold_qty</th>\n",
       "    </tr>\n",
       "  </thead>\n",
       "  <tbody>\n",
       "    <tr>\n",
       "      <th>count</th>\n",
       "      <td>28.000000</td>\n",
       "    </tr>\n",
       "    <tr>\n",
       "      <th>mean</th>\n",
       "      <td>19.642857</td>\n",
       "    </tr>\n",
       "    <tr>\n",
       "      <th>std</th>\n",
       "      <td>3.117624</td>\n",
       "    </tr>\n",
       "    <tr>\n",
       "      <th>min</th>\n",
       "      <td>14.000000</td>\n",
       "    </tr>\n",
       "    <tr>\n",
       "      <th>25%</th>\n",
       "      <td>17.000000</td>\n",
       "    </tr>\n",
       "    <tr>\n",
       "      <th>50%</th>\n",
       "      <td>19.500000</td>\n",
       "    </tr>\n",
       "    <tr>\n",
       "      <th>75%</th>\n",
       "      <td>22.000000</td>\n",
       "    </tr>\n",
       "    <tr>\n",
       "      <th>max</th>\n",
       "      <td>25.000000</td>\n",
       "    </tr>\n",
       "  </tbody>\n",
       "</table>\n",
       "</div>"
      ],
      "text/plain": [
       "        sold_qty\n",
       "count  28.000000\n",
       "mean   19.642857\n",
       "std     3.117624\n",
       "min    14.000000\n",
       "25%    17.000000\n",
       "50%    19.500000\n",
       "75%    22.000000\n",
       "max    25.000000"
      ]
     },
     "execution_count": 63,
     "metadata": {},
     "output_type": "execute_result"
    }
   ],
   "source": [
    "df_nike.describe()"
   ]
  },
  {
   "cell_type": "code",
   "execution_count": 64,
   "id": "bd9acc31",
   "metadata": {},
   "outputs": [
    {
     "data": {
      "text/plain": [
       "20"
      ]
     },
     "execution_count": 64,
     "metadata": {},
     "output_type": "execute_result"
    }
   ],
   "source": [
    "round(df_nike['sold_qty'].median())"
   ]
  },
  {
   "cell_type": "markdown",
   "id": "ba34d3dc",
   "metadata": {},
   "source": [
    "Here we can see the max sold nike is 25 and min sold nike is 14 per day and the avg is 20"
   ]
  },
  {
   "cell_type": "code",
   "execution_count": 65,
   "id": "f4cd4ad6",
   "metadata": {},
   "outputs": [
    {
     "data": {
      "application/vnd.microsoft.datawrangler.viewer.v0+json": {
       "columns": [
        {
         "name": "index",
         "rawType": "int64",
         "type": "integer"
        },
        {
         "name": "date",
         "rawType": "object",
         "type": "string"
        },
        {
         "name": "brand",
         "rawType": "object",
         "type": "string"
        },
        {
         "name": "sold_qty",
         "rawType": "float64",
         "type": "float"
        }
       ],
       "ref": "c8c7bb4a-548c-428e-8875-17dec4e63402",
       "rows": [
        [
         "32",
         "9/17/2023",
         "Nike",
         null
        ],
        [
         "48",
         "9/25/2023",
         "Nike",
         null
        ]
       ],
       "shape": {
        "columns": 3,
        "rows": 2
       }
      },
      "text/html": [
       "<div>\n",
       "<style scoped>\n",
       "    .dataframe tbody tr th:only-of-type {\n",
       "        vertical-align: middle;\n",
       "    }\n",
       "\n",
       "    .dataframe tbody tr th {\n",
       "        vertical-align: top;\n",
       "    }\n",
       "\n",
       "    .dataframe thead th {\n",
       "        text-align: right;\n",
       "    }\n",
       "</style>\n",
       "<table border=\"1\" class=\"dataframe\">\n",
       "  <thead>\n",
       "    <tr style=\"text-align: right;\">\n",
       "      <th></th>\n",
       "      <th>date</th>\n",
       "      <th>brand</th>\n",
       "      <th>sold_qty</th>\n",
       "    </tr>\n",
       "  </thead>\n",
       "  <tbody>\n",
       "    <tr>\n",
       "      <th>32</th>\n",
       "      <td>9/17/2023</td>\n",
       "      <td>Nike</td>\n",
       "      <td>NaN</td>\n",
       "    </tr>\n",
       "    <tr>\n",
       "      <th>48</th>\n",
       "      <td>9/25/2023</td>\n",
       "      <td>Nike</td>\n",
       "      <td>NaN</td>\n",
       "    </tr>\n",
       "  </tbody>\n",
       "</table>\n",
       "</div>"
      ],
      "text/plain": [
       "         date brand  sold_qty\n",
       "32  9/17/2023  Nike       NaN\n",
       "48  9/25/2023  Nike       NaN"
      ]
     },
     "execution_count": 65,
     "metadata": {},
     "output_type": "execute_result"
    }
   ],
   "source": [
    "df_nike[df_nike['sold_qty'].isnull()]"
   ]
  },
  {
   "cell_type": "markdown",
   "id": "5a64b28f",
   "metadata": {},
   "source": [
    "here we have 2 missing values for the date 9th of 17 and 25 2023 respectivly"
   ]
  },
  {
   "cell_type": "code",
   "execution_count": 66,
   "id": "1d5d8cdb",
   "metadata": {},
   "outputs": [
    {
     "name": "stderr",
     "output_type": "stream",
     "text": [
      "/var/folders/n6/28ff8fsj0c901jvkhvfb8ylw0000gn/T/ipykernel_1707/2086527085.py:1: SettingWithCopyWarning: \n",
      "A value is trying to be set on a copy of a slice from a DataFrame.\n",
      "Try using .loc[row_indexer,col_indexer] = value instead\n",
      "\n",
      "See the caveats in the documentation: https://pandas.pydata.org/pandas-docs/stable/user_guide/indexing.html#returning-a-view-versus-a-copy\n",
      "  df_nike['sold_qty'] = df_nike['sold_qty'].fillna(round(df_nike['sold_qty'].median()))\n"
     ]
    },
    {
     "data": {
      "application/vnd.microsoft.datawrangler.viewer.v0+json": {
       "columns": [
        {
         "name": "index",
         "rawType": "object",
         "type": "string"
        },
        {
         "name": "0",
         "rawType": "int64",
         "type": "integer"
        }
       ],
       "ref": "568fa375-8bd4-4fe2-b390-3fe37f449c2c",
       "rows": [
        [
         "date",
         "0"
        ],
        [
         "brand",
         "0"
        ],
        [
         "sold_qty",
         "0"
        ]
       ],
       "shape": {
        "columns": 1,
        "rows": 3
       }
      },
      "text/plain": [
       "date        0\n",
       "brand       0\n",
       "sold_qty    0\n",
       "dtype: int64"
      ]
     },
     "execution_count": 66,
     "metadata": {},
     "output_type": "execute_result"
    }
   ],
   "source": [
    "df_nike['sold_qty'] = df_nike['sold_qty'].fillna(round(df_nike['sold_qty'].median()))\n",
    "df_nike.isnull().sum()"
   ]
  },
  {
   "cell_type": "code",
   "execution_count": 67,
   "id": "cecc621f",
   "metadata": {},
   "outputs": [
    {
     "data": {
      "application/vnd.microsoft.datawrangler.viewer.v0+json": {
       "columns": [
        {
         "name": "index",
         "rawType": "object",
         "type": "string"
        },
        {
         "name": "32",
         "rawType": "object",
         "type": "unknown"
        }
       ],
       "ref": "7b899f38-7dc3-4203-a0cd-c70889364827",
       "rows": [
        [
         "date",
         "9/17/2023"
        ],
        [
         "brand",
         "Nike"
        ],
        [
         "sold_qty",
         "20.0"
        ]
       ],
       "shape": {
        "columns": 1,
        "rows": 3
       }
      },
      "text/plain": [
       "date        9/17/2023\n",
       "brand            Nike\n",
       "sold_qty         20.0\n",
       "Name: 32, dtype: object"
      ]
     },
     "execution_count": 67,
     "metadata": {},
     "output_type": "execute_result"
    }
   ],
   "source": [
    "df_nike.loc[32]"
   ]
  },
  {
   "cell_type": "markdown",
   "id": "c7d9040f",
   "metadata": {},
   "source": [
    "use `loc` to look into a paticulare index location"
   ]
  },
  {
   "cell_type": "code",
   "execution_count": 68,
   "id": "c3476ee0",
   "metadata": {},
   "outputs": [
    {
     "data": {
      "text/plain": [
       "np.float64(590.0)"
      ]
     },
     "execution_count": 68,
     "metadata": {},
     "output_type": "execute_result"
    }
   ],
   "source": [
    "df_nike.sold_qty.sum()"
   ]
  },
  {
   "cell_type": "markdown",
   "id": "d00fdeed",
   "metadata": {},
   "source": [
    "total sold price for nike in sept is 590"
   ]
  },
  {
   "cell_type": "markdown",
   "id": "d66ceeb8",
   "metadata": {},
   "source": [
    "### (2) Adidas Analysis"
   ]
  },
  {
   "cell_type": "code",
   "execution_count": 69,
   "id": "afc64c2c",
   "metadata": {},
   "outputs": [
    {
     "data": {
      "text/plain": [
       "(30, 3)"
      ]
     },
     "execution_count": 69,
     "metadata": {},
     "output_type": "execute_result"
    }
   ],
   "source": [
    "df_adidas = df[df['brand'] == \"Adidas\"]\n",
    "df_adidas.shape"
   ]
  },
  {
   "cell_type": "code",
   "execution_count": 70,
   "id": "9e4572a0",
   "metadata": {},
   "outputs": [
    {
     "data": {
      "application/vnd.microsoft.datawrangler.viewer.v0+json": {
       "columns": [
        {
         "name": "index",
         "rawType": "object",
         "type": "string"
        },
        {
         "name": "sold_qty",
         "rawType": "float64",
         "type": "float"
        }
       ],
       "ref": "1bbd6ef0-9743-4c7f-8608-964109bd0d9e",
       "rows": [
        [
         "count",
         "30.0"
        ],
        [
         "mean",
         "34.8"
        ],
        [
         "std",
         "123.60236578474624"
        ],
        [
         "min",
         "7.0"
        ],
        [
         "25%",
         "10.0"
        ],
        [
         "50%",
         "12.5"
        ],
        [
         "75%",
         "15.0"
        ],
        [
         "max",
         "689.0"
        ]
       ],
       "shape": {
        "columns": 1,
        "rows": 8
       }
      },
      "text/html": [
       "<div>\n",
       "<style scoped>\n",
       "    .dataframe tbody tr th:only-of-type {\n",
       "        vertical-align: middle;\n",
       "    }\n",
       "\n",
       "    .dataframe tbody tr th {\n",
       "        vertical-align: top;\n",
       "    }\n",
       "\n",
       "    .dataframe thead th {\n",
       "        text-align: right;\n",
       "    }\n",
       "</style>\n",
       "<table border=\"1\" class=\"dataframe\">\n",
       "  <thead>\n",
       "    <tr style=\"text-align: right;\">\n",
       "      <th></th>\n",
       "      <th>sold_qty</th>\n",
       "    </tr>\n",
       "  </thead>\n",
       "  <tbody>\n",
       "    <tr>\n",
       "      <th>count</th>\n",
       "      <td>30.000000</td>\n",
       "    </tr>\n",
       "    <tr>\n",
       "      <th>mean</th>\n",
       "      <td>34.800000</td>\n",
       "    </tr>\n",
       "    <tr>\n",
       "      <th>std</th>\n",
       "      <td>123.602366</td>\n",
       "    </tr>\n",
       "    <tr>\n",
       "      <th>min</th>\n",
       "      <td>7.000000</td>\n",
       "    </tr>\n",
       "    <tr>\n",
       "      <th>25%</th>\n",
       "      <td>10.000000</td>\n",
       "    </tr>\n",
       "    <tr>\n",
       "      <th>50%</th>\n",
       "      <td>12.500000</td>\n",
       "    </tr>\n",
       "    <tr>\n",
       "      <th>75%</th>\n",
       "      <td>15.000000</td>\n",
       "    </tr>\n",
       "    <tr>\n",
       "      <th>max</th>\n",
       "      <td>689.000000</td>\n",
       "    </tr>\n",
       "  </tbody>\n",
       "</table>\n",
       "</div>"
      ],
      "text/plain": [
       "         sold_qty\n",
       "count   30.000000\n",
       "mean    34.800000\n",
       "std    123.602366\n",
       "min      7.000000\n",
       "25%     10.000000\n",
       "50%     12.500000\n",
       "75%     15.000000\n",
       "max    689.000000"
      ]
     },
     "execution_count": 70,
     "metadata": {},
     "output_type": "execute_result"
    }
   ],
   "source": [
    "df_adidas.describe()"
   ]
  },
  {
   "cell_type": "markdown",
   "id": "68d4cad4",
   "metadata": {},
   "source": [
    "here we have a outlier as the `std` is very high and also the 75 percentil is 15 where as the max is 689"
   ]
  },
  {
   "cell_type": "code",
   "execution_count": 71,
   "id": "9c1539da",
   "metadata": {},
   "outputs": [
    {
     "data": {
      "text/plain": [
       "np.float64(12.5)"
      ]
     },
     "execution_count": 71,
     "metadata": {},
     "output_type": "execute_result"
    }
   ],
   "source": [
    "df_adidas.sold_qty.median()"
   ]
  },
  {
   "cell_type": "code",
   "execution_count": 72,
   "id": "fcc383f9",
   "metadata": {},
   "outputs": [
    {
     "data": {
      "text/plain": [
       "np.float64(34.8)"
      ]
     },
     "execution_count": 72,
     "metadata": {},
     "output_type": "execute_result"
    }
   ],
   "source": [
    "df_adidas.sold_qty.mean()"
   ]
  },
  {
   "cell_type": "markdown",
   "id": "b6379a92",
   "metadata": {},
   "source": [
    "here because we have a outlier the mean is getting effectid and giving an higher value 34.8 where as the median is not effected and it's value is 12.5"
   ]
  },
  {
   "cell_type": "code",
   "execution_count": 73,
   "id": "2b6ff13f",
   "metadata": {},
   "outputs": [
    {
     "data": {
      "text/plain": [
       "np.float64(1044.0)"
      ]
     },
     "execution_count": 73,
     "metadata": {},
     "output_type": "execute_result"
    }
   ],
   "source": [
    "df_adidas.sold_qty.sum()"
   ]
  },
  {
   "cell_type": "markdown",
   "id": "c0b86714",
   "metadata": {},
   "source": [
    "as per sept the adidas sold value is 1044"
   ]
  },
  {
   "cell_type": "code",
   "execution_count": 74,
   "id": "7e91ecda",
   "metadata": {},
   "outputs": [
    {
     "data": {
      "text/plain": [
       "np.float64(18.84)"
      ]
     },
     "execution_count": 74,
     "metadata": {},
     "output_type": "execute_result"
    }
   ],
   "source": [
    "df_adidas['sold_qty'].quantile(0.96)"
   ]
  },
  {
   "cell_type": "markdown",
   "id": "a7b81f41",
   "metadata": {},
   "source": [
    "as the 96 percent of data have value (sold) is less then 18.84 so we can say as the max is 689 is a outlier and any value more then 18.84 is an outliers"
   ]
  },
  {
   "cell_type": "code",
   "execution_count": 75,
   "id": "da8e6423",
   "metadata": {},
   "outputs": [
    {
     "data": {
      "application/vnd.microsoft.datawrangler.viewer.v0+json": {
       "columns": [
        {
         "name": "index",
         "rawType": "int64",
         "type": "integer"
        },
        {
         "name": "date",
         "rawType": "object",
         "type": "string"
        },
        {
         "name": "brand",
         "rawType": "object",
         "type": "string"
        },
        {
         "name": "sold_qty",
         "rawType": "float64",
         "type": "float"
        }
       ],
       "ref": "6a02a769-8069-45ec-9ff6-38b535d4c5c6",
       "rows": [
        [
         "23",
         "9/12/2023",
         "Adidas",
         "689.0"
        ],
        [
         "39",
         "9/20/2023",
         "Adidas",
         "19.0"
        ]
       ],
       "shape": {
        "columns": 3,
        "rows": 2
       }
      },
      "text/html": [
       "<div>\n",
       "<style scoped>\n",
       "    .dataframe tbody tr th:only-of-type {\n",
       "        vertical-align: middle;\n",
       "    }\n",
       "\n",
       "    .dataframe tbody tr th {\n",
       "        vertical-align: top;\n",
       "    }\n",
       "\n",
       "    .dataframe thead th {\n",
       "        text-align: right;\n",
       "    }\n",
       "</style>\n",
       "<table border=\"1\" class=\"dataframe\">\n",
       "  <thead>\n",
       "    <tr style=\"text-align: right;\">\n",
       "      <th></th>\n",
       "      <th>date</th>\n",
       "      <th>brand</th>\n",
       "      <th>sold_qty</th>\n",
       "    </tr>\n",
       "  </thead>\n",
       "  <tbody>\n",
       "    <tr>\n",
       "      <th>23</th>\n",
       "      <td>9/12/2023</td>\n",
       "      <td>Adidas</td>\n",
       "      <td>689.0</td>\n",
       "    </tr>\n",
       "    <tr>\n",
       "      <th>39</th>\n",
       "      <td>9/20/2023</td>\n",
       "      <td>Adidas</td>\n",
       "      <td>19.0</td>\n",
       "    </tr>\n",
       "  </tbody>\n",
       "</table>\n",
       "</div>"
      ],
      "text/plain": [
       "         date   brand  sold_qty\n",
       "23  9/12/2023  Adidas     689.0\n",
       "39  9/20/2023  Adidas      19.0"
      ]
     },
     "execution_count": 75,
     "metadata": {},
     "output_type": "execute_result"
    }
   ],
   "source": [
    "df_adidas[df_adidas['sold_qty'] > df_adidas['sold_qty'].quantile(0.96)]"
   ]
  },
  {
   "cell_type": "code",
   "execution_count": 76,
   "id": "6c116e61",
   "metadata": {},
   "outputs": [],
   "source": [
    "import seaborn as sns"
   ]
  },
  {
   "cell_type": "code",
   "execution_count": 77,
   "id": "61482fd4",
   "metadata": {},
   "outputs": [
    {
     "data": {
      "image/png": "[encoded data removed]",
      "text/plain": [
       "<Figure size 2000x600 with 1 Axes>"
      ]
     },
     "metadata": {},
     "output_type": "display_data"
    }
   ],
   "source": [
    "plt.figure(figsize=(20,6))\n",
    "sns.lineplot(data=df_nike,x='date',y='sold_qty',markers='o')\n",
    "sns.lineplot(data=df_adidas,x='date',y='sold_qty',markers='o')\n",
    "plt.xticks(rotation=45)\n",
    "plt.show()"
   ]
  },
  {
   "cell_type": "markdown",
   "id": "daaf124f",
   "metadata": {},
   "source": [
    "Treat the outlier"
   ]
  },
  {
   "cell_type": "code",
   "execution_count": 78,
   "id": "0f84e9b1",
   "metadata": {},
   "outputs": [],
   "source": [
    "val = round(df_adidas['sold_qty'].median())"
   ]
  },
  {
   "cell_type": "code",
   "execution_count": 79,
   "id": "eb810e8c",
   "metadata": {},
   "outputs": [
    {
     "name": "stderr",
     "output_type": "stream",
     "text": [
      "/var/folders/n6/28ff8fsj0c901jvkhvfb8ylw0000gn/T/ipykernel_1707/3716502040.py:1: FutureWarning: A value is trying to be set on a copy of a DataFrame or Series through chained assignment using an inplace method.\n",
      "The behavior will change in pandas 3.0. This inplace method will never work because the intermediate object on which we are setting values always behaves as a copy.\n",
      "\n",
      "For example, when doing 'df[col].method(value, inplace=True)', try using 'df.method({col: value}, inplace=True)' or df[col] = df[col].method(value) instead, to perform the operation inplace on the original object.\n",
      "\n",
      "\n",
      "  df_adidas['sold_qty'].replace(689,val,inplace=True)\n",
      "/var/folders/n6/28ff8fsj0c901jvkhvfb8ylw0000gn/T/ipykernel_1707/3716502040.py:1: SettingWithCopyWarning: \n",
      "A value is trying to be set on a copy of a slice from a DataFrame\n",
      "\n",
      "See the caveats in the documentation: https://pandas.pydata.org/pandas-docs/stable/user_guide/indexing.html#returning-a-view-versus-a-copy\n",
      "  df_adidas['sold_qty'].replace(689,val,inplace=True)\n"
     ]
    }
   ],
   "source": [
    "df_adidas['sold_qty'].replace(689,val,inplace=True)\n"
   ]
  },
  {
   "cell_type": "code",
   "execution_count": 81,
   "id": "8226ff5f",
   "metadata": {},
   "outputs": [
    {
     "data": {
      "application/vnd.microsoft.datawrangler.viewer.v0+json": {
       "columns": [
        {
         "name": "index",
         "rawType": "object",
         "type": "string"
        },
        {
         "name": "sold_qty",
         "rawType": "float64",
         "type": "float"
        }
       ],
       "ref": "08e481d4-03e9-4516-916e-3d97b664204f",
       "rows": [
        [
         "count",
         "30.0"
        ],
        [
         "mean",
         "12.233333333333333"
        ],
        [
         "std",
         "3.28720962617792"
        ],
        [
         "min",
         "7.0"
        ],
        [
         "25%",
         "10.0"
        ],
        [
         "50%",
         "12.0"
        ],
        [
         "75%",
         "14.75"
        ],
        [
         "max",
         "19.0"
        ]
       ],
       "shape": {
        "columns": 1,
        "rows": 8
       }
      },
      "text/html": [
       "<div>\n",
       "<style scoped>\n",
       "    .dataframe tbody tr th:only-of-type {\n",
       "        vertical-align: middle;\n",
       "    }\n",
       "\n",
       "    .dataframe tbody tr th {\n",
       "        vertical-align: top;\n",
       "    }\n",
       "\n",
       "    .dataframe thead th {\n",
       "        text-align: right;\n",
       "    }\n",
       "</style>\n",
       "<table border=\"1\" class=\"dataframe\">\n",
       "  <thead>\n",
       "    <tr style=\"text-align: right;\">\n",
       "      <th></th>\n",
       "      <th>sold_qty</th>\n",
       "    </tr>\n",
       "  </thead>\n",
       "  <tbody>\n",
       "    <tr>\n",
       "      <th>count</th>\n",
       "      <td>30.000000</td>\n",
       "    </tr>\n",
       "    <tr>\n",
       "      <th>mean</th>\n",
       "      <td>12.233333</td>\n",
       "    </tr>\n",
       "    <tr>\n",
       "      <th>std</th>\n",
       "      <td>3.287210</td>\n",
       "    </tr>\n",
       "    <tr>\n",
       "      <th>min</th>\n",
       "      <td>7.000000</td>\n",
       "    </tr>\n",
       "    <tr>\n",
       "      <th>25%</th>\n",
       "      <td>10.000000</td>\n",
       "    </tr>\n",
       "    <tr>\n",
       "      <th>50%</th>\n",
       "      <td>12.000000</td>\n",
       "    </tr>\n",
       "    <tr>\n",
       "      <th>75%</th>\n",
       "      <td>14.750000</td>\n",
       "    </tr>\n",
       "    <tr>\n",
       "      <th>max</th>\n",
       "      <td>19.000000</td>\n",
       "    </tr>\n",
       "  </tbody>\n",
       "</table>\n",
       "</div>"
      ],
      "text/plain": [
       "        sold_qty\n",
       "count  30.000000\n",
       "mean   12.233333\n",
       "std     3.287210\n",
       "min     7.000000\n",
       "25%    10.000000\n",
       "50%    12.000000\n",
       "75%    14.750000\n",
       "max    19.000000"
      ]
     },
     "execution_count": 81,
     "metadata": {},
     "output_type": "execute_result"
    }
   ],
   "source": [
    "df_adidas.describe()"
   ]
  },
  {
   "cell_type": "code",
   "execution_count": null,
   "id": "958fc456",
   "metadata": {},
   "outputs": [
    {
     "data": {
      "image/png": "[encoded data removed]",
      "text/plain": [
       "<Figure size 2000x600 with 1 Axes>"
      ]
     },
     "metadata": {},
     "output_type": "display_data"
    }
   ],
   "source": [
    "plt.figure(figsize=(20,6))\n",
    "sns.lineplot(data=df_nike,x='date',y='sold_qty',markers='o')\n",
    "sns.lineplot(data=df_adidas,x='date',y='sold_qty',markers='o')\n",
    "plt.xticks(rotation=45)\n",
    "plt.show()"
   ]
  },
  {
   "cell_type": "markdown",
   "id": "0e61ceff",
   "metadata": {},
   "source": [
    "Now we can say that Nike is doing better then Adidas"
   ]
  },
  {
   "cell_type": "code",
   "execution_count": 83,
   "id": "d9cb07b7",
   "metadata": {},
   "outputs": [
    {
     "data": {
      "text/plain": [
       "np.float64(367.0)"
      ]
     },
     "execution_count": 83,
     "metadata": {},
     "output_type": "execute_result"
    }
   ],
   "source": [
    "df_adidas['sold_qty'].sum()"
   ]
  },
  {
   "cell_type": "code",
   "execution_count": null,
   "id": "7142462f",
   "metadata": {},
   "outputs": [],
   "source": []
  }
 ],
 "metadata": {
  "kernelspec": {
   "display_name": "venv",
   "language": "python",
   "name": "python3"
  },
  "language_info": {
   "codemirror_mode": {
    "name": "ipython",
    "version": 3
   },
   "file_extension": ".py",
   "mimetype": "text/x-python",
   "name": "python",
   "nbconvert_exporter": "python",
   "pygments_lexer": "ipython3",
   "version": "3.11.9"
  }
 },
 "nbformat": 4,
 "nbformat_minor": 5
}
